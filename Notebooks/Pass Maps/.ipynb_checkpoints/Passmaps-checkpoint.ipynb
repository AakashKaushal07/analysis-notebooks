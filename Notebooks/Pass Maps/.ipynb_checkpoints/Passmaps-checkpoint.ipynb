{
 "cells": [
  {
   "cell_type": "code",
   "execution_count": 1,
   "id": "e7b9c82f-7040-4f75-91b5-0f36094314f7",
   "metadata": {},
   "outputs": [
    {
     "data": {
      "text/html": [
       "<pre style=\"white-space:pre;overflow-x:auto;line-height:normal;font-family:Menlo,'DejaVu Sans Mono',consolas,'Courier New',monospace\"><span style=\"color: #7fbfbf; text-decoration-color: #7fbfbf\">[02/27/24 03:32:35] </span><span style=\"color: #000080; text-decoration-color: #000080\">INFO    </span> Custom team name replacements loaded from                                <span style=\"color: #7f7f7f; text-decoration-color: #7f7f7f\">_config.py:82</span>\n",
       "<span style=\"color: #7fbfbf; text-decoration-color: #7fbfbf\">                    </span>         C:\\Users\\Hp\\soccerdata\\config\\teamname_replacements.json.                <span style=\"color: #7f7f7f; text-decoration-color: #7f7f7f\">             </span>\n",
       "</pre>\n"
      ],
      "text/plain": [
       "\u001b[2;36m[02/27/24 03:32:35]\u001b[0m\u001b[2;36m \u001b[0m\u001b[34mINFO    \u001b[0m Custom team name replacements loaded from                                \u001b[2m_config.py\u001b[0m\u001b[2m:\u001b[0m\u001b[2m82\u001b[0m\n",
       "\u001b[2;36m                    \u001b[0m         C:\\Users\\Hp\\soccerdata\\config\\teamname_replacements.json.                \u001b[2m             \u001b[0m\n"
      ]
     },
     "metadata": {},
     "output_type": "display_data"
    },
    {
     "data": {
      "text/html": [
       "<pre style=\"white-space:pre;overflow-x:auto;line-height:normal;font-family:Menlo,'DejaVu Sans Mono',consolas,'Courier New',monospace\"><span style=\"color: #7fbfbf; text-decoration-color: #7fbfbf\">                    </span><span style=\"color: #000080; text-decoration-color: #000080\">INFO    </span> No custom league dict found. You can configure additional leagues in    <span style=\"color: #7f7f7f; text-decoration-color: #7f7f7f\">_config.py:204</span>\n",
       "<span style=\"color: #7fbfbf; text-decoration-color: #7fbfbf\">                    </span>         C:\\Users\\Hp\\soccerdata\\config\\league_dict.json.                         <span style=\"color: #7f7f7f; text-decoration-color: #7f7f7f\">              </span>\n",
       "</pre>\n"
      ],
      "text/plain": [
       "\u001b[2;36m                   \u001b[0m\u001b[2;36m \u001b[0m\u001b[34mINFO    \u001b[0m No custom league dict found. You can configure additional leagues in    \u001b[2m_config.py\u001b[0m\u001b[2m:\u001b[0m\u001b[2m204\u001b[0m\n",
       "\u001b[2;36m                    \u001b[0m         C:\\Users\\Hp\\soccerdata\\config\\league_dict.json.                         \u001b[2m              \u001b[0m\n"
      ]
     },
     "metadata": {},
     "output_type": "display_data"
    }
   ],
   "source": [
    "import soccerdata as sd\n",
    "import pandas as pd\n",
    "import numpy as np\n",
    "import traceback\n",
    "import matplotlib.pyplot as plt\n",
    "from mplsoccer import Pitch,VerticalPitch\n",
    "from datetime import datetime\n",
    "import requests,json,config\n",
    "import matplotlib.patches as patches\n",
    "import math,sys,os,random\n",
    "from threading import Thread\n",
    "import time,concurrent\n",
    "# import mysql.connector\n",
    "from bs4 import BeautifulSoup"
   ]
  },
  {
   "cell_type": "code",
   "execution_count": 2,
   "id": "ae28c53b-02d5-45a9-9ff6-e5d47dde9ebb",
   "metadata": {},
   "outputs": [],
   "source": [
    "FOTMOB_URL = config.getFotMobUrls()\n",
    "FOTMOB_LEAGUE = config.getFotMobLeagueDict()\n",
    "CONFIG = config.getGeneralConfig()"
   ]
  },
  {
   "cell_type": "code",
   "execution_count": 6,
   "id": "e833df2d-1a5e-4bb7-8b4e-9c062ac622f5",
   "metadata": {},
   "outputs": [],
   "source": [
    "leagues = [\n",
    "    # 'Belgian_Div_A',\n",
    "    'ENG-Premier League',\n",
    "    'ESP-La Liga',\n",
    "    'Eredivisie',\n",
    "    'FRA-Ligue 1',\n",
    "    'GER-Bundesliga',\n",
    "    \"INT-Women's World Cup\",\n",
    "    'INT-World Cup',\n",
    "    'ITA-Serie A',\n",
    "    'Primeira_Liga',\n",
    "    'Pro_League',\n",
    "    'UCL',\n",
    "    'UECL',\n",
    "    'UEL'\n",
    "]"
   ]
  },
  {
   "cell_type": "code",
   "execution_count": 7,
   "id": "f5bedf8f-296d-4842-91cf-dcded318267f",
   "metadata": {},
   "outputs": [],
   "source": [
    "league = \"ENG-Premier League\"\n",
    "season = 2023\n",
    "season_name = \"23_24\""
   ]
  },
  {
   "cell_type": "code",
   "execution_count": null,
   "id": "f292bd1f-b353-4a06-8ab3-59b8a49f6687",
   "metadata": {},
   "outputs": [
    {
     "name": "stdout",
     "output_type": "stream",
     "text": [
      "League is : ENG-Premier League\n"
     ]
    },
    {
     "data": {
      "text/html": [
       "<pre style=\"white-space:pre;overflow-x:auto;line-height:normal;font-family:Menlo,'DejaVu Sans Mono',consolas,'Courier New',monospace\"><span style=\"color: #7fbfbf; text-decoration-color: #7fbfbf\">[02/27/24 03:33:46] </span><span style=\"color: #000080; text-decoration-color: #000080\">INFO    </span> Saving cached data to C:\\Users\\Hp\\soccerdata\\data\\FBref                  <span style=\"color: #7f7f7f; text-decoration-color: #7f7f7f\">_common.py:91</span>\n",
       "</pre>\n"
      ],
      "text/plain": [
       "\u001b[2;36m[02/27/24 03:33:46]\u001b[0m\u001b[2;36m \u001b[0m\u001b[34mINFO    \u001b[0m Saving cached data to C:\\Users\\Hp\\soccerdata\\data\\FBref                  \u001b[2m_common.py\u001b[0m\u001b[2m:\u001b[0m\u001b[2m91\u001b[0m\n"
      ]
     },
     "metadata": {},
     "output_type": "display_data"
    },
    {
     "data": {
      "text/html": [
       "<pre style=\"white-space:pre;overflow-x:auto;line-height:normal;font-family:Menlo,'DejaVu Sans Mono',consolas,'Courier New',monospace\"><span style=\"color: #7fbfbf; text-decoration-color: #7fbfbf\">                    </span><span style=\"color: #000080; text-decoration-color: #000080\">INFO    </span> Saving cached data to C:\\Users\\Hp\\soccerdata\\data\\WhoScored              <span style=\"color: #7f7f7f; text-decoration-color: #7f7f7f\">_common.py:91</span>\n",
       "</pre>\n"
      ],
      "text/plain": [
       "\u001b[2;36m                   \u001b[0m\u001b[2;36m \u001b[0m\u001b[34mINFO    \u001b[0m Saving cached data to C:\\Users\\Hp\\soccerdata\\data\\WhoScored              \u001b[2m_common.py\u001b[0m\u001b[2m:\u001b[0m\u001b[2m91\u001b[0m\n"
      ]
     },
     "metadata": {},
     "output_type": "display_data"
    },
    {
     "name": "stdout",
     "output_type": "stream",
     "text": [
      "tree :  <lxml.etree._ElementTree object at 0x0000024B06319140>\n",
      "leagues :  ['ENG-Premier League']\n",
      "DF LEAGUES :                     gender governing_body first_season last_season tier  \\\n",
      "league                                                                   \n",
      "ENG-Premier League      M           <NA>         8889        2324  1st   \n",
      "\n",
      "                                                           url country  \n",
      "league                                                                  \n",
      "ENG-Premier League  /en/comps/9/history/Premier-League-Seasons     ENG  \n",
      "LEAGUE {'_is_copy': None, '_mgr': SingleBlockManager\n",
      "Items: Index(['gender', 'governing_body', 'first_season', 'last_season', 'tier',\n",
      "       'url', 'country'],\n",
      "      dtype='object')\n",
      "NumpyBlock: 7 dtype: object, '_item_cache': {}, '_attrs': {}, '_flags': <Flags(allows_duplicate_labels=True)>, '_name': 'ENG-Premier League'}\n",
      "URL IN HERE :  https://fbref.com/en/comps/9/history/Premier-League-Seasons\n",
      "SEASONS HERE :  [        Season    Competition Name  # Squads                Champion  \\\n",
      "0    2023-2024  ENG-Premier League        20                    <NA>   \n",
      "1    2022-2023  ENG-Premier League        20    Manchester City - 89   \n",
      "2    2021-2022  ENG-Premier League        20    Manchester City - 93   \n",
      "3    2020-2021  ENG-Premier League        20    Manchester City - 86   \n",
      "4    2019-2020  ENG-Premier League        20          Liverpool - 99   \n",
      "..         ...                 ...       ...                     ...   \n",
      "120  1892-1893  ENG-Premier League        16         Sunderland - 48   \n",
      "121  1891-1892  ENG-Premier League        14         Sunderland - 42   \n",
      "122  1890-1891  ENG-Premier League        12            Everton - 29   \n",
      "123  1889-1890  ENG-Premier League        12  Preston North End - 33   \n",
      "124  1888-1889  ENG-Premier League        12  Preston North End - 40   \n",
      "\n",
      "                            Top Scorer  \\\n",
      "0                   Erling Haaland - 8   \n",
      "1                  Erling Haaland - 36   \n",
      "2    Son Heung-min, Mohamed Salah - 23   \n",
      "3                      Harry Kane - 23   \n",
      "4                     Jamie Vardy - 23   \n",
      "..                                 ...   \n",
      "120                               <NA>   \n",
      "121                               <NA>   \n",
      "122                               <NA>   \n",
      "123                               <NA>   \n",
      "124                               <NA>   \n",
      "\n",
      "                                                   url       Format  \n",
      "0                     /en/comps/9/Premier-League-Stats  round-robin  \n",
      "1    /en/comps/9/2022-2023/2022-2023-Premier-League...  round-robin  \n",
      "2    /en/comps/9/2021-2022/2021-2022-Premier-League...  round-robin  \n",
      "3    /en/comps/9/2020-2021/2020-2021-Premier-League...  round-robin  \n",
      "4    /en/comps/9/2019-2020/2019-2020-Premier-League...  round-robin  \n",
      "..                                                 ...          ...  \n",
      "120  /en/comps/9/1892-1893/1892-1893-Premier-League...  round-robin  \n",
      "121  /en/comps/9/1891-1892/1891-1892-Premier-League...  round-robin  \n",
      "122  /en/comps/9/1890-1891/1890-1891-Premier-League...  round-robin  \n",
      "123  /en/comps/9/1889-1890/1889-1890-Premier-League...  round-robin  \n",
      "124  /en/comps/9/1888-1889/1888-1889-Premier-League...  round-robin  \n",
      "\n",
      "[125 rows x 7 columns]]\n",
      "I want to check for fb\n",
      "/en/comps/9/Premier-League-Stats\n",
      "FBurl is  :  https://fbref.com/en/comps/9/Premier-League-Stats\n",
      "I want to check for ws as well\n",
      "/Regions/252/Tournaments/2/Seasons/9618/England-Premier-League\n"
     ]
    },
    {
     "data": {
      "text/html": [
       "<pre style=\"white-space:pre;overflow-x:auto;line-height:normal;font-family:Menlo,'DejaVu Sans Mono',consolas,'Courier New',monospace\"><span style=\"color: #7fbfbf; text-decoration-color: #7fbfbf\">[02/27/24 03:34:12] </span><span style=\"color: #000080; text-decoration-color: #000080\">INFO    </span> Scraping game schedule from                                           <span style=\"color: #7f7f7f; text-decoration-color: #7f7f7f\">whoscored.py:429</span>\n",
       "<span style=\"color: #7fbfbf; text-decoration-color: #7fbfbf\">                    </span>         <span style=\"color: #0000ff; text-decoration-color: #0000ff; text-decoration: underline\">https://www.whoscored.com/Regions/252/Tournaments/2/Seasons/9618/Engl</span> <span style=\"color: #7f7f7f; text-decoration-color: #7f7f7f\">                </span>\n",
       "<span style=\"color: #7fbfbf; text-decoration-color: #7fbfbf\">                    </span>         <span style=\"color: #0000ff; text-decoration-color: #0000ff; text-decoration: underline\">and-Premier-League</span>                                                    <span style=\"color: #7f7f7f; text-decoration-color: #7f7f7f\">                </span>\n",
       "</pre>\n"
      ],
      "text/plain": [
       "\u001b[2;36m[02/27/24 03:34:12]\u001b[0m\u001b[2;36m \u001b[0m\u001b[34mINFO    \u001b[0m Scraping game schedule from                                           \u001b[2mwhoscored.py\u001b[0m\u001b[2m:\u001b[0m\u001b[2m429\u001b[0m\n",
       "\u001b[2;36m                    \u001b[0m         \u001b[4;94mhttps://www.whoscored.com/Regions/252/Tournaments/2/Seasons/9618/Engl\u001b[0m \u001b[2m                \u001b[0m\n",
       "\u001b[2;36m                    \u001b[0m         \u001b[4;94mand-Premier-League\u001b[0m                                                    \u001b[2m                \u001b[0m\n"
      ]
     },
     "metadata": {},
     "output_type": "display_data"
    },
    {
     "data": {
      "text/html": [
       "<pre style=\"white-space:pre;overflow-x:auto;line-height:normal;font-family:Menlo,'DejaVu Sans Mono',consolas,'Courier New',monospace\"><span style=\"color: #7fbfbf; text-decoration-color: #7fbfbf\">                    </span><span style=\"color: #000080; text-decoration-color: #000080\">INFO    </span> Scraping game schedule for Alhamisi, Feb <span style=\"color: #008080; text-decoration-color: #008080; font-weight: bold\">1</span> <span style=\"color: #008080; text-decoration-color: #008080; font-weight: bold\">2024</span>                       <span style=\"color: #7f7f7f; text-decoration-color: #7f7f7f\">whoscored.py:327</span>\n",
       "</pre>\n"
      ],
      "text/plain": [
       "\u001b[2;36m                   \u001b[0m\u001b[2;36m \u001b[0m\u001b[34mINFO    \u001b[0m Scraping game schedule for Alhamisi, Feb \u001b[1;36m1\u001b[0m \u001b[1;36m2024\u001b[0m                       \u001b[2mwhoscored.py\u001b[0m\u001b[2m:\u001b[0m\u001b[2m327\u001b[0m\n"
      ]
     },
     "metadata": {},
     "output_type": "display_data"
    },
    {
     "data": {
      "text/html": [
       "<pre style=\"white-space:pre;overflow-x:auto;line-height:normal;font-family:Menlo,'DejaVu Sans Mono',consolas,'Courier New',monospace\"><span style=\"color: #7fbfbf; text-decoration-color: #7fbfbf\">                    </span><span style=\"color: #000080; text-decoration-color: #000080\">INFO    </span> Scraping game schedule for Jumamosi, Feb <span style=\"color: #008080; text-decoration-color: #008080; font-weight: bold\">3</span> <span style=\"color: #008080; text-decoration-color: #008080; font-weight: bold\">2024</span>                       <span style=\"color: #7f7f7f; text-decoration-color: #7f7f7f\">whoscored.py:327</span>\n",
       "</pre>\n"
      ],
      "text/plain": [
       "\u001b[2;36m                   \u001b[0m\u001b[2;36m \u001b[0m\u001b[34mINFO    \u001b[0m Scraping game schedule for Jumamosi, Feb \u001b[1;36m3\u001b[0m \u001b[1;36m2024\u001b[0m                       \u001b[2mwhoscored.py\u001b[0m\u001b[2m:\u001b[0m\u001b[2m327\u001b[0m\n"
      ]
     },
     "metadata": {},
     "output_type": "display_data"
    },
    {
     "data": {
      "text/html": [
       "<pre style=\"white-space:pre;overflow-x:auto;line-height:normal;font-family:Menlo,'DejaVu Sans Mono',consolas,'Courier New',monospace\"><span style=\"color: #7fbfbf; text-decoration-color: #7fbfbf\">[02/27/24 03:34:13] </span><span style=\"color: #000080; text-decoration-color: #000080\">INFO    </span> Scraping game schedule for Jumapili, Feb <span style=\"color: #008080; text-decoration-color: #008080; font-weight: bold\">4</span> <span style=\"color: #008080; text-decoration-color: #008080; font-weight: bold\">2024</span>                       <span style=\"color: #7f7f7f; text-decoration-color: #7f7f7f\">whoscored.py:327</span>\n",
       "</pre>\n"
      ],
      "text/plain": [
       "\u001b[2;36m[02/27/24 03:34:13]\u001b[0m\u001b[2;36m \u001b[0m\u001b[34mINFO    \u001b[0m Scraping game schedule for Jumapili, Feb \u001b[1;36m4\u001b[0m \u001b[1;36m2024\u001b[0m                       \u001b[2mwhoscored.py\u001b[0m\u001b[2m:\u001b[0m\u001b[2m327\u001b[0m\n"
      ]
     },
     "metadata": {},
     "output_type": "display_data"
    },
    {
     "data": {
      "text/html": [
       "<pre style=\"white-space:pre;overflow-x:auto;line-height:normal;font-family:Menlo,'DejaVu Sans Mono',consolas,'Courier New',monospace\"><span style=\"color: #7fbfbf; text-decoration-color: #7fbfbf\">[02/27/24 03:34:14] </span><span style=\"color: #000080; text-decoration-color: #000080\">INFO    </span> Scraping game schedule for Jumatatu, Feb <span style=\"color: #008080; text-decoration-color: #008080; font-weight: bold\">5</span> <span style=\"color: #008080; text-decoration-color: #008080; font-weight: bold\">2024</span>                       <span style=\"color: #7f7f7f; text-decoration-color: #7f7f7f\">whoscored.py:327</span>\n",
       "</pre>\n"
      ],
      "text/plain": [
       "\u001b[2;36m[02/27/24 03:34:14]\u001b[0m\u001b[2;36m \u001b[0m\u001b[34mINFO    \u001b[0m Scraping game schedule for Jumatatu, Feb \u001b[1;36m5\u001b[0m \u001b[1;36m2024\u001b[0m                       \u001b[2mwhoscored.py\u001b[0m\u001b[2m:\u001b[0m\u001b[2m327\u001b[0m\n"
      ]
     },
     "metadata": {},
     "output_type": "display_data"
    },
    {
     "data": {
      "text/html": [
       "<pre style=\"white-space:pre;overflow-x:auto;line-height:normal;font-family:Menlo,'DejaVu Sans Mono',consolas,'Courier New',monospace\"><span style=\"color: #7fbfbf; text-decoration-color: #7fbfbf\">                    </span><span style=\"color: #000080; text-decoration-color: #000080\">INFO    </span> Scraping game schedule for Jumamosi, Feb <span style=\"color: #008080; text-decoration-color: #008080; font-weight: bold\">10</span> <span style=\"color: #008080; text-decoration-color: #008080; font-weight: bold\">2024</span>                      <span style=\"color: #7f7f7f; text-decoration-color: #7f7f7f\">whoscored.py:327</span>\n",
       "</pre>\n"
      ],
      "text/plain": [
       "\u001b[2;36m                   \u001b[0m\u001b[2;36m \u001b[0m\u001b[34mINFO    \u001b[0m Scraping game schedule for Jumamosi, Feb \u001b[1;36m10\u001b[0m \u001b[1;36m2024\u001b[0m                      \u001b[2mwhoscored.py\u001b[0m\u001b[2m:\u001b[0m\u001b[2m327\u001b[0m\n"
      ]
     },
     "metadata": {},
     "output_type": "display_data"
    },
    {
     "data": {
      "text/html": [
       "<pre style=\"white-space:pre;overflow-x:auto;line-height:normal;font-family:Menlo,'DejaVu Sans Mono',consolas,'Courier New',monospace\"><span style=\"color: #7fbfbf; text-decoration-color: #7fbfbf\">[02/27/24 03:34:15] </span><span style=\"color: #000080; text-decoration-color: #000080\">INFO    </span> Scraping game schedule for Jumapili, Feb <span style=\"color: #008080; text-decoration-color: #008080; font-weight: bold\">11</span> <span style=\"color: #008080; text-decoration-color: #008080; font-weight: bold\">2024</span>                      <span style=\"color: #7f7f7f; text-decoration-color: #7f7f7f\">whoscored.py:327</span>\n",
       "</pre>\n"
      ],
      "text/plain": [
       "\u001b[2;36m[02/27/24 03:34:15]\u001b[0m\u001b[2;36m \u001b[0m\u001b[34mINFO    \u001b[0m Scraping game schedule for Jumapili, Feb \u001b[1;36m11\u001b[0m \u001b[1;36m2024\u001b[0m                      \u001b[2mwhoscored.py\u001b[0m\u001b[2m:\u001b[0m\u001b[2m327\u001b[0m\n"
      ]
     },
     "metadata": {},
     "output_type": "display_data"
    },
    {
     "data": {
      "text/html": [
       "<pre style=\"white-space:pre;overflow-x:auto;line-height:normal;font-family:Menlo,'DejaVu Sans Mono',consolas,'Courier New',monospace\"><span style=\"color: #7fbfbf; text-decoration-color: #7fbfbf\">                    </span><span style=\"color: #000080; text-decoration-color: #000080\">INFO    </span> Scraping game schedule for Jumatatu, Feb <span style=\"color: #008080; text-decoration-color: #008080; font-weight: bold\">12</span> <span style=\"color: #008080; text-decoration-color: #008080; font-weight: bold\">2024</span>                      <span style=\"color: #7f7f7f; text-decoration-color: #7f7f7f\">whoscored.py:327</span>\n",
       "</pre>\n"
      ],
      "text/plain": [
       "\u001b[2;36m                   \u001b[0m\u001b[2;36m \u001b[0m\u001b[34mINFO    \u001b[0m Scraping game schedule for Jumatatu, Feb \u001b[1;36m12\u001b[0m \u001b[1;36m2024\u001b[0m                      \u001b[2mwhoscored.py\u001b[0m\u001b[2m:\u001b[0m\u001b[2m327\u001b[0m\n"
      ]
     },
     "metadata": {},
     "output_type": "display_data"
    },
    {
     "data": {
      "text/html": [
       "<pre style=\"white-space:pre;overflow-x:auto;line-height:normal;font-family:Menlo,'DejaVu Sans Mono',consolas,'Courier New',monospace\"><span style=\"color: #7fbfbf; text-decoration-color: #7fbfbf\">                    </span><span style=\"color: #000080; text-decoration-color: #000080\">INFO    </span> Scraping game schedule for Jumamosi, Feb <span style=\"color: #008080; text-decoration-color: #008080; font-weight: bold\">17</span> <span style=\"color: #008080; text-decoration-color: #008080; font-weight: bold\">2024</span>                      <span style=\"color: #7f7f7f; text-decoration-color: #7f7f7f\">whoscored.py:327</span>\n",
       "</pre>\n"
      ],
      "text/plain": [
       "\u001b[2;36m                   \u001b[0m\u001b[2;36m \u001b[0m\u001b[34mINFO    \u001b[0m Scraping game schedule for Jumamosi, Feb \u001b[1;36m17\u001b[0m \u001b[1;36m2024\u001b[0m                      \u001b[2mwhoscored.py\u001b[0m\u001b[2m:\u001b[0m\u001b[2m327\u001b[0m\n"
      ]
     },
     "metadata": {},
     "output_type": "display_data"
    },
    {
     "data": {
      "text/html": [
       "<pre style=\"white-space:pre;overflow-x:auto;line-height:normal;font-family:Menlo,'DejaVu Sans Mono',consolas,'Courier New',monospace\"><span style=\"color: #7fbfbf; text-decoration-color: #7fbfbf\">[02/27/24 03:34:16] </span><span style=\"color: #000080; text-decoration-color: #000080\">INFO    </span> Scraping game schedule for Jumapili, Feb <span style=\"color: #008080; text-decoration-color: #008080; font-weight: bold\">18</span> <span style=\"color: #008080; text-decoration-color: #008080; font-weight: bold\">2024</span>                      <span style=\"color: #7f7f7f; text-decoration-color: #7f7f7f\">whoscored.py:327</span>\n",
       "</pre>\n"
      ],
      "text/plain": [
       "\u001b[2;36m[02/27/24 03:34:16]\u001b[0m\u001b[2;36m \u001b[0m\u001b[34mINFO    \u001b[0m Scraping game schedule for Jumapili, Feb \u001b[1;36m18\u001b[0m \u001b[1;36m2024\u001b[0m                      \u001b[2mwhoscored.py\u001b[0m\u001b[2m:\u001b[0m\u001b[2m327\u001b[0m\n"
      ]
     },
     "metadata": {},
     "output_type": "display_data"
    },
    {
     "data": {
      "text/html": [
       "<pre style=\"white-space:pre;overflow-x:auto;line-height:normal;font-family:Menlo,'DejaVu Sans Mono',consolas,'Courier New',monospace\"><span style=\"color: #7fbfbf; text-decoration-color: #7fbfbf\">[02/27/24 03:34:17] </span><span style=\"color: #000080; text-decoration-color: #000080\">INFO    </span> Scraping game schedule for Jumatatu, Feb <span style=\"color: #008080; text-decoration-color: #008080; font-weight: bold\">19</span> <span style=\"color: #008080; text-decoration-color: #008080; font-weight: bold\">2024</span>                      <span style=\"color: #7f7f7f; text-decoration-color: #7f7f7f\">whoscored.py:327</span>\n",
       "</pre>\n"
      ],
      "text/plain": [
       "\u001b[2;36m[02/27/24 03:34:17]\u001b[0m\u001b[2;36m \u001b[0m\u001b[34mINFO    \u001b[0m Scraping game schedule for Jumatatu, Feb \u001b[1;36m19\u001b[0m \u001b[1;36m2024\u001b[0m                      \u001b[2mwhoscored.py\u001b[0m\u001b[2m:\u001b[0m\u001b[2m327\u001b[0m\n"
      ]
     },
     "metadata": {},
     "output_type": "display_data"
    },
    {
     "data": {
      "text/html": [
       "<pre style=\"white-space:pre;overflow-x:auto;line-height:normal;font-family:Menlo,'DejaVu Sans Mono',consolas,'Courier New',monospace\"><span style=\"color: #7fbfbf; text-decoration-color: #7fbfbf\">                    </span><span style=\"color: #000080; text-decoration-color: #000080\">INFO    </span> Scraping game schedule for Jumanne, Feb <span style=\"color: #008080; text-decoration-color: #008080; font-weight: bold\">20</span> <span style=\"color: #008080; text-decoration-color: #008080; font-weight: bold\">2024</span>                       <span style=\"color: #7f7f7f; text-decoration-color: #7f7f7f\">whoscored.py:327</span>\n",
       "</pre>\n"
      ],
      "text/plain": [
       "\u001b[2;36m                   \u001b[0m\u001b[2;36m \u001b[0m\u001b[34mINFO    \u001b[0m Scraping game schedule for Jumanne, Feb \u001b[1;36m20\u001b[0m \u001b[1;36m2024\u001b[0m                       \u001b[2mwhoscored.py\u001b[0m\u001b[2m:\u001b[0m\u001b[2m327\u001b[0m\n"
      ]
     },
     "metadata": {},
     "output_type": "display_data"
    },
    {
     "data": {
      "text/html": [
       "<pre style=\"white-space:pre;overflow-x:auto;line-height:normal;font-family:Menlo,'DejaVu Sans Mono',consolas,'Courier New',monospace\"><span style=\"color: #7fbfbf; text-decoration-color: #7fbfbf\">                    </span><span style=\"color: #000080; text-decoration-color: #000080\">INFO    </span> Scraping game schedule for Jumatano, Feb <span style=\"color: #008080; text-decoration-color: #008080; font-weight: bold\">21</span> <span style=\"color: #008080; text-decoration-color: #008080; font-weight: bold\">2024</span>                      <span style=\"color: #7f7f7f; text-decoration-color: #7f7f7f\">whoscored.py:327</span>\n",
       "</pre>\n"
      ],
      "text/plain": [
       "\u001b[2;36m                   \u001b[0m\u001b[2;36m \u001b[0m\u001b[34mINFO    \u001b[0m Scraping game schedule for Jumatano, Feb \u001b[1;36m21\u001b[0m \u001b[1;36m2024\u001b[0m                      \u001b[2mwhoscored.py\u001b[0m\u001b[2m:\u001b[0m\u001b[2m327\u001b[0m\n"
      ]
     },
     "metadata": {},
     "output_type": "display_data"
    },
    {
     "data": {
      "text/html": [
       "<pre style=\"white-space:pre;overflow-x:auto;line-height:normal;font-family:Menlo,'DejaVu Sans Mono',consolas,'Courier New',monospace\"><span style=\"color: #7fbfbf; text-decoration-color: #7fbfbf\">                    </span><span style=\"color: #000080; text-decoration-color: #000080\">INFO    </span> Scraping game schedule for Ijumaa, Feb <span style=\"color: #008080; text-decoration-color: #008080; font-weight: bold\">23</span> <span style=\"color: #008080; text-decoration-color: #008080; font-weight: bold\">2024</span>                        <span style=\"color: #7f7f7f; text-decoration-color: #7f7f7f\">whoscored.py:327</span>\n",
       "</pre>\n"
      ],
      "text/plain": [
       "\u001b[2;36m                   \u001b[0m\u001b[2;36m \u001b[0m\u001b[34mINFO    \u001b[0m Scraping game schedule for Ijumaa, Feb \u001b[1;36m23\u001b[0m \u001b[1;36m2024\u001b[0m                        \u001b[2mwhoscored.py\u001b[0m\u001b[2m:\u001b[0m\u001b[2m327\u001b[0m\n"
      ]
     },
     "metadata": {},
     "output_type": "display_data"
    },
    {
     "data": {
      "text/html": [
       "<pre style=\"white-space:pre;overflow-x:auto;line-height:normal;font-family:Menlo,'DejaVu Sans Mono',consolas,'Courier New',monospace\"><span style=\"color: #7fbfbf; text-decoration-color: #7fbfbf\">[02/27/24 03:34:18] </span><span style=\"color: #000080; text-decoration-color: #000080\">INFO    </span> Scraping game schedule for Jumamosi, Feb <span style=\"color: #008080; text-decoration-color: #008080; font-weight: bold\">24</span> <span style=\"color: #008080; text-decoration-color: #008080; font-weight: bold\">2024</span>                      <span style=\"color: #7f7f7f; text-decoration-color: #7f7f7f\">whoscored.py:327</span>\n",
       "</pre>\n"
      ],
      "text/plain": [
       "\u001b[2;36m[02/27/24 03:34:18]\u001b[0m\u001b[2;36m \u001b[0m\u001b[34mINFO    \u001b[0m Scraping game schedule for Jumamosi, Feb \u001b[1;36m24\u001b[0m \u001b[1;36m2024\u001b[0m                      \u001b[2mwhoscored.py\u001b[0m\u001b[2m:\u001b[0m\u001b[2m327\u001b[0m\n"
      ]
     },
     "metadata": {},
     "output_type": "display_data"
    },
    {
     "data": {
      "text/html": [
       "<pre style=\"white-space:pre;overflow-x:auto;line-height:normal;font-family:Menlo,'DejaVu Sans Mono',consolas,'Courier New',monospace\"><span style=\"color: #7fbfbf; text-decoration-color: #7fbfbf\">                    </span><span style=\"color: #000080; text-decoration-color: #000080\">INFO    </span> Scraping game schedule for Jumapili, Feb <span style=\"color: #008080; text-decoration-color: #008080; font-weight: bold\">25</span> <span style=\"color: #008080; text-decoration-color: #008080; font-weight: bold\">2024</span>                      <span style=\"color: #7f7f7f; text-decoration-color: #7f7f7f\">whoscored.py:327</span>\n",
       "</pre>\n"
      ],
      "text/plain": [
       "\u001b[2;36m                   \u001b[0m\u001b[2;36m \u001b[0m\u001b[34mINFO    \u001b[0m Scraping game schedule for Jumapili, Feb \u001b[1;36m25\u001b[0m \u001b[1;36m2024\u001b[0m                      \u001b[2mwhoscored.py\u001b[0m\u001b[2m:\u001b[0m\u001b[2m327\u001b[0m\n"
      ]
     },
     "metadata": {},
     "output_type": "display_data"
    },
    {
     "data": {
      "text/html": [
       "<pre style=\"white-space:pre;overflow-x:auto;line-height:normal;font-family:Menlo,'DejaVu Sans Mono',consolas,'Courier New',monospace\"><span style=\"color: #7fbfbf; text-decoration-color: #7fbfbf\">[02/27/24 03:34:19] </span><span style=\"color: #000080; text-decoration-color: #000080\">INFO    </span> Scraping game schedule for Jumatatu, Feb <span style=\"color: #008080; text-decoration-color: #008080; font-weight: bold\">26</span> <span style=\"color: #008080; text-decoration-color: #008080; font-weight: bold\">2024</span>                      <span style=\"color: #7f7f7f; text-decoration-color: #7f7f7f\">whoscored.py:327</span>\n",
       "</pre>\n"
      ],
      "text/plain": [
       "\u001b[2;36m[02/27/24 03:34:19]\u001b[0m\u001b[2;36m \u001b[0m\u001b[34mINFO    \u001b[0m Scraping game schedule for Jumatatu, Feb \u001b[1;36m26\u001b[0m \u001b[1;36m2024\u001b[0m                      \u001b[2mwhoscored.py\u001b[0m\u001b[2m:\u001b[0m\u001b[2m327\u001b[0m\n"
      ]
     },
     "metadata": {},
     "output_type": "display_data"
    },
    {
     "data": {
      "text/html": [
       "<pre style=\"white-space:pre;overflow-x:auto;line-height:normal;font-family:Menlo,'DejaVu Sans Mono',consolas,'Courier New',monospace\"><span style=\"color: #7fbfbf; text-decoration-color: #7fbfbf\">[02/27/24 03:34:24] </span><span style=\"color: #000080; text-decoration-color: #000080\">INFO    </span> Scraping game schedule for Jumatatu, Jan <span style=\"color: #008080; text-decoration-color: #008080; font-weight: bold\">1</span> <span style=\"color: #008080; text-decoration-color: #008080; font-weight: bold\">2024</span>                       <span style=\"color: #7f7f7f; text-decoration-color: #7f7f7f\">whoscored.py:327</span>\n",
       "</pre>\n"
      ],
      "text/plain": [
       "\u001b[2;36m[02/27/24 03:34:24]\u001b[0m\u001b[2;36m \u001b[0m\u001b[34mINFO    \u001b[0m Scraping game schedule for Jumatatu, Jan \u001b[1;36m1\u001b[0m \u001b[1;36m2024\u001b[0m                       \u001b[2mwhoscored.py\u001b[0m\u001b[2m:\u001b[0m\u001b[2m327\u001b[0m\n"
      ]
     },
     "metadata": {},
     "output_type": "display_data"
    },
    {
     "data": {
      "text/html": [
       "<pre style=\"white-space:pre;overflow-x:auto;line-height:normal;font-family:Menlo,'DejaVu Sans Mono',consolas,'Courier New',monospace\"><span style=\"color: #7fbfbf; text-decoration-color: #7fbfbf\">                    </span><span style=\"color: #000080; text-decoration-color: #000080\">INFO    </span> Scraping game schedule for Jumanne, Jan <span style=\"color: #008080; text-decoration-color: #008080; font-weight: bold\">2</span> <span style=\"color: #008080; text-decoration-color: #008080; font-weight: bold\">2024</span>                        <span style=\"color: #7f7f7f; text-decoration-color: #7f7f7f\">whoscored.py:327</span>\n",
       "</pre>\n"
      ],
      "text/plain": [
       "\u001b[2;36m                   \u001b[0m\u001b[2;36m \u001b[0m\u001b[34mINFO    \u001b[0m Scraping game schedule for Jumanne, Jan \u001b[1;36m2\u001b[0m \u001b[1;36m2024\u001b[0m                        \u001b[2mwhoscored.py\u001b[0m\u001b[2m:\u001b[0m\u001b[2m327\u001b[0m\n"
      ]
     },
     "metadata": {},
     "output_type": "display_data"
    },
    {
     "data": {
      "text/html": [
       "<pre style=\"white-space:pre;overflow-x:auto;line-height:normal;font-family:Menlo,'DejaVu Sans Mono',consolas,'Courier New',monospace\"><span style=\"color: #7fbfbf; text-decoration-color: #7fbfbf\">                    </span><span style=\"color: #000080; text-decoration-color: #000080\">INFO    </span> Scraping game schedule for Ijumaa, Jan <span style=\"color: #008080; text-decoration-color: #008080; font-weight: bold\">12</span> <span style=\"color: #008080; text-decoration-color: #008080; font-weight: bold\">2024</span>                        <span style=\"color: #7f7f7f; text-decoration-color: #7f7f7f\">whoscored.py:327</span>\n",
       "</pre>\n"
      ],
      "text/plain": [
       "\u001b[2;36m                   \u001b[0m\u001b[2;36m \u001b[0m\u001b[34mINFO    \u001b[0m Scraping game schedule for Ijumaa, Jan \u001b[1;36m12\u001b[0m \u001b[1;36m2024\u001b[0m                        \u001b[2mwhoscored.py\u001b[0m\u001b[2m:\u001b[0m\u001b[2m327\u001b[0m\n"
      ]
     },
     "metadata": {},
     "output_type": "display_data"
    },
    {
     "data": {
      "text/html": [
       "<pre style=\"white-space:pre;overflow-x:auto;line-height:normal;font-family:Menlo,'DejaVu Sans Mono',consolas,'Courier New',monospace\"><span style=\"color: #7fbfbf; text-decoration-color: #7fbfbf\">[02/27/24 03:34:25] </span><span style=\"color: #000080; text-decoration-color: #000080\">INFO    </span> Scraping game schedule for Jumamosi, Jan <span style=\"color: #008080; text-decoration-color: #008080; font-weight: bold\">13</span> <span style=\"color: #008080; text-decoration-color: #008080; font-weight: bold\">2024</span>                      <span style=\"color: #7f7f7f; text-decoration-color: #7f7f7f\">whoscored.py:327</span>\n",
       "</pre>\n"
      ],
      "text/plain": [
       "\u001b[2;36m[02/27/24 03:34:25]\u001b[0m\u001b[2;36m \u001b[0m\u001b[34mINFO    \u001b[0m Scraping game schedule for Jumamosi, Jan \u001b[1;36m13\u001b[0m \u001b[1;36m2024\u001b[0m                      \u001b[2mwhoscored.py\u001b[0m\u001b[2m:\u001b[0m\u001b[2m327\u001b[0m\n"
      ]
     },
     "metadata": {},
     "output_type": "display_data"
    },
    {
     "data": {
      "text/html": [
       "<pre style=\"white-space:pre;overflow-x:auto;line-height:normal;font-family:Menlo,'DejaVu Sans Mono',consolas,'Courier New',monospace\"><span style=\"color: #7fbfbf; text-decoration-color: #7fbfbf\">                    </span><span style=\"color: #000080; text-decoration-color: #000080\">INFO    </span> Scraping game schedule for Jumapili, Jan <span style=\"color: #008080; text-decoration-color: #008080; font-weight: bold\">14</span> <span style=\"color: #008080; text-decoration-color: #008080; font-weight: bold\">2024</span>                      <span style=\"color: #7f7f7f; text-decoration-color: #7f7f7f\">whoscored.py:327</span>\n",
       "</pre>\n"
      ],
      "text/plain": [
       "\u001b[2;36m                   \u001b[0m\u001b[2;36m \u001b[0m\u001b[34mINFO    \u001b[0m Scraping game schedule for Jumapili, Jan \u001b[1;36m14\u001b[0m \u001b[1;36m2024\u001b[0m                      \u001b[2mwhoscored.py\u001b[0m\u001b[2m:\u001b[0m\u001b[2m327\u001b[0m\n"
      ]
     },
     "metadata": {},
     "output_type": "display_data"
    },
    {
     "data": {
      "text/html": [
       "<pre style=\"white-space:pre;overflow-x:auto;line-height:normal;font-family:Menlo,'DejaVu Sans Mono',consolas,'Courier New',monospace\"><span style=\"color: #7fbfbf; text-decoration-color: #7fbfbf\">                    </span><span style=\"color: #000080; text-decoration-color: #000080\">INFO    </span> Scraping game schedule for Jumamosi, Jan <span style=\"color: #008080; text-decoration-color: #008080; font-weight: bold\">20</span> <span style=\"color: #008080; text-decoration-color: #008080; font-weight: bold\">2024</span>                      <span style=\"color: #7f7f7f; text-decoration-color: #7f7f7f\">whoscored.py:327</span>\n",
       "</pre>\n"
      ],
      "text/plain": [
       "\u001b[2;36m                   \u001b[0m\u001b[2;36m \u001b[0m\u001b[34mINFO    \u001b[0m Scraping game schedule for Jumamosi, Jan \u001b[1;36m20\u001b[0m \u001b[1;36m2024\u001b[0m                      \u001b[2mwhoscored.py\u001b[0m\u001b[2m:\u001b[0m\u001b[2m327\u001b[0m\n"
      ]
     },
     "metadata": {},
     "output_type": "display_data"
    },
    {
     "data": {
      "text/html": [
       "<pre style=\"white-space:pre;overflow-x:auto;line-height:normal;font-family:Menlo,'DejaVu Sans Mono',consolas,'Courier New',monospace\"><span style=\"color: #7fbfbf; text-decoration-color: #7fbfbf\">[02/27/24 03:34:26] </span><span style=\"color: #000080; text-decoration-color: #000080\">INFO    </span> Scraping game schedule for Jumapili, Jan <span style=\"color: #008080; text-decoration-color: #008080; font-weight: bold\">21</span> <span style=\"color: #008080; text-decoration-color: #008080; font-weight: bold\">2024</span>                      <span style=\"color: #7f7f7f; text-decoration-color: #7f7f7f\">whoscored.py:327</span>\n",
       "</pre>\n"
      ],
      "text/plain": [
       "\u001b[2;36m[02/27/24 03:34:26]\u001b[0m\u001b[2;36m \u001b[0m\u001b[34mINFO    \u001b[0m Scraping game schedule for Jumapili, Jan \u001b[1;36m21\u001b[0m \u001b[1;36m2024\u001b[0m                      \u001b[2mwhoscored.py\u001b[0m\u001b[2m:\u001b[0m\u001b[2m327\u001b[0m\n"
      ]
     },
     "metadata": {},
     "output_type": "display_data"
    },
    {
     "data": {
      "text/html": [
       "<pre style=\"white-space:pre;overflow-x:auto;line-height:normal;font-family:Menlo,'DejaVu Sans Mono',consolas,'Courier New',monospace\"><span style=\"color: #7fbfbf; text-decoration-color: #7fbfbf\">                    </span><span style=\"color: #000080; text-decoration-color: #000080\">INFO    </span> Scraping game schedule for Jumatatu, Jan <span style=\"color: #008080; text-decoration-color: #008080; font-weight: bold\">22</span> <span style=\"color: #008080; text-decoration-color: #008080; font-weight: bold\">2024</span>                      <span style=\"color: #7f7f7f; text-decoration-color: #7f7f7f\">whoscored.py:327</span>\n",
       "</pre>\n"
      ],
      "text/plain": [
       "\u001b[2;36m                   \u001b[0m\u001b[2;36m \u001b[0m\u001b[34mINFO    \u001b[0m Scraping game schedule for Jumatatu, Jan \u001b[1;36m22\u001b[0m \u001b[1;36m2024\u001b[0m                      \u001b[2mwhoscored.py\u001b[0m\u001b[2m:\u001b[0m\u001b[2m327\u001b[0m\n"
      ]
     },
     "metadata": {},
     "output_type": "display_data"
    },
    {
     "data": {
      "text/html": [
       "<pre style=\"white-space:pre;overflow-x:auto;line-height:normal;font-family:Menlo,'DejaVu Sans Mono',consolas,'Courier New',monospace\"><span style=\"color: #7fbfbf; text-decoration-color: #7fbfbf\">                    </span><span style=\"color: #000080; text-decoration-color: #000080\">INFO    </span> Scraping game schedule for Jumanne, Jan <span style=\"color: #008080; text-decoration-color: #008080; font-weight: bold\">30</span> <span style=\"color: #008080; text-decoration-color: #008080; font-weight: bold\">2024</span>                       <span style=\"color: #7f7f7f; text-decoration-color: #7f7f7f\">whoscored.py:327</span>\n",
       "</pre>\n"
      ],
      "text/plain": [
       "\u001b[2;36m                   \u001b[0m\u001b[2;36m \u001b[0m\u001b[34mINFO    \u001b[0m Scraping game schedule for Jumanne, Jan \u001b[1;36m30\u001b[0m \u001b[1;36m2024\u001b[0m                       \u001b[2mwhoscored.py\u001b[0m\u001b[2m:\u001b[0m\u001b[2m327\u001b[0m\n"
      ]
     },
     "metadata": {},
     "output_type": "display_data"
    },
    {
     "data": {
      "text/html": [
       "<pre style=\"white-space:pre;overflow-x:auto;line-height:normal;font-family:Menlo,'DejaVu Sans Mono',consolas,'Courier New',monospace\"><span style=\"color: #7fbfbf; text-decoration-color: #7fbfbf\">[02/27/24 03:34:27] </span><span style=\"color: #000080; text-decoration-color: #000080\">INFO    </span> Scraping game schedule for Jumatano, Jan <span style=\"color: #008080; text-decoration-color: #008080; font-weight: bold\">31</span> <span style=\"color: #008080; text-decoration-color: #008080; font-weight: bold\">2024</span>                      <span style=\"color: #7f7f7f; text-decoration-color: #7f7f7f\">whoscored.py:327</span>\n",
       "</pre>\n"
      ],
      "text/plain": [
       "\u001b[2;36m[02/27/24 03:34:27]\u001b[0m\u001b[2;36m \u001b[0m\u001b[34mINFO    \u001b[0m Scraping game schedule for Jumatano, Jan \u001b[1;36m31\u001b[0m \u001b[1;36m2024\u001b[0m                      \u001b[2mwhoscored.py\u001b[0m\u001b[2m:\u001b[0m\u001b[2m327\u001b[0m\n"
      ]
     },
     "metadata": {},
     "output_type": "display_data"
    },
    {
     "data": {
      "text/html": [
       "<pre style=\"white-space:pre;overflow-x:auto;line-height:normal;font-family:Menlo,'DejaVu Sans Mono',consolas,'Courier New',monospace\"><span style=\"color: #7fbfbf; text-decoration-color: #7fbfbf\">[02/27/24 03:34:32] </span><span style=\"color: #000080; text-decoration-color: #000080\">INFO    </span> Scraping game schedule for Jumamosi, Des <span style=\"color: #008080; text-decoration-color: #008080; font-weight: bold\">2</span> <span style=\"color: #008080; text-decoration-color: #008080; font-weight: bold\">2023</span>                       <span style=\"color: #7f7f7f; text-decoration-color: #7f7f7f\">whoscored.py:327</span>\n",
       "</pre>\n"
      ],
      "text/plain": [
       "\u001b[2;36m[02/27/24 03:34:32]\u001b[0m\u001b[2;36m \u001b[0m\u001b[34mINFO    \u001b[0m Scraping game schedule for Jumamosi, Des \u001b[1;36m2\u001b[0m \u001b[1;36m2023\u001b[0m                       \u001b[2mwhoscored.py\u001b[0m\u001b[2m:\u001b[0m\u001b[2m327\u001b[0m\n"
      ]
     },
     "metadata": {},
     "output_type": "display_data"
    },
    {
     "data": {
      "text/html": [
       "<pre style=\"white-space:pre;overflow-x:auto;line-height:normal;font-family:Menlo,'DejaVu Sans Mono',consolas,'Courier New',monospace\"><span style=\"color: #7fbfbf; text-decoration-color: #7fbfbf\">[02/27/24 03:34:33] </span><span style=\"color: #000080; text-decoration-color: #000080\">INFO    </span> Scraping game schedule for Jumapili, Des <span style=\"color: #008080; text-decoration-color: #008080; font-weight: bold\">3</span> <span style=\"color: #008080; text-decoration-color: #008080; font-weight: bold\">2023</span>                       <span style=\"color: #7f7f7f; text-decoration-color: #7f7f7f\">whoscored.py:327</span>\n",
       "</pre>\n"
      ],
      "text/plain": [
       "\u001b[2;36m[02/27/24 03:34:33]\u001b[0m\u001b[2;36m \u001b[0m\u001b[34mINFO    \u001b[0m Scraping game schedule for Jumapili, Des \u001b[1;36m3\u001b[0m \u001b[1;36m2023\u001b[0m                       \u001b[2mwhoscored.py\u001b[0m\u001b[2m:\u001b[0m\u001b[2m327\u001b[0m\n"
      ]
     },
     "metadata": {},
     "output_type": "display_data"
    },
    {
     "data": {
      "text/html": [
       "<pre style=\"white-space:pre;overflow-x:auto;line-height:normal;font-family:Menlo,'DejaVu Sans Mono',consolas,'Courier New',monospace\"><span style=\"color: #7fbfbf; text-decoration-color: #7fbfbf\">[02/27/24 03:34:34] </span><span style=\"color: #000080; text-decoration-color: #000080\">INFO    </span> Scraping game schedule for Jumanne, Des <span style=\"color: #008080; text-decoration-color: #008080; font-weight: bold\">5</span> <span style=\"color: #008080; text-decoration-color: #008080; font-weight: bold\">2023</span>                        <span style=\"color: #7f7f7f; text-decoration-color: #7f7f7f\">whoscored.py:327</span>\n",
       "</pre>\n"
      ],
      "text/plain": [
       "\u001b[2;36m[02/27/24 03:34:34]\u001b[0m\u001b[2;36m \u001b[0m\u001b[34mINFO    \u001b[0m Scraping game schedule for Jumanne, Des \u001b[1;36m5\u001b[0m \u001b[1;36m2023\u001b[0m                        \u001b[2mwhoscored.py\u001b[0m\u001b[2m:\u001b[0m\u001b[2m327\u001b[0m\n"
      ]
     },
     "metadata": {},
     "output_type": "display_data"
    },
    {
     "data": {
      "text/html": [
       "<pre style=\"white-space:pre;overflow-x:auto;line-height:normal;font-family:Menlo,'DejaVu Sans Mono',consolas,'Courier New',monospace\"><span style=\"color: #7fbfbf; text-decoration-color: #7fbfbf\">                    </span><span style=\"color: #000080; text-decoration-color: #000080\">INFO    </span> Scraping game schedule for Jumatano, Des <span style=\"color: #008080; text-decoration-color: #008080; font-weight: bold\">6</span> <span style=\"color: #008080; text-decoration-color: #008080; font-weight: bold\">2023</span>                       <span style=\"color: #7f7f7f; text-decoration-color: #7f7f7f\">whoscored.py:327</span>\n",
       "</pre>\n"
      ],
      "text/plain": [
       "\u001b[2;36m                   \u001b[0m\u001b[2;36m \u001b[0m\u001b[34mINFO    \u001b[0m Scraping game schedule for Jumatano, Des \u001b[1;36m6\u001b[0m \u001b[1;36m2023\u001b[0m                       \u001b[2mwhoscored.py\u001b[0m\u001b[2m:\u001b[0m\u001b[2m327\u001b[0m\n"
      ]
     },
     "metadata": {},
     "output_type": "display_data"
    },
    {
     "data": {
      "text/html": [
       "<pre style=\"white-space:pre;overflow-x:auto;line-height:normal;font-family:Menlo,'DejaVu Sans Mono',consolas,'Courier New',monospace\"><span style=\"color: #7fbfbf; text-decoration-color: #7fbfbf\">[02/27/24 03:34:35] </span><span style=\"color: #000080; text-decoration-color: #000080\">INFO    </span> Scraping game schedule for Alhamisi, Des <span style=\"color: #008080; text-decoration-color: #008080; font-weight: bold\">7</span> <span style=\"color: #008080; text-decoration-color: #008080; font-weight: bold\">2023</span>                       <span style=\"color: #7f7f7f; text-decoration-color: #7f7f7f\">whoscored.py:327</span>\n",
       "</pre>\n"
      ],
      "text/plain": [
       "\u001b[2;36m[02/27/24 03:34:35]\u001b[0m\u001b[2;36m \u001b[0m\u001b[34mINFO    \u001b[0m Scraping game schedule for Alhamisi, Des \u001b[1;36m7\u001b[0m \u001b[1;36m2023\u001b[0m                       \u001b[2mwhoscored.py\u001b[0m\u001b[2m:\u001b[0m\u001b[2m327\u001b[0m\n"
      ]
     },
     "metadata": {},
     "output_type": "display_data"
    },
    {
     "data": {
      "text/html": [
       "<pre style=\"white-space:pre;overflow-x:auto;line-height:normal;font-family:Menlo,'DejaVu Sans Mono',consolas,'Courier New',monospace\"><span style=\"color: #7fbfbf; text-decoration-color: #7fbfbf\">                    </span><span style=\"color: #000080; text-decoration-color: #000080\">INFO    </span> Scraping game schedule for Jumamosi, Des <span style=\"color: #008080; text-decoration-color: #008080; font-weight: bold\">9</span> <span style=\"color: #008080; text-decoration-color: #008080; font-weight: bold\">2023</span>                       <span style=\"color: #7f7f7f; text-decoration-color: #7f7f7f\">whoscored.py:327</span>\n",
       "</pre>\n"
      ],
      "text/plain": [
       "\u001b[2;36m                   \u001b[0m\u001b[2;36m \u001b[0m\u001b[34mINFO    \u001b[0m Scraping game schedule for Jumamosi, Des \u001b[1;36m9\u001b[0m \u001b[1;36m2023\u001b[0m                       \u001b[2mwhoscored.py\u001b[0m\u001b[2m:\u001b[0m\u001b[2m327\u001b[0m\n"
      ]
     },
     "metadata": {},
     "output_type": "display_data"
    },
    {
     "data": {
      "text/html": [
       "<pre style=\"white-space:pre;overflow-x:auto;line-height:normal;font-family:Menlo,'DejaVu Sans Mono',consolas,'Courier New',monospace\"><span style=\"color: #7fbfbf; text-decoration-color: #7fbfbf\">[02/27/24 03:34:36] </span><span style=\"color: #000080; text-decoration-color: #000080\">INFO    </span> Scraping game schedule for Jumapili, Des <span style=\"color: #008080; text-decoration-color: #008080; font-weight: bold\">10</span> <span style=\"color: #008080; text-decoration-color: #008080; font-weight: bold\">2023</span>                      <span style=\"color: #7f7f7f; text-decoration-color: #7f7f7f\">whoscored.py:327</span>\n",
       "</pre>\n"
      ],
      "text/plain": [
       "\u001b[2;36m[02/27/24 03:34:36]\u001b[0m\u001b[2;36m \u001b[0m\u001b[34mINFO    \u001b[0m Scraping game schedule for Jumapili, Des \u001b[1;36m10\u001b[0m \u001b[1;36m2023\u001b[0m                      \u001b[2mwhoscored.py\u001b[0m\u001b[2m:\u001b[0m\u001b[2m327\u001b[0m\n"
      ]
     },
     "metadata": {},
     "output_type": "display_data"
    },
    {
     "data": {
      "text/html": [
       "<pre style=\"white-space:pre;overflow-x:auto;line-height:normal;font-family:Menlo,'DejaVu Sans Mono',consolas,'Courier New',monospace\"><span style=\"color: #7fbfbf; text-decoration-color: #7fbfbf\">[02/27/24 03:34:37] </span><span style=\"color: #000080; text-decoration-color: #000080\">INFO    </span> Scraping game schedule for Ijumaa, Des <span style=\"color: #008080; text-decoration-color: #008080; font-weight: bold\">15</span> <span style=\"color: #008080; text-decoration-color: #008080; font-weight: bold\">2023</span>                        <span style=\"color: #7f7f7f; text-decoration-color: #7f7f7f\">whoscored.py:327</span>\n",
       "</pre>\n"
      ],
      "text/plain": [
       "\u001b[2;36m[02/27/24 03:34:37]\u001b[0m\u001b[2;36m \u001b[0m\u001b[34mINFO    \u001b[0m Scraping game schedule for Ijumaa, Des \u001b[1;36m15\u001b[0m \u001b[1;36m2023\u001b[0m                        \u001b[2mwhoscored.py\u001b[0m\u001b[2m:\u001b[0m\u001b[2m327\u001b[0m\n"
      ]
     },
     "metadata": {},
     "output_type": "display_data"
    },
    {
     "data": {
      "text/html": [
       "<pre style=\"white-space:pre;overflow-x:auto;line-height:normal;font-family:Menlo,'DejaVu Sans Mono',consolas,'Courier New',monospace\"><span style=\"color: #7fbfbf; text-decoration-color: #7fbfbf\">                    </span><span style=\"color: #000080; text-decoration-color: #000080\">INFO    </span> Scraping game schedule for Jumamosi, Des <span style=\"color: #008080; text-decoration-color: #008080; font-weight: bold\">16</span> <span style=\"color: #008080; text-decoration-color: #008080; font-weight: bold\">2023</span>                      <span style=\"color: #7f7f7f; text-decoration-color: #7f7f7f\">whoscored.py:327</span>\n",
       "</pre>\n"
      ],
      "text/plain": [
       "\u001b[2;36m                   \u001b[0m\u001b[2;36m \u001b[0m\u001b[34mINFO    \u001b[0m Scraping game schedule for Jumamosi, Des \u001b[1;36m16\u001b[0m \u001b[1;36m2023\u001b[0m                      \u001b[2mwhoscored.py\u001b[0m\u001b[2m:\u001b[0m\u001b[2m327\u001b[0m\n"
      ]
     },
     "metadata": {},
     "output_type": "display_data"
    },
    {
     "data": {
      "text/html": [
       "<pre style=\"white-space:pre;overflow-x:auto;line-height:normal;font-family:Menlo,'DejaVu Sans Mono',consolas,'Courier New',monospace\"><span style=\"color: #7fbfbf; text-decoration-color: #7fbfbf\">[02/27/24 03:34:38] </span><span style=\"color: #000080; text-decoration-color: #000080\">INFO    </span> Scraping game schedule for Jumapili, Des <span style=\"color: #008080; text-decoration-color: #008080; font-weight: bold\">17</span> <span style=\"color: #008080; text-decoration-color: #008080; font-weight: bold\">2023</span>                      <span style=\"color: #7f7f7f; text-decoration-color: #7f7f7f\">whoscored.py:327</span>\n",
       "</pre>\n"
      ],
      "text/plain": [
       "\u001b[2;36m[02/27/24 03:34:38]\u001b[0m\u001b[2;36m \u001b[0m\u001b[34mINFO    \u001b[0m Scraping game schedule for Jumapili, Des \u001b[1;36m17\u001b[0m \u001b[1;36m2023\u001b[0m                      \u001b[2mwhoscored.py\u001b[0m\u001b[2m:\u001b[0m\u001b[2m327\u001b[0m\n"
      ]
     },
     "metadata": {},
     "output_type": "display_data"
    },
    {
     "data": {
      "text/html": [
       "<pre style=\"white-space:pre;overflow-x:auto;line-height:normal;font-family:Menlo,'DejaVu Sans Mono',consolas,'Courier New',monospace\"><span style=\"color: #7fbfbf; text-decoration-color: #7fbfbf\">                    </span><span style=\"color: #000080; text-decoration-color: #000080\">INFO    </span> Scraping game schedule for Alhamisi, Des <span style=\"color: #008080; text-decoration-color: #008080; font-weight: bold\">21</span> <span style=\"color: #008080; text-decoration-color: #008080; font-weight: bold\">2023</span>                      <span style=\"color: #7f7f7f; text-decoration-color: #7f7f7f\">whoscored.py:327</span>\n",
       "</pre>\n"
      ],
      "text/plain": [
       "\u001b[2;36m                   \u001b[0m\u001b[2;36m \u001b[0m\u001b[34mINFO    \u001b[0m Scraping game schedule for Alhamisi, Des \u001b[1;36m21\u001b[0m \u001b[1;36m2023\u001b[0m                      \u001b[2mwhoscored.py\u001b[0m\u001b[2m:\u001b[0m\u001b[2m327\u001b[0m\n"
      ]
     },
     "metadata": {},
     "output_type": "display_data"
    },
    {
     "data": {
      "text/html": [
       "<pre style=\"white-space:pre;overflow-x:auto;line-height:normal;font-family:Menlo,'DejaVu Sans Mono',consolas,'Courier New',monospace\"><span style=\"color: #7fbfbf; text-decoration-color: #7fbfbf\">[02/27/24 03:34:39] </span><span style=\"color: #000080; text-decoration-color: #000080\">INFO    </span> Scraping game schedule for Ijumaa, Des <span style=\"color: #008080; text-decoration-color: #008080; font-weight: bold\">22</span> <span style=\"color: #008080; text-decoration-color: #008080; font-weight: bold\">2023</span>                        <span style=\"color: #7f7f7f; text-decoration-color: #7f7f7f\">whoscored.py:327</span>\n",
       "</pre>\n"
      ],
      "text/plain": [
       "\u001b[2;36m[02/27/24 03:34:39]\u001b[0m\u001b[2;36m \u001b[0m\u001b[34mINFO    \u001b[0m Scraping game schedule for Ijumaa, Des \u001b[1;36m22\u001b[0m \u001b[1;36m2023\u001b[0m                        \u001b[2mwhoscored.py\u001b[0m\u001b[2m:\u001b[0m\u001b[2m327\u001b[0m\n"
      ]
     },
     "metadata": {},
     "output_type": "display_data"
    },
    {
     "data": {
      "text/html": [
       "<pre style=\"white-space:pre;overflow-x:auto;line-height:normal;font-family:Menlo,'DejaVu Sans Mono',consolas,'Courier New',monospace\"><span style=\"color: #7fbfbf; text-decoration-color: #7fbfbf\">                    </span><span style=\"color: #000080; text-decoration-color: #000080\">INFO    </span> Scraping game schedule for Jumamosi, Des <span style=\"color: #008080; text-decoration-color: #008080; font-weight: bold\">23</span> <span style=\"color: #008080; text-decoration-color: #008080; font-weight: bold\">2023</span>                      <span style=\"color: #7f7f7f; text-decoration-color: #7f7f7f\">whoscored.py:327</span>\n",
       "</pre>\n"
      ],
      "text/plain": [
       "\u001b[2;36m                   \u001b[0m\u001b[2;36m \u001b[0m\u001b[34mINFO    \u001b[0m Scraping game schedule for Jumamosi, Des \u001b[1;36m23\u001b[0m \u001b[1;36m2023\u001b[0m                      \u001b[2mwhoscored.py\u001b[0m\u001b[2m:\u001b[0m\u001b[2m327\u001b[0m\n"
      ]
     },
     "metadata": {},
     "output_type": "display_data"
    },
    {
     "data": {
      "text/html": [
       "<pre style=\"white-space:pre;overflow-x:auto;line-height:normal;font-family:Menlo,'DejaVu Sans Mono',consolas,'Courier New',monospace\"><span style=\"color: #7fbfbf; text-decoration-color: #7fbfbf\">[02/27/24 03:34:40] </span><span style=\"color: #000080; text-decoration-color: #000080\">INFO    </span> Scraping game schedule for Jumapili, Des <span style=\"color: #008080; text-decoration-color: #008080; font-weight: bold\">24</span> <span style=\"color: #008080; text-decoration-color: #008080; font-weight: bold\">2023</span>                      <span style=\"color: #7f7f7f; text-decoration-color: #7f7f7f\">whoscored.py:327</span>\n",
       "</pre>\n"
      ],
      "text/plain": [
       "\u001b[2;36m[02/27/24 03:34:40]\u001b[0m\u001b[2;36m \u001b[0m\u001b[34mINFO    \u001b[0m Scraping game schedule for Jumapili, Des \u001b[1;36m24\u001b[0m \u001b[1;36m2023\u001b[0m                      \u001b[2mwhoscored.py\u001b[0m\u001b[2m:\u001b[0m\u001b[2m327\u001b[0m\n"
      ]
     },
     "metadata": {},
     "output_type": "display_data"
    },
    {
     "data": {
      "text/html": [
       "<pre style=\"white-space:pre;overflow-x:auto;line-height:normal;font-family:Menlo,'DejaVu Sans Mono',consolas,'Courier New',monospace\"><span style=\"color: #7fbfbf; text-decoration-color: #7fbfbf\">                    </span><span style=\"color: #000080; text-decoration-color: #000080\">INFO    </span> Scraping game schedule for Jumanne, Des <span style=\"color: #008080; text-decoration-color: #008080; font-weight: bold\">26</span> <span style=\"color: #008080; text-decoration-color: #008080; font-weight: bold\">2023</span>                       <span style=\"color: #7f7f7f; text-decoration-color: #7f7f7f\">whoscored.py:327</span>\n",
       "</pre>\n"
      ],
      "text/plain": [
       "\u001b[2;36m                   \u001b[0m\u001b[2;36m \u001b[0m\u001b[34mINFO    \u001b[0m Scraping game schedule for Jumanne, Des \u001b[1;36m26\u001b[0m \u001b[1;36m2023\u001b[0m                       \u001b[2mwhoscored.py\u001b[0m\u001b[2m:\u001b[0m\u001b[2m327\u001b[0m\n"
      ]
     },
     "metadata": {},
     "output_type": "display_data"
    },
    {
     "data": {
      "text/html": [
       "<pre style=\"white-space:pre;overflow-x:auto;line-height:normal;font-family:Menlo,'DejaVu Sans Mono',consolas,'Courier New',monospace\"><span style=\"color: #7fbfbf; text-decoration-color: #7fbfbf\">[02/27/24 03:34:41] </span><span style=\"color: #000080; text-decoration-color: #000080\">INFO    </span> Scraping game schedule for Jumatano, Des <span style=\"color: #008080; text-decoration-color: #008080; font-weight: bold\">27</span> <span style=\"color: #008080; text-decoration-color: #008080; font-weight: bold\">2023</span>                      <span style=\"color: #7f7f7f; text-decoration-color: #7f7f7f\">whoscored.py:327</span>\n",
       "</pre>\n"
      ],
      "text/plain": [
       "\u001b[2;36m[02/27/24 03:34:41]\u001b[0m\u001b[2;36m \u001b[0m\u001b[34mINFO    \u001b[0m Scraping game schedule for Jumatano, Des \u001b[1;36m27\u001b[0m \u001b[1;36m2023\u001b[0m                      \u001b[2mwhoscored.py\u001b[0m\u001b[2m:\u001b[0m\u001b[2m327\u001b[0m\n"
      ]
     },
     "metadata": {},
     "output_type": "display_data"
    },
    {
     "data": {
      "text/html": [
       "<pre style=\"white-space:pre;overflow-x:auto;line-height:normal;font-family:Menlo,'DejaVu Sans Mono',consolas,'Courier New',monospace\"><span style=\"color: #7fbfbf; text-decoration-color: #7fbfbf\">                    </span><span style=\"color: #000080; text-decoration-color: #000080\">INFO    </span> Scraping game schedule for Alhamisi, Des <span style=\"color: #008080; text-decoration-color: #008080; font-weight: bold\">28</span> <span style=\"color: #008080; text-decoration-color: #008080; font-weight: bold\">2023</span>                      <span style=\"color: #7f7f7f; text-decoration-color: #7f7f7f\">whoscored.py:327</span>\n",
       "</pre>\n"
      ],
      "text/plain": [
       "\u001b[2;36m                   \u001b[0m\u001b[2;36m \u001b[0m\u001b[34mINFO    \u001b[0m Scraping game schedule for Alhamisi, Des \u001b[1;36m28\u001b[0m \u001b[1;36m2023\u001b[0m                      \u001b[2mwhoscored.py\u001b[0m\u001b[2m:\u001b[0m\u001b[2m327\u001b[0m\n"
      ]
     },
     "metadata": {},
     "output_type": "display_data"
    },
    {
     "data": {
      "text/html": [
       "<pre style=\"white-space:pre;overflow-x:auto;line-height:normal;font-family:Menlo,'DejaVu Sans Mono',consolas,'Courier New',monospace\"><span style=\"color: #7fbfbf; text-decoration-color: #7fbfbf\">                    </span><span style=\"color: #000080; text-decoration-color: #000080\">INFO    </span> Scraping game schedule for Jumamosi, Des <span style=\"color: #008080; text-decoration-color: #008080; font-weight: bold\">30</span> <span style=\"color: #008080; text-decoration-color: #008080; font-weight: bold\">2023</span>                      <span style=\"color: #7f7f7f; text-decoration-color: #7f7f7f\">whoscored.py:327</span>\n",
       "</pre>\n"
      ],
      "text/plain": [
       "\u001b[2;36m                   \u001b[0m\u001b[2;36m \u001b[0m\u001b[34mINFO    \u001b[0m Scraping game schedule for Jumamosi, Des \u001b[1;36m30\u001b[0m \u001b[1;36m2023\u001b[0m                      \u001b[2mwhoscored.py\u001b[0m\u001b[2m:\u001b[0m\u001b[2m327\u001b[0m\n"
      ]
     },
     "metadata": {},
     "output_type": "display_data"
    },
    {
     "data": {
      "text/html": [
       "<pre style=\"white-space:pre;overflow-x:auto;line-height:normal;font-family:Menlo,'DejaVu Sans Mono',consolas,'Courier New',monospace\"><span style=\"color: #7fbfbf; text-decoration-color: #7fbfbf\">[02/27/24 03:34:42] </span><span style=\"color: #000080; text-decoration-color: #000080\">INFO    </span> Scraping game schedule for Jumapili, Des <span style=\"color: #008080; text-decoration-color: #008080; font-weight: bold\">31</span> <span style=\"color: #008080; text-decoration-color: #008080; font-weight: bold\">2023</span>                      <span style=\"color: #7f7f7f; text-decoration-color: #7f7f7f\">whoscored.py:327</span>\n",
       "</pre>\n"
      ],
      "text/plain": [
       "\u001b[2;36m[02/27/24 03:34:42]\u001b[0m\u001b[2;36m \u001b[0m\u001b[34mINFO    \u001b[0m Scraping game schedule for Jumapili, Des \u001b[1;36m31\u001b[0m \u001b[1;36m2023\u001b[0m                      \u001b[2mwhoscored.py\u001b[0m\u001b[2m:\u001b[0m\u001b[2m327\u001b[0m\n"
      ]
     },
     "metadata": {},
     "output_type": "display_data"
    },
    {
     "data": {
      "text/html": [
       "<pre style=\"white-space:pre;overflow-x:auto;line-height:normal;font-family:Menlo,'DejaVu Sans Mono',consolas,'Courier New',monospace\"><span style=\"color: #7fbfbf; text-decoration-color: #7fbfbf\">[02/27/24 03:34:48] </span><span style=\"color: #000080; text-decoration-color: #000080\">INFO    </span> Scraping game schedule for Jumamosi, Nov <span style=\"color: #008080; text-decoration-color: #008080; font-weight: bold\">4</span> <span style=\"color: #008080; text-decoration-color: #008080; font-weight: bold\">2023</span>                       <span style=\"color: #7f7f7f; text-decoration-color: #7f7f7f\">whoscored.py:327</span>\n",
       "</pre>\n"
      ],
      "text/plain": [
       "\u001b[2;36m[02/27/24 03:34:48]\u001b[0m\u001b[2;36m \u001b[0m\u001b[34mINFO    \u001b[0m Scraping game schedule for Jumamosi, Nov \u001b[1;36m4\u001b[0m \u001b[1;36m2023\u001b[0m                       \u001b[2mwhoscored.py\u001b[0m\u001b[2m:\u001b[0m\u001b[2m327\u001b[0m\n"
      ]
     },
     "metadata": {},
     "output_type": "display_data"
    },
    {
     "data": {
      "text/html": [
       "<pre style=\"white-space:pre;overflow-x:auto;line-height:normal;font-family:Menlo,'DejaVu Sans Mono',consolas,'Courier New',monospace\"><span style=\"color: #7fbfbf; text-decoration-color: #7fbfbf\">[02/27/24 03:34:49] </span><span style=\"color: #000080; text-decoration-color: #000080\">INFO    </span> Scraping game schedule for Jumapili, Nov <span style=\"color: #008080; text-decoration-color: #008080; font-weight: bold\">5</span> <span style=\"color: #008080; text-decoration-color: #008080; font-weight: bold\">2023</span>                       <span style=\"color: #7f7f7f; text-decoration-color: #7f7f7f\">whoscored.py:327</span>\n",
       "</pre>\n"
      ],
      "text/plain": [
       "\u001b[2;36m[02/27/24 03:34:49]\u001b[0m\u001b[2;36m \u001b[0m\u001b[34mINFO    \u001b[0m Scraping game schedule for Jumapili, Nov \u001b[1;36m5\u001b[0m \u001b[1;36m2023\u001b[0m                       \u001b[2mwhoscored.py\u001b[0m\u001b[2m:\u001b[0m\u001b[2m327\u001b[0m\n"
      ]
     },
     "metadata": {},
     "output_type": "display_data"
    },
    {
     "data": {
      "text/html": [
       "<pre style=\"white-space:pre;overflow-x:auto;line-height:normal;font-family:Menlo,'DejaVu Sans Mono',consolas,'Courier New',monospace\"><span style=\"color: #7fbfbf; text-decoration-color: #7fbfbf\">                    </span><span style=\"color: #000080; text-decoration-color: #000080\">INFO    </span> Scraping game schedule for Jumatatu, Nov <span style=\"color: #008080; text-decoration-color: #008080; font-weight: bold\">6</span> <span style=\"color: #008080; text-decoration-color: #008080; font-weight: bold\">2023</span>                       <span style=\"color: #7f7f7f; text-decoration-color: #7f7f7f\">whoscored.py:327</span>\n",
       "</pre>\n"
      ],
      "text/plain": [
       "\u001b[2;36m                   \u001b[0m\u001b[2;36m \u001b[0m\u001b[34mINFO    \u001b[0m Scraping game schedule for Jumatatu, Nov \u001b[1;36m6\u001b[0m \u001b[1;36m2023\u001b[0m                       \u001b[2mwhoscored.py\u001b[0m\u001b[2m:\u001b[0m\u001b[2m327\u001b[0m\n"
      ]
     },
     "metadata": {},
     "output_type": "display_data"
    },
    {
     "data": {
      "text/html": [
       "<pre style=\"white-space:pre;overflow-x:auto;line-height:normal;font-family:Menlo,'DejaVu Sans Mono',consolas,'Courier New',monospace\"><span style=\"color: #7fbfbf; text-decoration-color: #7fbfbf\">                    </span><span style=\"color: #000080; text-decoration-color: #000080\">INFO    </span> Scraping game schedule for Jumamosi, Nov <span style=\"color: #008080; text-decoration-color: #008080; font-weight: bold\">11</span> <span style=\"color: #008080; text-decoration-color: #008080; font-weight: bold\">2023</span>                      <span style=\"color: #7f7f7f; text-decoration-color: #7f7f7f\">whoscored.py:327</span>\n",
       "</pre>\n"
      ],
      "text/plain": [
       "\u001b[2;36m                   \u001b[0m\u001b[2;36m \u001b[0m\u001b[34mINFO    \u001b[0m Scraping game schedule for Jumamosi, Nov \u001b[1;36m11\u001b[0m \u001b[1;36m2023\u001b[0m                      \u001b[2mwhoscored.py\u001b[0m\u001b[2m:\u001b[0m\u001b[2m327\u001b[0m\n"
      ]
     },
     "metadata": {},
     "output_type": "display_data"
    },
    {
     "data": {
      "text/html": [
       "<pre style=\"white-space:pre;overflow-x:auto;line-height:normal;font-family:Menlo,'DejaVu Sans Mono',consolas,'Courier New',monospace\"><span style=\"color: #7fbfbf; text-decoration-color: #7fbfbf\">[02/27/24 03:34:50] </span><span style=\"color: #000080; text-decoration-color: #000080\">INFO    </span> Scraping game schedule for Jumapili, Nov <span style=\"color: #008080; text-decoration-color: #008080; font-weight: bold\">12</span> <span style=\"color: #008080; text-decoration-color: #008080; font-weight: bold\">2023</span>                      <span style=\"color: #7f7f7f; text-decoration-color: #7f7f7f\">whoscored.py:327</span>\n",
       "</pre>\n"
      ],
      "text/plain": [
       "\u001b[2;36m[02/27/24 03:34:50]\u001b[0m\u001b[2;36m \u001b[0m\u001b[34mINFO    \u001b[0m Scraping game schedule for Jumapili, Nov \u001b[1;36m12\u001b[0m \u001b[1;36m2023\u001b[0m                      \u001b[2mwhoscored.py\u001b[0m\u001b[2m:\u001b[0m\u001b[2m327\u001b[0m\n"
      ]
     },
     "metadata": {},
     "output_type": "display_data"
    },
    {
     "data": {
      "text/html": [
       "<pre style=\"white-space:pre;overflow-x:auto;line-height:normal;font-family:Menlo,'DejaVu Sans Mono',consolas,'Courier New',monospace\"><span style=\"color: #7fbfbf; text-decoration-color: #7fbfbf\">[02/27/24 03:34:51] </span><span style=\"color: #000080; text-decoration-color: #000080\">INFO    </span> Scraping game schedule for Jumamosi, Nov <span style=\"color: #008080; text-decoration-color: #008080; font-weight: bold\">25</span> <span style=\"color: #008080; text-decoration-color: #008080; font-weight: bold\">2023</span>                      <span style=\"color: #7f7f7f; text-decoration-color: #7f7f7f\">whoscored.py:327</span>\n",
       "</pre>\n"
      ],
      "text/plain": [
       "\u001b[2;36m[02/27/24 03:34:51]\u001b[0m\u001b[2;36m \u001b[0m\u001b[34mINFO    \u001b[0m Scraping game schedule for Jumamosi, Nov \u001b[1;36m25\u001b[0m \u001b[1;36m2023\u001b[0m                      \u001b[2mwhoscored.py\u001b[0m\u001b[2m:\u001b[0m\u001b[2m327\u001b[0m\n"
      ]
     },
     "metadata": {},
     "output_type": "display_data"
    },
    {
     "data": {
      "text/html": [
       "<pre style=\"white-space:pre;overflow-x:auto;line-height:normal;font-family:Menlo,'DejaVu Sans Mono',consolas,'Courier New',monospace\"><span style=\"color: #7fbfbf; text-decoration-color: #7fbfbf\">[02/27/24 03:34:52] </span><span style=\"color: #000080; text-decoration-color: #000080\">INFO    </span> Scraping game schedule for Jumapili, Nov <span style=\"color: #008080; text-decoration-color: #008080; font-weight: bold\">26</span> <span style=\"color: #008080; text-decoration-color: #008080; font-weight: bold\">2023</span>                      <span style=\"color: #7f7f7f; text-decoration-color: #7f7f7f\">whoscored.py:327</span>\n",
       "</pre>\n"
      ],
      "text/plain": [
       "\u001b[2;36m[02/27/24 03:34:52]\u001b[0m\u001b[2;36m \u001b[0m\u001b[34mINFO    \u001b[0m Scraping game schedule for Jumapili, Nov \u001b[1;36m26\u001b[0m \u001b[1;36m2023\u001b[0m                      \u001b[2mwhoscored.py\u001b[0m\u001b[2m:\u001b[0m\u001b[2m327\u001b[0m\n"
      ]
     },
     "metadata": {},
     "output_type": "display_data"
    },
    {
     "data": {
      "text/html": [
       "<pre style=\"white-space:pre;overflow-x:auto;line-height:normal;font-family:Menlo,'DejaVu Sans Mono',consolas,'Courier New',monospace\"><span style=\"color: #7fbfbf; text-decoration-color: #7fbfbf\">                    </span><span style=\"color: #000080; text-decoration-color: #000080\">INFO    </span> Scraping game schedule for Jumatatu, Nov <span style=\"color: #008080; text-decoration-color: #008080; font-weight: bold\">27</span> <span style=\"color: #008080; text-decoration-color: #008080; font-weight: bold\">2023</span>                      <span style=\"color: #7f7f7f; text-decoration-color: #7f7f7f\">whoscored.py:327</span>\n",
       "</pre>\n"
      ],
      "text/plain": [
       "\u001b[2;36m                   \u001b[0m\u001b[2;36m \u001b[0m\u001b[34mINFO    \u001b[0m Scraping game schedule for Jumatatu, Nov \u001b[1;36m27\u001b[0m \u001b[1;36m2023\u001b[0m                      \u001b[2mwhoscored.py\u001b[0m\u001b[2m:\u001b[0m\u001b[2m327\u001b[0m\n"
      ]
     },
     "metadata": {},
     "output_type": "display_data"
    },
    {
     "data": {
      "text/html": [
       "<pre style=\"white-space:pre;overflow-x:auto;line-height:normal;font-family:Menlo,'DejaVu Sans Mono',consolas,'Courier New',monospace\"><span style=\"color: #7fbfbf; text-decoration-color: #7fbfbf\">[02/27/24 03:34:57] </span><span style=\"color: #000080; text-decoration-color: #000080\">INFO    </span> Scraping game schedule for Jumapili, Okt <span style=\"color: #008080; text-decoration-color: #008080; font-weight: bold\">1</span> <span style=\"color: #008080; text-decoration-color: #008080; font-weight: bold\">2023</span>                       <span style=\"color: #7f7f7f; text-decoration-color: #7f7f7f\">whoscored.py:327</span>\n",
       "</pre>\n"
      ],
      "text/plain": [
       "\u001b[2;36m[02/27/24 03:34:57]\u001b[0m\u001b[2;36m \u001b[0m\u001b[34mINFO    \u001b[0m Scraping game schedule for Jumapili, Okt \u001b[1;36m1\u001b[0m \u001b[1;36m2023\u001b[0m                       \u001b[2mwhoscored.py\u001b[0m\u001b[2m:\u001b[0m\u001b[2m327\u001b[0m\n"
      ]
     },
     "metadata": {},
     "output_type": "display_data"
    },
    {
     "data": {
      "text/html": [
       "<pre style=\"white-space:pre;overflow-x:auto;line-height:normal;font-family:Menlo,'DejaVu Sans Mono',consolas,'Courier New',monospace\"><span style=\"color: #7fbfbf; text-decoration-color: #7fbfbf\">[02/27/24 03:34:58] </span><span style=\"color: #000080; text-decoration-color: #000080\">INFO    </span> Scraping game schedule for Jumatatu, Okt <span style=\"color: #008080; text-decoration-color: #008080; font-weight: bold\">2</span> <span style=\"color: #008080; text-decoration-color: #008080; font-weight: bold\">2023</span>                       <span style=\"color: #7f7f7f; text-decoration-color: #7f7f7f\">whoscored.py:327</span>\n",
       "</pre>\n"
      ],
      "text/plain": [
       "\u001b[2;36m[02/27/24 03:34:58]\u001b[0m\u001b[2;36m \u001b[0m\u001b[34mINFO    \u001b[0m Scraping game schedule for Jumatatu, Okt \u001b[1;36m2\u001b[0m \u001b[1;36m2023\u001b[0m                       \u001b[2mwhoscored.py\u001b[0m\u001b[2m:\u001b[0m\u001b[2m327\u001b[0m\n"
      ]
     },
     "metadata": {},
     "output_type": "display_data"
    },
    {
     "data": {
      "text/html": [
       "<pre style=\"white-space:pre;overflow-x:auto;line-height:normal;font-family:Menlo,'DejaVu Sans Mono',consolas,'Courier New',monospace\"><span style=\"color: #7fbfbf; text-decoration-color: #7fbfbf\">                    </span><span style=\"color: #000080; text-decoration-color: #000080\">INFO    </span> Scraping game schedule for Jumanne, Okt <span style=\"color: #008080; text-decoration-color: #008080; font-weight: bold\">3</span> <span style=\"color: #008080; text-decoration-color: #008080; font-weight: bold\">2023</span>                        <span style=\"color: #7f7f7f; text-decoration-color: #7f7f7f\">whoscored.py:327</span>\n",
       "</pre>\n"
      ],
      "text/plain": [
       "\u001b[2;36m                   \u001b[0m\u001b[2;36m \u001b[0m\u001b[34mINFO    \u001b[0m Scraping game schedule for Jumanne, Okt \u001b[1;36m3\u001b[0m \u001b[1;36m2023\u001b[0m                        \u001b[2mwhoscored.py\u001b[0m\u001b[2m:\u001b[0m\u001b[2m327\u001b[0m\n"
      ]
     },
     "metadata": {},
     "output_type": "display_data"
    },
    {
     "data": {
      "text/html": [
       "<pre style=\"white-space:pre;overflow-x:auto;line-height:normal;font-family:Menlo,'DejaVu Sans Mono',consolas,'Courier New',monospace\"><span style=\"color: #7fbfbf; text-decoration-color: #7fbfbf\">                    </span><span style=\"color: #000080; text-decoration-color: #000080\">INFO    </span> Scraping game schedule for Jumamosi, Okt <span style=\"color: #008080; text-decoration-color: #008080; font-weight: bold\">7</span> <span style=\"color: #008080; text-decoration-color: #008080; font-weight: bold\">2023</span>                       <span style=\"color: #7f7f7f; text-decoration-color: #7f7f7f\">whoscored.py:327</span>\n",
       "</pre>\n"
      ],
      "text/plain": [
       "\u001b[2;36m                   \u001b[0m\u001b[2;36m \u001b[0m\u001b[34mINFO    \u001b[0m Scraping game schedule for Jumamosi, Okt \u001b[1;36m7\u001b[0m \u001b[1;36m2023\u001b[0m                       \u001b[2mwhoscored.py\u001b[0m\u001b[2m:\u001b[0m\u001b[2m327\u001b[0m\n"
      ]
     },
     "metadata": {},
     "output_type": "display_data"
    },
    {
     "data": {
      "text/html": [
       "<pre style=\"white-space:pre;overflow-x:auto;line-height:normal;font-family:Menlo,'DejaVu Sans Mono',consolas,'Courier New',monospace\"><span style=\"color: #7fbfbf; text-decoration-color: #7fbfbf\">[02/27/24 03:34:59] </span><span style=\"color: #000080; text-decoration-color: #000080\">INFO    </span> Scraping game schedule for Jumapili, Okt <span style=\"color: #008080; text-decoration-color: #008080; font-weight: bold\">8</span> <span style=\"color: #008080; text-decoration-color: #008080; font-weight: bold\">2023</span>                       <span style=\"color: #7f7f7f; text-decoration-color: #7f7f7f\">whoscored.py:327</span>\n",
       "</pre>\n"
      ],
      "text/plain": [
       "\u001b[2;36m[02/27/24 03:34:59]\u001b[0m\u001b[2;36m \u001b[0m\u001b[34mINFO    \u001b[0m Scraping game schedule for Jumapili, Okt \u001b[1;36m8\u001b[0m \u001b[1;36m2023\u001b[0m                       \u001b[2mwhoscored.py\u001b[0m\u001b[2m:\u001b[0m\u001b[2m327\u001b[0m\n"
      ]
     },
     "metadata": {},
     "output_type": "display_data"
    },
    {
     "data": {
      "text/html": [
       "<pre style=\"white-space:pre;overflow-x:auto;line-height:normal;font-family:Menlo,'DejaVu Sans Mono',consolas,'Courier New',monospace\"><span style=\"color: #7fbfbf; text-decoration-color: #7fbfbf\">[02/27/24 03:35:00] </span><span style=\"color: #000080; text-decoration-color: #000080\">INFO    </span> Scraping game schedule for Jumamosi, Okt <span style=\"color: #008080; text-decoration-color: #008080; font-weight: bold\">21</span> <span style=\"color: #008080; text-decoration-color: #008080; font-weight: bold\">2023</span>                      <span style=\"color: #7f7f7f; text-decoration-color: #7f7f7f\">whoscored.py:327</span>\n",
       "</pre>\n"
      ],
      "text/plain": [
       "\u001b[2;36m[02/27/24 03:35:00]\u001b[0m\u001b[2;36m \u001b[0m\u001b[34mINFO    \u001b[0m Scraping game schedule for Jumamosi, Okt \u001b[1;36m21\u001b[0m \u001b[1;36m2023\u001b[0m                      \u001b[2mwhoscored.py\u001b[0m\u001b[2m:\u001b[0m\u001b[2m327\u001b[0m\n"
      ]
     },
     "metadata": {},
     "output_type": "display_data"
    },
    {
     "data": {
      "text/html": [
       "<pre style=\"white-space:pre;overflow-x:auto;line-height:normal;font-family:Menlo,'DejaVu Sans Mono',consolas,'Courier New',monospace\"><span style=\"color: #7fbfbf; text-decoration-color: #7fbfbf\">[02/27/24 03:35:02] </span><span style=\"color: #000080; text-decoration-color: #000080\">INFO    </span> Scraping game schedule for Jumapili, Okt <span style=\"color: #008080; text-decoration-color: #008080; font-weight: bold\">22</span> <span style=\"color: #008080; text-decoration-color: #008080; font-weight: bold\">2023</span>                      <span style=\"color: #7f7f7f; text-decoration-color: #7f7f7f\">whoscored.py:327</span>\n",
       "</pre>\n"
      ],
      "text/plain": [
       "\u001b[2;36m[02/27/24 03:35:02]\u001b[0m\u001b[2;36m \u001b[0m\u001b[34mINFO    \u001b[0m Scraping game schedule for Jumapili, Okt \u001b[1;36m22\u001b[0m \u001b[1;36m2023\u001b[0m                      \u001b[2mwhoscored.py\u001b[0m\u001b[2m:\u001b[0m\u001b[2m327\u001b[0m\n"
      ]
     },
     "metadata": {},
     "output_type": "display_data"
    },
    {
     "data": {
      "text/html": [
       "<pre style=\"white-space:pre;overflow-x:auto;line-height:normal;font-family:Menlo,'DejaVu Sans Mono',consolas,'Courier New',monospace\"><span style=\"color: #7fbfbf; text-decoration-color: #7fbfbf\">                    </span><span style=\"color: #000080; text-decoration-color: #000080\">INFO    </span> Scraping game schedule for Jumatatu, Okt <span style=\"color: #008080; text-decoration-color: #008080; font-weight: bold\">23</span> <span style=\"color: #008080; text-decoration-color: #008080; font-weight: bold\">2023</span>                      <span style=\"color: #7f7f7f; text-decoration-color: #7f7f7f\">whoscored.py:327</span>\n",
       "</pre>\n"
      ],
      "text/plain": [
       "\u001b[2;36m                   \u001b[0m\u001b[2;36m \u001b[0m\u001b[34mINFO    \u001b[0m Scraping game schedule for Jumatatu, Okt \u001b[1;36m23\u001b[0m \u001b[1;36m2023\u001b[0m                      \u001b[2mwhoscored.py\u001b[0m\u001b[2m:\u001b[0m\u001b[2m327\u001b[0m\n"
      ]
     },
     "metadata": {},
     "output_type": "display_data"
    },
    {
     "data": {
      "text/html": [
       "<pre style=\"white-space:pre;overflow-x:auto;line-height:normal;font-family:Menlo,'DejaVu Sans Mono',consolas,'Courier New',monospace\"><span style=\"color: #7fbfbf; text-decoration-color: #7fbfbf\">                    </span><span style=\"color: #000080; text-decoration-color: #000080\">INFO    </span> Scraping game schedule for Ijumaa, Okt <span style=\"color: #008080; text-decoration-color: #008080; font-weight: bold\">27</span> <span style=\"color: #008080; text-decoration-color: #008080; font-weight: bold\">2023</span>                        <span style=\"color: #7f7f7f; text-decoration-color: #7f7f7f\">whoscored.py:327</span>\n",
       "</pre>\n"
      ],
      "text/plain": [
       "\u001b[2;36m                   \u001b[0m\u001b[2;36m \u001b[0m\u001b[34mINFO    \u001b[0m Scraping game schedule for Ijumaa, Okt \u001b[1;36m27\u001b[0m \u001b[1;36m2023\u001b[0m                        \u001b[2mwhoscored.py\u001b[0m\u001b[2m:\u001b[0m\u001b[2m327\u001b[0m\n"
      ]
     },
     "metadata": {},
     "output_type": "display_data"
    },
    {
     "data": {
      "text/html": [
       "<pre style=\"white-space:pre;overflow-x:auto;line-height:normal;font-family:Menlo,'DejaVu Sans Mono',consolas,'Courier New',monospace\"><span style=\"color: #7fbfbf; text-decoration-color: #7fbfbf\">[02/27/24 03:35:03] </span><span style=\"color: #000080; text-decoration-color: #000080\">INFO    </span> Scraping game schedule for Jumamosi, Okt <span style=\"color: #008080; text-decoration-color: #008080; font-weight: bold\">28</span> <span style=\"color: #008080; text-decoration-color: #008080; font-weight: bold\">2023</span>                      <span style=\"color: #7f7f7f; text-decoration-color: #7f7f7f\">whoscored.py:327</span>\n",
       "</pre>\n"
      ],
      "text/plain": [
       "\u001b[2;36m[02/27/24 03:35:03]\u001b[0m\u001b[2;36m \u001b[0m\u001b[34mINFO    \u001b[0m Scraping game schedule for Jumamosi, Okt \u001b[1;36m28\u001b[0m \u001b[1;36m2023\u001b[0m                      \u001b[2mwhoscored.py\u001b[0m\u001b[2m:\u001b[0m\u001b[2m327\u001b[0m\n"
      ]
     },
     "metadata": {},
     "output_type": "display_data"
    },
    {
     "data": {
      "text/html": [
       "<pre style=\"white-space:pre;overflow-x:auto;line-height:normal;font-family:Menlo,'DejaVu Sans Mono',consolas,'Courier New',monospace\"><span style=\"color: #7fbfbf; text-decoration-color: #7fbfbf\">                    </span><span style=\"color: #000080; text-decoration-color: #000080\">INFO    </span> Scraping game schedule for Jumapili, Okt <span style=\"color: #008080; text-decoration-color: #008080; font-weight: bold\">29</span> <span style=\"color: #008080; text-decoration-color: #008080; font-weight: bold\">2023</span>                      <span style=\"color: #7f7f7f; text-decoration-color: #7f7f7f\">whoscored.py:327</span>\n",
       "</pre>\n"
      ],
      "text/plain": [
       "\u001b[2;36m                   \u001b[0m\u001b[2;36m \u001b[0m\u001b[34mINFO    \u001b[0m Scraping game schedule for Jumapili, Okt \u001b[1;36m29\u001b[0m \u001b[1;36m2023\u001b[0m                      \u001b[2mwhoscored.py\u001b[0m\u001b[2m:\u001b[0m\u001b[2m327\u001b[0m\n"
      ]
     },
     "metadata": {},
     "output_type": "display_data"
    },
    {
     "data": {
      "text/html": [
       "<pre style=\"white-space:pre;overflow-x:auto;line-height:normal;font-family:Menlo,'DejaVu Sans Mono',consolas,'Courier New',monospace\"><span style=\"color: #7fbfbf; text-decoration-color: #7fbfbf\">[02/27/24 03:35:09] </span><span style=\"color: #000080; text-decoration-color: #000080\">INFO    </span> Scraping game schedule for Ijumaa, Sep <span style=\"color: #008080; text-decoration-color: #008080; font-weight: bold\">1</span> <span style=\"color: #008080; text-decoration-color: #008080; font-weight: bold\">2023</span>                         <span style=\"color: #7f7f7f; text-decoration-color: #7f7f7f\">whoscored.py:327</span>\n",
       "</pre>\n"
      ],
      "text/plain": [
       "\u001b[2;36m[02/27/24 03:35:09]\u001b[0m\u001b[2;36m \u001b[0m\u001b[34mINFO    \u001b[0m Scraping game schedule for Ijumaa, Sep \u001b[1;36m1\u001b[0m \u001b[1;36m2023\u001b[0m                         \u001b[2mwhoscored.py\u001b[0m\u001b[2m:\u001b[0m\u001b[2m327\u001b[0m\n"
      ]
     },
     "metadata": {},
     "output_type": "display_data"
    },
    {
     "data": {
      "text/html": [
       "<pre style=\"white-space:pre;overflow-x:auto;line-height:normal;font-family:Menlo,'DejaVu Sans Mono',consolas,'Courier New',monospace\"><span style=\"color: #7fbfbf; text-decoration-color: #7fbfbf\">                    </span><span style=\"color: #000080; text-decoration-color: #000080\">INFO    </span> Scraping game schedule for Jumamosi, Sep <span style=\"color: #008080; text-decoration-color: #008080; font-weight: bold\">2</span> <span style=\"color: #008080; text-decoration-color: #008080; font-weight: bold\">2023</span>                       <span style=\"color: #7f7f7f; text-decoration-color: #7f7f7f\">whoscored.py:327</span>\n",
       "</pre>\n"
      ],
      "text/plain": [
       "\u001b[2;36m                   \u001b[0m\u001b[2;36m \u001b[0m\u001b[34mINFO    \u001b[0m Scraping game schedule for Jumamosi, Sep \u001b[1;36m2\u001b[0m \u001b[1;36m2023\u001b[0m                       \u001b[2mwhoscored.py\u001b[0m\u001b[2m:\u001b[0m\u001b[2m327\u001b[0m\n"
      ]
     },
     "metadata": {},
     "output_type": "display_data"
    },
    {
     "data": {
      "text/html": [
       "<pre style=\"white-space:pre;overflow-x:auto;line-height:normal;font-family:Menlo,'DejaVu Sans Mono',consolas,'Courier New',monospace\"><span style=\"color: #7fbfbf; text-decoration-color: #7fbfbf\">[02/27/24 03:35:10] </span><span style=\"color: #000080; text-decoration-color: #000080\">INFO    </span> Scraping game schedule for Jumapili, Sep <span style=\"color: #008080; text-decoration-color: #008080; font-weight: bold\">3</span> <span style=\"color: #008080; text-decoration-color: #008080; font-weight: bold\">2023</span>                       <span style=\"color: #7f7f7f; text-decoration-color: #7f7f7f\">whoscored.py:327</span>\n",
       "</pre>\n"
      ],
      "text/plain": [
       "\u001b[2;36m[02/27/24 03:35:10]\u001b[0m\u001b[2;36m \u001b[0m\u001b[34mINFO    \u001b[0m Scraping game schedule for Jumapili, Sep \u001b[1;36m3\u001b[0m \u001b[1;36m2023\u001b[0m                       \u001b[2mwhoscored.py\u001b[0m\u001b[2m:\u001b[0m\u001b[2m327\u001b[0m\n"
      ]
     },
     "metadata": {},
     "output_type": "display_data"
    },
    {
     "data": {
      "text/html": [
       "<pre style=\"white-space:pre;overflow-x:auto;line-height:normal;font-family:Menlo,'DejaVu Sans Mono',consolas,'Courier New',monospace\"><span style=\"color: #7fbfbf; text-decoration-color: #7fbfbf\">[02/27/24 03:35:11] </span><span style=\"color: #000080; text-decoration-color: #000080\">INFO    </span> Scraping game schedule for Jumamosi, Sep <span style=\"color: #008080; text-decoration-color: #008080; font-weight: bold\">16</span> <span style=\"color: #008080; text-decoration-color: #008080; font-weight: bold\">2023</span>                      <span style=\"color: #7f7f7f; text-decoration-color: #7f7f7f\">whoscored.py:327</span>\n",
       "</pre>\n"
      ],
      "text/plain": [
       "\u001b[2;36m[02/27/24 03:35:11]\u001b[0m\u001b[2;36m \u001b[0m\u001b[34mINFO    \u001b[0m Scraping game schedule for Jumamosi, Sep \u001b[1;36m16\u001b[0m \u001b[1;36m2023\u001b[0m                      \u001b[2mwhoscored.py\u001b[0m\u001b[2m:\u001b[0m\u001b[2m327\u001b[0m\n"
      ]
     },
     "metadata": {},
     "output_type": "display_data"
    },
    {
     "data": {
      "text/html": [
       "<pre style=\"white-space:pre;overflow-x:auto;line-height:normal;font-family:Menlo,'DejaVu Sans Mono',consolas,'Courier New',monospace\"><span style=\"color: #7fbfbf; text-decoration-color: #7fbfbf\">[02/27/24 03:35:12] </span><span style=\"color: #000080; text-decoration-color: #000080\">INFO    </span> Scraping game schedule for Jumapili, Sep <span style=\"color: #008080; text-decoration-color: #008080; font-weight: bold\">17</span> <span style=\"color: #008080; text-decoration-color: #008080; font-weight: bold\">2023</span>                      <span style=\"color: #7f7f7f; text-decoration-color: #7f7f7f\">whoscored.py:327</span>\n",
       "</pre>\n"
      ],
      "text/plain": [
       "\u001b[2;36m[02/27/24 03:35:12]\u001b[0m\u001b[2;36m \u001b[0m\u001b[34mINFO    \u001b[0m Scraping game schedule for Jumapili, Sep \u001b[1;36m17\u001b[0m \u001b[1;36m2023\u001b[0m                      \u001b[2mwhoscored.py\u001b[0m\u001b[2m:\u001b[0m\u001b[2m327\u001b[0m\n"
      ]
     },
     "metadata": {},
     "output_type": "display_data"
    },
    {
     "data": {
      "text/html": [
       "<pre style=\"white-space:pre;overflow-x:auto;line-height:normal;font-family:Menlo,'DejaVu Sans Mono',consolas,'Courier New',monospace\"><span style=\"color: #7fbfbf; text-decoration-color: #7fbfbf\">                    </span><span style=\"color: #000080; text-decoration-color: #000080\">INFO    </span> Scraping game schedule for Jumatatu, Sep <span style=\"color: #008080; text-decoration-color: #008080; font-weight: bold\">18</span> <span style=\"color: #008080; text-decoration-color: #008080; font-weight: bold\">2023</span>                      <span style=\"color: #7f7f7f; text-decoration-color: #7f7f7f\">whoscored.py:327</span>\n",
       "</pre>\n"
      ],
      "text/plain": [
       "\u001b[2;36m                   \u001b[0m\u001b[2;36m \u001b[0m\u001b[34mINFO    \u001b[0m Scraping game schedule for Jumatatu, Sep \u001b[1;36m18\u001b[0m \u001b[1;36m2023\u001b[0m                      \u001b[2mwhoscored.py\u001b[0m\u001b[2m:\u001b[0m\u001b[2m327\u001b[0m\n"
      ]
     },
     "metadata": {},
     "output_type": "display_data"
    },
    {
     "data": {
      "text/html": [
       "<pre style=\"white-space:pre;overflow-x:auto;line-height:normal;font-family:Menlo,'DejaVu Sans Mono',consolas,'Courier New',monospace\"><span style=\"color: #7fbfbf; text-decoration-color: #7fbfbf\">                    </span><span style=\"color: #000080; text-decoration-color: #000080\">INFO    </span> Scraping game schedule for Jumamosi, Sep <span style=\"color: #008080; text-decoration-color: #008080; font-weight: bold\">23</span> <span style=\"color: #008080; text-decoration-color: #008080; font-weight: bold\">2023</span>                      <span style=\"color: #7f7f7f; text-decoration-color: #7f7f7f\">whoscored.py:327</span>\n",
       "</pre>\n"
      ],
      "text/plain": [
       "\u001b[2;36m                   \u001b[0m\u001b[2;36m \u001b[0m\u001b[34mINFO    \u001b[0m Scraping game schedule for Jumamosi, Sep \u001b[1;36m23\u001b[0m \u001b[1;36m2023\u001b[0m                      \u001b[2mwhoscored.py\u001b[0m\u001b[2m:\u001b[0m\u001b[2m327\u001b[0m\n"
      ]
     },
     "metadata": {},
     "output_type": "display_data"
    },
    {
     "data": {
      "text/html": [
       "<pre style=\"white-space:pre;overflow-x:auto;line-height:normal;font-family:Menlo,'DejaVu Sans Mono',consolas,'Courier New',monospace\"><span style=\"color: #7fbfbf; text-decoration-color: #7fbfbf\">[02/27/24 03:35:13] </span><span style=\"color: #000080; text-decoration-color: #000080\">INFO    </span> Scraping game schedule for Jumapili, Sep <span style=\"color: #008080; text-decoration-color: #008080; font-weight: bold\">24</span> <span style=\"color: #008080; text-decoration-color: #008080; font-weight: bold\">2023</span>                      <span style=\"color: #7f7f7f; text-decoration-color: #7f7f7f\">whoscored.py:327</span>\n",
       "</pre>\n"
      ],
      "text/plain": [
       "\u001b[2;36m[02/27/24 03:35:13]\u001b[0m\u001b[2;36m \u001b[0m\u001b[34mINFO    \u001b[0m Scraping game schedule for Jumapili, Sep \u001b[1;36m24\u001b[0m \u001b[1;36m2023\u001b[0m                      \u001b[2mwhoscored.py\u001b[0m\u001b[2m:\u001b[0m\u001b[2m327\u001b[0m\n"
      ]
     },
     "metadata": {},
     "output_type": "display_data"
    },
    {
     "data": {
      "text/html": [
       "<pre style=\"white-space:pre;overflow-x:auto;line-height:normal;font-family:Menlo,'DejaVu Sans Mono',consolas,'Courier New',monospace\"><span style=\"color: #7fbfbf; text-decoration-color: #7fbfbf\">[02/27/24 03:35:14] </span><span style=\"color: #000080; text-decoration-color: #000080\">INFO    </span> Scraping game schedule for Jumamosi, Sep <span style=\"color: #008080; text-decoration-color: #008080; font-weight: bold\">30</span> <span style=\"color: #008080; text-decoration-color: #008080; font-weight: bold\">2023</span>                      <span style=\"color: #7f7f7f; text-decoration-color: #7f7f7f\">whoscored.py:327</span>\n",
       "</pre>\n"
      ],
      "text/plain": [
       "\u001b[2;36m[02/27/24 03:35:14]\u001b[0m\u001b[2;36m \u001b[0m\u001b[34mINFO    \u001b[0m Scraping game schedule for Jumamosi, Sep \u001b[1;36m30\u001b[0m \u001b[1;36m2023\u001b[0m                      \u001b[2mwhoscored.py\u001b[0m\u001b[2m:\u001b[0m\u001b[2m327\u001b[0m\n"
      ]
     },
     "metadata": {},
     "output_type": "display_data"
    },
    {
     "data": {
      "text/html": [
       "<pre style=\"white-space:pre;overflow-x:auto;line-height:normal;font-family:Menlo,'DejaVu Sans Mono',consolas,'Courier New',monospace\"><span style=\"color: #7fbfbf; text-decoration-color: #7fbfbf\">[02/27/24 03:35:20] </span><span style=\"color: #000080; text-decoration-color: #000080\">INFO    </span> Scraping game schedule for Ijumaa, Ago <span style=\"color: #008080; text-decoration-color: #008080; font-weight: bold\">11</span> <span style=\"color: #008080; text-decoration-color: #008080; font-weight: bold\">2023</span>                        <span style=\"color: #7f7f7f; text-decoration-color: #7f7f7f\">whoscored.py:327</span>\n",
       "</pre>\n"
      ],
      "text/plain": [
       "\u001b[2;36m[02/27/24 03:35:20]\u001b[0m\u001b[2;36m \u001b[0m\u001b[34mINFO    \u001b[0m Scraping game schedule for Ijumaa, Ago \u001b[1;36m11\u001b[0m \u001b[1;36m2023\u001b[0m                        \u001b[2mwhoscored.py\u001b[0m\u001b[2m:\u001b[0m\u001b[2m327\u001b[0m\n"
      ]
     },
     "metadata": {},
     "output_type": "display_data"
    },
    {
     "data": {
      "text/html": [
       "<pre style=\"white-space:pre;overflow-x:auto;line-height:normal;font-family:Menlo,'DejaVu Sans Mono',consolas,'Courier New',monospace\"><span style=\"color: #7fbfbf; text-decoration-color: #7fbfbf\">                    </span><span style=\"color: #000080; text-decoration-color: #000080\">INFO    </span> Scraping game schedule for Jumamosi, Ago <span style=\"color: #008080; text-decoration-color: #008080; font-weight: bold\">12</span> <span style=\"color: #008080; text-decoration-color: #008080; font-weight: bold\">2023</span>                      <span style=\"color: #7f7f7f; text-decoration-color: #7f7f7f\">whoscored.py:327</span>\n",
       "</pre>\n"
      ],
      "text/plain": [
       "\u001b[2;36m                   \u001b[0m\u001b[2;36m \u001b[0m\u001b[34mINFO    \u001b[0m Scraping game schedule for Jumamosi, Ago \u001b[1;36m12\u001b[0m \u001b[1;36m2023\u001b[0m                      \u001b[2mwhoscored.py\u001b[0m\u001b[2m:\u001b[0m\u001b[2m327\u001b[0m\n"
      ]
     },
     "metadata": {},
     "output_type": "display_data"
    },
    {
     "data": {
      "text/html": [
       "<pre style=\"white-space:pre;overflow-x:auto;line-height:normal;font-family:Menlo,'DejaVu Sans Mono',consolas,'Courier New',monospace\"><span style=\"color: #7fbfbf; text-decoration-color: #7fbfbf\">[02/27/24 03:35:21] </span><span style=\"color: #000080; text-decoration-color: #000080\">INFO    </span> Scraping game schedule for Jumapili, Ago <span style=\"color: #008080; text-decoration-color: #008080; font-weight: bold\">13</span> <span style=\"color: #008080; text-decoration-color: #008080; font-weight: bold\">2023</span>                      <span style=\"color: #7f7f7f; text-decoration-color: #7f7f7f\">whoscored.py:327</span>\n",
       "</pre>\n"
      ],
      "text/plain": [
       "\u001b[2;36m[02/27/24 03:35:21]\u001b[0m\u001b[2;36m \u001b[0m\u001b[34mINFO    \u001b[0m Scraping game schedule for Jumapili, Ago \u001b[1;36m13\u001b[0m \u001b[1;36m2023\u001b[0m                      \u001b[2mwhoscored.py\u001b[0m\u001b[2m:\u001b[0m\u001b[2m327\u001b[0m\n"
      ]
     },
     "metadata": {},
     "output_type": "display_data"
    },
    {
     "data": {
      "text/html": [
       "<pre style=\"white-space:pre;overflow-x:auto;line-height:normal;font-family:Menlo,'DejaVu Sans Mono',consolas,'Courier New',monospace\"><span style=\"color: #7fbfbf; text-decoration-color: #7fbfbf\">[02/27/24 03:35:22] </span><span style=\"color: #000080; text-decoration-color: #000080\">INFO    </span> Scraping game schedule for Jumatatu, Ago <span style=\"color: #008080; text-decoration-color: #008080; font-weight: bold\">14</span> <span style=\"color: #008080; text-decoration-color: #008080; font-weight: bold\">2023</span>                      <span style=\"color: #7f7f7f; text-decoration-color: #7f7f7f\">whoscored.py:327</span>\n",
       "</pre>\n"
      ],
      "text/plain": [
       "\u001b[2;36m[02/27/24 03:35:22]\u001b[0m\u001b[2;36m \u001b[0m\u001b[34mINFO    \u001b[0m Scraping game schedule for Jumatatu, Ago \u001b[1;36m14\u001b[0m \u001b[1;36m2023\u001b[0m                      \u001b[2mwhoscored.py\u001b[0m\u001b[2m:\u001b[0m\u001b[2m327\u001b[0m\n"
      ]
     },
     "metadata": {},
     "output_type": "display_data"
    },
    {
     "data": {
      "text/html": [
       "<pre style=\"white-space:pre;overflow-x:auto;line-height:normal;font-family:Menlo,'DejaVu Sans Mono',consolas,'Courier New',monospace\"><span style=\"color: #7fbfbf; text-decoration-color: #7fbfbf\">                    </span><span style=\"color: #000080; text-decoration-color: #000080\">INFO    </span> Scraping game schedule for Ijumaa, Ago <span style=\"color: #008080; text-decoration-color: #008080; font-weight: bold\">18</span> <span style=\"color: #008080; text-decoration-color: #008080; font-weight: bold\">2023</span>                        <span style=\"color: #7f7f7f; text-decoration-color: #7f7f7f\">whoscored.py:327</span>\n",
       "</pre>\n"
      ],
      "text/plain": [
       "\u001b[2;36m                   \u001b[0m\u001b[2;36m \u001b[0m\u001b[34mINFO    \u001b[0m Scraping game schedule for Ijumaa, Ago \u001b[1;36m18\u001b[0m \u001b[1;36m2023\u001b[0m                        \u001b[2mwhoscored.py\u001b[0m\u001b[2m:\u001b[0m\u001b[2m327\u001b[0m\n"
      ]
     },
     "metadata": {},
     "output_type": "display_data"
    },
    {
     "data": {
      "text/html": [
       "<pre style=\"white-space:pre;overflow-x:auto;line-height:normal;font-family:Menlo,'DejaVu Sans Mono',consolas,'Courier New',monospace\"><span style=\"color: #7fbfbf; text-decoration-color: #7fbfbf\">                    </span><span style=\"color: #000080; text-decoration-color: #000080\">INFO    </span> Scraping game schedule for Jumamosi, Ago <span style=\"color: #008080; text-decoration-color: #008080; font-weight: bold\">19</span> <span style=\"color: #008080; text-decoration-color: #008080; font-weight: bold\">2023</span>                      <span style=\"color: #7f7f7f; text-decoration-color: #7f7f7f\">whoscored.py:327</span>\n",
       "</pre>\n"
      ],
      "text/plain": [
       "\u001b[2;36m                   \u001b[0m\u001b[2;36m \u001b[0m\u001b[34mINFO    \u001b[0m Scraping game schedule for Jumamosi, Ago \u001b[1;36m19\u001b[0m \u001b[1;36m2023\u001b[0m                      \u001b[2mwhoscored.py\u001b[0m\u001b[2m:\u001b[0m\u001b[2m327\u001b[0m\n"
      ]
     },
     "metadata": {},
     "output_type": "display_data"
    },
    {
     "data": {
      "text/html": [
       "<pre style=\"white-space:pre;overflow-x:auto;line-height:normal;font-family:Menlo,'DejaVu Sans Mono',consolas,'Courier New',monospace\"><span style=\"color: #7fbfbf; text-decoration-color: #7fbfbf\">[02/27/24 03:35:23] </span><span style=\"color: #000080; text-decoration-color: #000080\">INFO    </span> Scraping game schedule for Jumapili, Ago <span style=\"color: #008080; text-decoration-color: #008080; font-weight: bold\">20</span> <span style=\"color: #008080; text-decoration-color: #008080; font-weight: bold\">2023</span>                      <span style=\"color: #7f7f7f; text-decoration-color: #7f7f7f\">whoscored.py:327</span>\n",
       "</pre>\n"
      ],
      "text/plain": [
       "\u001b[2;36m[02/27/24 03:35:23]\u001b[0m\u001b[2;36m \u001b[0m\u001b[34mINFO    \u001b[0m Scraping game schedule for Jumapili, Ago \u001b[1;36m20\u001b[0m \u001b[1;36m2023\u001b[0m                      \u001b[2mwhoscored.py\u001b[0m\u001b[2m:\u001b[0m\u001b[2m327\u001b[0m\n"
      ]
     },
     "metadata": {},
     "output_type": "display_data"
    },
    {
     "data": {
      "text/html": [
       "<pre style=\"white-space:pre;overflow-x:auto;line-height:normal;font-family:Menlo,'DejaVu Sans Mono',consolas,'Courier New',monospace\"><span style=\"color: #7fbfbf; text-decoration-color: #7fbfbf\">                    </span><span style=\"color: #000080; text-decoration-color: #000080\">INFO    </span> Scraping game schedule for Jumatatu, Ago <span style=\"color: #008080; text-decoration-color: #008080; font-weight: bold\">21</span> <span style=\"color: #008080; text-decoration-color: #008080; font-weight: bold\">2023</span>                      <span style=\"color: #7f7f7f; text-decoration-color: #7f7f7f\">whoscored.py:327</span>\n",
       "</pre>\n"
      ],
      "text/plain": [
       "\u001b[2;36m                   \u001b[0m\u001b[2;36m \u001b[0m\u001b[34mINFO    \u001b[0m Scraping game schedule for Jumatatu, Ago \u001b[1;36m21\u001b[0m \u001b[1;36m2023\u001b[0m                      \u001b[2mwhoscored.py\u001b[0m\u001b[2m:\u001b[0m\u001b[2m327\u001b[0m\n"
      ]
     },
     "metadata": {},
     "output_type": "display_data"
    },
    {
     "data": {
      "text/html": [
       "<pre style=\"white-space:pre;overflow-x:auto;line-height:normal;font-family:Menlo,'DejaVu Sans Mono',consolas,'Courier New',monospace\"><span style=\"color: #7fbfbf; text-decoration-color: #7fbfbf\">                    </span><span style=\"color: #000080; text-decoration-color: #000080\">INFO    </span> Scraping game schedule for Ijumaa, Ago <span style=\"color: #008080; text-decoration-color: #008080; font-weight: bold\">25</span> <span style=\"color: #008080; text-decoration-color: #008080; font-weight: bold\">2023</span>                        <span style=\"color: #7f7f7f; text-decoration-color: #7f7f7f\">whoscored.py:327</span>\n",
       "</pre>\n"
      ],
      "text/plain": [
       "\u001b[2;36m                   \u001b[0m\u001b[2;36m \u001b[0m\u001b[34mINFO    \u001b[0m Scraping game schedule for Ijumaa, Ago \u001b[1;36m25\u001b[0m \u001b[1;36m2023\u001b[0m                        \u001b[2mwhoscored.py\u001b[0m\u001b[2m:\u001b[0m\u001b[2m327\u001b[0m\n"
      ]
     },
     "metadata": {},
     "output_type": "display_data"
    },
    {
     "data": {
      "text/html": [
       "<pre style=\"white-space:pre;overflow-x:auto;line-height:normal;font-family:Menlo,'DejaVu Sans Mono',consolas,'Courier New',monospace\"><span style=\"color: #7fbfbf; text-decoration-color: #7fbfbf\">[02/27/24 03:35:24] </span><span style=\"color: #000080; text-decoration-color: #000080\">INFO    </span> Scraping game schedule for Jumamosi, Ago <span style=\"color: #008080; text-decoration-color: #008080; font-weight: bold\">26</span> <span style=\"color: #008080; text-decoration-color: #008080; font-weight: bold\">2023</span>                      <span style=\"color: #7f7f7f; text-decoration-color: #7f7f7f\">whoscored.py:327</span>\n",
       "</pre>\n"
      ],
      "text/plain": [
       "\u001b[2;36m[02/27/24 03:35:24]\u001b[0m\u001b[2;36m \u001b[0m\u001b[34mINFO    \u001b[0m Scraping game schedule for Jumamosi, Ago \u001b[1;36m26\u001b[0m \u001b[1;36m2023\u001b[0m                      \u001b[2mwhoscored.py\u001b[0m\u001b[2m:\u001b[0m\u001b[2m327\u001b[0m\n"
      ]
     },
     "metadata": {},
     "output_type": "display_data"
    },
    {
     "data": {
      "text/html": [
       "<pre style=\"white-space:pre;overflow-x:auto;line-height:normal;font-family:Menlo,'DejaVu Sans Mono',consolas,'Courier New',monospace\"><span style=\"color: #7fbfbf; text-decoration-color: #7fbfbf\">                    </span><span style=\"color: #000080; text-decoration-color: #000080\">INFO    </span> Scraping game schedule for Jumapili, Ago <span style=\"color: #008080; text-decoration-color: #008080; font-weight: bold\">27</span> <span style=\"color: #008080; text-decoration-color: #008080; font-weight: bold\">2023</span>                      <span style=\"color: #7f7f7f; text-decoration-color: #7f7f7f\">whoscored.py:327</span>\n",
       "</pre>\n"
      ],
      "text/plain": [
       "\u001b[2;36m                   \u001b[0m\u001b[2;36m \u001b[0m\u001b[34mINFO    \u001b[0m Scraping game schedule for Jumapili, Ago \u001b[1;36m27\u001b[0m \u001b[1;36m2023\u001b[0m                      \u001b[2mwhoscored.py\u001b[0m\u001b[2m:\u001b[0m\u001b[2m327\u001b[0m\n"
      ]
     },
     "metadata": {},
     "output_type": "display_data"
    },
    {
     "name": "stdout",
     "output_type": "stream",
     "text": [
      "Haiiii\n",
      "League is : ESP-La Liga\n"
     ]
    },
    {
     "data": {
      "text/html": [
       "<pre style=\"white-space:pre;overflow-x:auto;line-height:normal;font-family:Menlo,'DejaVu Sans Mono',consolas,'Courier New',monospace\"><span style=\"color: #7fbfbf; text-decoration-color: #7fbfbf\">[02/27/24 03:35:25] </span><span style=\"color: #000080; text-decoration-color: #000080\">INFO    </span> Saving cached data to C:\\Users\\Hp\\soccerdata\\data\\FBref                  <span style=\"color: #7f7f7f; text-decoration-color: #7f7f7f\">_common.py:91</span>\n",
       "</pre>\n"
      ],
      "text/plain": [
       "\u001b[2;36m[02/27/24 03:35:25]\u001b[0m\u001b[2;36m \u001b[0m\u001b[34mINFO    \u001b[0m Saving cached data to C:\\Users\\Hp\\soccerdata\\data\\FBref                  \u001b[2m_common.py\u001b[0m\u001b[2m:\u001b[0m\u001b[2m91\u001b[0m\n"
      ]
     },
     "metadata": {},
     "output_type": "display_data"
    },
    {
     "data": {
      "text/html": [
       "<pre style=\"white-space:pre;overflow-x:auto;line-height:normal;font-family:Menlo,'DejaVu Sans Mono',consolas,'Courier New',monospace\"><span style=\"color: #7fbfbf; text-decoration-color: #7fbfbf\">                    </span><span style=\"color: #000080; text-decoration-color: #000080\">INFO    </span> Saving cached data to C:\\Users\\Hp\\soccerdata\\data\\WhoScored              <span style=\"color: #7f7f7f; text-decoration-color: #7f7f7f\">_common.py:91</span>\n",
       "</pre>\n"
      ],
      "text/plain": [
       "\u001b[2;36m                   \u001b[0m\u001b[2;36m \u001b[0m\u001b[34mINFO    \u001b[0m Saving cached data to C:\\Users\\Hp\\soccerdata\\data\\WhoScored              \u001b[2m_common.py\u001b[0m\u001b[2m:\u001b[0m\u001b[2m91\u001b[0m\n"
      ]
     },
     "metadata": {},
     "output_type": "display_data"
    },
    {
     "name": "stdout",
     "output_type": "stream",
     "text": [
      "tree :  <lxml.etree._ElementTree object at 0x0000024B0268DF00>\n",
      "leagues :  ['ESP-La Liga']\n",
      "DF LEAGUES :              gender governing_body first_season last_season tier  \\\n",
      "league                                                            \n",
      "ESP-La Liga      M           <NA>         8889        2324  1st   \n",
      "\n",
      "                                              url country  \n",
      "league                                                     \n",
      "ESP-La Liga  /en/comps/12/history/La-Liga-Seasons     ESP  \n",
      "LEAGUE {'_is_copy': None, '_mgr': SingleBlockManager\n",
      "Items: Index(['gender', 'governing_body', 'first_season', 'last_season', 'tier',\n",
      "       'url', 'country'],\n",
      "      dtype='object')\n",
      "NumpyBlock: 7 dtype: object, '_item_cache': {}, '_attrs': {}, '_flags': <Flags(allows_duplicate_labels=True)>, '_name': 'ESP-La Liga'}\n",
      "URL IN HERE :  https://fbref.com/en/comps/12/history/La-Liga-Seasons\n",
      "SEASONS HERE :  [       Season Competition Name  # Squads                  Champion  \\\n",
      "0   2023-2024      ESP-La Liga        20                      <NA>   \n",
      "1   2022-2023      ESP-La Liga        20            Barcelona - 88   \n",
      "2   2021-2022      ESP-La Liga        20          Real Madrid - 86   \n",
      "3   2020-2021      ESP-La Liga        20      Atlético Madrid - 86   \n",
      "4   2019-2020      ESP-La Liga        20          Real Madrid - 87   \n",
      "5   2018-2019      ESP-La Liga        20            Barcelona - 87   \n",
      "6   2017-2018      ESP-La Liga        20            Barcelona - 93   \n",
      "7   2016-2017      ESP-La Liga        20          Real Madrid - 93   \n",
      "8   2015-2016      ESP-La Liga        20            Barcelona - 91   \n",
      "9   2014-2015      ESP-La Liga        20            Barcelona - 94   \n",
      "10  2013-2014      ESP-La Liga        20      Atlético Madrid - 90   \n",
      "11  2012-2013      ESP-La Liga        20           Barcelona - 100   \n",
      "12  2011-2012      ESP-La Liga        20         Real Madrid - 100   \n",
      "13  2010-2011      ESP-La Liga        20            Barcelona - 96   \n",
      "14  2009-2010      ESP-La Liga        20            Barcelona - 99   \n",
      "15  2008-2009      ESP-La Liga        20            Barcelona - 87   \n",
      "16  2007-2008      ESP-La Liga        20          Real Madrid - 85   \n",
      "17  2006-2007      ESP-La Liga        20          Real Madrid - 76   \n",
      "18  2005-2006      ESP-La Liga        20            Barcelona - 82   \n",
      "19  2004-2005      ESP-La Liga        20            Barcelona - 84   \n",
      "20  2003-2004      ESP-La Liga        20             Valencia - 77   \n",
      "21  2002-2003      ESP-La Liga        20          Real Madrid - 78   \n",
      "22  2001-2002      ESP-La Liga        20             Valencia - 75   \n",
      "23  2000-2001      ESP-La Liga        20          Real Madrid - 80   \n",
      "24  1999-2000      ESP-La Liga        20  Deportivo La Coruña - 69   \n",
      "25  1998-1999      ESP-La Liga        20            Barcelona - 79   \n",
      "26  1997-1998      ESP-La Liga        20            Barcelona - 74   \n",
      "27  1996-1997      ESP-La Liga        22          Real Madrid - 92   \n",
      "28  1995-1996      ESP-La Liga        22      Atlético Madrid - 87   \n",
      "29  1994-1995      ESP-La Liga        20          Real Madrid - 55   \n",
      "30  1993-1994      ESP-La Liga        20            Barcelona - 56   \n",
      "31  1992-1993      ESP-La Liga        20            Barcelona - 58   \n",
      "32  1991-1992      ESP-La Liga        20            Barcelona - 55   \n",
      "33  1990-1991      ESP-La Liga        20            Barcelona - 57   \n",
      "34  1989-1990      ESP-La Liga        20          Real Madrid - 62   \n",
      "35  1988-1989      ESP-La Liga        20          Real Madrid - 62   \n",
      "\n",
      "                              Top Scorer  \\\n",
      "0     Jude Bellingham, Artem Dovbyk - 14   \n",
      "1                Robert Lewandowski - 23   \n",
      "2                     Karim Benzema - 27   \n",
      "3                      Lionel Messi - 30   \n",
      "4                      Lionel Messi - 25   \n",
      "5                      Lionel Messi - 36   \n",
      "6                      Lionel Messi - 34   \n",
      "7                      Lionel Messi - 37   \n",
      "8                       Luis Suárez - 40   \n",
      "9                 Cristiano Ronaldo - 48   \n",
      "10                Cristiano Ronaldo - 31   \n",
      "11                     Lionel Messi - 46   \n",
      "12                     Lionel Messi - 50   \n",
      "13                Cristiano Ronaldo - 40   \n",
      "14                     Lionel Messi - 34   \n",
      "15                     Diego Forlán - 32   \n",
      "16                       Dani Güiza - 27   \n",
      "17              Ruud van Nistelrooy - 25   \n",
      "18                     Samuel Eto'o - 26   \n",
      "19       Samuel Eto'o, Diego Forlán - 24   \n",
      "20                          Ronaldo - 24   \n",
      "21                       Roy Makaay - 29   \n",
      "22                    Diego Tristán - 21   \n",
      "23                             Raúl - 24   \n",
      "24                   Salva Ballesta - 27   \n",
      "25                             Raúl - 25   \n",
      "26                  Christian Vieri - 24   \n",
      "27                          Ronaldo - 34   \n",
      "28               Juan Antonio Pizzi - 31   \n",
      "29                    Iván Zamorano - 28   \n",
      "30                          Romário - 30   \n",
      "31                           Bebeto - 29   \n",
      "32                           Manolo - 27   \n",
      "33                Emilio Butragueño - 19   \n",
      "34                     Hugo Sánchez - 38   \n",
      "35  Baltazar Maria de Morais Júnior - 35   \n",
      "\n",
      "                                               url       Format  \n",
      "0                       /en/comps/12/La-Liga-Stats  round-robin  \n",
      "1   /en/comps/12/2022-2023/2022-2023-La-Liga-Stats  round-robin  \n",
      "2   /en/comps/12/2021-2022/2021-2022-La-Liga-Stats  round-robin  \n",
      "3   /en/comps/12/2020-2021/2020-2021-La-Liga-Stats  round-robin  \n",
      "4   /en/comps/12/2019-2020/2019-2020-La-Liga-Stats  round-robin  \n",
      "5   /en/comps/12/2018-2019/2018-2019-La-Liga-Stats  round-robin  \n",
      "6   /en/comps/12/2017-2018/2017-2018-La-Liga-Stats  round-robin  \n",
      "7   /en/comps/12/2016-2017/2016-2017-La-Liga-Stats  round-robin  \n",
      "8   /en/comps/12/2015-2016/2015-2016-La-Liga-Stats  round-robin  \n",
      "9   /en/comps/12/2014-2015/2014-2015-La-Liga-Stats  round-robin  \n",
      "10  /en/comps/12/2013-2014/2013-2014-La-Liga-Stats  round-robin  \n",
      "11  /en/comps/12/2012-2013/2012-2013-La-Liga-Stats  round-robin  \n",
      "12  /en/comps/12/2011-2012/2011-2012-La-Liga-Stats  round-robin  \n",
      "13  /en/comps/12/2010-2011/2010-2011-La-Liga-Stats  round-robin  \n",
      "14  /en/comps/12/2009-2010/2009-2010-La-Liga-Stats  round-robin  \n",
      "15  /en/comps/12/2008-2009/2008-2009-La-Liga-Stats  round-robin  \n",
      "16  /en/comps/12/2007-2008/2007-2008-La-Liga-Stats  round-robin  \n",
      "17  /en/comps/12/2006-2007/2006-2007-La-Liga-Stats  round-robin  \n",
      "18  /en/comps/12/2005-2006/2005-2006-La-Liga-Stats  round-robin  \n",
      "19  /en/comps/12/2004-2005/2004-2005-La-Liga-Stats  round-robin  \n",
      "20  /en/comps/12/2003-2004/2003-2004-La-Liga-Stats  round-robin  \n",
      "21  /en/comps/12/2002-2003/2002-2003-La-Liga-Stats  round-robin  \n",
      "22  /en/comps/12/2001-2002/2001-2002-La-Liga-Stats  round-robin  \n",
      "23  /en/comps/12/2000-2001/2000-2001-La-Liga-Stats  round-robin  \n",
      "24  /en/comps/12/1999-2000/1999-2000-La-Liga-Stats  round-robin  \n",
      "25  /en/comps/12/1998-1999/1998-1999-La-Liga-Stats  round-robin  \n",
      "26  /en/comps/12/1997-1998/1997-1998-La-Liga-Stats  round-robin  \n",
      "27  /en/comps/12/1996-1997/1996-1997-La-Liga-Stats  round-robin  \n",
      "28  /en/comps/12/1995-1996/1995-1996-La-Liga-Stats  round-robin  \n",
      "29  /en/comps/12/1994-1995/1994-1995-La-Liga-Stats  round-robin  \n",
      "30  /en/comps/12/1993-1994/1993-1994-La-Liga-Stats  round-robin  \n",
      "31  /en/comps/12/1992-1993/1992-1993-La-Liga-Stats  round-robin  \n",
      "32  /en/comps/12/1991-1992/1991-1992-La-Liga-Stats  round-robin  \n",
      "33  /en/comps/12/1990-1991/1990-1991-La-Liga-Stats  round-robin  \n",
      "34  /en/comps/12/1989-1990/1989-1990-La-Liga-Stats  round-robin  \n",
      "35  /en/comps/12/1988-1989/1988-1989-La-Liga-Stats  round-robin  ]\n",
      "I want to check for fb\n",
      "/en/comps/12/La-Liga-Stats\n",
      "FBurl is  :  https://fbref.com/en/comps/12/La-Liga-Stats\n",
      "I want to check for ws as well\n",
      "/Regions/206/Tournaments/4/Seasons/9682/Spain-LaLiga\n"
     ]
    }
   ],
   "source": [
    "x = \"\"\n",
    "for le in leagues:\n",
    "    print(\"League is :\",le)\n",
    "    fb = sd.FBref(leagues=le, seasons=season)\n",
    "    ws = sd.WhoScored(leagues=le, seasons=season)\n",
    "    # fm_sch = config.getFotMobSeasonFixture(league,season_name)\n",
    "    if not fb.read_schedule().empty and not ws.read_schedule().empty:\n",
    "        x+= \" \" \n",
    "        x+= str(le)"
   ]
  },
  {
   "cell_type": "code",
   "execution_count": null,
   "id": "926583ca-f6cc-4a67-acd2-95baba58c8f3",
   "metadata": {},
   "outputs": [],
   "source": [
    "# ws.available_leagues(),fb.available_leagues()"
   ]
  },
  {
   "cell_type": "code",
   "execution_count": null,
   "id": "4d5c032a-87ad-497c-a30e-c821cccd1154",
   "metadata": {},
   "outputs": [],
   "source": [
    "# fb_sch = fb.read_schedule()\n",
    "# ws_sch = ws.read_schedule()"
   ]
  },
  {
   "cell_type": "code",
   "execution_count": null,
   "id": "a6a1f28b-422b-43c2-b5f2-0c3798669bdd",
   "metadata": {},
   "outputs": [],
   "source": [
    "# fb_sch.head(3)"
   ]
  },
  {
   "cell_type": "code",
   "execution_count": null,
   "id": "bada8922-2261-45eb-86b4-fd7eeecc8fcc",
   "metadata": {},
   "outputs": [],
   "source": [
    "# ws_sch"
   ]
  },
  {
   "cell_type": "code",
   "execution_count": 21,
   "id": "3c87a142-ee9d-4c01-a811-77e1c03ca8f7",
   "metadata": {},
   "outputs": [
    {
     "data": {
      "text/html": [
       "<div>\n",
       "<style scoped>\n",
       "    .dataframe tbody tr th:only-of-type {\n",
       "        vertical-align: middle;\n",
       "    }\n",
       "\n",
       "    .dataframe tbody tr th {\n",
       "        vertical-align: top;\n",
       "    }\n",
       "\n",
       "    .dataframe thead th {\n",
       "        text-align: right;\n",
       "    }\n",
       "</style>\n",
       "<table border=\"1\" class=\"dataframe\">\n",
       "  <thead>\n",
       "    <tr style=\"text-align: right;\">\n",
       "      <th></th>\n",
       "      <th>id</th>\n",
       "      <th>url</th>\n",
       "      <th>home_team</th>\n",
       "      <th>away_team</th>\n",
       "      <th>utcTime</th>\n",
       "    </tr>\n",
       "  </thead>\n",
       "  <tbody>\n",
       "    <tr>\n",
       "      <th>0</th>\n",
       "      <td>4193450</td>\n",
       "      <td>/matches/burnley-vs-manchester-city/2ai7j8#419...</td>\n",
       "      <td>Burnley</td>\n",
       "      <td>Man City</td>\n",
       "      <td>2023-08-11T19:00:00.000Z</td>\n",
       "    </tr>\n",
       "    <tr>\n",
       "      <th>1</th>\n",
       "      <td>4193451</td>\n",
       "      <td>/matches/arsenal-vs-nottingham-forest/3bf4p3#4...</td>\n",
       "      <td>Arsenal</td>\n",
       "      <td>Nottm Forest</td>\n",
       "      <td>2023-08-12T12:00:00.000Z</td>\n",
       "    </tr>\n",
       "    <tr>\n",
       "      <th>2</th>\n",
       "      <td>4193452</td>\n",
       "      <td>/matches/west-ham-united-vs-afc-bournemouth/2h...</td>\n",
       "      <td>Bournemouth</td>\n",
       "      <td>West Ham</td>\n",
       "      <td>2023-08-12T14:00:00.000Z</td>\n",
       "    </tr>\n",
       "    <tr>\n",
       "      <th>3</th>\n",
       "      <td>4193453</td>\n",
       "      <td>/matches/luton-town-vs-brighton-hove-albion/2u...</td>\n",
       "      <td>Brighton</td>\n",
       "      <td>Luton</td>\n",
       "      <td>2023-08-12T14:00:00.000Z</td>\n",
       "    </tr>\n",
       "    <tr>\n",
       "      <th>4</th>\n",
       "      <td>4193454</td>\n",
       "      <td>/matches/everton-vs-fulham/2uevfp#4193454</td>\n",
       "      <td>Everton</td>\n",
       "      <td>Fulham</td>\n",
       "      <td>2023-08-12T14:00:00.000Z</td>\n",
       "    </tr>\n",
       "  </tbody>\n",
       "</table>\n",
       "</div>"
      ],
      "text/plain": [
       "        id                                                url    home_team  \\\n",
       "0  4193450  /matches/burnley-vs-manchester-city/2ai7j8#419...      Burnley   \n",
       "1  4193451  /matches/arsenal-vs-nottingham-forest/3bf4p3#4...      Arsenal   \n",
       "2  4193452  /matches/west-ham-united-vs-afc-bournemouth/2h...  Bournemouth   \n",
       "3  4193453  /matches/luton-town-vs-brighton-hove-albion/2u...     Brighton   \n",
       "4  4193454          /matches/everton-vs-fulham/2uevfp#4193454      Everton   \n",
       "\n",
       "      away_team                   utcTime  \n",
       "0      Man City  2023-08-11T19:00:00.000Z  \n",
       "1  Nottm Forest  2023-08-12T12:00:00.000Z  \n",
       "2      West Ham  2023-08-12T14:00:00.000Z  \n",
       "3         Luton  2023-08-12T14:00:00.000Z  \n",
       "4        Fulham  2023-08-12T14:00:00.000Z  "
      ]
     },
     "execution_count": 21,
     "metadata": {},
     "output_type": "execute_result"
    }
   ],
   "source": [
    "# fm_sch.head()"
   ]
  },
  {
   "cell_type": "code",
   "execution_count": 6,
   "id": "a5e7954d-cd62-4321-8508-a968f1a773ce",
   "metadata": {},
   "outputs": [],
   "source": [
    "df = pd.read_excel(r\"D:\\Visual Analysis\\analysis-notebooks\\Notebooks\\interm.xlsx\")"
   ]
  },
  {
   "cell_type": "code",
   "execution_count": null,
   "id": "f78fb8c6-ef72-4c4b-a797-d8ed9be4aa54",
   "metadata": {},
   "outputs": [],
   "source": []
  }
 ],
 "metadata": {
  "kernelspec": {
   "display_name": "Python 3 (ipykernel)",
   "language": "python",
   "name": "python3"
  },
  "language_info": {
   "codemirror_mode": {
    "name": "ipython",
    "version": 3
   },
   "file_extension": ".py",
   "mimetype": "text/x-python",
   "name": "python",
   "nbconvert_exporter": "python",
   "pygments_lexer": "ipython3",
   "version": "3.10.11"
  }
 },
 "nbformat": 4,
 "nbformat_minor": 5
}
