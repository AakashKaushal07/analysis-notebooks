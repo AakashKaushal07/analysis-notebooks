{
 "cells": [
  {
   "cell_type": "code",
   "execution_count": 14,
   "id": "47fbf79d-d8c1-4898-b698-9d857b159c6a",
   "metadata": {},
   "outputs": [],
   "source": [
    "import sql_connector\n",
    "import pandas as pd"
   ]
  },
  {
   "cell_type": "code",
   "execution_count": 28,
   "id": "1b54b659-8eee-4cf5-b3bd-19f491070603",
   "metadata": {},
   "outputs": [],
   "source": [
    "df = pd.read_csv(r\"D:\\Visual Analysis\\analysis-notebooks\\Notebooks\\General Utilities\\combined_sch\\all_merged_2.csv\")"
   ]
  },
  {
   "cell_type": "code",
   "execution_count": 16,
   "id": "8f12dcd4-f288-405c-9750-aa2939abccd1",
   "metadata": {},
   "outputs": [],
   "source": [
    "df['date'] = pd.to_datetime(df['date'],format = 'mixed')\n",
    "# Format the date_column to yyyy-mm-dd\n",
    "df['date'] = df['date'].dt.strftime('%Y-%m-%d')"
   ]
  },
  {
   "cell_type": "code",
   "execution_count": 41,
   "id": "6d9856b0-a659-4de5-869a-d48a11772c79",
   "metadata": {},
   "outputs": [
    {
     "data": {
      "text/plain": [
       "'(competition,season,stage,date,home_team,away_team,score,whoscored_id,whoscored_url,fbref_id,fbref_url,fotmob_id,fotmob_url)'"
      ]
     },
     "execution_count": 41,
     "metadata": {},
     "output_type": "execute_result"
    }
   ],
   "source": [
    "col_str = \"(\"+\",\".join(list(df.columns))+\")\"\n",
    "col_str"
   ]
  },
  {
   "cell_type": "code",
   "execution_count": 18,
   "id": "53eb1888-4bf7-45ae-998f-8c1a14b86a3f",
   "metadata": {},
   "outputs": [],
   "source": [
    "err_ind = []"
   ]
  },
  {
   "cell_type": "code",
   "execution_count": 42,
   "id": "5d66d153-d72b-4919-b061-b4c971de53a5",
   "metadata": {},
   "outputs": [],
   "source": [
    "def insert_to_db(col_str,df) :\n",
    "    for i,x in df.iterrows():\n",
    "        val = \"('\"+\"','\".join(map(str, x))+\"')\"\n",
    "        insert_query = f'INSERT INTO match_schedule {col_str} VALUES {val}'\n",
    "        insert_query.replace('nan','Regular League')\n",
    "        try:\n",
    "            sql_connector.execute_insert_query(insert_query)\n",
    "            print(\"Done Query No : \",i+1)\n",
    "        except Exception as e:\n",
    "            err_ind.append((i,str(e)))\n",
    "        # break"
   ]
  },
  {
   "cell_type": "code",
   "execution_count": 30,
   "id": "7054816c-d04e-44cb-a2e5-48660aba76d4",
   "metadata": {},
   "outputs": [
    {
     "name": "stdout",
     "output_type": "stream",
     "text": [
      "ENG-Premier League : 31-12-2023\n",
      "ESP-La Liga : 31-12-2022\n",
      "Eredivisie : 31-10-2021\n",
      "FRA-Ligue 1 : 31-10-2021\n",
      "GER-Bundesliga : 31-10-2021\n",
      "ITA-Serie A : 31-10-2022\n",
      "Primeira_Liga : 31-10-2022\n",
      "Pro_League : 31-10-2021\n",
      "UCL : 31-10-2017\n",
      "UEL : 31-05-2023\n"
     ]
    }
   ],
   "source": [
    "for x in l :\n",
    "    p = df[df['competition'] == x]\n",
    "    print(x,':',max(p['date']))"
   ]
  },
  {
   "cell_type": "code",
   "execution_count": 31,
   "id": "eeb69586-8f1e-44fc-908d-d9bedf02ca56",
   "metadata": {},
   "outputs": [
    {
     "data": {
      "text/plain": [
       "'\\nENG-Premier League  :  2024-03-17\\nESP-La Liga  :  2024-03-17\\nEredivisie  :  2024-03-17\\nFRA-Ligue 1  :  2024-03-17\\nGER-Bundesliga  :  2024-03-17\\nITA-Serie A  :  2024-03-17\\nPrimeira_Liga  :  2024-03-17\\nPro_League  :  2024-03-30\\nUCL  :  2024-03-13\\nUEL  :  2024-03-14\\n'"
      ]
     },
     "execution_count": 31,
     "metadata": {},
     "output_type": "execute_result"
    }
   ],
   "source": [
    "\"\"\"\n",
    "ENG-Premier League  :  2024-03-17\n",
    "ESP-La Liga  :  2024-03-17\n",
    "Eredivisie  :  2024-03-17\n",
    "FRA-Ligue 1  :  2024-03-17\n",
    "GER-Bundesliga  :  2024-03-17\n",
    "ITA-Serie A  :  2024-03-17\n",
    "Primeira_Liga  :  2024-03-17\n",
    "Pro_League  :  2024-03-30\n",
    "UCL  :  2024-03-13\n",
    "UEL  :  2024-03-14\n",
    "\"\"\""
   ]
  },
  {
   "cell_type": "code",
   "execution_count": 34,
   "id": "6c4e1553-bed8-4fd8-8601-d4d82996fd6d",
   "metadata": {},
   "outputs": [],
   "source": [
    "import os\n",
    "\n",
    "def fetch_csv_files(folder_path):\n",
    "    csv_files = []\n",
    "    # List all files in the folder\n",
    "    for file in os.listdir(folder_path):\n",
    "        # Check if the file has a .csv extension\n",
    "        if file.endswith(\".csv\"):\n",
    "            csv_files.append(os.path.join(folder_path, file))\n",
    "    return csv_files\n",
    "\n",
    "# Replace 'folder_path' with the path to your folder containing CSV files\n",
    "folder_path = \"./combined_sch\"\n",
    "csv_files = fetch_csv_files(folder_path)\n"
   ]
  },
  {
   "cell_type": "code",
   "execution_count": 44,
   "id": "69693727-40bc-4c11-8097-00682901493e",
   "metadata": {},
   "outputs": [
    {
     "name": "stdout",
     "output_type": "stream",
     "text": [
      "Index(['Unnamed: 0', 'competition', 'season', 'stage', 'date', 'home_team',\n",
      "       'away_team', 'score', 'whoscored_id', 'whoscored_url', 'fbref_id',\n",
      "       'fbref_url', 'fotmob_id', 'fotmob_url'],\n",
      "      dtype='object')\n"
     ]
    }
   ],
   "source": [
    "for f in csv_files:\n",
    "    q = pd.read_csv(f)\n",
    "    q = q.drop('Unnamed: 0', axis=1)\n",
    "    print(q.columns)\n",
    "    # insert_to_db(col_str,q)\n",
    "    break"
   ]
  },
  {
   "cell_type": "code",
   "execution_count": null,
   "id": "95b0fb8b-925e-4d26-b48e-596e71f098e1",
   "metadata": {},
   "outputs": [],
   "source": [
    "for"
   ]
  }
 ],
 "metadata": {
  "kernelspec": {
   "display_name": "Python 3 (ipykernel)",
   "language": "python",
   "name": "python3"
  },
  "language_info": {
   "codemirror_mode": {
    "name": "ipython",
    "version": 3
   },
   "file_extension": ".py",
   "mimetype": "text/x-python",
   "name": "python",
   "nbconvert_exporter": "python",
   "pygments_lexer": "ipython3",
   "version": "3.10.11"
  }
 },
 "nbformat": 4,
 "nbformat_minor": 5
}
