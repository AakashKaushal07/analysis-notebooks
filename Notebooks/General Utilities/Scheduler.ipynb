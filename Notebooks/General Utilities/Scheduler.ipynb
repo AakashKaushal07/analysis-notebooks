{
 "cells": [
  {
   "cell_type": "markdown",
   "id": "74ce1b49-d931-49b3-a8ee-4d850d0d49f3",
   "metadata": {},
   "source": [
    "This is a scheduelr to incorporate new matches into the an excel file. \n",
    "The excel file would be reviewed and then added to db"
   ]
  },
  {
   "cell_type": "code",
   "execution_count": 2,
   "id": "1dbea1b4-54f7-436b-9f73-620896d5dbb1",
   "metadata": {},
   "outputs": [
    {
     "name": "stderr",
     "output_type": "stream",
     "text": [
      "C:\\Users\\Hp\\AppData\\Local\\Temp\\ipykernel_25952\\2121265208.py:1: DeprecationWarning: \n",
      "Pyarrow will become a required dependency of pandas in the next major release of pandas (pandas 3.0),\n",
      "(to allow more performant data types, such as the Arrow string type, and better interoperability with other libraries)\n",
      "but was not found to be installed on your system.\n",
      "If this would cause problems for you,\n",
      "please provide us feedback at https://github.com/pandas-dev/pandas/issues/54466\n",
      "        \n",
      "  import pandas as pd\n"
     ]
    },
    {
     "data": {
      "text/html": [
       "<pre style=\"white-space:pre;overflow-x:auto;line-height:normal;font-family:Menlo,'DejaVu Sans Mono',consolas,'Courier New',monospace\"><span style=\"color: #7fbfbf; text-decoration-color: #7fbfbf\">[05/13/24 02:37:21] </span><span style=\"color: #000080; text-decoration-color: #000080\">INFO    </span> Custom team name replacements loaded from                                <span style=\"color: #7f7f7f; text-decoration-color: #7f7f7f\">_config.py:82</span>\n",
       "<span style=\"color: #7fbfbf; text-decoration-color: #7fbfbf\">                    </span>         C:\\Users\\Hp\\soccerdata\\config\\teamname_replacements.json.                <span style=\"color: #7f7f7f; text-decoration-color: #7f7f7f\">             </span>\n",
       "</pre>\n"
      ],
      "text/plain": [
       "\u001b[2;36m[05/13/24 02:37:21]\u001b[0m\u001b[2;36m \u001b[0m\u001b[34mINFO    \u001b[0m Custom team name replacements loaded from                                \u001b[2m_config.py\u001b[0m\u001b[2m:\u001b[0m\u001b[2m82\u001b[0m\n",
       "\u001b[2;36m                    \u001b[0m         C:\\Users\\Hp\\soccerdata\\config\\teamname_replacements.json.                \u001b[2m             \u001b[0m\n"
      ]
     },
     "metadata": {},
     "output_type": "display_data"
    },
    {
     "data": {
      "text/html": [
       "<pre style=\"white-space:pre;overflow-x:auto;line-height:normal;font-family:Menlo,'DejaVu Sans Mono',consolas,'Courier New',monospace\"><span style=\"color: #7fbfbf; text-decoration-color: #7fbfbf\">                    </span><span style=\"color: #000080; text-decoration-color: #000080\">INFO    </span> No custom league dict found. You can configure additional leagues in    <span style=\"color: #7f7f7f; text-decoration-color: #7f7f7f\">_config.py:204</span>\n",
       "<span style=\"color: #7fbfbf; text-decoration-color: #7fbfbf\">                    </span>         C:\\Users\\Hp\\soccerdata\\config\\league_dict.json.                         <span style=\"color: #7f7f7f; text-decoration-color: #7f7f7f\">              </span>\n",
       "</pre>\n"
      ],
      "text/plain": [
       "\u001b[2;36m                   \u001b[0m\u001b[2;36m \u001b[0m\u001b[34mINFO    \u001b[0m No custom league dict found. You can configure additional leagues in    \u001b[2m_config.py\u001b[0m\u001b[2m:\u001b[0m\u001b[2m204\u001b[0m\n",
       "\u001b[2;36m                    \u001b[0m         C:\\Users\\Hp\\soccerdata\\config\\league_dict.json.                         \u001b[2m              \u001b[0m\n"
      ]
     },
     "metadata": {},
     "output_type": "display_data"
    },
    {
     "name": "stdout",
     "output_type": "stream",
     "text": [
      "Import Successful\n"
     ]
    }
   ],
   "source": [
    "import pandas as pd\n",
    "from datetime import datetime\n",
    "import config\n",
    "import soccerdata as sd\n",
    "import sql_connector\n",
    "import schedule_helper as SH"
   ]
  },
  {
   "cell_type": "code",
   "execution_count": 3,
   "id": "83b4c243-5826-4ba4-9830-a9153319fc3f",
   "metadata": {},
   "outputs": [],
   "source": [
    "FOTMOB_URL = config.getFotMobUrls()\n",
    "FOTMOB_LEAGUE = config.getFotMobLeagueDict()\n",
    "CONFIG = config.getGeneralConfig()"
   ]
  },
  {
   "cell_type": "code",
   "execution_count": 4,
   "id": "7e914579-84f9-482a-88f7-bc1f3683083e",
   "metadata": {},
   "outputs": [
    {
     "data": {
      "text/plain": [
       "{'ENG-Premier League': 47,\n",
       " 'ESP-La Liga': 87,\n",
       " 'ITA-Serie A': 55,\n",
       " 'GER-Bundesliga': 54,\n",
       " 'FRA-Ligue 1': 53,\n",
       " 'INT-World Cup': 77,\n",
       " 'UCL': 42,\n",
       " 'UEL': 73,\n",
       " 'UECL': 10216,\n",
       " 'Eredivisie': 57,\n",
       " 'Pro_League': 40,\n",
       " 'Primeira_Liga': 61}"
      ]
     },
     "execution_count": 4,
     "metadata": {},
     "output_type": "execute_result"
    }
   ],
   "source": [
    "FOTMOB_LEAGUE"
   ]
  },
  {
   "cell_type": "code",
   "execution_count": 5,
   "id": "4b2107b3-feb3-4be0-9350-d84b172b7f5c",
   "metadata": {},
   "outputs": [],
   "source": [
    "leagues = sorted(list(FOTMOB_LEAGUE))"
   ]
  },
  {
   "cell_type": "code",
   "execution_count": 6,
   "id": "1cc0152c-2a02-42d0-9be4-f46e562cc625",
   "metadata": {},
   "outputs": [],
   "source": [
    "def getCurrentSeasonName(dt):\n",
    "    month = dt.month\n",
    "    yr = dt.year\n",
    "    if month <=7 :\n",
    "        return f\"{(yr%2000)-1}-{yr%2000}\",(yr%2000)-1\n",
    "    else:\n",
    "        return f\"{yr%2000}-{(yr%2000)+1}\",(yr%2000)"
   ]
  },
  {
   "cell_type": "code",
   "execution_count": 7,
   "id": "cd588c09-5c31-4c45-a873-98fc3641639f",
   "metadata": {},
   "outputs": [
    {
     "data": {
      "text/plain": [
       "'23-24'"
      ]
     },
     "execution_count": 7,
     "metadata": {},
     "output_type": "execute_result"
    }
   ],
   "source": [
    "league = leagues[0]\n",
    "season,df_season = getCurrentSeasonName(datetime.now())\n",
    "season"
   ]
  },
  {
   "cell_type": "code",
   "execution_count": 8,
   "id": "d4ae2f92-f09c-4d94-a2ec-97a4ba434e89",
   "metadata": {},
   "outputs": [
    {
     "name": "stdout",
     "output_type": "stream",
     "text": [
      "Working for league  ENG-Premier League\n",
      "Working for league  ESP-La Liga\n",
      "Working for league  Eredivisie\n",
      "Working for league  FRA-Ligue 1\n",
      "Working for league  GER-Bundesliga\n",
      "Working for league  INT-World Cup\n",
      "Working for league  ITA-Serie A\n",
      "Working for league  Primeira_Liga\n",
      "Working for league  Pro_League\n",
      "Working for league  UCL\n",
      "Working for league  UECL\n",
      "Working for league  UEL\n"
     ]
    }
   ],
   "source": [
    "last_date_info = []\n",
    "for x in leagues :\n",
    "    print(\"Working for league \",x)\n",
    "    query = f\"\"\"\n",
    "    SELECT competition,MAX(date) as last_match_date from match_schedule\n",
    "    where competition = '{x}' AND season = '{season}'\n",
    "    \"\"\"\n",
    "    # if x == 'Eredivisie':\n",
    "    #     print(query)\n",
    "    #     print()\n",
    "    response = sql_connector.execute_select_query(query)[0]['last_match_date']\n",
    "    if response:\n",
    "        last_date_info.append({ x : response})\n"
   ]
  },
  {
   "cell_type": "code",
   "execution_count": 9,
   "id": "3a29518b-1f27-458a-b60b-2062759e2a89",
   "metadata": {},
   "outputs": [
    {
     "data": {
      "text/plain": [
       "[{'ENG-Premier League': datetime.date(2024, 5, 6)},\n",
       " {'ESP-La Liga': datetime.date(2024, 5, 10)},\n",
       " {'Eredivisie': datetime.date(2024, 5, 6)},\n",
       " {'FRA-Ligue 1': datetime.date(2024, 5, 10)},\n",
       " {'GER-Bundesliga': datetime.date(2024, 5, 10)},\n",
       " {'ITA-Serie A': datetime.date(2024, 5, 10)},\n",
       " {'Primeira_Liga': datetime.date(2024, 5, 10)},\n",
       " {'Pro_League': datetime.date(2024, 5, 5)},\n",
       " {'UCL': datetime.date(2024, 5, 8)},\n",
       " {'UEL': datetime.date(2024, 5, 9)}]"
      ]
     },
     "execution_count": 9,
     "metadata": {},
     "output_type": "execute_result"
    }
   ],
   "source": [
    "last_date_info"
   ]
  },
  {
   "cell_type": "code",
   "execution_count": 10,
   "id": "0886dd76-ba57-4843-be60-b4c92dfee379",
   "metadata": {},
   "outputs": [],
   "source": [
    "# item = last_date_info[-3:-2]\n",
    "# item"
   ]
  },
  {
   "cell_type": "code",
   "execution_count": 11,
   "id": "8a7aaa37-69e7-4223-9749-edb2a7a1d729",
   "metadata": {},
   "outputs": [],
   "source": [
    "def fetch_and_merge_current_season_dfs(league,current_season):\n",
    "    WS_df,FB_df,FM_df = SH.fetch_all_dfs_for_season_of_league(league, latest_season=current_season)\n",
    "    WS,FB,FM = SH.make_dfs_uniform(league,WS_df,FB_df,FM_df)\n",
    "    team_alias = SH.get_team_alias()\n",
    "    return SH.merge_and_save_df(league,WS,FB,FM,team_alias)\n",
    "# df = fetch_and_merge_current_season_dfs(p[0],df_season)"
   ]
  },
  {
   "cell_type": "code",
   "execution_count": 12,
   "id": "b9623d2b-9f8d-471a-9407-d9522782df37",
   "metadata": {
    "editable": true,
    "slideshow": {
     "slide_type": ""
    },
    "tags": []
   },
   "outputs": [],
   "source": [
    "def fetch_games_since_last(df,last_date,overall):\n",
    "    DF = df\n",
    "    DF['date'] = pd.to_datetime(DF['date']).dt.date\n",
    "    DF = DF[DF['date'] >= last_date]\n",
    "    col_str = \"(\"+\",\".join(list(DF.columns))+\")\"\n",
    "    queries = []\n",
    "    temp_d = DF\n",
    "    temp_d['date'] = temp_d['date'].apply(lambda x: x.strftime('%d-%b-%Y'))\n",
    "    temp_d = temp_d[['competition','home_team','away_team','score','date']]\n",
    "    ov_df = pd.conact([overall,temp_d])\n",
    "    for i,(ind,x) in enumerate(DF.iterrows()):\n",
    "        row = DF.iloc[i]\n",
    "        whoscored_url = row['whoscored_url']\n",
    "        fbref_url = row['fbref_url']\n",
    "        fotmob_url = row['fotmob_url']\n",
    "        \n",
    "        all_urls_present = bool(whoscored_url) and bool(fbref_url) and bool(fotmob_url)\n",
    "        \n",
    "        if all_urls_present :\n",
    "            value_str = \"('\"+\"','\".join(map(str, x))+\"')\"\n",
    "            q = f'INSERT INTO match_schedule {col_str} VALUES {value_str}'.replace('.0','')\n",
    "            queries.append((whoscored_url,fbref_url,fotmob_url,q))\n",
    "        else:\n",
    "            print(\"All IDs are not present : \",row['home_team'],row['away_team'],row['date'])\n",
    "            print(\"WS: \",bool(whoscored_url),\"FB: \",bool(fbref_url),\"FM: \",bool(fotmob_url))\n",
    "            print()\n",
    "    return queries,ov_df"
   ]
  },
  {
   "cell_type": "code",
   "execution_count": 14,
   "id": "a9e034da-12b0-4c59-b3fb-42995d48262d",
   "metadata": {
    "scrolled": true
   },
   "outputs": [
    {
     "data": {
      "text/html": [
       "<pre style=\"white-space:pre;overflow-x:auto;line-height:normal;font-family:Menlo,'DejaVu Sans Mono',consolas,'Courier New',monospace\"><span style=\"color: #7fbfbf; text-decoration-color: #7fbfbf\">[05/13/24 02:40:11] </span><span style=\"color: #000080; text-decoration-color: #000080\">INFO    </span> Saving cached data to C:\\Users\\Hp\\soccerdata\\data\\WhoScored              <span style=\"color: #7f7f7f; text-decoration-color: #7f7f7f\">_common.py:91</span>\n",
       "</pre>\n"
      ],
      "text/plain": [
       "\u001b[2;36m[05/13/24 02:40:11]\u001b[0m\u001b[2;36m \u001b[0m\u001b[34mINFO    \u001b[0m Saving cached data to C:\\Users\\Hp\\soccerdata\\data\\WhoScored              \u001b[2m_common.py\u001b[0m\u001b[2m:\u001b[0m\u001b[2m91\u001b[0m\n"
      ]
     },
     "metadata": {},
     "output_type": "display_data"
    },
    {
     "data": {
      "text/html": [
       "<pre style=\"white-space:pre;overflow-x:auto;line-height:normal;font-family:Menlo,'DejaVu Sans Mono',consolas,'Courier New',monospace\"><span style=\"color: #7fbfbf; text-decoration-color: #7fbfbf\">[05/13/24 02:40:17] </span><span style=\"color: #000080; text-decoration-color: #000080\">INFO    </span> patching driver executable                                              <span style=\"color: #7f7f7f; text-decoration-color: #7f7f7f\">patcher.py:346</span>\n",
       "<span style=\"color: #7fbfbf; text-decoration-color: #7fbfbf\">                    </span>         C:\\Users\\Hp\\appdata\\roaming\\undetected_chromedriver\\undetected_chromedr <span style=\"color: #7f7f7f; text-decoration-color: #7f7f7f\">              </span>\n",
       "<span style=\"color: #7fbfbf; text-decoration-color: #7fbfbf\">                    </span>         iver.exe                                                                <span style=\"color: #7f7f7f; text-decoration-color: #7f7f7f\">              </span>\n",
       "</pre>\n"
      ],
      "text/plain": [
       "\u001b[2;36m[05/13/24 02:40:17]\u001b[0m\u001b[2;36m \u001b[0m\u001b[34mINFO    \u001b[0m patching driver executable                                              \u001b[2mpatcher.py\u001b[0m\u001b[2m:\u001b[0m\u001b[2m346\u001b[0m\n",
       "\u001b[2;36m                    \u001b[0m         C:\\Users\\Hp\\appdata\\roaming\\undetected_chromedriver\\undetected_chromedr \u001b[2m              \u001b[0m\n",
       "\u001b[2;36m                    \u001b[0m         iver.exe                                                                \u001b[2m              \u001b[0m\n"
      ]
     },
     "metadata": {},
     "output_type": "display_data"
    },
    {
     "data": {
      "text/html": [
       "<pre style=\"white-space:pre;overflow-x:auto;line-height:normal;font-family:Menlo,'DejaVu Sans Mono',consolas,'Courier New',monospace\"><span style=\"color: #7fbfbf; text-decoration-color: #7fbfbf\">[05/13/24 02:40:20] </span><span style=\"color: #000080; text-decoration-color: #000080\">INFO    </span> Saving cached data to C:\\Users\\Hp\\soccerdata\\data\\FBref                  <span style=\"color: #7f7f7f; text-decoration-color: #7f7f7f\">_common.py:91</span>\n",
       "</pre>\n"
      ],
      "text/plain": [
       "\u001b[2;36m[05/13/24 02:40:20]\u001b[0m\u001b[2;36m \u001b[0m\u001b[34mINFO    \u001b[0m Saving cached data to C:\\Users\\Hp\\soccerdata\\data\\FBref                  \u001b[2m_common.py\u001b[0m\u001b[2m:\u001b[0m\u001b[2m91\u001b[0m\n"
      ]
     },
     "metadata": {},
     "output_type": "display_data"
    },
    {
     "data": {
      "text/html": [
       "<pre style=\"white-space:pre;overflow-x:auto;line-height:normal;font-family:Menlo,'DejaVu Sans Mono',consolas,'Courier New',monospace\"><span style=\"color: #7fbfbf; text-decoration-color: #7fbfbf\">[05/13/24 02:40:37] </span><span style=\"color: #000080; text-decoration-color: #000080\">INFO    </span> Scraping game schedule from                                           <span style=\"color: #7f7f7f; text-decoration-color: #7f7f7f\">whoscored.py:428</span>\n",
       "<span style=\"color: #7fbfbf; text-decoration-color: #7fbfbf\">                    </span>         <span style=\"color: #0000ff; text-decoration-color: #0000ff; text-decoration: underline\">https://www.whoscored.com/Regions/74/Tournaments/22/Seasons/9635/Fran</span> <span style=\"color: #7f7f7f; text-decoration-color: #7f7f7f\">                </span>\n",
       "<span style=\"color: #7fbfbf; text-decoration-color: #7fbfbf\">                    </span>         <span style=\"color: #0000ff; text-decoration-color: #0000ff; text-decoration: underline\">ce-Ligue-1</span>                                                            <span style=\"color: #7f7f7f; text-decoration-color: #7f7f7f\">                </span>\n",
       "</pre>\n"
      ],
      "text/plain": [
       "\u001b[2;36m[05/13/24 02:40:37]\u001b[0m\u001b[2;36m \u001b[0m\u001b[34mINFO    \u001b[0m Scraping game schedule from                                           \u001b[2mwhoscored.py\u001b[0m\u001b[2m:\u001b[0m\u001b[2m428\u001b[0m\n",
       "\u001b[2;36m                    \u001b[0m         \u001b[4;94mhttps://www.whoscored.com/Regions/74/Tournaments/22/Seasons/9635/Fran\u001b[0m \u001b[2m                \u001b[0m\n",
       "\u001b[2;36m                    \u001b[0m         \u001b[4;94mce-Ligue-1\u001b[0m                                                            \u001b[2m                \u001b[0m\n"
      ]
     },
     "metadata": {},
     "output_type": "display_data"
    },
    {
     "data": {
      "text/html": [
       "<pre style=\"white-space:pre;overflow-x:auto;line-height:normal;font-family:Menlo,'DejaVu Sans Mono',consolas,'Courier New',monospace\"><span style=\"color: #7fbfbf; text-decoration-color: #7fbfbf\">[05/13/24 02:40:38] </span><span style=\"color: #000080; text-decoration-color: #000080\">INFO    </span> Scraping game schedule for Ijumaa, Mei <span style=\"color: #008080; text-decoration-color: #008080; font-weight: bold\">3</span> <span style=\"color: #008080; text-decoration-color: #008080; font-weight: bold\">2024</span>                         <span style=\"color: #7f7f7f; text-decoration-color: #7f7f7f\">whoscored.py:327</span>\n",
       "</pre>\n"
      ],
      "text/plain": [
       "\u001b[2;36m[05/13/24 02:40:38]\u001b[0m\u001b[2;36m \u001b[0m\u001b[34mINFO    \u001b[0m Scraping game schedule for Ijumaa, Mei \u001b[1;36m3\u001b[0m \u001b[1;36m2024\u001b[0m                         \u001b[2mwhoscored.py\u001b[0m\u001b[2m:\u001b[0m\u001b[2m327\u001b[0m\n"
      ]
     },
     "metadata": {},
     "output_type": "display_data"
    },
    {
     "data": {
      "text/html": [
       "<pre style=\"white-space:pre;overflow-x:auto;line-height:normal;font-family:Menlo,'DejaVu Sans Mono',consolas,'Courier New',monospace\"><span style=\"color: #7fbfbf; text-decoration-color: #7fbfbf\">                    </span><span style=\"color: #000080; text-decoration-color: #000080\">INFO    </span> Scraping game schedule for Jumamosi, Mei <span style=\"color: #008080; text-decoration-color: #008080; font-weight: bold\">4</span> <span style=\"color: #008080; text-decoration-color: #008080; font-weight: bold\">2024</span>                       <span style=\"color: #7f7f7f; text-decoration-color: #7f7f7f\">whoscored.py:327</span>\n",
       "</pre>\n"
      ],
      "text/plain": [
       "\u001b[2;36m                   \u001b[0m\u001b[2;36m \u001b[0m\u001b[34mINFO    \u001b[0m Scraping game schedule for Jumamosi, Mei \u001b[1;36m4\u001b[0m \u001b[1;36m2024\u001b[0m                       \u001b[2mwhoscored.py\u001b[0m\u001b[2m:\u001b[0m\u001b[2m327\u001b[0m\n"
      ]
     },
     "metadata": {},
     "output_type": "display_data"
    },
    {
     "data": {
      "text/html": [
       "<pre style=\"white-space:pre;overflow-x:auto;line-height:normal;font-family:Menlo,'DejaVu Sans Mono',consolas,'Courier New',monospace\"><span style=\"color: #7fbfbf; text-decoration-color: #7fbfbf\">                    </span><span style=\"color: #000080; text-decoration-color: #000080\">INFO    </span> Scraping game schedule for Jumatatu, Mei <span style=\"color: #008080; text-decoration-color: #008080; font-weight: bold\">6</span> <span style=\"color: #008080; text-decoration-color: #008080; font-weight: bold\">2024</span>                       <span style=\"color: #7f7f7f; text-decoration-color: #7f7f7f\">whoscored.py:327</span>\n",
       "</pre>\n"
      ],
      "text/plain": [
       "\u001b[2;36m                   \u001b[0m\u001b[2;36m \u001b[0m\u001b[34mINFO    \u001b[0m Scraping game schedule for Jumatatu, Mei \u001b[1;36m6\u001b[0m \u001b[1;36m2024\u001b[0m                       \u001b[2mwhoscored.py\u001b[0m\u001b[2m:\u001b[0m\u001b[2m327\u001b[0m\n"
      ]
     },
     "metadata": {},
     "output_type": "display_data"
    },
    {
     "data": {
      "text/html": [
       "<pre style=\"white-space:pre;overflow-x:auto;line-height:normal;font-family:Menlo,'DejaVu Sans Mono',consolas,'Courier New',monospace\"><span style=\"color: #7fbfbf; text-decoration-color: #7fbfbf\">[05/13/24 02:40:39] </span><span style=\"color: #000080; text-decoration-color: #000080\">INFO    </span> Scraping game schedule for Ijumaa, Mei <span style=\"color: #008080; text-decoration-color: #008080; font-weight: bold\">10</span> <span style=\"color: #008080; text-decoration-color: #008080; font-weight: bold\">2024</span>                        <span style=\"color: #7f7f7f; text-decoration-color: #7f7f7f\">whoscored.py:327</span>\n",
       "</pre>\n"
      ],
      "text/plain": [
       "\u001b[2;36m[05/13/24 02:40:39]\u001b[0m\u001b[2;36m \u001b[0m\u001b[34mINFO    \u001b[0m Scraping game schedule for Ijumaa, Mei \u001b[1;36m10\u001b[0m \u001b[1;36m2024\u001b[0m                        \u001b[2mwhoscored.py\u001b[0m\u001b[2m:\u001b[0m\u001b[2m327\u001b[0m\n"
      ]
     },
     "metadata": {},
     "output_type": "display_data"
    },
    {
     "data": {
      "text/html": [
       "<pre style=\"white-space:pre;overflow-x:auto;line-height:normal;font-family:Menlo,'DejaVu Sans Mono',consolas,'Courier New',monospace\"><span style=\"color: #7fbfbf; text-decoration-color: #7fbfbf\">                    </span><span style=\"color: #000080; text-decoration-color: #000080\">INFO    </span> Scraping game schedule for Jumapili, Mei <span style=\"color: #008080; text-decoration-color: #008080; font-weight: bold\">12</span> <span style=\"color: #008080; text-decoration-color: #008080; font-weight: bold\">2024</span>                      <span style=\"color: #7f7f7f; text-decoration-color: #7f7f7f\">whoscored.py:327</span>\n",
       "</pre>\n"
      ],
      "text/plain": [
       "\u001b[2;36m                   \u001b[0m\u001b[2;36m \u001b[0m\u001b[34mINFO    \u001b[0m Scraping game schedule for Jumapili, Mei \u001b[1;36m12\u001b[0m \u001b[1;36m2024\u001b[0m                      \u001b[2mwhoscored.py\u001b[0m\u001b[2m:\u001b[0m\u001b[2m327\u001b[0m\n"
      ]
     },
     "metadata": {},
     "output_type": "display_data"
    },
    {
     "data": {
      "text/html": [
       "<pre style=\"white-space:pre;overflow-x:auto;line-height:normal;font-family:Menlo,'DejaVu Sans Mono',consolas,'Courier New',monospace\"><span style=\"color: #7fbfbf; text-decoration-color: #7fbfbf\">[05/13/24 02:40:40] </span><span style=\"color: #000080; text-decoration-color: #000080\">INFO    </span> Scraping game schedule for Jumatano, Mei <span style=\"color: #008080; text-decoration-color: #008080; font-weight: bold\">15</span> <span style=\"color: #008080; text-decoration-color: #008080; font-weight: bold\">2024</span>                      <span style=\"color: #7f7f7f; text-decoration-color: #7f7f7f\">whoscored.py:327</span>\n",
       "</pre>\n"
      ],
      "text/plain": [
       "\u001b[2;36m[05/13/24 02:40:40]\u001b[0m\u001b[2;36m \u001b[0m\u001b[34mINFO    \u001b[0m Scraping game schedule for Jumatano, Mei \u001b[1;36m15\u001b[0m \u001b[1;36m2024\u001b[0m                      \u001b[2mwhoscored.py\u001b[0m\u001b[2m:\u001b[0m\u001b[2m327\u001b[0m\n"
      ]
     },
     "metadata": {},
     "output_type": "display_data"
    },
    {
     "data": {
      "text/html": [
       "<pre style=\"white-space:pre;overflow-x:auto;line-height:normal;font-family:Menlo,'DejaVu Sans Mono',consolas,'Courier New',monospace\"><span style=\"color: #7fbfbf; text-decoration-color: #7fbfbf\">[05/13/24 02:40:41] </span><span style=\"color: #000080; text-decoration-color: #000080\">INFO    </span> Scraping game schedule for Jumapili, Mei <span style=\"color: #008080; text-decoration-color: #008080; font-weight: bold\">19</span> <span style=\"color: #008080; text-decoration-color: #008080; font-weight: bold\">2024</span>                      <span style=\"color: #7f7f7f; text-decoration-color: #7f7f7f\">whoscored.py:327</span>\n",
       "</pre>\n"
      ],
      "text/plain": [
       "\u001b[2;36m[05/13/24 02:40:41]\u001b[0m\u001b[2;36m \u001b[0m\u001b[34mINFO    \u001b[0m Scraping game schedule for Jumapili, Mei \u001b[1;36m19\u001b[0m \u001b[1;36m2024\u001b[0m                      \u001b[2mwhoscored.py\u001b[0m\u001b[2m:\u001b[0m\u001b[2m327\u001b[0m\n"
      ]
     },
     "metadata": {},
     "output_type": "display_data"
    },
    {
     "data": {
      "text/html": [
       "<pre style=\"white-space:pre;overflow-x:auto;line-height:normal;font-family:Menlo,'DejaVu Sans Mono',consolas,'Courier New',monospace\"><span style=\"color: #7fbfbf; text-decoration-color: #7fbfbf\">[05/13/24 02:40:47] </span><span style=\"color: #000080; text-decoration-color: #000080\">INFO    </span> Scraping game schedule for Ijumaa, Apr <span style=\"color: #008080; text-decoration-color: #008080; font-weight: bold\">5</span> <span style=\"color: #008080; text-decoration-color: #008080; font-weight: bold\">2024</span>                         <span style=\"color: #7f7f7f; text-decoration-color: #7f7f7f\">whoscored.py:327</span>\n",
       "</pre>\n"
      ],
      "text/plain": [
       "\u001b[2;36m[05/13/24 02:40:47]\u001b[0m\u001b[2;36m \u001b[0m\u001b[34mINFO    \u001b[0m Scraping game schedule for Ijumaa, Apr \u001b[1;36m5\u001b[0m \u001b[1;36m2024\u001b[0m                         \u001b[2mwhoscored.py\u001b[0m\u001b[2m:\u001b[0m\u001b[2m327\u001b[0m\n"
      ]
     },
     "metadata": {},
     "output_type": "display_data"
    },
    {
     "data": {
      "text/html": [
       "<pre style=\"white-space:pre;overflow-x:auto;line-height:normal;font-family:Menlo,'DejaVu Sans Mono',consolas,'Courier New',monospace\"><span style=\"color: #7fbfbf; text-decoration-color: #7fbfbf\">                    </span><span style=\"color: #000080; text-decoration-color: #000080\">INFO    </span> Scraping game schedule for Jumamosi, Apr <span style=\"color: #008080; text-decoration-color: #008080; font-weight: bold\">6</span> <span style=\"color: #008080; text-decoration-color: #008080; font-weight: bold\">2024</span>                       <span style=\"color: #7f7f7f; text-decoration-color: #7f7f7f\">whoscored.py:327</span>\n",
       "</pre>\n"
      ],
      "text/plain": [
       "\u001b[2;36m                   \u001b[0m\u001b[2;36m \u001b[0m\u001b[34mINFO    \u001b[0m Scraping game schedule for Jumamosi, Apr \u001b[1;36m6\u001b[0m \u001b[1;36m2024\u001b[0m                       \u001b[2mwhoscored.py\u001b[0m\u001b[2m:\u001b[0m\u001b[2m327\u001b[0m\n"
      ]
     },
     "metadata": {},
     "output_type": "display_data"
    },
    {
     "data": {
      "text/html": [
       "<pre style=\"white-space:pre;overflow-x:auto;line-height:normal;font-family:Menlo,'DejaVu Sans Mono',consolas,'Courier New',monospace\"><span style=\"color: #7fbfbf; text-decoration-color: #7fbfbf\">[05/13/24 02:40:48] </span><span style=\"color: #000080; text-decoration-color: #000080\">INFO    </span> Scraping game schedule for Jumapili, Apr <span style=\"color: #008080; text-decoration-color: #008080; font-weight: bold\">7</span> <span style=\"color: #008080; text-decoration-color: #008080; font-weight: bold\">2024</span>                       <span style=\"color: #7f7f7f; text-decoration-color: #7f7f7f\">whoscored.py:327</span>\n",
       "</pre>\n"
      ],
      "text/plain": [
       "\u001b[2;36m[05/13/24 02:40:48]\u001b[0m\u001b[2;36m \u001b[0m\u001b[34mINFO    \u001b[0m Scraping game schedule for Jumapili, Apr \u001b[1;36m7\u001b[0m \u001b[1;36m2024\u001b[0m                       \u001b[2mwhoscored.py\u001b[0m\u001b[2m:\u001b[0m\u001b[2m327\u001b[0m\n"
      ]
     },
     "metadata": {},
     "output_type": "display_data"
    },
    {
     "data": {
      "text/html": [
       "<pre style=\"white-space:pre;overflow-x:auto;line-height:normal;font-family:Menlo,'DejaVu Sans Mono',consolas,'Courier New',monospace\"><span style=\"color: #7fbfbf; text-decoration-color: #7fbfbf\">[05/13/24 02:40:49] </span><span style=\"color: #000080; text-decoration-color: #000080\">INFO    </span> Scraping game schedule for Ijumaa, Apr <span style=\"color: #008080; text-decoration-color: #008080; font-weight: bold\">12</span> <span style=\"color: #008080; text-decoration-color: #008080; font-weight: bold\">2024</span>                        <span style=\"color: #7f7f7f; text-decoration-color: #7f7f7f\">whoscored.py:327</span>\n",
       "</pre>\n"
      ],
      "text/plain": [
       "\u001b[2;36m[05/13/24 02:40:49]\u001b[0m\u001b[2;36m \u001b[0m\u001b[34mINFO    \u001b[0m Scraping game schedule for Ijumaa, Apr \u001b[1;36m12\u001b[0m \u001b[1;36m2024\u001b[0m                        \u001b[2mwhoscored.py\u001b[0m\u001b[2m:\u001b[0m\u001b[2m327\u001b[0m\n"
      ]
     },
     "metadata": {},
     "output_type": "display_data"
    },
    {
     "data": {
      "text/html": [
       "<pre style=\"white-space:pre;overflow-x:auto;line-height:normal;font-family:Menlo,'DejaVu Sans Mono',consolas,'Courier New',monospace\"><span style=\"color: #7fbfbf; text-decoration-color: #7fbfbf\">                    </span><span style=\"color: #000080; text-decoration-color: #000080\">INFO    </span> Scraping game schedule for Jumamosi, Apr <span style=\"color: #008080; text-decoration-color: #008080; font-weight: bold\">13</span> <span style=\"color: #008080; text-decoration-color: #008080; font-weight: bold\">2024</span>                      <span style=\"color: #7f7f7f; text-decoration-color: #7f7f7f\">whoscored.py:327</span>\n",
       "</pre>\n"
      ],
      "text/plain": [
       "\u001b[2;36m                   \u001b[0m\u001b[2;36m \u001b[0m\u001b[34mINFO    \u001b[0m Scraping game schedule for Jumamosi, Apr \u001b[1;36m13\u001b[0m \u001b[1;36m2024\u001b[0m                      \u001b[2mwhoscored.py\u001b[0m\u001b[2m:\u001b[0m\u001b[2m327\u001b[0m\n"
      ]
     },
     "metadata": {},
     "output_type": "display_data"
    },
    {
     "data": {
      "text/html": [
       "<pre style=\"white-space:pre;overflow-x:auto;line-height:normal;font-family:Menlo,'DejaVu Sans Mono',consolas,'Courier New',monospace\"><span style=\"color: #7fbfbf; text-decoration-color: #7fbfbf\">                    </span><span style=\"color: #000080; text-decoration-color: #000080\">INFO    </span> Scraping game schedule for Jumapili, Apr <span style=\"color: #008080; text-decoration-color: #008080; font-weight: bold\">14</span> <span style=\"color: #008080; text-decoration-color: #008080; font-weight: bold\">2024</span>                      <span style=\"color: #7f7f7f; text-decoration-color: #7f7f7f\">whoscored.py:327</span>\n",
       "</pre>\n"
      ],
      "text/plain": [
       "\u001b[2;36m                   \u001b[0m\u001b[2;36m \u001b[0m\u001b[34mINFO    \u001b[0m Scraping game schedule for Jumapili, Apr \u001b[1;36m14\u001b[0m \u001b[1;36m2024\u001b[0m                      \u001b[2mwhoscored.py\u001b[0m\u001b[2m:\u001b[0m\u001b[2m327\u001b[0m\n"
      ]
     },
     "metadata": {},
     "output_type": "display_data"
    },
    {
     "data": {
      "text/html": [
       "<pre style=\"white-space:pre;overflow-x:auto;line-height:normal;font-family:Menlo,'DejaVu Sans Mono',consolas,'Courier New',monospace\"><span style=\"color: #7fbfbf; text-decoration-color: #7fbfbf\">[05/13/24 02:40:50] </span><span style=\"color: #000080; text-decoration-color: #000080\">INFO    </span> Scraping game schedule for Ijumaa, Apr <span style=\"color: #008080; text-decoration-color: #008080; font-weight: bold\">19</span> <span style=\"color: #008080; text-decoration-color: #008080; font-weight: bold\">2024</span>                        <span style=\"color: #7f7f7f; text-decoration-color: #7f7f7f\">whoscored.py:327</span>\n",
       "</pre>\n"
      ],
      "text/plain": [
       "\u001b[2;36m[05/13/24 02:40:50]\u001b[0m\u001b[2;36m \u001b[0m\u001b[34mINFO    \u001b[0m Scraping game schedule for Ijumaa, Apr \u001b[1;36m19\u001b[0m \u001b[1;36m2024\u001b[0m                        \u001b[2mwhoscored.py\u001b[0m\u001b[2m:\u001b[0m\u001b[2m327\u001b[0m\n"
      ]
     },
     "metadata": {},
     "output_type": "display_data"
    },
    {
     "data": {
      "text/html": [
       "<pre style=\"white-space:pre;overflow-x:auto;line-height:normal;font-family:Menlo,'DejaVu Sans Mono',consolas,'Courier New',monospace\"><span style=\"color: #7fbfbf; text-decoration-color: #7fbfbf\">                    </span><span style=\"color: #000080; text-decoration-color: #000080\">INFO    </span> Scraping game schedule for Jumamosi, Apr <span style=\"color: #008080; text-decoration-color: #008080; font-weight: bold\">20</span> <span style=\"color: #008080; text-decoration-color: #008080; font-weight: bold\">2024</span>                      <span style=\"color: #7f7f7f; text-decoration-color: #7f7f7f\">whoscored.py:327</span>\n",
       "</pre>\n"
      ],
      "text/plain": [
       "\u001b[2;36m                   \u001b[0m\u001b[2;36m \u001b[0m\u001b[34mINFO    \u001b[0m Scraping game schedule for Jumamosi, Apr \u001b[1;36m20\u001b[0m \u001b[1;36m2024\u001b[0m                      \u001b[2mwhoscored.py\u001b[0m\u001b[2m:\u001b[0m\u001b[2m327\u001b[0m\n"
      ]
     },
     "metadata": {},
     "output_type": "display_data"
    },
    {
     "data": {
      "text/html": [
       "<pre style=\"white-space:pre;overflow-x:auto;line-height:normal;font-family:Menlo,'DejaVu Sans Mono',consolas,'Courier New',monospace\"><span style=\"color: #7fbfbf; text-decoration-color: #7fbfbf\">                    </span><span style=\"color: #000080; text-decoration-color: #000080\">INFO    </span> Scraping game schedule for Jumapili, Apr <span style=\"color: #008080; text-decoration-color: #008080; font-weight: bold\">21</span> <span style=\"color: #008080; text-decoration-color: #008080; font-weight: bold\">2024</span>                      <span style=\"color: #7f7f7f; text-decoration-color: #7f7f7f\">whoscored.py:327</span>\n",
       "</pre>\n"
      ],
      "text/plain": [
       "\u001b[2;36m                   \u001b[0m\u001b[2;36m \u001b[0m\u001b[34mINFO    \u001b[0m Scraping game schedule for Jumapili, Apr \u001b[1;36m21\u001b[0m \u001b[1;36m2024\u001b[0m                      \u001b[2mwhoscored.py\u001b[0m\u001b[2m:\u001b[0m\u001b[2m327\u001b[0m\n"
      ]
     },
     "metadata": {},
     "output_type": "display_data"
    },
    {
     "data": {
      "text/html": [
       "<pre style=\"white-space:pre;overflow-x:auto;line-height:normal;font-family:Menlo,'DejaVu Sans Mono',consolas,'Courier New',monospace\"><span style=\"color: #7fbfbf; text-decoration-color: #7fbfbf\">[05/13/24 02:40:51] </span><span style=\"color: #000080; text-decoration-color: #000080\">INFO    </span> Scraping game schedule for Jumatano, Apr <span style=\"color: #008080; text-decoration-color: #008080; font-weight: bold\">24</span> <span style=\"color: #008080; text-decoration-color: #008080; font-weight: bold\">2024</span>                      <span style=\"color: #7f7f7f; text-decoration-color: #7f7f7f\">whoscored.py:327</span>\n",
       "</pre>\n"
      ],
      "text/plain": [
       "\u001b[2;36m[05/13/24 02:40:51]\u001b[0m\u001b[2;36m \u001b[0m\u001b[34mINFO    \u001b[0m Scraping game schedule for Jumatano, Apr \u001b[1;36m24\u001b[0m \u001b[1;36m2024\u001b[0m                      \u001b[2mwhoscored.py\u001b[0m\u001b[2m:\u001b[0m\u001b[2m327\u001b[0m\n"
      ]
     },
     "metadata": {},
     "output_type": "display_data"
    },
    {
     "data": {
      "text/html": [
       "<pre style=\"white-space:pre;overflow-x:auto;line-height:normal;font-family:Menlo,'DejaVu Sans Mono',consolas,'Courier New',monospace\"><span style=\"color: #7fbfbf; text-decoration-color: #7fbfbf\">[05/13/24 02:40:52] </span><span style=\"color: #000080; text-decoration-color: #000080\">INFO    </span> Scraping game schedule for Ijumaa, Apr <span style=\"color: #008080; text-decoration-color: #008080; font-weight: bold\">26</span> <span style=\"color: #008080; text-decoration-color: #008080; font-weight: bold\">2024</span>                        <span style=\"color: #7f7f7f; text-decoration-color: #7f7f7f\">whoscored.py:327</span>\n",
       "</pre>\n"
      ],
      "text/plain": [
       "\u001b[2;36m[05/13/24 02:40:52]\u001b[0m\u001b[2;36m \u001b[0m\u001b[34mINFO    \u001b[0m Scraping game schedule for Ijumaa, Apr \u001b[1;36m26\u001b[0m \u001b[1;36m2024\u001b[0m                        \u001b[2mwhoscored.py\u001b[0m\u001b[2m:\u001b[0m\u001b[2m327\u001b[0m\n"
      ]
     },
     "metadata": {},
     "output_type": "display_data"
    },
    {
     "data": {
      "text/html": [
       "<pre style=\"white-space:pre;overflow-x:auto;line-height:normal;font-family:Menlo,'DejaVu Sans Mono',consolas,'Courier New',monospace\"><span style=\"color: #7fbfbf; text-decoration-color: #7fbfbf\">                    </span><span style=\"color: #000080; text-decoration-color: #000080\">INFO    </span> Scraping game schedule for Jumamosi, Apr <span style=\"color: #008080; text-decoration-color: #008080; font-weight: bold\">27</span> <span style=\"color: #008080; text-decoration-color: #008080; font-weight: bold\">2024</span>                      <span style=\"color: #7f7f7f; text-decoration-color: #7f7f7f\">whoscored.py:327</span>\n",
       "</pre>\n"
      ],
      "text/plain": [
       "\u001b[2;36m                   \u001b[0m\u001b[2;36m \u001b[0m\u001b[34mINFO    \u001b[0m Scraping game schedule for Jumamosi, Apr \u001b[1;36m27\u001b[0m \u001b[1;36m2024\u001b[0m                      \u001b[2mwhoscored.py\u001b[0m\u001b[2m:\u001b[0m\u001b[2m327\u001b[0m\n"
      ]
     },
     "metadata": {},
     "output_type": "display_data"
    },
    {
     "data": {
      "text/html": [
       "<pre style=\"white-space:pre;overflow-x:auto;line-height:normal;font-family:Menlo,'DejaVu Sans Mono',consolas,'Courier New',monospace\"><span style=\"color: #7fbfbf; text-decoration-color: #7fbfbf\">                    </span><span style=\"color: #000080; text-decoration-color: #000080\">INFO    </span> Scraping game schedule for Jumapili, Apr <span style=\"color: #008080; text-decoration-color: #008080; font-weight: bold\">28</span> <span style=\"color: #008080; text-decoration-color: #008080; font-weight: bold\">2024</span>                      <span style=\"color: #7f7f7f; text-decoration-color: #7f7f7f\">whoscored.py:327</span>\n",
       "</pre>\n"
      ],
      "text/plain": [
       "\u001b[2;36m                   \u001b[0m\u001b[2;36m \u001b[0m\u001b[34mINFO    \u001b[0m Scraping game schedule for Jumapili, Apr \u001b[1;36m28\u001b[0m \u001b[1;36m2024\u001b[0m                      \u001b[2mwhoscored.py\u001b[0m\u001b[2m:\u001b[0m\u001b[2m327\u001b[0m\n"
      ]
     },
     "metadata": {},
     "output_type": "display_data"
    },
    {
     "data": {
      "text/html": [
       "<pre style=\"white-space:pre;overflow-x:auto;line-height:normal;font-family:Menlo,'DejaVu Sans Mono',consolas,'Courier New',monospace\"><span style=\"color: #7fbfbf; text-decoration-color: #7fbfbf\">[05/13/24 02:40:58] </span><span style=\"color: #000080; text-decoration-color: #000080\">INFO    </span> Scraping game schedule for Ijumaa, Mac <span style=\"color: #008080; text-decoration-color: #008080; font-weight: bold\">1</span> <span style=\"color: #008080; text-decoration-color: #008080; font-weight: bold\">2024</span>                         <span style=\"color: #7f7f7f; text-decoration-color: #7f7f7f\">whoscored.py:327</span>\n",
       "</pre>\n"
      ],
      "text/plain": [
       "\u001b[2;36m[05/13/24 02:40:58]\u001b[0m\u001b[2;36m \u001b[0m\u001b[34mINFO    \u001b[0m Scraping game schedule for Ijumaa, Mac \u001b[1;36m1\u001b[0m \u001b[1;36m2024\u001b[0m                         \u001b[2mwhoscored.py\u001b[0m\u001b[2m:\u001b[0m\u001b[2m327\u001b[0m\n"
      ]
     },
     "metadata": {},
     "output_type": "display_data"
    },
    {
     "data": {
      "text/html": [
       "<pre style=\"white-space:pre;overflow-x:auto;line-height:normal;font-family:Menlo,'DejaVu Sans Mono',consolas,'Courier New',monospace\"><span style=\"color: #7fbfbf; text-decoration-color: #7fbfbf\">                    </span><span style=\"color: #000080; text-decoration-color: #000080\">INFO    </span> Scraping game schedule for Jumamosi, Mac <span style=\"color: #008080; text-decoration-color: #008080; font-weight: bold\">2</span> <span style=\"color: #008080; text-decoration-color: #008080; font-weight: bold\">2024</span>                       <span style=\"color: #7f7f7f; text-decoration-color: #7f7f7f\">whoscored.py:327</span>\n",
       "</pre>\n"
      ],
      "text/plain": [
       "\u001b[2;36m                   \u001b[0m\u001b[2;36m \u001b[0m\u001b[34mINFO    \u001b[0m Scraping game schedule for Jumamosi, Mac \u001b[1;36m2\u001b[0m \u001b[1;36m2024\u001b[0m                       \u001b[2mwhoscored.py\u001b[0m\u001b[2m:\u001b[0m\u001b[2m327\u001b[0m\n"
      ]
     },
     "metadata": {},
     "output_type": "display_data"
    },
    {
     "data": {
      "text/html": [
       "<pre style=\"white-space:pre;overflow-x:auto;line-height:normal;font-family:Menlo,'DejaVu Sans Mono',consolas,'Courier New',monospace\"><span style=\"color: #7fbfbf; text-decoration-color: #7fbfbf\">[05/13/24 02:40:59] </span><span style=\"color: #000080; text-decoration-color: #000080\">INFO    </span> Scraping game schedule for Jumapili, Mac <span style=\"color: #008080; text-decoration-color: #008080; font-weight: bold\">3</span> <span style=\"color: #008080; text-decoration-color: #008080; font-weight: bold\">2024</span>                       <span style=\"color: #7f7f7f; text-decoration-color: #7f7f7f\">whoscored.py:327</span>\n",
       "</pre>\n"
      ],
      "text/plain": [
       "\u001b[2;36m[05/13/24 02:40:59]\u001b[0m\u001b[2;36m \u001b[0m\u001b[34mINFO    \u001b[0m Scraping game schedule for Jumapili, Mac \u001b[1;36m3\u001b[0m \u001b[1;36m2024\u001b[0m                       \u001b[2mwhoscored.py\u001b[0m\u001b[2m:\u001b[0m\u001b[2m327\u001b[0m\n"
      ]
     },
     "metadata": {},
     "output_type": "display_data"
    },
    {
     "data": {
      "text/html": [
       "<pre style=\"white-space:pre;overflow-x:auto;line-height:normal;font-family:Menlo,'DejaVu Sans Mono',consolas,'Courier New',monospace\"><span style=\"color: #7fbfbf; text-decoration-color: #7fbfbf\">[05/13/24 02:41:02] </span><span style=\"color: #000080; text-decoration-color: #000080\">INFO    </span> Scraping game schedule for Ijumaa, Mac <span style=\"color: #008080; text-decoration-color: #008080; font-weight: bold\">8</span> <span style=\"color: #008080; text-decoration-color: #008080; font-weight: bold\">2024</span>                         <span style=\"color: #7f7f7f; text-decoration-color: #7f7f7f\">whoscored.py:327</span>\n",
       "</pre>\n"
      ],
      "text/plain": [
       "\u001b[2;36m[05/13/24 02:41:02]\u001b[0m\u001b[2;36m \u001b[0m\u001b[34mINFO    \u001b[0m Scraping game schedule for Ijumaa, Mac \u001b[1;36m8\u001b[0m \u001b[1;36m2024\u001b[0m                         \u001b[2mwhoscored.py\u001b[0m\u001b[2m:\u001b[0m\u001b[2m327\u001b[0m\n"
      ]
     },
     "metadata": {},
     "output_type": "display_data"
    },
    {
     "data": {
      "text/html": [
       "<pre style=\"white-space:pre;overflow-x:auto;line-height:normal;font-family:Menlo,'DejaVu Sans Mono',consolas,'Courier New',monospace\"><span style=\"color: #7fbfbf; text-decoration-color: #7fbfbf\">                    </span><span style=\"color: #000080; text-decoration-color: #000080\">INFO    </span> Scraping game schedule for Jumamosi, Mac <span style=\"color: #008080; text-decoration-color: #008080; font-weight: bold\">9</span> <span style=\"color: #008080; text-decoration-color: #008080; font-weight: bold\">2024</span>                       <span style=\"color: #7f7f7f; text-decoration-color: #7f7f7f\">whoscored.py:327</span>\n",
       "</pre>\n"
      ],
      "text/plain": [
       "\u001b[2;36m                   \u001b[0m\u001b[2;36m \u001b[0m\u001b[34mINFO    \u001b[0m Scraping game schedule for Jumamosi, Mac \u001b[1;36m9\u001b[0m \u001b[1;36m2024\u001b[0m                       \u001b[2mwhoscored.py\u001b[0m\u001b[2m:\u001b[0m\u001b[2m327\u001b[0m\n"
      ]
     },
     "metadata": {},
     "output_type": "display_data"
    },
    {
     "data": {
      "text/html": [
       "<pre style=\"white-space:pre;overflow-x:auto;line-height:normal;font-family:Menlo,'DejaVu Sans Mono',consolas,'Courier New',monospace\"><span style=\"color: #7fbfbf; text-decoration-color: #7fbfbf\">[05/13/24 02:41:03] </span><span style=\"color: #000080; text-decoration-color: #000080\">INFO    </span> Scraping game schedule for Jumapili, Mac <span style=\"color: #008080; text-decoration-color: #008080; font-weight: bold\">10</span> <span style=\"color: #008080; text-decoration-color: #008080; font-weight: bold\">2024</span>                      <span style=\"color: #7f7f7f; text-decoration-color: #7f7f7f\">whoscored.py:327</span>\n",
       "</pre>\n"
      ],
      "text/plain": [
       "\u001b[2;36m[05/13/24 02:41:03]\u001b[0m\u001b[2;36m \u001b[0m\u001b[34mINFO    \u001b[0m Scraping game schedule for Jumapili, Mac \u001b[1;36m10\u001b[0m \u001b[1;36m2024\u001b[0m                      \u001b[2mwhoscored.py\u001b[0m\u001b[2m:\u001b[0m\u001b[2m327\u001b[0m\n"
      ]
     },
     "metadata": {},
     "output_type": "display_data"
    },
    {
     "data": {
      "text/html": [
       "<pre style=\"white-space:pre;overflow-x:auto;line-height:normal;font-family:Menlo,'DejaVu Sans Mono',consolas,'Courier New',monospace\"><span style=\"color: #7fbfbf; text-decoration-color: #7fbfbf\">[05/13/24 02:41:05] </span><span style=\"color: #000080; text-decoration-color: #000080\">INFO    </span> Scraping game schedule for Ijumaa, Mac <span style=\"color: #008080; text-decoration-color: #008080; font-weight: bold\">15</span> <span style=\"color: #008080; text-decoration-color: #008080; font-weight: bold\">2024</span>                        <span style=\"color: #7f7f7f; text-decoration-color: #7f7f7f\">whoscored.py:327</span>\n",
       "</pre>\n"
      ],
      "text/plain": [
       "\u001b[2;36m[05/13/24 02:41:05]\u001b[0m\u001b[2;36m \u001b[0m\u001b[34mINFO    \u001b[0m Scraping game schedule for Ijumaa, Mac \u001b[1;36m15\u001b[0m \u001b[1;36m2024\u001b[0m                        \u001b[2mwhoscored.py\u001b[0m\u001b[2m:\u001b[0m\u001b[2m327\u001b[0m\n"
      ]
     },
     "metadata": {},
     "output_type": "display_data"
    },
    {
     "data": {
      "text/html": [
       "<pre style=\"white-space:pre;overflow-x:auto;line-height:normal;font-family:Menlo,'DejaVu Sans Mono',consolas,'Courier New',monospace\"><span style=\"color: #7fbfbf; text-decoration-color: #7fbfbf\">[05/13/24 02:41:06] </span><span style=\"color: #000080; text-decoration-color: #000080\">INFO    </span> Scraping game schedule for Jumamosi, Mac <span style=\"color: #008080; text-decoration-color: #008080; font-weight: bold\">16</span> <span style=\"color: #008080; text-decoration-color: #008080; font-weight: bold\">2024</span>                      <span style=\"color: #7f7f7f; text-decoration-color: #7f7f7f\">whoscored.py:327</span>\n",
       "</pre>\n"
      ],
      "text/plain": [
       "\u001b[2;36m[05/13/24 02:41:06]\u001b[0m\u001b[2;36m \u001b[0m\u001b[34mINFO    \u001b[0m Scraping game schedule for Jumamosi, Mac \u001b[1;36m16\u001b[0m \u001b[1;36m2024\u001b[0m                      \u001b[2mwhoscored.py\u001b[0m\u001b[2m:\u001b[0m\u001b[2m327\u001b[0m\n"
      ]
     },
     "metadata": {},
     "output_type": "display_data"
    },
    {
     "data": {
      "text/html": [
       "<pre style=\"white-space:pre;overflow-x:auto;line-height:normal;font-family:Menlo,'DejaVu Sans Mono',consolas,'Courier New',monospace\"><span style=\"color: #7fbfbf; text-decoration-color: #7fbfbf\">                    </span><span style=\"color: #000080; text-decoration-color: #000080\">INFO    </span> Scraping game schedule for Jumapili, Mac <span style=\"color: #008080; text-decoration-color: #008080; font-weight: bold\">17</span> <span style=\"color: #008080; text-decoration-color: #008080; font-weight: bold\">2024</span>                      <span style=\"color: #7f7f7f; text-decoration-color: #7f7f7f\">whoscored.py:327</span>\n",
       "</pre>\n"
      ],
      "text/plain": [
       "\u001b[2;36m                   \u001b[0m\u001b[2;36m \u001b[0m\u001b[34mINFO    \u001b[0m Scraping game schedule for Jumapili, Mac \u001b[1;36m17\u001b[0m \u001b[1;36m2024\u001b[0m                      \u001b[2mwhoscored.py\u001b[0m\u001b[2m:\u001b[0m\u001b[2m327\u001b[0m\n"
      ]
     },
     "metadata": {},
     "output_type": "display_data"
    },
    {
     "data": {
      "text/html": [
       "<pre style=\"white-space:pre;overflow-x:auto;line-height:normal;font-family:Menlo,'DejaVu Sans Mono',consolas,'Courier New',monospace\"><span style=\"color: #7fbfbf; text-decoration-color: #7fbfbf\">[05/13/24 02:41:07] </span><span style=\"color: #000080; text-decoration-color: #000080\">INFO    </span> Scraping game schedule for Ijumaa, Mac <span style=\"color: #008080; text-decoration-color: #008080; font-weight: bold\">29</span> <span style=\"color: #008080; text-decoration-color: #008080; font-weight: bold\">2024</span>                        <span style=\"color: #7f7f7f; text-decoration-color: #7f7f7f\">whoscored.py:327</span>\n",
       "</pre>\n"
      ],
      "text/plain": [
       "\u001b[2;36m[05/13/24 02:41:07]\u001b[0m\u001b[2;36m \u001b[0m\u001b[34mINFO    \u001b[0m Scraping game schedule for Ijumaa, Mac \u001b[1;36m29\u001b[0m \u001b[1;36m2024\u001b[0m                        \u001b[2mwhoscored.py\u001b[0m\u001b[2m:\u001b[0m\u001b[2m327\u001b[0m\n"
      ]
     },
     "metadata": {},
     "output_type": "display_data"
    },
    {
     "data": {
      "text/html": [
       "<pre style=\"white-space:pre;overflow-x:auto;line-height:normal;font-family:Menlo,'DejaVu Sans Mono',consolas,'Courier New',monospace\"><span style=\"color: #7fbfbf; text-decoration-color: #7fbfbf\">                    </span><span style=\"color: #000080; text-decoration-color: #000080\">INFO    </span> Scraping game schedule for Jumamosi, Mac <span style=\"color: #008080; text-decoration-color: #008080; font-weight: bold\">30</span> <span style=\"color: #008080; text-decoration-color: #008080; font-weight: bold\">2024</span>                      <span style=\"color: #7f7f7f; text-decoration-color: #7f7f7f\">whoscored.py:327</span>\n",
       "</pre>\n"
      ],
      "text/plain": [
       "\u001b[2;36m                   \u001b[0m\u001b[2;36m \u001b[0m\u001b[34mINFO    \u001b[0m Scraping game schedule for Jumamosi, Mac \u001b[1;36m30\u001b[0m \u001b[1;36m2024\u001b[0m                      \u001b[2mwhoscored.py\u001b[0m\u001b[2m:\u001b[0m\u001b[2m327\u001b[0m\n"
      ]
     },
     "metadata": {},
     "output_type": "display_data"
    },
    {
     "data": {
      "text/html": [
       "<pre style=\"white-space:pre;overflow-x:auto;line-height:normal;font-family:Menlo,'DejaVu Sans Mono',consolas,'Courier New',monospace\"><span style=\"color: #7fbfbf; text-decoration-color: #7fbfbf\">[05/13/24 02:41:08] </span><span style=\"color: #000080; text-decoration-color: #000080\">INFO    </span> Scraping game schedule for Jumapili, Mac <span style=\"color: #008080; text-decoration-color: #008080; font-weight: bold\">31</span> <span style=\"color: #008080; text-decoration-color: #008080; font-weight: bold\">2024</span>                      <span style=\"color: #7f7f7f; text-decoration-color: #7f7f7f\">whoscored.py:327</span>\n",
       "</pre>\n"
      ],
      "text/plain": [
       "\u001b[2;36m[05/13/24 02:41:08]\u001b[0m\u001b[2;36m \u001b[0m\u001b[34mINFO    \u001b[0m Scraping game schedule for Jumapili, Mac \u001b[1;36m31\u001b[0m \u001b[1;36m2024\u001b[0m                      \u001b[2mwhoscored.py\u001b[0m\u001b[2m:\u001b[0m\u001b[2m327\u001b[0m\n"
      ]
     },
     "metadata": {},
     "output_type": "display_data"
    },
    {
     "data": {
      "text/html": [
       "<pre style=\"white-space:pre;overflow-x:auto;line-height:normal;font-family:Menlo,'DejaVu Sans Mono',consolas,'Courier New',monospace\"><span style=\"color: #7fbfbf; text-decoration-color: #7fbfbf\">[05/13/24 02:41:14] </span><span style=\"color: #000080; text-decoration-color: #000080\">INFO    </span> Scraping game schedule for Ijumaa, Feb <span style=\"color: #008080; text-decoration-color: #008080; font-weight: bold\">2</span> <span style=\"color: #008080; text-decoration-color: #008080; font-weight: bold\">2024</span>                         <span style=\"color: #7f7f7f; text-decoration-color: #7f7f7f\">whoscored.py:327</span>\n",
       "</pre>\n"
      ],
      "text/plain": [
       "\u001b[2;36m[05/13/24 02:41:14]\u001b[0m\u001b[2;36m \u001b[0m\u001b[34mINFO    \u001b[0m Scraping game schedule for Ijumaa, Feb \u001b[1;36m2\u001b[0m \u001b[1;36m2024\u001b[0m                         \u001b[2mwhoscored.py\u001b[0m\u001b[2m:\u001b[0m\u001b[2m327\u001b[0m\n"
      ]
     },
     "metadata": {},
     "output_type": "display_data"
    },
    {
     "data": {
      "text/html": [
       "<pre style=\"white-space:pre;overflow-x:auto;line-height:normal;font-family:Menlo,'DejaVu Sans Mono',consolas,'Courier New',monospace\"><span style=\"color: #7fbfbf; text-decoration-color: #7fbfbf\">                    </span><span style=\"color: #000080; text-decoration-color: #000080\">INFO    </span> Scraping game schedule for Jumamosi, Feb <span style=\"color: #008080; text-decoration-color: #008080; font-weight: bold\">3</span> <span style=\"color: #008080; text-decoration-color: #008080; font-weight: bold\">2024</span>                       <span style=\"color: #7f7f7f; text-decoration-color: #7f7f7f\">whoscored.py:327</span>\n",
       "</pre>\n"
      ],
      "text/plain": [
       "\u001b[2;36m                   \u001b[0m\u001b[2;36m \u001b[0m\u001b[34mINFO    \u001b[0m Scraping game schedule for Jumamosi, Feb \u001b[1;36m3\u001b[0m \u001b[1;36m2024\u001b[0m                       \u001b[2mwhoscored.py\u001b[0m\u001b[2m:\u001b[0m\u001b[2m327\u001b[0m\n"
      ]
     },
     "metadata": {},
     "output_type": "display_data"
    },
    {
     "data": {
      "text/html": [
       "<pre style=\"white-space:pre;overflow-x:auto;line-height:normal;font-family:Menlo,'DejaVu Sans Mono',consolas,'Courier New',monospace\"><span style=\"color: #7fbfbf; text-decoration-color: #7fbfbf\">                    </span><span style=\"color: #000080; text-decoration-color: #000080\">INFO    </span> Scraping game schedule for Jumapili, Feb <span style=\"color: #008080; text-decoration-color: #008080; font-weight: bold\">4</span> <span style=\"color: #008080; text-decoration-color: #008080; font-weight: bold\">2024</span>                       <span style=\"color: #7f7f7f; text-decoration-color: #7f7f7f\">whoscored.py:327</span>\n",
       "</pre>\n"
      ],
      "text/plain": [
       "\u001b[2;36m                   \u001b[0m\u001b[2;36m \u001b[0m\u001b[34mINFO    \u001b[0m Scraping game schedule for Jumapili, Feb \u001b[1;36m4\u001b[0m \u001b[1;36m2024\u001b[0m                       \u001b[2mwhoscored.py\u001b[0m\u001b[2m:\u001b[0m\u001b[2m327\u001b[0m\n"
      ]
     },
     "metadata": {},
     "output_type": "display_data"
    },
    {
     "data": {
      "text/html": [
       "<pre style=\"white-space:pre;overflow-x:auto;line-height:normal;font-family:Menlo,'DejaVu Sans Mono',consolas,'Courier New',monospace\"><span style=\"color: #7fbfbf; text-decoration-color: #7fbfbf\">[05/13/24 02:41:15] </span><span style=\"color: #000080; text-decoration-color: #000080\">INFO    </span> Scraping game schedule for Ijumaa, Feb <span style=\"color: #008080; text-decoration-color: #008080; font-weight: bold\">9</span> <span style=\"color: #008080; text-decoration-color: #008080; font-weight: bold\">2024</span>                         <span style=\"color: #7f7f7f; text-decoration-color: #7f7f7f\">whoscored.py:327</span>\n",
       "</pre>\n"
      ],
      "text/plain": [
       "\u001b[2;36m[05/13/24 02:41:15]\u001b[0m\u001b[2;36m \u001b[0m\u001b[34mINFO    \u001b[0m Scraping game schedule for Ijumaa, Feb \u001b[1;36m9\u001b[0m \u001b[1;36m2024\u001b[0m                         \u001b[2mwhoscored.py\u001b[0m\u001b[2m:\u001b[0m\u001b[2m327\u001b[0m\n"
      ]
     },
     "metadata": {},
     "output_type": "display_data"
    },
    {
     "data": {
      "text/html": [
       "<pre style=\"white-space:pre;overflow-x:auto;line-height:normal;font-family:Menlo,'DejaVu Sans Mono',consolas,'Courier New',monospace\"><span style=\"color: #7fbfbf; text-decoration-color: #7fbfbf\">                    </span><span style=\"color: #000080; text-decoration-color: #000080\">INFO    </span> Scraping game schedule for Jumamosi, Feb <span style=\"color: #008080; text-decoration-color: #008080; font-weight: bold\">10</span> <span style=\"color: #008080; text-decoration-color: #008080; font-weight: bold\">2024</span>                      <span style=\"color: #7f7f7f; text-decoration-color: #7f7f7f\">whoscored.py:327</span>\n",
       "</pre>\n"
      ],
      "text/plain": [
       "\u001b[2;36m                   \u001b[0m\u001b[2;36m \u001b[0m\u001b[34mINFO    \u001b[0m Scraping game schedule for Jumamosi, Feb \u001b[1;36m10\u001b[0m \u001b[1;36m2024\u001b[0m                      \u001b[2mwhoscored.py\u001b[0m\u001b[2m:\u001b[0m\u001b[2m327\u001b[0m\n"
      ]
     },
     "metadata": {},
     "output_type": "display_data"
    },
    {
     "data": {
      "text/html": [
       "<pre style=\"white-space:pre;overflow-x:auto;line-height:normal;font-family:Menlo,'DejaVu Sans Mono',consolas,'Courier New',monospace\"><span style=\"color: #7fbfbf; text-decoration-color: #7fbfbf\">[05/13/24 02:41:16] </span><span style=\"color: #000080; text-decoration-color: #000080\">INFO    </span> Scraping game schedule for Jumapili, Feb <span style=\"color: #008080; text-decoration-color: #008080; font-weight: bold\">11</span> <span style=\"color: #008080; text-decoration-color: #008080; font-weight: bold\">2024</span>                      <span style=\"color: #7f7f7f; text-decoration-color: #7f7f7f\">whoscored.py:327</span>\n",
       "</pre>\n"
      ],
      "text/plain": [
       "\u001b[2;36m[05/13/24 02:41:16]\u001b[0m\u001b[2;36m \u001b[0m\u001b[34mINFO    \u001b[0m Scraping game schedule for Jumapili, Feb \u001b[1;36m11\u001b[0m \u001b[1;36m2024\u001b[0m                      \u001b[2mwhoscored.py\u001b[0m\u001b[2m:\u001b[0m\u001b[2m327\u001b[0m\n"
      ]
     },
     "metadata": {},
     "output_type": "display_data"
    },
    {
     "data": {
      "text/html": [
       "<pre style=\"white-space:pre;overflow-x:auto;line-height:normal;font-family:Menlo,'DejaVu Sans Mono',consolas,'Courier New',monospace\"><span style=\"color: #7fbfbf; text-decoration-color: #7fbfbf\">[05/13/24 02:41:17] </span><span style=\"color: #000080; text-decoration-color: #000080\">INFO    </span> Scraping game schedule for Ijumaa, Feb <span style=\"color: #008080; text-decoration-color: #008080; font-weight: bold\">16</span> <span style=\"color: #008080; text-decoration-color: #008080; font-weight: bold\">2024</span>                        <span style=\"color: #7f7f7f; text-decoration-color: #7f7f7f\">whoscored.py:327</span>\n",
       "</pre>\n"
      ],
      "text/plain": [
       "\u001b[2;36m[05/13/24 02:41:17]\u001b[0m\u001b[2;36m \u001b[0m\u001b[34mINFO    \u001b[0m Scraping game schedule for Ijumaa, Feb \u001b[1;36m16\u001b[0m \u001b[1;36m2024\u001b[0m                        \u001b[2mwhoscored.py\u001b[0m\u001b[2m:\u001b[0m\u001b[2m327\u001b[0m\n"
      ]
     },
     "metadata": {},
     "output_type": "display_data"
    },
    {
     "data": {
      "text/html": [
       "<pre style=\"white-space:pre;overflow-x:auto;line-height:normal;font-family:Menlo,'DejaVu Sans Mono',consolas,'Courier New',monospace\"><span style=\"color: #7fbfbf; text-decoration-color: #7fbfbf\">                    </span><span style=\"color: #000080; text-decoration-color: #000080\">INFO    </span> Scraping game schedule for Jumamosi, Feb <span style=\"color: #008080; text-decoration-color: #008080; font-weight: bold\">17</span> <span style=\"color: #008080; text-decoration-color: #008080; font-weight: bold\">2024</span>                      <span style=\"color: #7f7f7f; text-decoration-color: #7f7f7f\">whoscored.py:327</span>\n",
       "</pre>\n"
      ],
      "text/plain": [
       "\u001b[2;36m                   \u001b[0m\u001b[2;36m \u001b[0m\u001b[34mINFO    \u001b[0m Scraping game schedule for Jumamosi, Feb \u001b[1;36m17\u001b[0m \u001b[1;36m2024\u001b[0m                      \u001b[2mwhoscored.py\u001b[0m\u001b[2m:\u001b[0m\u001b[2m327\u001b[0m\n"
      ]
     },
     "metadata": {},
     "output_type": "display_data"
    },
    {
     "data": {
      "text/html": [
       "<pre style=\"white-space:pre;overflow-x:auto;line-height:normal;font-family:Menlo,'DejaVu Sans Mono',consolas,'Courier New',monospace\"><span style=\"color: #7fbfbf; text-decoration-color: #7fbfbf\">                    </span><span style=\"color: #000080; text-decoration-color: #000080\">INFO    </span> Scraping game schedule for Jumapili, Feb <span style=\"color: #008080; text-decoration-color: #008080; font-weight: bold\">18</span> <span style=\"color: #008080; text-decoration-color: #008080; font-weight: bold\">2024</span>                      <span style=\"color: #7f7f7f; text-decoration-color: #7f7f7f\">whoscored.py:327</span>\n",
       "</pre>\n"
      ],
      "text/plain": [
       "\u001b[2;36m                   \u001b[0m\u001b[2;36m \u001b[0m\u001b[34mINFO    \u001b[0m Scraping game schedule for Jumapili, Feb \u001b[1;36m18\u001b[0m \u001b[1;36m2024\u001b[0m                      \u001b[2mwhoscored.py\u001b[0m\u001b[2m:\u001b[0m\u001b[2m327\u001b[0m\n"
      ]
     },
     "metadata": {},
     "output_type": "display_data"
    },
    {
     "data": {
      "text/html": [
       "<pre style=\"white-space:pre;overflow-x:auto;line-height:normal;font-family:Menlo,'DejaVu Sans Mono',consolas,'Courier New',monospace\"><span style=\"color: #7fbfbf; text-decoration-color: #7fbfbf\">[05/13/24 02:41:18] </span><span style=\"color: #000080; text-decoration-color: #000080\">INFO    </span> Scraping game schedule for Ijumaa, Feb <span style=\"color: #008080; text-decoration-color: #008080; font-weight: bold\">23</span> <span style=\"color: #008080; text-decoration-color: #008080; font-weight: bold\">2024</span>                        <span style=\"color: #7f7f7f; text-decoration-color: #7f7f7f\">whoscored.py:327</span>\n",
       "</pre>\n"
      ],
      "text/plain": [
       "\u001b[2;36m[05/13/24 02:41:18]\u001b[0m\u001b[2;36m \u001b[0m\u001b[34mINFO    \u001b[0m Scraping game schedule for Ijumaa, Feb \u001b[1;36m23\u001b[0m \u001b[1;36m2024\u001b[0m                        \u001b[2mwhoscored.py\u001b[0m\u001b[2m:\u001b[0m\u001b[2m327\u001b[0m\n"
      ]
     },
     "metadata": {},
     "output_type": "display_data"
    },
    {
     "data": {
      "text/html": [
       "<pre style=\"white-space:pre;overflow-x:auto;line-height:normal;font-family:Menlo,'DejaVu Sans Mono',consolas,'Courier New',monospace\"><span style=\"color: #7fbfbf; text-decoration-color: #7fbfbf\">                    </span><span style=\"color: #000080; text-decoration-color: #000080\">INFO    </span> Scraping game schedule for Jumamosi, Feb <span style=\"color: #008080; text-decoration-color: #008080; font-weight: bold\">24</span> <span style=\"color: #008080; text-decoration-color: #008080; font-weight: bold\">2024</span>                      <span style=\"color: #7f7f7f; text-decoration-color: #7f7f7f\">whoscored.py:327</span>\n",
       "</pre>\n"
      ],
      "text/plain": [
       "\u001b[2;36m                   \u001b[0m\u001b[2;36m \u001b[0m\u001b[34mINFO    \u001b[0m Scraping game schedule for Jumamosi, Feb \u001b[1;36m24\u001b[0m \u001b[1;36m2024\u001b[0m                      \u001b[2mwhoscored.py\u001b[0m\u001b[2m:\u001b[0m\u001b[2m327\u001b[0m\n"
      ]
     },
     "metadata": {},
     "output_type": "display_data"
    },
    {
     "data": {
      "text/html": [
       "<pre style=\"white-space:pre;overflow-x:auto;line-height:normal;font-family:Menlo,'DejaVu Sans Mono',consolas,'Courier New',monospace\"><span style=\"color: #7fbfbf; text-decoration-color: #7fbfbf\">[05/13/24 02:41:19] </span><span style=\"color: #000080; text-decoration-color: #000080\">INFO    </span> Scraping game schedule for Jumapili, Feb <span style=\"color: #008080; text-decoration-color: #008080; font-weight: bold\">25</span> <span style=\"color: #008080; text-decoration-color: #008080; font-weight: bold\">2024</span>                      <span style=\"color: #7f7f7f; text-decoration-color: #7f7f7f\">whoscored.py:327</span>\n",
       "</pre>\n"
      ],
      "text/plain": [
       "\u001b[2;36m[05/13/24 02:41:19]\u001b[0m\u001b[2;36m \u001b[0m\u001b[34mINFO    \u001b[0m Scraping game schedule for Jumapili, Feb \u001b[1;36m25\u001b[0m \u001b[1;36m2024\u001b[0m                      \u001b[2mwhoscored.py\u001b[0m\u001b[2m:\u001b[0m\u001b[2m327\u001b[0m\n"
      ]
     },
     "metadata": {},
     "output_type": "display_data"
    },
    {
     "data": {
      "text/html": [
       "<pre style=\"white-space:pre;overflow-x:auto;line-height:normal;font-family:Menlo,'DejaVu Sans Mono',consolas,'Courier New',monospace\"><span style=\"color: #7fbfbf; text-decoration-color: #7fbfbf\">[05/13/24 02:41:25] </span><span style=\"color: #000080; text-decoration-color: #000080\">INFO    </span> Scraping game schedule for Ijumaa, Jan <span style=\"color: #008080; text-decoration-color: #008080; font-weight: bold\">12</span> <span style=\"color: #008080; text-decoration-color: #008080; font-weight: bold\">2024</span>                        <span style=\"color: #7f7f7f; text-decoration-color: #7f7f7f\">whoscored.py:327</span>\n",
       "</pre>\n"
      ],
      "text/plain": [
       "\u001b[2;36m[05/13/24 02:41:25]\u001b[0m\u001b[2;36m \u001b[0m\u001b[34mINFO    \u001b[0m Scraping game schedule for Ijumaa, Jan \u001b[1;36m12\u001b[0m \u001b[1;36m2024\u001b[0m                        \u001b[2mwhoscored.py\u001b[0m\u001b[2m:\u001b[0m\u001b[2m327\u001b[0m\n"
      ]
     },
     "metadata": {},
     "output_type": "display_data"
    },
    {
     "data": {
      "text/html": [
       "<pre style=\"white-space:pre;overflow-x:auto;line-height:normal;font-family:Menlo,'DejaVu Sans Mono',consolas,'Courier New',monospace\"><span style=\"color: #7fbfbf; text-decoration-color: #7fbfbf\">                    </span><span style=\"color: #000080; text-decoration-color: #000080\">INFO    </span> Scraping game schedule for Jumamosi, Jan <span style=\"color: #008080; text-decoration-color: #008080; font-weight: bold\">13</span> <span style=\"color: #008080; text-decoration-color: #008080; font-weight: bold\">2024</span>                      <span style=\"color: #7f7f7f; text-decoration-color: #7f7f7f\">whoscored.py:327</span>\n",
       "</pre>\n"
      ],
      "text/plain": [
       "\u001b[2;36m                   \u001b[0m\u001b[2;36m \u001b[0m\u001b[34mINFO    \u001b[0m Scraping game schedule for Jumamosi, Jan \u001b[1;36m13\u001b[0m \u001b[1;36m2024\u001b[0m                      \u001b[2mwhoscored.py\u001b[0m\u001b[2m:\u001b[0m\u001b[2m327\u001b[0m\n"
      ]
     },
     "metadata": {},
     "output_type": "display_data"
    },
    {
     "data": {
      "text/html": [
       "<pre style=\"white-space:pre;overflow-x:auto;line-height:normal;font-family:Menlo,'DejaVu Sans Mono',consolas,'Courier New',monospace\"><span style=\"color: #7fbfbf; text-decoration-color: #7fbfbf\">                    </span><span style=\"color: #000080; text-decoration-color: #000080\">INFO    </span> Scraping game schedule for Jumapili, Jan <span style=\"color: #008080; text-decoration-color: #008080; font-weight: bold\">14</span> <span style=\"color: #008080; text-decoration-color: #008080; font-weight: bold\">2024</span>                      <span style=\"color: #7f7f7f; text-decoration-color: #7f7f7f\">whoscored.py:327</span>\n",
       "</pre>\n"
      ],
      "text/plain": [
       "\u001b[2;36m                   \u001b[0m\u001b[2;36m \u001b[0m\u001b[34mINFO    \u001b[0m Scraping game schedule for Jumapili, Jan \u001b[1;36m14\u001b[0m \u001b[1;36m2024\u001b[0m                      \u001b[2mwhoscored.py\u001b[0m\u001b[2m:\u001b[0m\u001b[2m327\u001b[0m\n"
      ]
     },
     "metadata": {},
     "output_type": "display_data"
    },
    {
     "data": {
      "text/html": [
       "<pre style=\"white-space:pre;overflow-x:auto;line-height:normal;font-family:Menlo,'DejaVu Sans Mono',consolas,'Courier New',monospace\"><span style=\"color: #7fbfbf; text-decoration-color: #7fbfbf\">[05/13/24 02:41:26] </span><span style=\"color: #000080; text-decoration-color: #000080\">INFO    </span> Scraping game schedule for Ijumaa, Jan <span style=\"color: #008080; text-decoration-color: #008080; font-weight: bold\">26</span> <span style=\"color: #008080; text-decoration-color: #008080; font-weight: bold\">2024</span>                        <span style=\"color: #7f7f7f; text-decoration-color: #7f7f7f\">whoscored.py:327</span>\n",
       "</pre>\n"
      ],
      "text/plain": [
       "\u001b[2;36m[05/13/24 02:41:26]\u001b[0m\u001b[2;36m \u001b[0m\u001b[34mINFO    \u001b[0m Scraping game schedule for Ijumaa, Jan \u001b[1;36m26\u001b[0m \u001b[1;36m2024\u001b[0m                        \u001b[2mwhoscored.py\u001b[0m\u001b[2m:\u001b[0m\u001b[2m327\u001b[0m\n"
      ]
     },
     "metadata": {},
     "output_type": "display_data"
    },
    {
     "data": {
      "text/html": [
       "<pre style=\"white-space:pre;overflow-x:auto;line-height:normal;font-family:Menlo,'DejaVu Sans Mono',consolas,'Courier New',monospace\"><span style=\"color: #7fbfbf; text-decoration-color: #7fbfbf\">                    </span><span style=\"color: #000080; text-decoration-color: #000080\">INFO    </span> Scraping game schedule for Jumamosi, Jan <span style=\"color: #008080; text-decoration-color: #008080; font-weight: bold\">27</span> <span style=\"color: #008080; text-decoration-color: #008080; font-weight: bold\">2024</span>                      <span style=\"color: #7f7f7f; text-decoration-color: #7f7f7f\">whoscored.py:327</span>\n",
       "</pre>\n"
      ],
      "text/plain": [
       "\u001b[2;36m                   \u001b[0m\u001b[2;36m \u001b[0m\u001b[34mINFO    \u001b[0m Scraping game schedule for Jumamosi, Jan \u001b[1;36m27\u001b[0m \u001b[1;36m2024\u001b[0m                      \u001b[2mwhoscored.py\u001b[0m\u001b[2m:\u001b[0m\u001b[2m327\u001b[0m\n"
      ]
     },
     "metadata": {},
     "output_type": "display_data"
    },
    {
     "data": {
      "text/html": [
       "<pre style=\"white-space:pre;overflow-x:auto;line-height:normal;font-family:Menlo,'DejaVu Sans Mono',consolas,'Courier New',monospace\"><span style=\"color: #7fbfbf; text-decoration-color: #7fbfbf\">[05/13/24 02:41:27] </span><span style=\"color: #000080; text-decoration-color: #000080\">INFO    </span> Scraping game schedule for Jumapili, Jan <span style=\"color: #008080; text-decoration-color: #008080; font-weight: bold\">28</span> <span style=\"color: #008080; text-decoration-color: #008080; font-weight: bold\">2024</span>                      <span style=\"color: #7f7f7f; text-decoration-color: #7f7f7f\">whoscored.py:327</span>\n",
       "</pre>\n"
      ],
      "text/plain": [
       "\u001b[2;36m[05/13/24 02:41:27]\u001b[0m\u001b[2;36m \u001b[0m\u001b[34mINFO    \u001b[0m Scraping game schedule for Jumapili, Jan \u001b[1;36m28\u001b[0m \u001b[1;36m2024\u001b[0m                      \u001b[2mwhoscored.py\u001b[0m\u001b[2m:\u001b[0m\u001b[2m327\u001b[0m\n"
      ]
     },
     "metadata": {},
     "output_type": "display_data"
    },
    {
     "data": {
      "text/html": [
       "<pre style=\"white-space:pre;overflow-x:auto;line-height:normal;font-family:Menlo,'DejaVu Sans Mono',consolas,'Courier New',monospace\"><span style=\"color: #7fbfbf; text-decoration-color: #7fbfbf\">[05/13/24 02:41:33] </span><span style=\"color: #000080; text-decoration-color: #000080\">INFO    </span> Scraping game schedule for Ijumaa, Des <span style=\"color: #008080; text-decoration-color: #008080; font-weight: bold\">1</span> <span style=\"color: #008080; text-decoration-color: #008080; font-weight: bold\">2023</span>                         <span style=\"color: #7f7f7f; text-decoration-color: #7f7f7f\">whoscored.py:327</span>\n",
       "</pre>\n"
      ],
      "text/plain": [
       "\u001b[2;36m[05/13/24 02:41:33]\u001b[0m\u001b[2;36m \u001b[0m\u001b[34mINFO    \u001b[0m Scraping game schedule for Ijumaa, Des \u001b[1;36m1\u001b[0m \u001b[1;36m2023\u001b[0m                         \u001b[2mwhoscored.py\u001b[0m\u001b[2m:\u001b[0m\u001b[2m327\u001b[0m\n"
      ]
     },
     "metadata": {},
     "output_type": "display_data"
    },
    {
     "data": {
      "text/html": [
       "<pre style=\"white-space:pre;overflow-x:auto;line-height:normal;font-family:Menlo,'DejaVu Sans Mono',consolas,'Courier New',monospace\"><span style=\"color: #7fbfbf; text-decoration-color: #7fbfbf\">                    </span><span style=\"color: #000080; text-decoration-color: #000080\">INFO    </span> Scraping game schedule for Jumamosi, Des <span style=\"color: #008080; text-decoration-color: #008080; font-weight: bold\">2</span> <span style=\"color: #008080; text-decoration-color: #008080; font-weight: bold\">2023</span>                       <span style=\"color: #7f7f7f; text-decoration-color: #7f7f7f\">whoscored.py:327</span>\n",
       "</pre>\n"
      ],
      "text/plain": [
       "\u001b[2;36m                   \u001b[0m\u001b[2;36m \u001b[0m\u001b[34mINFO    \u001b[0m Scraping game schedule for Jumamosi, Des \u001b[1;36m2\u001b[0m \u001b[1;36m2023\u001b[0m                       \u001b[2mwhoscored.py\u001b[0m\u001b[2m:\u001b[0m\u001b[2m327\u001b[0m\n"
      ]
     },
     "metadata": {},
     "output_type": "display_data"
    },
    {
     "data": {
      "text/html": [
       "<pre style=\"white-space:pre;overflow-x:auto;line-height:normal;font-family:Menlo,'DejaVu Sans Mono',consolas,'Courier New',monospace\"><span style=\"color: #7fbfbf; text-decoration-color: #7fbfbf\">                    </span><span style=\"color: #000080; text-decoration-color: #000080\">INFO    </span> Scraping game schedule for Jumapili, Des <span style=\"color: #008080; text-decoration-color: #008080; font-weight: bold\">3</span> <span style=\"color: #008080; text-decoration-color: #008080; font-weight: bold\">2023</span>                       <span style=\"color: #7f7f7f; text-decoration-color: #7f7f7f\">whoscored.py:327</span>\n",
       "</pre>\n"
      ],
      "text/plain": [
       "\u001b[2;36m                   \u001b[0m\u001b[2;36m \u001b[0m\u001b[34mINFO    \u001b[0m Scraping game schedule for Jumapili, Des \u001b[1;36m3\u001b[0m \u001b[1;36m2023\u001b[0m                       \u001b[2mwhoscored.py\u001b[0m\u001b[2m:\u001b[0m\u001b[2m327\u001b[0m\n"
      ]
     },
     "metadata": {},
     "output_type": "display_data"
    },
    {
     "data": {
      "text/html": [
       "<pre style=\"white-space:pre;overflow-x:auto;line-height:normal;font-family:Menlo,'DejaVu Sans Mono',consolas,'Courier New',monospace\"><span style=\"color: #7fbfbf; text-decoration-color: #7fbfbf\">[05/13/24 02:41:34] </span><span style=\"color: #000080; text-decoration-color: #000080\">INFO    </span> Scraping game schedule for Jumatano, Des <span style=\"color: #008080; text-decoration-color: #008080; font-weight: bold\">6</span> <span style=\"color: #008080; text-decoration-color: #008080; font-weight: bold\">2023</span>                       <span style=\"color: #7f7f7f; text-decoration-color: #7f7f7f\">whoscored.py:327</span>\n",
       "</pre>\n"
      ],
      "text/plain": [
       "\u001b[2;36m[05/13/24 02:41:34]\u001b[0m\u001b[2;36m \u001b[0m\u001b[34mINFO    \u001b[0m Scraping game schedule for Jumatano, Des \u001b[1;36m6\u001b[0m \u001b[1;36m2023\u001b[0m                       \u001b[2mwhoscored.py\u001b[0m\u001b[2m:\u001b[0m\u001b[2m327\u001b[0m\n"
      ]
     },
     "metadata": {},
     "output_type": "display_data"
    },
    {
     "data": {
      "text/html": [
       "<pre style=\"white-space:pre;overflow-x:auto;line-height:normal;font-family:Menlo,'DejaVu Sans Mono',consolas,'Courier New',monospace\"><span style=\"color: #7fbfbf; text-decoration-color: #7fbfbf\">                    </span><span style=\"color: #000080; text-decoration-color: #000080\">INFO    </span> Scraping game schedule for Alhamisi, Des <span style=\"color: #008080; text-decoration-color: #008080; font-weight: bold\">7</span> <span style=\"color: #008080; text-decoration-color: #008080; font-weight: bold\">2023</span>                       <span style=\"color: #7f7f7f; text-decoration-color: #7f7f7f\">whoscored.py:327</span>\n",
       "</pre>\n"
      ],
      "text/plain": [
       "\u001b[2;36m                   \u001b[0m\u001b[2;36m \u001b[0m\u001b[34mINFO    \u001b[0m Scraping game schedule for Alhamisi, Des \u001b[1;36m7\u001b[0m \u001b[1;36m2023\u001b[0m                       \u001b[2mwhoscored.py\u001b[0m\u001b[2m:\u001b[0m\u001b[2m327\u001b[0m\n"
      ]
     },
     "metadata": {},
     "output_type": "display_data"
    },
    {
     "data": {
      "text/html": [
       "<pre style=\"white-space:pre;overflow-x:auto;line-height:normal;font-family:Menlo,'DejaVu Sans Mono',consolas,'Courier New',monospace\"><span style=\"color: #7fbfbf; text-decoration-color: #7fbfbf\">                    </span><span style=\"color: #000080; text-decoration-color: #000080\">INFO    </span> Scraping game schedule for Ijumaa, Des <span style=\"color: #008080; text-decoration-color: #008080; font-weight: bold\">8</span> <span style=\"color: #008080; text-decoration-color: #008080; font-weight: bold\">2023</span>                         <span style=\"color: #7f7f7f; text-decoration-color: #7f7f7f\">whoscored.py:327</span>\n",
       "</pre>\n"
      ],
      "text/plain": [
       "\u001b[2;36m                   \u001b[0m\u001b[2;36m \u001b[0m\u001b[34mINFO    \u001b[0m Scraping game schedule for Ijumaa, Des \u001b[1;36m8\u001b[0m \u001b[1;36m2023\u001b[0m                         \u001b[2mwhoscored.py\u001b[0m\u001b[2m:\u001b[0m\u001b[2m327\u001b[0m\n"
      ]
     },
     "metadata": {},
     "output_type": "display_data"
    },
    {
     "data": {
      "text/html": [
       "<pre style=\"white-space:pre;overflow-x:auto;line-height:normal;font-family:Menlo,'DejaVu Sans Mono',consolas,'Courier New',monospace\"><span style=\"color: #7fbfbf; text-decoration-color: #7fbfbf\">[05/13/24 02:41:35] </span><span style=\"color: #000080; text-decoration-color: #000080\">INFO    </span> Scraping game schedule for Jumamosi, Des <span style=\"color: #008080; text-decoration-color: #008080; font-weight: bold\">9</span> <span style=\"color: #008080; text-decoration-color: #008080; font-weight: bold\">2023</span>                       <span style=\"color: #7f7f7f; text-decoration-color: #7f7f7f\">whoscored.py:327</span>\n",
       "</pre>\n"
      ],
      "text/plain": [
       "\u001b[2;36m[05/13/24 02:41:35]\u001b[0m\u001b[2;36m \u001b[0m\u001b[34mINFO    \u001b[0m Scraping game schedule for Jumamosi, Des \u001b[1;36m9\u001b[0m \u001b[1;36m2023\u001b[0m                       \u001b[2mwhoscored.py\u001b[0m\u001b[2m:\u001b[0m\u001b[2m327\u001b[0m\n"
      ]
     },
     "metadata": {},
     "output_type": "display_data"
    },
    {
     "data": {
      "text/html": [
       "<pre style=\"white-space:pre;overflow-x:auto;line-height:normal;font-family:Menlo,'DejaVu Sans Mono',consolas,'Courier New',monospace\"><span style=\"color: #7fbfbf; text-decoration-color: #7fbfbf\">                    </span><span style=\"color: #000080; text-decoration-color: #000080\">INFO    </span> Scraping game schedule for Jumapili, Des <span style=\"color: #008080; text-decoration-color: #008080; font-weight: bold\">10</span> <span style=\"color: #008080; text-decoration-color: #008080; font-weight: bold\">2023</span>                      <span style=\"color: #7f7f7f; text-decoration-color: #7f7f7f\">whoscored.py:327</span>\n",
       "</pre>\n"
      ],
      "text/plain": [
       "\u001b[2;36m                   \u001b[0m\u001b[2;36m \u001b[0m\u001b[34mINFO    \u001b[0m Scraping game schedule for Jumapili, Des \u001b[1;36m10\u001b[0m \u001b[1;36m2023\u001b[0m                      \u001b[2mwhoscored.py\u001b[0m\u001b[2m:\u001b[0m\u001b[2m327\u001b[0m\n"
      ]
     },
     "metadata": {},
     "output_type": "display_data"
    },
    {
     "data": {
      "text/html": [
       "<pre style=\"white-space:pre;overflow-x:auto;line-height:normal;font-family:Menlo,'DejaVu Sans Mono',consolas,'Courier New',monospace\"><span style=\"color: #7fbfbf; text-decoration-color: #7fbfbf\">[05/13/24 02:41:36] </span><span style=\"color: #000080; text-decoration-color: #000080\">INFO    </span> Scraping game schedule for Ijumaa, Des <span style=\"color: #008080; text-decoration-color: #008080; font-weight: bold\">15</span> <span style=\"color: #008080; text-decoration-color: #008080; font-weight: bold\">2023</span>                        <span style=\"color: #7f7f7f; text-decoration-color: #7f7f7f\">whoscored.py:327</span>\n",
       "</pre>\n"
      ],
      "text/plain": [
       "\u001b[2;36m[05/13/24 02:41:36]\u001b[0m\u001b[2;36m \u001b[0m\u001b[34mINFO    \u001b[0m Scraping game schedule for Ijumaa, Des \u001b[1;36m15\u001b[0m \u001b[1;36m2023\u001b[0m                        \u001b[2mwhoscored.py\u001b[0m\u001b[2m:\u001b[0m\u001b[2m327\u001b[0m\n"
      ]
     },
     "metadata": {},
     "output_type": "display_data"
    },
    {
     "data": {
      "text/html": [
       "<pre style=\"white-space:pre;overflow-x:auto;line-height:normal;font-family:Menlo,'DejaVu Sans Mono',consolas,'Courier New',monospace\"><span style=\"color: #7fbfbf; text-decoration-color: #7fbfbf\">                    </span><span style=\"color: #000080; text-decoration-color: #000080\">INFO    </span> Scraping game schedule for Jumamosi, Des <span style=\"color: #008080; text-decoration-color: #008080; font-weight: bold\">16</span> <span style=\"color: #008080; text-decoration-color: #008080; font-weight: bold\">2023</span>                      <span style=\"color: #7f7f7f; text-decoration-color: #7f7f7f\">whoscored.py:327</span>\n",
       "</pre>\n"
      ],
      "text/plain": [
       "\u001b[2;36m                   \u001b[0m\u001b[2;36m \u001b[0m\u001b[34mINFO    \u001b[0m Scraping game schedule for Jumamosi, Des \u001b[1;36m16\u001b[0m \u001b[1;36m2023\u001b[0m                      \u001b[2mwhoscored.py\u001b[0m\u001b[2m:\u001b[0m\u001b[2m327\u001b[0m\n"
      ]
     },
     "metadata": {},
     "output_type": "display_data"
    },
    {
     "data": {
      "text/html": [
       "<pre style=\"white-space:pre;overflow-x:auto;line-height:normal;font-family:Menlo,'DejaVu Sans Mono',consolas,'Courier New',monospace\"><span style=\"color: #7fbfbf; text-decoration-color: #7fbfbf\">                    </span><span style=\"color: #000080; text-decoration-color: #000080\">INFO    </span> Scraping game schedule for Jumapili, Des <span style=\"color: #008080; text-decoration-color: #008080; font-weight: bold\">17</span> <span style=\"color: #008080; text-decoration-color: #008080; font-weight: bold\">2023</span>                      <span style=\"color: #7f7f7f; text-decoration-color: #7f7f7f\">whoscored.py:327</span>\n",
       "</pre>\n"
      ],
      "text/plain": [
       "\u001b[2;36m                   \u001b[0m\u001b[2;36m \u001b[0m\u001b[34mINFO    \u001b[0m Scraping game schedule for Jumapili, Des \u001b[1;36m17\u001b[0m \u001b[1;36m2023\u001b[0m                      \u001b[2mwhoscored.py\u001b[0m\u001b[2m:\u001b[0m\u001b[2m327\u001b[0m\n"
      ]
     },
     "metadata": {},
     "output_type": "display_data"
    },
    {
     "data": {
      "text/html": [
       "<pre style=\"white-space:pre;overflow-x:auto;line-height:normal;font-family:Menlo,'DejaVu Sans Mono',consolas,'Courier New',monospace\"><span style=\"color: #7fbfbf; text-decoration-color: #7fbfbf\">[05/13/24 02:41:37] </span><span style=\"color: #000080; text-decoration-color: #000080\">INFO    </span> Scraping game schedule for Jumatano, Des <span style=\"color: #008080; text-decoration-color: #008080; font-weight: bold\">20</span> <span style=\"color: #008080; text-decoration-color: #008080; font-weight: bold\">2023</span>                      <span style=\"color: #7f7f7f; text-decoration-color: #7f7f7f\">whoscored.py:327</span>\n",
       "</pre>\n"
      ],
      "text/plain": [
       "\u001b[2;36m[05/13/24 02:41:37]\u001b[0m\u001b[2;36m \u001b[0m\u001b[34mINFO    \u001b[0m Scraping game schedule for Jumatano, Des \u001b[1;36m20\u001b[0m \u001b[1;36m2023\u001b[0m                      \u001b[2mwhoscored.py\u001b[0m\u001b[2m:\u001b[0m\u001b[2m327\u001b[0m\n"
      ]
     },
     "metadata": {},
     "output_type": "display_data"
    },
    {
     "data": {
      "text/html": [
       "<pre style=\"white-space:pre;overflow-x:auto;line-height:normal;font-family:Menlo,'DejaVu Sans Mono',consolas,'Courier New',monospace\"><span style=\"color: #7fbfbf; text-decoration-color: #7fbfbf\">[05/13/24 02:41:44] </span><span style=\"color: #000080; text-decoration-color: #000080\">INFO    </span> Scraping game schedule for Ijumaa, Nov <span style=\"color: #008080; text-decoration-color: #008080; font-weight: bold\">3</span> <span style=\"color: #008080; text-decoration-color: #008080; font-weight: bold\">2023</span>                         <span style=\"color: #7f7f7f; text-decoration-color: #7f7f7f\">whoscored.py:327</span>\n",
       "</pre>\n"
      ],
      "text/plain": [
       "\u001b[2;36m[05/13/24 02:41:44]\u001b[0m\u001b[2;36m \u001b[0m\u001b[34mINFO    \u001b[0m Scraping game schedule for Ijumaa, Nov \u001b[1;36m3\u001b[0m \u001b[1;36m2023\u001b[0m                         \u001b[2mwhoscored.py\u001b[0m\u001b[2m:\u001b[0m\u001b[2m327\u001b[0m\n"
      ]
     },
     "metadata": {},
     "output_type": "display_data"
    },
    {
     "data": {
      "text/html": [
       "<pre style=\"white-space:pre;overflow-x:auto;line-height:normal;font-family:Menlo,'DejaVu Sans Mono',consolas,'Courier New',monospace\"><span style=\"color: #7fbfbf; text-decoration-color: #7fbfbf\">                    </span><span style=\"color: #000080; text-decoration-color: #000080\">INFO    </span> Scraping game schedule for Jumamosi, Nov <span style=\"color: #008080; text-decoration-color: #008080; font-weight: bold\">4</span> <span style=\"color: #008080; text-decoration-color: #008080; font-weight: bold\">2023</span>                       <span style=\"color: #7f7f7f; text-decoration-color: #7f7f7f\">whoscored.py:327</span>\n",
       "</pre>\n"
      ],
      "text/plain": [
       "\u001b[2;36m                   \u001b[0m\u001b[2;36m \u001b[0m\u001b[34mINFO    \u001b[0m Scraping game schedule for Jumamosi, Nov \u001b[1;36m4\u001b[0m \u001b[1;36m2023\u001b[0m                       \u001b[2mwhoscored.py\u001b[0m\u001b[2m:\u001b[0m\u001b[2m327\u001b[0m\n"
      ]
     },
     "metadata": {},
     "output_type": "display_data"
    },
    {
     "data": {
      "text/html": [
       "<pre style=\"white-space:pre;overflow-x:auto;line-height:normal;font-family:Menlo,'DejaVu Sans Mono',consolas,'Courier New',monospace\"><span style=\"color: #7fbfbf; text-decoration-color: #7fbfbf\">                    </span><span style=\"color: #000080; text-decoration-color: #000080\">INFO    </span> Scraping game schedule for Jumapili, Nov <span style=\"color: #008080; text-decoration-color: #008080; font-weight: bold\">5</span> <span style=\"color: #008080; text-decoration-color: #008080; font-weight: bold\">2023</span>                       <span style=\"color: #7f7f7f; text-decoration-color: #7f7f7f\">whoscored.py:327</span>\n",
       "</pre>\n"
      ],
      "text/plain": [
       "\u001b[2;36m                   \u001b[0m\u001b[2;36m \u001b[0m\u001b[34mINFO    \u001b[0m Scraping game schedule for Jumapili, Nov \u001b[1;36m5\u001b[0m \u001b[1;36m2023\u001b[0m                       \u001b[2mwhoscored.py\u001b[0m\u001b[2m:\u001b[0m\u001b[2m327\u001b[0m\n"
      ]
     },
     "metadata": {},
     "output_type": "display_data"
    },
    {
     "data": {
      "text/html": [
       "<pre style=\"white-space:pre;overflow-x:auto;line-height:normal;font-family:Menlo,'DejaVu Sans Mono',consolas,'Courier New',monospace\"><span style=\"color: #7fbfbf; text-decoration-color: #7fbfbf\">[05/13/24 02:41:45] </span><span style=\"color: #000080; text-decoration-color: #000080\">INFO    </span> Scraping game schedule for Ijumaa, Nov <span style=\"color: #008080; text-decoration-color: #008080; font-weight: bold\">10</span> <span style=\"color: #008080; text-decoration-color: #008080; font-weight: bold\">2023</span>                        <span style=\"color: #7f7f7f; text-decoration-color: #7f7f7f\">whoscored.py:327</span>\n",
       "</pre>\n"
      ],
      "text/plain": [
       "\u001b[2;36m[05/13/24 02:41:45]\u001b[0m\u001b[2;36m \u001b[0m\u001b[34mINFO    \u001b[0m Scraping game schedule for Ijumaa, Nov \u001b[1;36m10\u001b[0m \u001b[1;36m2023\u001b[0m                        \u001b[2mwhoscored.py\u001b[0m\u001b[2m:\u001b[0m\u001b[2m327\u001b[0m\n"
      ]
     },
     "metadata": {},
     "output_type": "display_data"
    },
    {
     "data": {
      "text/html": [
       "<pre style=\"white-space:pre;overflow-x:auto;line-height:normal;font-family:Menlo,'DejaVu Sans Mono',consolas,'Courier New',monospace\"><span style=\"color: #7fbfbf; text-decoration-color: #7fbfbf\">                    </span><span style=\"color: #000080; text-decoration-color: #000080\">INFO    </span> Scraping game schedule for Jumamosi, Nov <span style=\"color: #008080; text-decoration-color: #008080; font-weight: bold\">11</span> <span style=\"color: #008080; text-decoration-color: #008080; font-weight: bold\">2023</span>                      <span style=\"color: #7f7f7f; text-decoration-color: #7f7f7f\">whoscored.py:327</span>\n",
       "</pre>\n"
      ],
      "text/plain": [
       "\u001b[2;36m                   \u001b[0m\u001b[2;36m \u001b[0m\u001b[34mINFO    \u001b[0m Scraping game schedule for Jumamosi, Nov \u001b[1;36m11\u001b[0m \u001b[1;36m2023\u001b[0m                      \u001b[2mwhoscored.py\u001b[0m\u001b[2m:\u001b[0m\u001b[2m327\u001b[0m\n"
      ]
     },
     "metadata": {},
     "output_type": "display_data"
    },
    {
     "data": {
      "text/html": [
       "<pre style=\"white-space:pre;overflow-x:auto;line-height:normal;font-family:Menlo,'DejaVu Sans Mono',consolas,'Courier New',monospace\"><span style=\"color: #7fbfbf; text-decoration-color: #7fbfbf\">[05/13/24 02:41:46] </span><span style=\"color: #000080; text-decoration-color: #000080\">INFO    </span> Scraping game schedule for Jumapili, Nov <span style=\"color: #008080; text-decoration-color: #008080; font-weight: bold\">12</span> <span style=\"color: #008080; text-decoration-color: #008080; font-weight: bold\">2023</span>                      <span style=\"color: #7f7f7f; text-decoration-color: #7f7f7f\">whoscored.py:327</span>\n",
       "</pre>\n"
      ],
      "text/plain": [
       "\u001b[2;36m[05/13/24 02:41:46]\u001b[0m\u001b[2;36m \u001b[0m\u001b[34mINFO    \u001b[0m Scraping game schedule for Jumapili, Nov \u001b[1;36m12\u001b[0m \u001b[1;36m2023\u001b[0m                      \u001b[2mwhoscored.py\u001b[0m\u001b[2m:\u001b[0m\u001b[2m327\u001b[0m\n"
      ]
     },
     "metadata": {},
     "output_type": "display_data"
    },
    {
     "data": {
      "text/html": [
       "<pre style=\"white-space:pre;overflow-x:auto;line-height:normal;font-family:Menlo,'DejaVu Sans Mono',consolas,'Courier New',monospace\"><span style=\"color: #7fbfbf; text-decoration-color: #7fbfbf\">[05/13/24 02:41:47] </span><span style=\"color: #000080; text-decoration-color: #000080\">INFO    </span> Scraping game schedule for Ijumaa, Nov <span style=\"color: #008080; text-decoration-color: #008080; font-weight: bold\">24</span> <span style=\"color: #008080; text-decoration-color: #008080; font-weight: bold\">2023</span>                        <span style=\"color: #7f7f7f; text-decoration-color: #7f7f7f\">whoscored.py:327</span>\n",
       "</pre>\n"
      ],
      "text/plain": [
       "\u001b[2;36m[05/13/24 02:41:47]\u001b[0m\u001b[2;36m \u001b[0m\u001b[34mINFO    \u001b[0m Scraping game schedule for Ijumaa, Nov \u001b[1;36m24\u001b[0m \u001b[1;36m2023\u001b[0m                        \u001b[2mwhoscored.py\u001b[0m\u001b[2m:\u001b[0m\u001b[2m327\u001b[0m\n"
      ]
     },
     "metadata": {},
     "output_type": "display_data"
    },
    {
     "data": {
      "text/html": [
       "<pre style=\"white-space:pre;overflow-x:auto;line-height:normal;font-family:Menlo,'DejaVu Sans Mono',consolas,'Courier New',monospace\"><span style=\"color: #7fbfbf; text-decoration-color: #7fbfbf\">                    </span><span style=\"color: #000080; text-decoration-color: #000080\">INFO    </span> Scraping game schedule for Jumamosi, Nov <span style=\"color: #008080; text-decoration-color: #008080; font-weight: bold\">25</span> <span style=\"color: #008080; text-decoration-color: #008080; font-weight: bold\">2023</span>                      <span style=\"color: #7f7f7f; text-decoration-color: #7f7f7f\">whoscored.py:327</span>\n",
       "</pre>\n"
      ],
      "text/plain": [
       "\u001b[2;36m                   \u001b[0m\u001b[2;36m \u001b[0m\u001b[34mINFO    \u001b[0m Scraping game schedule for Jumamosi, Nov \u001b[1;36m25\u001b[0m \u001b[1;36m2023\u001b[0m                      \u001b[2mwhoscored.py\u001b[0m\u001b[2m:\u001b[0m\u001b[2m327\u001b[0m\n"
      ]
     },
     "metadata": {},
     "output_type": "display_data"
    },
    {
     "data": {
      "text/html": [
       "<pre style=\"white-space:pre;overflow-x:auto;line-height:normal;font-family:Menlo,'DejaVu Sans Mono',consolas,'Courier New',monospace\"><span style=\"color: #7fbfbf; text-decoration-color: #7fbfbf\">[05/13/24 02:41:48] </span><span style=\"color: #000080; text-decoration-color: #000080\">INFO    </span> Scraping game schedule for Jumapili, Nov <span style=\"color: #008080; text-decoration-color: #008080; font-weight: bold\">26</span> <span style=\"color: #008080; text-decoration-color: #008080; font-weight: bold\">2023</span>                      <span style=\"color: #7f7f7f; text-decoration-color: #7f7f7f\">whoscored.py:327</span>\n",
       "</pre>\n"
      ],
      "text/plain": [
       "\u001b[2;36m[05/13/24 02:41:48]\u001b[0m\u001b[2;36m \u001b[0m\u001b[34mINFO    \u001b[0m Scraping game schedule for Jumapili, Nov \u001b[1;36m26\u001b[0m \u001b[1;36m2023\u001b[0m                      \u001b[2mwhoscored.py\u001b[0m\u001b[2m:\u001b[0m\u001b[2m327\u001b[0m\n"
      ]
     },
     "metadata": {},
     "output_type": "display_data"
    },
    {
     "data": {
      "text/html": [
       "<pre style=\"white-space:pre;overflow-x:auto;line-height:normal;font-family:Menlo,'DejaVu Sans Mono',consolas,'Courier New',monospace\"><span style=\"color: #7fbfbf; text-decoration-color: #7fbfbf\">[05/13/24 02:41:49] </span><span style=\"color: #000080; text-decoration-color: #000080\">INFO    </span> Scraping game schedule for Jumatano, Nov <span style=\"color: #008080; text-decoration-color: #008080; font-weight: bold\">29</span> <span style=\"color: #008080; text-decoration-color: #008080; font-weight: bold\">2023</span>                      <span style=\"color: #7f7f7f; text-decoration-color: #7f7f7f\">whoscored.py:327</span>\n",
       "</pre>\n"
      ],
      "text/plain": [
       "\u001b[2;36m[05/13/24 02:41:49]\u001b[0m\u001b[2;36m \u001b[0m\u001b[34mINFO    \u001b[0m Scraping game schedule for Jumatano, Nov \u001b[1;36m29\u001b[0m \u001b[1;36m2023\u001b[0m                      \u001b[2mwhoscored.py\u001b[0m\u001b[2m:\u001b[0m\u001b[2m327\u001b[0m\n"
      ]
     },
     "metadata": {},
     "output_type": "display_data"
    },
    {
     "data": {
      "text/html": [
       "<pre style=\"white-space:pre;overflow-x:auto;line-height:normal;font-family:Menlo,'DejaVu Sans Mono',consolas,'Courier New',monospace\"><span style=\"color: #7fbfbf; text-decoration-color: #7fbfbf\">[05/13/24 02:41:54] </span><span style=\"color: #000080; text-decoration-color: #000080\">INFO    </span> Scraping game schedule for Jumapili, Okt <span style=\"color: #008080; text-decoration-color: #008080; font-weight: bold\">1</span> <span style=\"color: #008080; text-decoration-color: #008080; font-weight: bold\">2023</span>                       <span style=\"color: #7f7f7f; text-decoration-color: #7f7f7f\">whoscored.py:327</span>\n",
       "</pre>\n"
      ],
      "text/plain": [
       "\u001b[2;36m[05/13/24 02:41:54]\u001b[0m\u001b[2;36m \u001b[0m\u001b[34mINFO    \u001b[0m Scraping game schedule for Jumapili, Okt \u001b[1;36m1\u001b[0m \u001b[1;36m2023\u001b[0m                       \u001b[2mwhoscored.py\u001b[0m\u001b[2m:\u001b[0m\u001b[2m327\u001b[0m\n"
      ]
     },
     "metadata": {},
     "output_type": "display_data"
    },
    {
     "data": {
      "text/html": [
       "<pre style=\"white-space:pre;overflow-x:auto;line-height:normal;font-family:Menlo,'DejaVu Sans Mono',consolas,'Courier New',monospace\"><span style=\"color: #7fbfbf; text-decoration-color: #7fbfbf\">[05/13/24 02:41:56] </span><span style=\"color: #000080; text-decoration-color: #000080\">INFO    </span> Scraping game schedule for Ijumaa, Okt <span style=\"color: #008080; text-decoration-color: #008080; font-weight: bold\">6</span> <span style=\"color: #008080; text-decoration-color: #008080; font-weight: bold\">2023</span>                         <span style=\"color: #7f7f7f; text-decoration-color: #7f7f7f\">whoscored.py:327</span>\n",
       "</pre>\n"
      ],
      "text/plain": [
       "\u001b[2;36m[05/13/24 02:41:56]\u001b[0m\u001b[2;36m \u001b[0m\u001b[34mINFO    \u001b[0m Scraping game schedule for Ijumaa, Okt \u001b[1;36m6\u001b[0m \u001b[1;36m2023\u001b[0m                         \u001b[2mwhoscored.py\u001b[0m\u001b[2m:\u001b[0m\u001b[2m327\u001b[0m\n"
      ]
     },
     "metadata": {},
     "output_type": "display_data"
    },
    {
     "data": {
      "text/html": [
       "<pre style=\"white-space:pre;overflow-x:auto;line-height:normal;font-family:Menlo,'DejaVu Sans Mono',consolas,'Courier New',monospace\"><span style=\"color: #7fbfbf; text-decoration-color: #7fbfbf\">                    </span><span style=\"color: #000080; text-decoration-color: #000080\">INFO    </span> Scraping game schedule for Jumamosi, Okt <span style=\"color: #008080; text-decoration-color: #008080; font-weight: bold\">7</span> <span style=\"color: #008080; text-decoration-color: #008080; font-weight: bold\">2023</span>                       <span style=\"color: #7f7f7f; text-decoration-color: #7f7f7f\">whoscored.py:327</span>\n",
       "</pre>\n"
      ],
      "text/plain": [
       "\u001b[2;36m                   \u001b[0m\u001b[2;36m \u001b[0m\u001b[34mINFO    \u001b[0m Scraping game schedule for Jumamosi, Okt \u001b[1;36m7\u001b[0m \u001b[1;36m2023\u001b[0m                       \u001b[2mwhoscored.py\u001b[0m\u001b[2m:\u001b[0m\u001b[2m327\u001b[0m\n"
      ]
     },
     "metadata": {},
     "output_type": "display_data"
    },
    {
     "data": {
      "text/html": [
       "<pre style=\"white-space:pre;overflow-x:auto;line-height:normal;font-family:Menlo,'DejaVu Sans Mono',consolas,'Courier New',monospace\"><span style=\"color: #7fbfbf; text-decoration-color: #7fbfbf\">                    </span><span style=\"color: #000080; text-decoration-color: #000080\">INFO    </span> Scraping game schedule for Jumapili, Okt <span style=\"color: #008080; text-decoration-color: #008080; font-weight: bold\">8</span> <span style=\"color: #008080; text-decoration-color: #008080; font-weight: bold\">2023</span>                       <span style=\"color: #7f7f7f; text-decoration-color: #7f7f7f\">whoscored.py:327</span>\n",
       "</pre>\n"
      ],
      "text/plain": [
       "\u001b[2;36m                   \u001b[0m\u001b[2;36m \u001b[0m\u001b[34mINFO    \u001b[0m Scraping game schedule for Jumapili, Okt \u001b[1;36m8\u001b[0m \u001b[1;36m2023\u001b[0m                       \u001b[2mwhoscored.py\u001b[0m\u001b[2m:\u001b[0m\u001b[2m327\u001b[0m\n"
      ]
     },
     "metadata": {},
     "output_type": "display_data"
    },
    {
     "data": {
      "text/html": [
       "<pre style=\"white-space:pre;overflow-x:auto;line-height:normal;font-family:Menlo,'DejaVu Sans Mono',consolas,'Courier New',monospace\"><span style=\"color: #7fbfbf; text-decoration-color: #7fbfbf\">[05/13/24 02:41:57] </span><span style=\"color: #000080; text-decoration-color: #000080\">INFO    </span> Scraping game schedule for Ijumaa, Okt <span style=\"color: #008080; text-decoration-color: #008080; font-weight: bold\">20</span> <span style=\"color: #008080; text-decoration-color: #008080; font-weight: bold\">2023</span>                        <span style=\"color: #7f7f7f; text-decoration-color: #7f7f7f\">whoscored.py:327</span>\n",
       "</pre>\n"
      ],
      "text/plain": [
       "\u001b[2;36m[05/13/24 02:41:57]\u001b[0m\u001b[2;36m \u001b[0m\u001b[34mINFO    \u001b[0m Scraping game schedule for Ijumaa, Okt \u001b[1;36m20\u001b[0m \u001b[1;36m2023\u001b[0m                        \u001b[2mwhoscored.py\u001b[0m\u001b[2m:\u001b[0m\u001b[2m327\u001b[0m\n"
      ]
     },
     "metadata": {},
     "output_type": "display_data"
    },
    {
     "data": {
      "text/html": [
       "<pre style=\"white-space:pre;overflow-x:auto;line-height:normal;font-family:Menlo,'DejaVu Sans Mono',consolas,'Courier New',monospace\"><span style=\"color: #7fbfbf; text-decoration-color: #7fbfbf\">                    </span><span style=\"color: #000080; text-decoration-color: #000080\">INFO    </span> Scraping game schedule for Jumamosi, Okt <span style=\"color: #008080; text-decoration-color: #008080; font-weight: bold\">21</span> <span style=\"color: #008080; text-decoration-color: #008080; font-weight: bold\">2023</span>                      <span style=\"color: #7f7f7f; text-decoration-color: #7f7f7f\">whoscored.py:327</span>\n",
       "</pre>\n"
      ],
      "text/plain": [
       "\u001b[2;36m                   \u001b[0m\u001b[2;36m \u001b[0m\u001b[34mINFO    \u001b[0m Scraping game schedule for Jumamosi, Okt \u001b[1;36m21\u001b[0m \u001b[1;36m2023\u001b[0m                      \u001b[2mwhoscored.py\u001b[0m\u001b[2m:\u001b[0m\u001b[2m327\u001b[0m\n"
      ]
     },
     "metadata": {},
     "output_type": "display_data"
    },
    {
     "data": {
      "text/html": [
       "<pre style=\"white-space:pre;overflow-x:auto;line-height:normal;font-family:Menlo,'DejaVu Sans Mono',consolas,'Courier New',monospace\"><span style=\"color: #7fbfbf; text-decoration-color: #7fbfbf\">[05/13/24 02:41:58] </span><span style=\"color: #000080; text-decoration-color: #000080\">INFO    </span> Scraping game schedule for Jumapili, Okt <span style=\"color: #008080; text-decoration-color: #008080; font-weight: bold\">22</span> <span style=\"color: #008080; text-decoration-color: #008080; font-weight: bold\">2023</span>                      <span style=\"color: #7f7f7f; text-decoration-color: #7f7f7f\">whoscored.py:327</span>\n",
       "</pre>\n"
      ],
      "text/plain": [
       "\u001b[2;36m[05/13/24 02:41:58]\u001b[0m\u001b[2;36m \u001b[0m\u001b[34mINFO    \u001b[0m Scraping game schedule for Jumapili, Okt \u001b[1;36m22\u001b[0m \u001b[1;36m2023\u001b[0m                      \u001b[2mwhoscored.py\u001b[0m\u001b[2m:\u001b[0m\u001b[2m327\u001b[0m\n"
      ]
     },
     "metadata": {},
     "output_type": "display_data"
    },
    {
     "data": {
      "text/html": [
       "<pre style=\"white-space:pre;overflow-x:auto;line-height:normal;font-family:Menlo,'DejaVu Sans Mono',consolas,'Courier New',monospace\"><span style=\"color: #7fbfbf; text-decoration-color: #7fbfbf\">[05/13/24 02:41:59] </span><span style=\"color: #000080; text-decoration-color: #000080\">INFO    </span> Scraping game schedule for Ijumaa, Okt <span style=\"color: #008080; text-decoration-color: #008080; font-weight: bold\">27</span> <span style=\"color: #008080; text-decoration-color: #008080; font-weight: bold\">2023</span>                        <span style=\"color: #7f7f7f; text-decoration-color: #7f7f7f\">whoscored.py:327</span>\n",
       "</pre>\n"
      ],
      "text/plain": [
       "\u001b[2;36m[05/13/24 02:41:59]\u001b[0m\u001b[2;36m \u001b[0m\u001b[34mINFO    \u001b[0m Scraping game schedule for Ijumaa, Okt \u001b[1;36m27\u001b[0m \u001b[1;36m2023\u001b[0m                        \u001b[2mwhoscored.py\u001b[0m\u001b[2m:\u001b[0m\u001b[2m327\u001b[0m\n"
      ]
     },
     "metadata": {},
     "output_type": "display_data"
    },
    {
     "data": {
      "text/html": [
       "<pre style=\"white-space:pre;overflow-x:auto;line-height:normal;font-family:Menlo,'DejaVu Sans Mono',consolas,'Courier New',monospace\"><span style=\"color: #7fbfbf; text-decoration-color: #7fbfbf\">                    </span><span style=\"color: #000080; text-decoration-color: #000080\">INFO    </span> Scraping game schedule for Jumamosi, Okt <span style=\"color: #008080; text-decoration-color: #008080; font-weight: bold\">28</span> <span style=\"color: #008080; text-decoration-color: #008080; font-weight: bold\">2023</span>                      <span style=\"color: #7f7f7f; text-decoration-color: #7f7f7f\">whoscored.py:327</span>\n",
       "</pre>\n"
      ],
      "text/plain": [
       "\u001b[2;36m                   \u001b[0m\u001b[2;36m \u001b[0m\u001b[34mINFO    \u001b[0m Scraping game schedule for Jumamosi, Okt \u001b[1;36m28\u001b[0m \u001b[1;36m2023\u001b[0m                      \u001b[2mwhoscored.py\u001b[0m\u001b[2m:\u001b[0m\u001b[2m327\u001b[0m\n"
      ]
     },
     "metadata": {},
     "output_type": "display_data"
    },
    {
     "data": {
      "text/html": [
       "<pre style=\"white-space:pre;overflow-x:auto;line-height:normal;font-family:Menlo,'DejaVu Sans Mono',consolas,'Courier New',monospace\"><span style=\"color: #7fbfbf; text-decoration-color: #7fbfbf\">                    </span><span style=\"color: #000080; text-decoration-color: #000080\">INFO    </span> Scraping game schedule for Jumapili, Okt <span style=\"color: #008080; text-decoration-color: #008080; font-weight: bold\">29</span> <span style=\"color: #008080; text-decoration-color: #008080; font-weight: bold\">2023</span>                      <span style=\"color: #7f7f7f; text-decoration-color: #7f7f7f\">whoscored.py:327</span>\n",
       "</pre>\n"
      ],
      "text/plain": [
       "\u001b[2;36m                   \u001b[0m\u001b[2;36m \u001b[0m\u001b[34mINFO    \u001b[0m Scraping game schedule for Jumapili, Okt \u001b[1;36m29\u001b[0m \u001b[1;36m2023\u001b[0m                      \u001b[2mwhoscored.py\u001b[0m\u001b[2m:\u001b[0m\u001b[2m327\u001b[0m\n"
      ]
     },
     "metadata": {},
     "output_type": "display_data"
    },
    {
     "data": {
      "text/html": [
       "<pre style=\"white-space:pre;overflow-x:auto;line-height:normal;font-family:Menlo,'DejaVu Sans Mono',consolas,'Courier New',monospace\"><span style=\"color: #7fbfbf; text-decoration-color: #7fbfbf\">[05/13/24 02:42:07] </span><span style=\"color: #000080; text-decoration-color: #000080\">INFO    </span> Scraping game schedule for Ijumaa, Sep <span style=\"color: #008080; text-decoration-color: #008080; font-weight: bold\">1</span> <span style=\"color: #008080; text-decoration-color: #008080; font-weight: bold\">2023</span>                         <span style=\"color: #7f7f7f; text-decoration-color: #7f7f7f\">whoscored.py:327</span>\n",
       "</pre>\n"
      ],
      "text/plain": [
       "\u001b[2;36m[05/13/24 02:42:07]\u001b[0m\u001b[2;36m \u001b[0m\u001b[34mINFO    \u001b[0m Scraping game schedule for Ijumaa, Sep \u001b[1;36m1\u001b[0m \u001b[1;36m2023\u001b[0m                         \u001b[2mwhoscored.py\u001b[0m\u001b[2m:\u001b[0m\u001b[2m327\u001b[0m\n"
      ]
     },
     "metadata": {},
     "output_type": "display_data"
    },
    {
     "data": {
      "text/html": [
       "<pre style=\"white-space:pre;overflow-x:auto;line-height:normal;font-family:Menlo,'DejaVu Sans Mono',consolas,'Courier New',monospace\"><span style=\"color: #7fbfbf; text-decoration-color: #7fbfbf\">                    </span><span style=\"color: #000080; text-decoration-color: #000080\">INFO    </span> Scraping game schedule for Jumamosi, Sep <span style=\"color: #008080; text-decoration-color: #008080; font-weight: bold\">2</span> <span style=\"color: #008080; text-decoration-color: #008080; font-weight: bold\">2023</span>                       <span style=\"color: #7f7f7f; text-decoration-color: #7f7f7f\">whoscored.py:327</span>\n",
       "</pre>\n"
      ],
      "text/plain": [
       "\u001b[2;36m                   \u001b[0m\u001b[2;36m \u001b[0m\u001b[34mINFO    \u001b[0m Scraping game schedule for Jumamosi, Sep \u001b[1;36m2\u001b[0m \u001b[1;36m2023\u001b[0m                       \u001b[2mwhoscored.py\u001b[0m\u001b[2m:\u001b[0m\u001b[2m327\u001b[0m\n"
      ]
     },
     "metadata": {},
     "output_type": "display_data"
    },
    {
     "data": {
      "text/html": [
       "<pre style=\"white-space:pre;overflow-x:auto;line-height:normal;font-family:Menlo,'DejaVu Sans Mono',consolas,'Courier New',monospace\"><span style=\"color: #7fbfbf; text-decoration-color: #7fbfbf\">[05/13/24 02:42:08] </span><span style=\"color: #000080; text-decoration-color: #000080\">INFO    </span> Scraping game schedule for Jumapili, Sep <span style=\"color: #008080; text-decoration-color: #008080; font-weight: bold\">3</span> <span style=\"color: #008080; text-decoration-color: #008080; font-weight: bold\">2023</span>                       <span style=\"color: #7f7f7f; text-decoration-color: #7f7f7f\">whoscored.py:327</span>\n",
       "</pre>\n"
      ],
      "text/plain": [
       "\u001b[2;36m[05/13/24 02:42:08]\u001b[0m\u001b[2;36m \u001b[0m\u001b[34mINFO    \u001b[0m Scraping game schedule for Jumapili, Sep \u001b[1;36m3\u001b[0m \u001b[1;36m2023\u001b[0m                       \u001b[2mwhoscored.py\u001b[0m\u001b[2m:\u001b[0m\u001b[2m327\u001b[0m\n"
      ]
     },
     "metadata": {},
     "output_type": "display_data"
    },
    {
     "data": {
      "text/html": [
       "<pre style=\"white-space:pre;overflow-x:auto;line-height:normal;font-family:Menlo,'DejaVu Sans Mono',consolas,'Courier New',monospace\"><span style=\"color: #7fbfbf; text-decoration-color: #7fbfbf\">[05/13/24 02:42:09] </span><span style=\"color: #000080; text-decoration-color: #000080\">INFO    </span> Scraping game schedule for Ijumaa, Sep <span style=\"color: #008080; text-decoration-color: #008080; font-weight: bold\">15</span> <span style=\"color: #008080; text-decoration-color: #008080; font-weight: bold\">2023</span>                        <span style=\"color: #7f7f7f; text-decoration-color: #7f7f7f\">whoscored.py:327</span>\n",
       "</pre>\n"
      ],
      "text/plain": [
       "\u001b[2;36m[05/13/24 02:42:09]\u001b[0m\u001b[2;36m \u001b[0m\u001b[34mINFO    \u001b[0m Scraping game schedule for Ijumaa, Sep \u001b[1;36m15\u001b[0m \u001b[1;36m2023\u001b[0m                        \u001b[2mwhoscored.py\u001b[0m\u001b[2m:\u001b[0m\u001b[2m327\u001b[0m\n"
      ]
     },
     "metadata": {},
     "output_type": "display_data"
    },
    {
     "data": {
      "text/html": [
       "<pre style=\"white-space:pre;overflow-x:auto;line-height:normal;font-family:Menlo,'DejaVu Sans Mono',consolas,'Courier New',monospace\"><span style=\"color: #7fbfbf; text-decoration-color: #7fbfbf\">                    </span><span style=\"color: #000080; text-decoration-color: #000080\">INFO    </span> Scraping game schedule for Jumamosi, Sep <span style=\"color: #008080; text-decoration-color: #008080; font-weight: bold\">16</span> <span style=\"color: #008080; text-decoration-color: #008080; font-weight: bold\">2023</span>                      <span style=\"color: #7f7f7f; text-decoration-color: #7f7f7f\">whoscored.py:327</span>\n",
       "</pre>\n"
      ],
      "text/plain": [
       "\u001b[2;36m                   \u001b[0m\u001b[2;36m \u001b[0m\u001b[34mINFO    \u001b[0m Scraping game schedule for Jumamosi, Sep \u001b[1;36m16\u001b[0m \u001b[1;36m2023\u001b[0m                      \u001b[2mwhoscored.py\u001b[0m\u001b[2m:\u001b[0m\u001b[2m327\u001b[0m\n"
      ]
     },
     "metadata": {},
     "output_type": "display_data"
    },
    {
     "data": {
      "text/html": [
       "<pre style=\"white-space:pre;overflow-x:auto;line-height:normal;font-family:Menlo,'DejaVu Sans Mono',consolas,'Courier New',monospace\"><span style=\"color: #7fbfbf; text-decoration-color: #7fbfbf\">                    </span><span style=\"color: #000080; text-decoration-color: #000080\">INFO    </span> Scraping game schedule for Jumapili, Sep <span style=\"color: #008080; text-decoration-color: #008080; font-weight: bold\">17</span> <span style=\"color: #008080; text-decoration-color: #008080; font-weight: bold\">2023</span>                      <span style=\"color: #7f7f7f; text-decoration-color: #7f7f7f\">whoscored.py:327</span>\n",
       "</pre>\n"
      ],
      "text/plain": [
       "\u001b[2;36m                   \u001b[0m\u001b[2;36m \u001b[0m\u001b[34mINFO    \u001b[0m Scraping game schedule for Jumapili, Sep \u001b[1;36m17\u001b[0m \u001b[1;36m2023\u001b[0m                      \u001b[2mwhoscored.py\u001b[0m\u001b[2m:\u001b[0m\u001b[2m327\u001b[0m\n"
      ]
     },
     "metadata": {},
     "output_type": "display_data"
    },
    {
     "data": {
      "text/html": [
       "<pre style=\"white-space:pre;overflow-x:auto;line-height:normal;font-family:Menlo,'DejaVu Sans Mono',consolas,'Courier New',monospace\"><span style=\"color: #7fbfbf; text-decoration-color: #7fbfbf\">[05/13/24 02:42:10] </span><span style=\"color: #000080; text-decoration-color: #000080\">INFO    </span> Scraping game schedule for Ijumaa, Sep <span style=\"color: #008080; text-decoration-color: #008080; font-weight: bold\">22</span> <span style=\"color: #008080; text-decoration-color: #008080; font-weight: bold\">2023</span>                        <span style=\"color: #7f7f7f; text-decoration-color: #7f7f7f\">whoscored.py:327</span>\n",
       "</pre>\n"
      ],
      "text/plain": [
       "\u001b[2;36m[05/13/24 02:42:10]\u001b[0m\u001b[2;36m \u001b[0m\u001b[34mINFO    \u001b[0m Scraping game schedule for Ijumaa, Sep \u001b[1;36m22\u001b[0m \u001b[1;36m2023\u001b[0m                        \u001b[2mwhoscored.py\u001b[0m\u001b[2m:\u001b[0m\u001b[2m327\u001b[0m\n"
      ]
     },
     "metadata": {},
     "output_type": "display_data"
    },
    {
     "data": {
      "text/html": [
       "<pre style=\"white-space:pre;overflow-x:auto;line-height:normal;font-family:Menlo,'DejaVu Sans Mono',consolas,'Courier New',monospace\"><span style=\"color: #7fbfbf; text-decoration-color: #7fbfbf\">                    </span><span style=\"color: #000080; text-decoration-color: #000080\">INFO    </span> Scraping game schedule for Jumamosi, Sep <span style=\"color: #008080; text-decoration-color: #008080; font-weight: bold\">23</span> <span style=\"color: #008080; text-decoration-color: #008080; font-weight: bold\">2023</span>                      <span style=\"color: #7f7f7f; text-decoration-color: #7f7f7f\">whoscored.py:327</span>\n",
       "</pre>\n"
      ],
      "text/plain": [
       "\u001b[2;36m                   \u001b[0m\u001b[2;36m \u001b[0m\u001b[34mINFO    \u001b[0m Scraping game schedule for Jumamosi, Sep \u001b[1;36m23\u001b[0m \u001b[1;36m2023\u001b[0m                      \u001b[2mwhoscored.py\u001b[0m\u001b[2m:\u001b[0m\u001b[2m327\u001b[0m\n"
      ]
     },
     "metadata": {},
     "output_type": "display_data"
    },
    {
     "data": {
      "text/html": [
       "<pre style=\"white-space:pre;overflow-x:auto;line-height:normal;font-family:Menlo,'DejaVu Sans Mono',consolas,'Courier New',monospace\"><span style=\"color: #7fbfbf; text-decoration-color: #7fbfbf\">[05/13/24 02:42:11] </span><span style=\"color: #000080; text-decoration-color: #000080\">INFO    </span> Scraping game schedule for Jumapili, Sep <span style=\"color: #008080; text-decoration-color: #008080; font-weight: bold\">24</span> <span style=\"color: #008080; text-decoration-color: #008080; font-weight: bold\">2023</span>                      <span style=\"color: #7f7f7f; text-decoration-color: #7f7f7f\">whoscored.py:327</span>\n",
       "</pre>\n"
      ],
      "text/plain": [
       "\u001b[2;36m[05/13/24 02:42:11]\u001b[0m\u001b[2;36m \u001b[0m\u001b[34mINFO    \u001b[0m Scraping game schedule for Jumapili, Sep \u001b[1;36m24\u001b[0m \u001b[1;36m2023\u001b[0m                      \u001b[2mwhoscored.py\u001b[0m\u001b[2m:\u001b[0m\u001b[2m327\u001b[0m\n"
      ]
     },
     "metadata": {},
     "output_type": "display_data"
    },
    {
     "data": {
      "text/html": [
       "<pre style=\"white-space:pre;overflow-x:auto;line-height:normal;font-family:Menlo,'DejaVu Sans Mono',consolas,'Courier New',monospace\"><span style=\"color: #7fbfbf; text-decoration-color: #7fbfbf\">                    </span><span style=\"color: #000080; text-decoration-color: #000080\">INFO    </span> Scraping game schedule for Jumanne, Sep <span style=\"color: #008080; text-decoration-color: #008080; font-weight: bold\">26</span> <span style=\"color: #008080; text-decoration-color: #008080; font-weight: bold\">2023</span>                       <span style=\"color: #7f7f7f; text-decoration-color: #7f7f7f\">whoscored.py:327</span>\n",
       "</pre>\n"
      ],
      "text/plain": [
       "\u001b[2;36m                   \u001b[0m\u001b[2;36m \u001b[0m\u001b[34mINFO    \u001b[0m Scraping game schedule for Jumanne, Sep \u001b[1;36m26\u001b[0m \u001b[1;36m2023\u001b[0m                       \u001b[2mwhoscored.py\u001b[0m\u001b[2m:\u001b[0m\u001b[2m327\u001b[0m\n"
      ]
     },
     "metadata": {},
     "output_type": "display_data"
    },
    {
     "data": {
      "text/html": [
       "<pre style=\"white-space:pre;overflow-x:auto;line-height:normal;font-family:Menlo,'DejaVu Sans Mono',consolas,'Courier New',monospace\"><span style=\"color: #7fbfbf; text-decoration-color: #7fbfbf\">[05/13/24 02:42:12] </span><span style=\"color: #000080; text-decoration-color: #000080\">INFO    </span> Scraping game schedule for Ijumaa, Sep <span style=\"color: #008080; text-decoration-color: #008080; font-weight: bold\">29</span> <span style=\"color: #008080; text-decoration-color: #008080; font-weight: bold\">2023</span>                        <span style=\"color: #7f7f7f; text-decoration-color: #7f7f7f\">whoscored.py:327</span>\n",
       "</pre>\n"
      ],
      "text/plain": [
       "\u001b[2;36m[05/13/24 02:42:12]\u001b[0m\u001b[2;36m \u001b[0m\u001b[34mINFO    \u001b[0m Scraping game schedule for Ijumaa, Sep \u001b[1;36m29\u001b[0m \u001b[1;36m2023\u001b[0m                        \u001b[2mwhoscored.py\u001b[0m\u001b[2m:\u001b[0m\u001b[2m327\u001b[0m\n"
      ]
     },
     "metadata": {},
     "output_type": "display_data"
    },
    {
     "data": {
      "text/html": [
       "<pre style=\"white-space:pre;overflow-x:auto;line-height:normal;font-family:Menlo,'DejaVu Sans Mono',consolas,'Courier New',monospace\"><span style=\"color: #7fbfbf; text-decoration-color: #7fbfbf\">                    </span><span style=\"color: #000080; text-decoration-color: #000080\">INFO    </span> Scraping game schedule for Jumamosi, Sep <span style=\"color: #008080; text-decoration-color: #008080; font-weight: bold\">30</span> <span style=\"color: #008080; text-decoration-color: #008080; font-weight: bold\">2023</span>                      <span style=\"color: #7f7f7f; text-decoration-color: #7f7f7f\">whoscored.py:327</span>\n",
       "</pre>\n"
      ],
      "text/plain": [
       "\u001b[2;36m                   \u001b[0m\u001b[2;36m \u001b[0m\u001b[34mINFO    \u001b[0m Scraping game schedule for Jumamosi, Sep \u001b[1;36m30\u001b[0m \u001b[1;36m2023\u001b[0m                      \u001b[2mwhoscored.py\u001b[0m\u001b[2m:\u001b[0m\u001b[2m327\u001b[0m\n"
      ]
     },
     "metadata": {},
     "output_type": "display_data"
    },
    {
     "data": {
      "text/html": [
       "<pre style=\"white-space:pre;overflow-x:auto;line-height:normal;font-family:Menlo,'DejaVu Sans Mono',consolas,'Courier New',monospace\"><span style=\"color: #7fbfbf; text-decoration-color: #7fbfbf\">[05/13/24 02:42:17] </span><span style=\"color: #000080; text-decoration-color: #000080\">INFO    </span> Scraping game schedule for Ijumaa, Ago <span style=\"color: #008080; text-decoration-color: #008080; font-weight: bold\">11</span> <span style=\"color: #008080; text-decoration-color: #008080; font-weight: bold\">2023</span>                        <span style=\"color: #7f7f7f; text-decoration-color: #7f7f7f\">whoscored.py:327</span>\n",
       "</pre>\n"
      ],
      "text/plain": [
       "\u001b[2;36m[05/13/24 02:42:17]\u001b[0m\u001b[2;36m \u001b[0m\u001b[34mINFO    \u001b[0m Scraping game schedule for Ijumaa, Ago \u001b[1;36m11\u001b[0m \u001b[1;36m2023\u001b[0m                        \u001b[2mwhoscored.py\u001b[0m\u001b[2m:\u001b[0m\u001b[2m327\u001b[0m\n"
      ]
     },
     "metadata": {},
     "output_type": "display_data"
    },
    {
     "data": {
      "text/html": [
       "<pre style=\"white-space:pre;overflow-x:auto;line-height:normal;font-family:Menlo,'DejaVu Sans Mono',consolas,'Courier New',monospace\"><span style=\"color: #7fbfbf; text-decoration-color: #7fbfbf\">                    </span><span style=\"color: #000080; text-decoration-color: #000080\">INFO    </span> Scraping game schedule for Jumamosi, Ago <span style=\"color: #008080; text-decoration-color: #008080; font-weight: bold\">12</span> <span style=\"color: #008080; text-decoration-color: #008080; font-weight: bold\">2023</span>                      <span style=\"color: #7f7f7f; text-decoration-color: #7f7f7f\">whoscored.py:327</span>\n",
       "</pre>\n"
      ],
      "text/plain": [
       "\u001b[2;36m                   \u001b[0m\u001b[2;36m \u001b[0m\u001b[34mINFO    \u001b[0m Scraping game schedule for Jumamosi, Ago \u001b[1;36m12\u001b[0m \u001b[1;36m2023\u001b[0m                      \u001b[2mwhoscored.py\u001b[0m\u001b[2m:\u001b[0m\u001b[2m327\u001b[0m\n"
      ]
     },
     "metadata": {},
     "output_type": "display_data"
    },
    {
     "data": {
      "text/html": [
       "<pre style=\"white-space:pre;overflow-x:auto;line-height:normal;font-family:Menlo,'DejaVu Sans Mono',consolas,'Courier New',monospace\"><span style=\"color: #7fbfbf; text-decoration-color: #7fbfbf\">[05/13/24 02:42:18] </span><span style=\"color: #000080; text-decoration-color: #000080\">INFO    </span> Scraping game schedule for Jumapili, Ago <span style=\"color: #008080; text-decoration-color: #008080; font-weight: bold\">13</span> <span style=\"color: #008080; text-decoration-color: #008080; font-weight: bold\">2023</span>                      <span style=\"color: #7f7f7f; text-decoration-color: #7f7f7f\">whoscored.py:327</span>\n",
       "</pre>\n"
      ],
      "text/plain": [
       "\u001b[2;36m[05/13/24 02:42:18]\u001b[0m\u001b[2;36m \u001b[0m\u001b[34mINFO    \u001b[0m Scraping game schedule for Jumapili, Ago \u001b[1;36m13\u001b[0m \u001b[1;36m2023\u001b[0m                      \u001b[2mwhoscored.py\u001b[0m\u001b[2m:\u001b[0m\u001b[2m327\u001b[0m\n"
      ]
     },
     "metadata": {},
     "output_type": "display_data"
    },
    {
     "data": {
      "text/html": [
       "<pre style=\"white-space:pre;overflow-x:auto;line-height:normal;font-family:Menlo,'DejaVu Sans Mono',consolas,'Courier New',monospace\"><span style=\"color: #7fbfbf; text-decoration-color: #7fbfbf\">[05/13/24 02:42:19] </span><span style=\"color: #000080; text-decoration-color: #000080\">INFO    </span> Scraping game schedule for Ijumaa, Ago <span style=\"color: #008080; text-decoration-color: #008080; font-weight: bold\">18</span> <span style=\"color: #008080; text-decoration-color: #008080; font-weight: bold\">2023</span>                        <span style=\"color: #7f7f7f; text-decoration-color: #7f7f7f\">whoscored.py:327</span>\n",
       "</pre>\n"
      ],
      "text/plain": [
       "\u001b[2;36m[05/13/24 02:42:19]\u001b[0m\u001b[2;36m \u001b[0m\u001b[34mINFO    \u001b[0m Scraping game schedule for Ijumaa, Ago \u001b[1;36m18\u001b[0m \u001b[1;36m2023\u001b[0m                        \u001b[2mwhoscored.py\u001b[0m\u001b[2m:\u001b[0m\u001b[2m327\u001b[0m\n"
      ]
     },
     "metadata": {},
     "output_type": "display_data"
    },
    {
     "data": {
      "text/html": [
       "<pre style=\"white-space:pre;overflow-x:auto;line-height:normal;font-family:Menlo,'DejaVu Sans Mono',consolas,'Courier New',monospace\"><span style=\"color: #7fbfbf; text-decoration-color: #7fbfbf\">                    </span><span style=\"color: #000080; text-decoration-color: #000080\">INFO    </span> Scraping game schedule for Jumamosi, Ago <span style=\"color: #008080; text-decoration-color: #008080; font-weight: bold\">19</span> <span style=\"color: #008080; text-decoration-color: #008080; font-weight: bold\">2023</span>                      <span style=\"color: #7f7f7f; text-decoration-color: #7f7f7f\">whoscored.py:327</span>\n",
       "</pre>\n"
      ],
      "text/plain": [
       "\u001b[2;36m                   \u001b[0m\u001b[2;36m \u001b[0m\u001b[34mINFO    \u001b[0m Scraping game schedule for Jumamosi, Ago \u001b[1;36m19\u001b[0m \u001b[1;36m2023\u001b[0m                      \u001b[2mwhoscored.py\u001b[0m\u001b[2m:\u001b[0m\u001b[2m327\u001b[0m\n"
      ]
     },
     "metadata": {},
     "output_type": "display_data"
    },
    {
     "data": {
      "text/html": [
       "<pre style=\"white-space:pre;overflow-x:auto;line-height:normal;font-family:Menlo,'DejaVu Sans Mono',consolas,'Courier New',monospace\"><span style=\"color: #7fbfbf; text-decoration-color: #7fbfbf\">                    </span><span style=\"color: #000080; text-decoration-color: #000080\">INFO    </span> Scraping game schedule for Jumapili, Ago <span style=\"color: #008080; text-decoration-color: #008080; font-weight: bold\">20</span> <span style=\"color: #008080; text-decoration-color: #008080; font-weight: bold\">2023</span>                      <span style=\"color: #7f7f7f; text-decoration-color: #7f7f7f\">whoscored.py:327</span>\n",
       "</pre>\n"
      ],
      "text/plain": [
       "\u001b[2;36m                   \u001b[0m\u001b[2;36m \u001b[0m\u001b[34mINFO    \u001b[0m Scraping game schedule for Jumapili, Ago \u001b[1;36m20\u001b[0m \u001b[1;36m2023\u001b[0m                      \u001b[2mwhoscored.py\u001b[0m\u001b[2m:\u001b[0m\u001b[2m327\u001b[0m\n"
      ]
     },
     "metadata": {},
     "output_type": "display_data"
    },
    {
     "data": {
      "text/html": [
       "<pre style=\"white-space:pre;overflow-x:auto;line-height:normal;font-family:Menlo,'DejaVu Sans Mono',consolas,'Courier New',monospace\"><span style=\"color: #7fbfbf; text-decoration-color: #7fbfbf\">[05/13/24 02:42:20] </span><span style=\"color: #000080; text-decoration-color: #000080\">INFO    </span> Scraping game schedule for Ijumaa, Ago <span style=\"color: #008080; text-decoration-color: #008080; font-weight: bold\">25</span> <span style=\"color: #008080; text-decoration-color: #008080; font-weight: bold\">2023</span>                        <span style=\"color: #7f7f7f; text-decoration-color: #7f7f7f\">whoscored.py:327</span>\n",
       "</pre>\n"
      ],
      "text/plain": [
       "\u001b[2;36m[05/13/24 02:42:20]\u001b[0m\u001b[2;36m \u001b[0m\u001b[34mINFO    \u001b[0m Scraping game schedule for Ijumaa, Ago \u001b[1;36m25\u001b[0m \u001b[1;36m2023\u001b[0m                        \u001b[2mwhoscored.py\u001b[0m\u001b[2m:\u001b[0m\u001b[2m327\u001b[0m\n"
      ]
     },
     "metadata": {},
     "output_type": "display_data"
    },
    {
     "data": {
      "text/html": [
       "<pre style=\"white-space:pre;overflow-x:auto;line-height:normal;font-family:Menlo,'DejaVu Sans Mono',consolas,'Courier New',monospace\"><span style=\"color: #7fbfbf; text-decoration-color: #7fbfbf\">[05/13/24 02:42:21] </span><span style=\"color: #000080; text-decoration-color: #000080\">INFO    </span> Scraping game schedule for Jumamosi, Ago <span style=\"color: #008080; text-decoration-color: #008080; font-weight: bold\">26</span> <span style=\"color: #008080; text-decoration-color: #008080; font-weight: bold\">2023</span>                      <span style=\"color: #7f7f7f; text-decoration-color: #7f7f7f\">whoscored.py:327</span>\n",
       "</pre>\n"
      ],
      "text/plain": [
       "\u001b[2;36m[05/13/24 02:42:21]\u001b[0m\u001b[2;36m \u001b[0m\u001b[34mINFO    \u001b[0m Scraping game schedule for Jumamosi, Ago \u001b[1;36m26\u001b[0m \u001b[1;36m2023\u001b[0m                      \u001b[2mwhoscored.py\u001b[0m\u001b[2m:\u001b[0m\u001b[2m327\u001b[0m\n"
      ]
     },
     "metadata": {},
     "output_type": "display_data"
    },
    {
     "data": {
      "text/html": [
       "<pre style=\"white-space:pre;overflow-x:auto;line-height:normal;font-family:Menlo,'DejaVu Sans Mono',consolas,'Courier New',monospace\"><span style=\"color: #7fbfbf; text-decoration-color: #7fbfbf\">                    </span><span style=\"color: #000080; text-decoration-color: #000080\">INFO    </span> Scraping game schedule for Jumapili, Ago <span style=\"color: #008080; text-decoration-color: #008080; font-weight: bold\">27</span> <span style=\"color: #008080; text-decoration-color: #008080; font-weight: bold\">2023</span>                      <span style=\"color: #7f7f7f; text-decoration-color: #7f7f7f\">whoscored.py:327</span>\n",
       "</pre>\n"
      ],
      "text/plain": [
       "\u001b[2;36m                   \u001b[0m\u001b[2;36m \u001b[0m\u001b[34mINFO    \u001b[0m Scraping game schedule for Jumapili, Ago \u001b[1;36m27\u001b[0m \u001b[1;36m2023\u001b[0m                      \u001b[2mwhoscored.py\u001b[0m\u001b[2m:\u001b[0m\u001b[2m327\u001b[0m\n"
      ]
     },
     "metadata": {},
     "output_type": "display_data"
    },
    {
     "name": "stdout",
     "output_type": "stream",
     "text": [
      "Returning 1 DFs combination\n",
      "Preparing Fetched DataFrames ... \n",
      "FRA-Ligue 1\n",
      "Merging Fetched DataFrames ... \n",
      "(306, 9)\n"
     ]
    }
   ],
   "source": [
    "insert_queries = []\n",
    "err_leagues = []\n",
    "d = None\n",
    "for item in last_date_info[3:4]:\n",
    "    # print(item)\n",
    "    # continue\n",
    "    try :\n",
    "        league_time_info = tuple(item.items())[0]\n",
    "        df = fetch_and_merge_current_season_dfs(league_time_info[0],df_season)\n",
    "        overall_df = pd.DataFrame() # EMpty df to add all the rows here\n",
    "        new_insert_queries,overall_df = fetch_games_since_last(df,league_time_info[1],overall_df)\n",
    "        insert_queries+=new_insert_queries\n",
    "    except Exception as e :\n",
    "        err_leagues.append(item)"
   ]
  },
  {
   "cell_type": "code",
   "execution_count": 29,
   "id": "c7d87a30-e59d-41b0-aa6e-33704790cd54",
   "metadata": {},
   "outputs": [],
   "source": [
    "d = df"
   ]
  },
  {
   "cell_type": "code",
   "execution_count": 30,
   "id": "63dca313-b79e-4116-9ccd-a9ea56c780e4",
   "metadata": {
    "scrolled": true
   },
   "outputs": [],
   "source": [
    "d['date'] = d['date'].apply(lambda x: x.strftime('%d-%b-%Y'))\n",
    "d = d[['competition','home_team','away_team','score','date']]"
   ]
  },
  {
   "cell_type": "code",
   "execution_count": 31,
   "id": "55236c45-5bd7-4117-81b9-57205f63eac7",
   "metadata": {},
   "outputs": [
    {
     "data": {
      "text/html": [
       "<div>\n",
       "<style scoped>\n",
       "    .dataframe tbody tr th:only-of-type {\n",
       "        vertical-align: middle;\n",
       "    }\n",
       "\n",
       "    .dataframe tbody tr th {\n",
       "        vertical-align: top;\n",
       "    }\n",
       "\n",
       "    .dataframe thead th {\n",
       "        text-align: right;\n",
       "    }\n",
       "</style>\n",
       "<table border=\"1\" class=\"dataframe\">\n",
       "  <thead>\n",
       "    <tr style=\"text-align: right;\">\n",
       "      <th></th>\n",
       "      <th>competition</th>\n",
       "      <th>home_team</th>\n",
       "      <th>away_team</th>\n",
       "      <th>score</th>\n",
       "      <th>date</th>\n",
       "    </tr>\n",
       "  </thead>\n",
       "  <tbody>\n",
       "    <tr>\n",
       "      <th>0</th>\n",
       "      <td>FRA-Ligue 1</td>\n",
       "      <td>Nice</td>\n",
       "      <td>Lille</td>\n",
       "      <td>1–1</td>\n",
       "      <td>11-Aug-2023</td>\n",
       "    </tr>\n",
       "    <tr>\n",
       "      <th>1</th>\n",
       "      <td>FRA-Ligue 1</td>\n",
       "      <td>Marseille</td>\n",
       "      <td>Reims</td>\n",
       "      <td>2–1</td>\n",
       "      <td>12-Aug-2023</td>\n",
       "    </tr>\n",
       "    <tr>\n",
       "      <th>2</th>\n",
       "      <td>FRA-Ligue 1</td>\n",
       "      <td>Paris Saint-Germain</td>\n",
       "      <td>Lorient</td>\n",
       "      <td>0–0</td>\n",
       "      <td>12-Aug-2023</td>\n",
       "    </tr>\n",
       "    <tr>\n",
       "      <th>3</th>\n",
       "      <td>FRA-Ligue 1</td>\n",
       "      <td>Brest</td>\n",
       "      <td>Lens</td>\n",
       "      <td>3–2</td>\n",
       "      <td>13-Aug-2023</td>\n",
       "    </tr>\n",
       "    <tr>\n",
       "      <th>4</th>\n",
       "      <td>FRA-Ligue 1</td>\n",
       "      <td>Clermont Foot</td>\n",
       "      <td>Monaco</td>\n",
       "      <td>2–4</td>\n",
       "      <td>13-Aug-2023</td>\n",
       "    </tr>\n",
       "    <tr>\n",
       "      <th>...</th>\n",
       "      <td>...</td>\n",
       "      <td>...</td>\n",
       "      <td>...</td>\n",
       "      <td>...</td>\n",
       "      <td>...</td>\n",
       "    </tr>\n",
       "    <tr>\n",
       "      <th>283</th>\n",
       "      <td>FRA-Ligue 1</td>\n",
       "      <td>Metz</td>\n",
       "      <td>Rennes</td>\n",
       "      <td>2–3</td>\n",
       "      <td>04-May-2024</td>\n",
       "    </tr>\n",
       "    <tr>\n",
       "      <th>284</th>\n",
       "      <td>FRA-Ligue 1</td>\n",
       "      <td>Brest</td>\n",
       "      <td>Nantes</td>\n",
       "      <td>0–0</td>\n",
       "      <td>04-May-2024</td>\n",
       "    </tr>\n",
       "    <tr>\n",
       "      <th>285</th>\n",
       "      <td>FRA-Ligue 1</td>\n",
       "      <td>Lille</td>\n",
       "      <td>Lyon</td>\n",
       "      <td>3–4</td>\n",
       "      <td>06-May-2024</td>\n",
       "    </tr>\n",
       "    <tr>\n",
       "      <th>286</th>\n",
       "      <td>FRA-Ligue 1</td>\n",
       "      <td>Brest</td>\n",
       "      <td>Reims</td>\n",
       "      <td>1–1</td>\n",
       "      <td>10-May-2024</td>\n",
       "    </tr>\n",
       "    <tr>\n",
       "      <th>287</th>\n",
       "      <td>FRA-Ligue 1</td>\n",
       "      <td>Nice</td>\n",
       "      <td>Le Havre</td>\n",
       "      <td>1–0</td>\n",
       "      <td>10-May-2024</td>\n",
       "    </tr>\n",
       "  </tbody>\n",
       "</table>\n",
       "<p>288 rows × 5 columns</p>\n",
       "</div>"
      ],
      "text/plain": [
       "     competition            home_team away_team score         date\n",
       "0    FRA-Ligue 1                 Nice     Lille   1–1  11-Aug-2023\n",
       "1    FRA-Ligue 1            Marseille     Reims   2–1  12-Aug-2023\n",
       "2    FRA-Ligue 1  Paris Saint-Germain   Lorient   0–0  12-Aug-2023\n",
       "3    FRA-Ligue 1                Brest      Lens   3–2  13-Aug-2023\n",
       "4    FRA-Ligue 1        Clermont Foot    Monaco   2–4  13-Aug-2023\n",
       "..           ...                  ...       ...   ...          ...\n",
       "283  FRA-Ligue 1                 Metz    Rennes   2–3  04-May-2024\n",
       "284  FRA-Ligue 1                Brest    Nantes   0–0  04-May-2024\n",
       "285  FRA-Ligue 1                Lille      Lyon   3–4  06-May-2024\n",
       "286  FRA-Ligue 1                Brest     Reims   1–1  10-May-2024\n",
       "287  FRA-Ligue 1                 Nice  Le Havre   1–0  10-May-2024\n",
       "\n",
       "[288 rows x 5 columns]"
      ]
     },
     "execution_count": 31,
     "metadata": {},
     "output_type": "execute_result"
    }
   ],
   "source": [
    "d"
   ]
  },
  {
   "cell_type": "code",
   "execution_count": null,
   "id": "4024f960-5d12-4016-82bd-98e2babbae28",
   "metadata": {},
   "outputs": [],
   "source": [
    "D = d[['competition','home_team','away_team','score','date']]"
   ]
  },
  {
   "cell_type": "code",
   "execution_count": null,
   "id": "820e9a06-39fd-4fc4-8176-b909fcf2aa5e",
   "metadata": {},
   "outputs": [],
   "source": []
  },
  {
   "cell_type": "code",
   "execution_count": null,
   "id": "d91b5d8e-ef97-4be4-b39d-6a2e67414541",
   "metadata": {},
   "outputs": [],
   "source": [
    "# import smtplib\n",
    "# import ssl\n",
    "# from email.mime.text import MIMEText\n",
    "# from email.message import EmailMessage\n",
    "\n",
    "#     # Set up the MIME\n",
    "# def send_email(sender_email, receiver_email, subject, message, password):\n",
    "#     # Create a message object\n",
    "#     msg = EmailMessage()\n",
    "#     msg[\"From\"] = sender_email\n",
    "#     msg[\"To\"] = receiver_email\n",
    "#     msg[\"Subject\"] = subject\n",
    "\n",
    "#     # Add body to email\n",
    "#     msg.set_content(message)\n",
    "\n",
    "#     # Create a secure SSL context\n",
    "#     context = ssl.create_default_context()\n",
    "\n",
    "#     with smtplib.SMTP_SSL(\"smtp.gmail.com\", 465, context=context) as server:\n",
    "#         server.login(sender_email, password)\n",
    "#         server.send_message(msg)\n",
    "#         print(\"Done\")\n",
    "\n",
    "# # Example usage\n",
    "# sender_email = \"mranalust@gmail.com\"\n",
    "# receiver_email = \"aakashkaushal75@example.com\"\n",
    "# subject = \"Scheduler Script Info\"\n",
    "# message = \"This is a test email sent from Python.\"\n",
    "# password = 'lzms qlxo grbg matr'\n",
    "# # password = '(Superpass,1234)'\n",
    "\n",
    "# send_email(sender_email, receiver_email, subject, message, password)\n"
   ]
  },
  {
   "cell_type": "code",
   "execution_count": 14,
   "id": "295f39c8-3753-4f2d-b774-60982b46bf56",
   "metadata": {},
   "outputs": [
    {
     "name": "stdout",
     "output_type": "stream",
     "text": [
      "Done Query No :  1 1\n",
      "Done Query No :  2 1\n",
      "Done Query No :  3 1\n",
      "Done Query No :  4 1\n",
      "Done Query No :  5 1\n",
      "Done Query No :  6 1\n",
      "Done Query No :  7 1\n",
      "Done Query No :  8 1\n",
      "Done Query No :  9 1\n",
      "Done Query No :  10 1\n",
      "Done Query No :  11 0\n",
      "\n",
      "Done Query No :  12 0\n",
      "\n",
      "Done Query No :  13 0\n",
      "\n",
      "Done Query No :  14 0\n",
      "\n",
      "Done Query No :  15 0\n",
      "\n",
      "Done Query No :  16 0\n",
      "\n",
      "Done Query No :  17 0\n",
      "\n",
      "Done Query No :  18 0\n",
      "\n",
      "Done Query No :  19 0\n",
      "\n",
      "Done Query No :  20 0\n",
      "\n",
      "Done Query No :  21 0\n",
      "\n",
      "Done Query No :  22 0\n",
      "\n",
      "Done Query No :  23 0\n",
      "\n",
      "Done Query No :  24 0\n",
      "\n",
      "Done Query No :  25 0\n",
      "\n",
      "Done Query No :  26 0\n",
      "\n",
      "Done Query No :  27 0\n",
      "\n",
      "Done Query No :  28 0\n",
      "\n",
      "Done Query No :  29 0\n",
      "\n",
      "Done Query No :  30 0\n",
      "\n",
      "Done Query No :  31 0\n",
      "\n",
      "Done Query No :  32 0\n",
      "\n",
      "Done Query No :  33 0\n",
      "\n",
      "Done Query No :  34 0\n",
      "\n",
      "Done Query No :  35 0\n",
      "\n",
      "Done Query No :  36 0\n",
      "\n",
      "Done Query No :  37 0\n",
      "\n",
      "Done Query No :  38 0\n",
      "\n",
      "Done Query No :  39 0\n",
      "\n",
      "Done Query No :  40 0\n",
      "\n",
      "Done Query No :  41 0\n",
      "\n",
      "Done Query No :  42 0\n",
      "\n",
      "Done Query No :  43 0\n",
      "\n",
      "Done Query No :  44 0\n",
      "\n",
      "Done Query No :  45 0\n",
      "\n",
      "Done Query No :  46 0\n",
      "\n",
      "Done Query No :  47 0\n",
      "\n",
      "Done Query No :  48 0\n",
      "\n",
      "Done Query No :  49 0\n",
      "\n",
      "Done Query No :  50 0\n",
      "\n",
      "Done Query No :  51 0\n",
      "\n",
      "Done Query No :  52 0\n",
      "\n",
      "Done Query No :  53 0\n",
      "\n",
      "Done Query No :  54 0\n",
      "\n",
      "Done Query No :  55 0\n",
      "\n",
      "Done Query No :  56 0\n",
      "\n",
      "Done Query No :  57 0\n",
      "\n",
      "Done Query No :  58 0\n",
      "\n",
      "Done Query No :  59 0\n",
      "\n",
      "Done Query No :  60 0\n",
      "\n",
      "Done Query No :  61 0\n",
      "\n",
      "Done Query No :  62 0\n",
      "\n",
      "Done Query No :  63 0\n",
      "\n",
      "Done Query No :  64 0\n",
      "\n",
      "Done Query No :  65 0\n",
      "\n",
      "Done Query No :  66 0\n",
      "\n",
      "Done Query No :  67 0\n",
      "\n",
      "Done Query No :  68 0\n",
      "\n",
      "Done Query No :  69 0\n",
      "\n",
      "Done Query No :  70 0\n",
      "\n",
      "Done Query No :  71 0\n",
      "\n",
      "Done Query No :  72 2\n",
      "Done Query No :  73 1\n",
      "Done Query No :  74 1\n",
      "Done Query No :  75 1\n",
      "Done Query No :  76 0\n",
      "\n",
      "Done Query No :  77 0\n",
      "\n",
      "Done Query No :  78 0\n",
      "\n",
      "Done Query No :  79 0\n",
      "\n",
      "Done Query No :  80 0\n",
      "\n",
      "Done Query No :  81 0\n",
      "\n",
      "Done Query No :  82 0\n",
      "\n",
      "Done Query No :  83 0\n",
      "\n",
      "Done Query No :  84 0\n",
      "\n",
      "Done Query No :  85 0\n",
      "\n",
      "Done Query No :  86 0\n",
      "\n",
      "Done Query No :  87 0\n",
      "\n",
      "Done Query No :  88 0\n",
      "\n",
      "Done Query No :  89 0\n",
      "\n",
      "Done Query No :  90 0\n",
      "\n",
      "Done Query No :  91 0\n",
      "\n",
      "Done Query No :  92 0\n",
      "\n",
      "Done Query No :  93 0\n",
      "\n",
      "Done Query No :  94 0\n",
      "\n",
      "Done Query No :  95 0\n",
      "\n",
      "Done Query No :  96 0\n",
      "\n",
      "Done Query No :  97 0\n",
      "\n",
      "Done Query No :  98 0\n",
      "\n",
      "Done Query No :  99 0\n",
      "\n",
      "Done Query No :  100 0\n",
      "\n",
      "Done Query No :  101 0\n",
      "\n",
      "Done Query No :  102 0\n",
      "\n",
      "Done Query No :  103 0\n",
      "\n",
      "Done Query No :  104 0\n",
      "\n",
      "Done Query No :  105 0\n",
      "\n",
      "Done Query No :  106 0\n",
      "\n",
      "Done Query No :  107 0\n",
      "\n",
      "Done Query No :  108 0\n",
      "\n",
      "Done Query No :  109 0\n",
      "\n",
      "Done Query No :  110 0\n",
      "\n",
      "Done Query No :  111 0\n",
      "\n",
      "Done Query No :  112 0\n",
      "\n",
      "Done Query No :  113 0\n",
      "\n",
      "Done Query No :  114 0\n",
      "\n",
      "Done Query No :  115 0\n",
      "\n",
      "Done Query No :  116 0\n",
      "\n",
      "Done Query No :  117 0\n",
      "\n",
      "Done Query No :  118 0\n",
      "\n",
      "Done Query No :  119 0\n",
      "\n",
      "Done Query No :  120 0\n",
      "\n",
      "Done Query No :  121 0\n",
      "\n",
      "Done Query No :  122 0\n",
      "\n",
      "Done Query No :  123 0\n",
      "\n",
      "Done Query No :  124 0\n",
      "\n",
      "Done Query No :  125 0\n",
      "\n",
      "Done Query No :  126 0\n",
      "\n",
      "Done Query No :  127 0\n",
      "\n",
      "Done Query No :  128 0\n",
      "\n",
      "Done Query No :  129 0\n",
      "\n",
      "Done Query No :  130 0\n",
      "\n",
      "Done Query No :  131 0\n",
      "\n",
      "Done Query No :  132 1\n",
      "Done Query No :  133 1\n",
      "Done Query No :  134 1\n",
      "Done Query No :  135 1\n",
      "Done Query No :  136 1\n",
      "Done Query No :  137 1\n",
      "Done Query No :  138 0\n",
      "\n",
      "Done Query No :  139 0\n",
      "\n",
      "Done Query No :  140 0\n",
      "\n",
      "Done Query No :  141 0\n",
      "\n",
      "Done Query No :  142 0\n",
      "\n",
      "Done Query No :  143 0\n",
      "\n",
      "Done Query No :  144 0\n",
      "\n",
      "Done Query No :  145 0\n",
      "\n",
      "Done Query No :  146 0\n",
      "\n",
      "Done Query No :  147 0\n",
      "\n",
      "Done Query No :  148 0\n",
      "\n",
      "Done Query No :  149 0\n",
      "\n",
      "Done Query No :  150 0\n",
      "\n",
      "Done Query No :  151 0\n",
      "\n",
      "Done Query No :  152 0\n",
      "\n",
      "Done Query No :  153 0\n",
      "\n",
      "Done Query No :  154 0\n",
      "\n",
      "Done Query No :  155 0\n",
      "\n",
      "Done Query No :  156 0\n",
      "\n",
      "Done Query No :  157 0\n",
      "\n",
      "Done Query No :  158 0\n",
      "\n",
      "Done Query No :  159 1\n",
      "Done Query No :  160 1\n",
      "Done Query No :  161 0\n",
      "\n",
      "Done Query No :  162 0\n",
      "\n",
      "Done Query No :  163 0\n",
      "\n",
      "Done Query No :  164 0\n",
      "\n",
      "Done Query No :  165 0\n",
      "\n",
      "Done Query No :  166 0\n",
      "\n",
      "Done Query No :  167 0\n",
      "\n",
      "Done Query No :  168 0\n",
      "\n",
      "Done Query No :  169 0\n",
      "\n",
      "Done Query No :  170 0\n",
      "\n",
      "Done Query No :  171 0\n",
      "\n",
      "Done Query No :  172 0\n",
      "\n",
      "Done Query No :  173 1\n",
      "Done Query No :  174 1\n",
      "Done Query No :  175 1\n",
      "Done Query No :  176 1\n",
      "Done Query No :  177 1\n",
      "Done Query No :  178 1\n",
      "Done Query No :  179 1\n",
      "Done Query No :  180 1\n",
      "Done Query No :  181 0\n",
      "\n",
      "Done Query No :  182 0\n",
      "\n",
      "Done Query No :  183 0\n",
      "\n",
      "Done Query No :  184 0\n",
      "\n",
      "Done Query No :  185 0\n",
      "\n",
      "Done Query No :  186 0\n",
      "\n",
      "Done Query No :  187 0\n",
      "\n",
      "Done Query No :  188 0\n",
      "\n",
      "Done Query No :  189 0\n",
      "\n",
      "Done Query No :  190 0\n",
      "\n",
      "Done Query No :  191 0\n",
      "\n",
      "Done Query No :  192 0\n",
      "\n"
     ]
    }
   ],
   "source": [
    "err_ind = []\n",
    "dfs = []\n",
    "qqq = []\n",
    "for i,(WS_url,FB_url,FM_url,q) in enumerate(insert_queries):\n",
    "    try:\n",
    "        fetch_query = f\"select * from match_schedule where whoscored_url like'%{WS_url}%' or\"\n",
    "        fetch_query += f\" fbref_url like'%{FB_url}%' or fotmob_url like '%{FM_url}%'; \"\n",
    "        fetch_query = fetch_query.replace(\".0\",'')\n",
    "        l = sql_connector.execute_select_query(fetch_query)\n",
    "        print(\"Done Query No : \",i+1,len(l))\n",
    "        \n",
    "        if len(l) !=0:\n",
    "            if len(l) > 1 :\n",
    "                dfs.append(pd.DataFrame(l))\n",
    "            continue\n",
    "        else:\n",
    "            qqq.append(q)\n",
    "        sql_connector.execute_insert_query(q)\n",
    "        # print(l,type(l))\n",
    "        print()\n",
    "    except Exception as e:\n",
    "        err_ind.append((i,str(e)))"
   ]
  },
  {
   "cell_type": "code",
   "execution_count": 17,
   "id": "1ea6c008-5ad2-4d68-a4b2-82723e70520b",
   "metadata": {},
   "outputs": [
    {
     "data": {
      "text/plain": [
       "[\"INSERT INTO match_schedule (competition,season,stage,date,home_team,away_team,score,whoscored_id,whoscored_url,fbref_id,fbref_url,fotmob_id,fotmob_url) VALUES ('ITA-Serie A','23-24','None','2024-03-30','Napoli','Atalanta','0–3','1746348','https://1xbet.whoscored.com/Matches/1746348/Live/Italy-Serie-A-2023-2024-Napoli-Atalanta','45e6d215','/en/matches/45e6d215/Napoli-Atalanta-March-30-2024-Serie-A','4230839','/matches/atalanta-vs-ssc-napoli/2ss9sz#4230839')\",\n",
       " \"INSERT INTO match_schedule (competition,season,stage,date,home_team,away_team,score,whoscored_id,whoscored_url,fbref_id,fbref_url,fotmob_id,fotmob_url) VALUES ('ITA-Serie A','23-24','None','2024-03-30','Genoa','Frosinone','1–1','1746352','https://1xbet.whoscored.com/Matches/1746352/Live/Italy-Serie-A-2023-2024-Genoa-Frosinone','949865c6','/en/matches/949865c6/Genoa-Frosinone-March-30-2024-Serie-A','4230841','/matches/frosinone-vs-genoa/3ckfw9#4230841')\",\n",
       " \"INSERT INTO match_schedule (competition,season,stage,date,home_team,away_team,score,whoscored_id,whoscored_url,fbref_id,fbref_url,fotmob_id,fotmob_url) VALUES ('ITA-Serie A','23-24','None','2024-03-30','Torino','Monza','1–0','1746355','https://1xbet.whoscored.com/Matches/1746355/Live/Italy-Serie-A-2023-2024-Torino-Monza','a797c77d','/en/matches/a797c77d/Torino-Monza-March-30-2024-Serie-A','4230843','/matches/monza-vs-torino/276icu#4230843')\",\n",
       " \"INSERT INTO match_schedule (competition,season,stage,date,home_team,away_team,score,whoscored_id,whoscored_url,fbref_id,fbref_url,fotmob_id,fotmob_url) VALUES ('ITA-Serie A','23-24','None','2024-03-30','Lazio','Juventus','1–0','1746354','https://1xbet.whoscored.com/Matches/1746354/Live/Italy-Serie-A-2023-2024-Lazio-Juventus','2b4a58d1','/en/matches/2b4a58d1/Lazio-Juventus-March-30-2024-Serie-A','4230842','/matches/lazio-vs-juventus/2t3pur#4230842')\",\n",
       " \"INSERT INTO match_schedule (competition,season,stage,date,home_team,away_team,score,whoscored_id,whoscored_url,fbref_id,fbref_url,fotmob_id,fotmob_url) VALUES ('ITA-Serie A','23-24','None','2024-03-30','Fiorentina','AC Milan','1–2','1746342','https://1xbet.whoscored.com/Matches/1746342/Live/Italy-Serie-A-2023-2024-Fiorentina-AC-Milan','a9ac1dd4','/en/matches/a9ac1dd4/Fiorentina-Milan-March-30-2024-Serie-A','4230836','/matches/fiorentina-vs-ac-milan/2f1oie#4230836')\",\n",
       " \"INSERT INTO match_schedule (competition,season,stage,date,home_team,away_team,score,whoscored_id,whoscored_url,fbref_id,fbref_url,fotmob_id,fotmob_url) VALUES ('ITA-Serie A','23-24','None','2024-04-01','Bologna','Salernitana','3–0','1746338','https://1xbet.whoscored.com/Matches/1746338/Live/Italy-Serie-A-2023-2024-Bologna-Salernitana','b2dfb23d','/en/matches/b2dfb23d/Bologna-Salernitana-April-1-2024-Serie-A','4230834','/matches/salernitana-vs-bologna/27gnne#4230834')\",\n",
       " \"INSERT INTO match_schedule (competition,season,stage,date,home_team,away_team,score,whoscored_id,whoscored_url,fbref_id,fbref_url,fotmob_id,fotmob_url) VALUES ('ITA-Serie A','23-24','None','2024-04-01','Cagliari','Verona','1–1','1746340','https://1xbet.whoscored.com/Matches/1746340/Live/Italy-Serie-A-2023-2024-Cagliari-Verona','f7d8a40e','/en/matches/f7d8a40e/Cagliari-Hellas-Verona-April-1-2024-Serie-A','4230835','/matches/cagliari-vs-hellas-verona/2sun03#4230835')\",\n",
       " \"INSERT INTO match_schedule (competition,season,stage,date,home_team,away_team,score,whoscored_id,whoscored_url,fbref_id,fbref_url,fotmob_id,fotmob_url) VALUES ('ITA-Serie A','23-24','None','2024-04-01','Sassuolo','Udinese','1–1','1746346','https://1xbet.whoscored.com/Matches/1746346/Live/Italy-Serie-A-2023-2024-Sassuolo-Udinese','f6e582c5','/en/matches/f6e582c5/Sassuolo-Udinese-April-1-2024-Serie-A','4230838','/matches/sassuolo-vs-udinese/29h7wo#4230838')\",\n",
       " \"INSERT INTO match_schedule (competition,season,stage,date,home_team,away_team,score,whoscored_id,whoscored_url,fbref_id,fbref_url,fotmob_id,fotmob_url) VALUES ('ITA-Serie A','23-24','None','2024-04-01','Lecce','Roma','0–0','1746344','https://1xbet.whoscored.com/Matches/1746344/Live/Italy-Serie-A-2023-2024-Lecce-Roma','e48fdc60','/en/matches/e48fdc60/Lecce-Roma-April-1-2024-Serie-A','4230837','/matches/roma-vs-lecce/2upm4p#4230837')\",\n",
       " \"INSERT INTO match_schedule (competition,season,stage,date,home_team,away_team,score,whoscored_id,whoscored_url,fbref_id,fbref_url,fotmob_id,fotmob_url) VALUES ('ITA-Serie A','23-24','None','2024-04-01','Inter','Empoli','2–0','1746350','https://1xbet.whoscored.com/Matches/1746350/Live/Italy-Serie-A-2023-2024-Inter-Empoli','58bfb9d7','/en/matches/58bfb9d7/Internazionale-Empoli-April-1-2024-Serie-A','4230840','/matches/empoli-vs-inter/2frraf#4230840')\",\n",
       " \"INSERT INTO match_schedule (competition,season,stage,date,home_team,away_team,score,whoscored_id,whoscored_url,fbref_id,fbref_url,fotmob_id,fotmob_url) VALUES ('ITA-Serie A','23-24','None','2024-04-05','Salernitana','Sassuolo','2–2','1746353','https://1xbet.whoscored.com/Matches/1746353/Live/Italy-Serie-A-2023-2024-Salernitana-Sassuolo','093991c7','/en/matches/093991c7/Salernitana-Sassuolo-April-5-2024-Serie-A','4230810','/matches/salernitana-vs-sassuolo/1pxngb#4230810')\",\n",
       " \"INSERT INTO match_schedule (competition,season,stage,date,home_team,away_team,score,whoscored_id,whoscored_url,fbref_id,fbref_url,fotmob_id,fotmob_url) VALUES ('ITA-Serie A','23-24','None','2024-04-06','AC Milan','Lecce','3–0','1746317','https://1xbet.whoscored.com/Matches/1746317/Live/Italy-Serie-A-2023-2024-AC-Milan-Lecce','43765d2c','/en/matches/43765d2c/Milan-Lecce-April-6-2024-Serie-A','4230824','/matches/ac-milan-vs-lecce/2td7ci#4230824')\",\n",
       " \"INSERT INTO match_schedule (competition,season,stage,date,home_team,away_team,score,whoscored_id,whoscored_url,fbref_id,fbref_url,fotmob_id,fotmob_url) VALUES ('ITA-Serie A','23-24','None','2024-04-06','Roma','Lazio','1–0','1746311','https://1xbet.whoscored.com/Matches/1746311/Live/Italy-Serie-A-2023-2024-Roma-Lazio','c6904d7c','/en/matches/c6904d7c/Roma-Lazio-April-6-2024-Serie-A','4230822','/matches/lazio-vs-roma/2gdicp#4230822')\",\n",
       " \"INSERT INTO match_schedule (competition,season,stage,date,home_team,away_team,score,whoscored_id,whoscored_url,fbref_id,fbref_url,fotmob_id,fotmob_url) VALUES ('ITA-Serie A','23-24','None','2024-04-06','Empoli','Torino','3–2','1746347','https://1xbet.whoscored.com/Matches/1746347/Live/Italy-Serie-A-2023-2024-Empoli-Torino','4b35fb0d','/en/matches/4b35fb0d/Empoli-Torino-April-6-2024-Serie-A','4230807','/matches/empoli-vs-torino/2s495r#4230807')\",\n",
       " \"INSERT INTO match_schedule (competition,season,stage,date,home_team,away_team,score,whoscored_id,whoscored_url,fbref_id,fbref_url,fotmob_id,fotmob_url) VALUES ('ITA-Serie A','23-24','None','2024-04-07','Frosinone','Bologna','0–0','1746362','https://1xbet.whoscored.com/Matches/1746362/Live/Italy-Serie-A-2023-2024-Frosinone-Bologna','9e8b48ec','/en/matches/9e8b48ec/Frosinone-Bologna-April-7-2024-Serie-A','4230814','/matches/bologna-vs-frosinone/383rul#4230814')\",\n",
       " \"INSERT INTO match_schedule (competition,season,stage,date,home_team,away_team,score,whoscored_id,whoscored_url,fbref_id,fbref_url,fotmob_id,fotmob_url) VALUES ('ITA-Serie A','23-24','None','2024-04-07','Monza','Napoli','2–4','1746349','https://1xbet.whoscored.com/Matches/1746349/Live/Italy-Serie-A-2023-2024-Monza-Napoli','9bd21fb8','/en/matches/9bd21fb8/Monza-Napoli-April-7-2024-Serie-A','4230808','/matches/monza-vs-ssc-napoli/27vdst#4230808')\",\n",
       " \"INSERT INTO match_schedule (competition,season,stage,date,home_team,away_team,score,whoscored_id,whoscored_url,fbref_id,fbref_url,fotmob_id,fotmob_url) VALUES ('ITA-Serie A','23-24','None','2024-04-07','Cagliari','Atalanta','2–1','1746358','https://1xbet.whoscored.com/Matches/1746358/Live/Italy-Serie-A-2023-2024-Cagliari-Atalanta','3a4f86ae','/en/matches/3a4f86ae/Cagliari-Atalanta-April-7-2024-Serie-A','4230812','/matches/atalanta-vs-cagliari/2ekudg#4230812')\",\n",
       " \"INSERT INTO match_schedule (competition,season,stage,date,home_team,away_team,score,whoscored_id,whoscored_url,fbref_id,fbref_url,fotmob_id,fotmob_url) VALUES ('ITA-Serie A','23-24','None','2024-04-07','Verona','Genoa','1–2','1746299','https://1xbet.whoscored.com/Matches/1746299/Live/Italy-Serie-A-2023-2024-Verona-Genoa','b266d1c5','/en/matches/b266d1c5/Hellas-Verona-Genoa-April-7-2024-Serie-A','4230818','/matches/hellas-verona-vs-genoa/3cdz1r#4230818')\",\n",
       " \"INSERT INTO match_schedule (competition,season,stage,date,home_team,away_team,score,whoscored_id,whoscored_url,fbref_id,fbref_url,fotmob_id,fotmob_url) VALUES ('ITA-Serie A','23-24','None','2024-04-07','Juventus','Fiorentina','1–0','1746293','https://1xbet.whoscored.com/Matches/1746293/Live/Italy-Serie-A-2023-2024-Juventus-Fiorentina','186d535c','/en/matches/186d535c/Juventus-Fiorentina-April-7-2024-Serie-A','4230816','/matches/fiorentina-vs-juventus/2t0k4f#4230816')\",\n",
       " \"INSERT INTO match_schedule (competition,season,stage,date,home_team,away_team,score,whoscored_id,whoscored_url,fbref_id,fbref_url,fotmob_id,fotmob_url) VALUES ('ITA-Serie A','23-24','None','2024-04-08','Udinese','Inter','1–2','1746305','https://1xbet.whoscored.com/Matches/1746305/Live/Italy-Serie-A-2023-2024-Udinese-Inter','13a593d3','/en/matches/13a593d3/Udinese-Internazionale-April-8-2024-Serie-A','4230820','/matches/udinese-vs-inter/2gg3e6#4230820')\",\n",
       " \"INSERT INTO match_schedule (competition,season,stage,date,home_team,away_team,score,whoscored_id,whoscored_url,fbref_id,fbref_url,fotmob_id,fotmob_url) VALUES ('ITA-Serie A','23-24','None','2024-04-12','Lazio','Salernitana','4–1','1746363','https://1xbet.whoscored.com/Matches/1746363/Live/Italy-Serie-A-2023-2024-Lazio-Salernitana','500cf804','/en/matches/500cf804/Lazio-Salernitana-April-12-2024-Serie-A','4230847','/matches/salernitana-vs-lazio/1v70cn#4230847')\",\n",
       " \"INSERT INTO match_schedule (competition,season,stage,date,home_team,away_team,score,whoscored_id,whoscored_url,fbref_id,fbref_url,fotmob_id,fotmob_url) VALUES ('ITA-Serie A','23-24','None','2024-04-13','Lecce','Empoli','1–0','1746365','https://1xbet.whoscored.com/Matches/1746365/Live/Italy-Serie-A-2023-2024-Lecce-Empoli','e1660e90','/en/matches/e1660e90/Lecce-Empoli-April-13-2024-Serie-A','4230849','/matches/empoli-vs-lecce/2t1cjx#4230849')\",\n",
       " \"INSERT INTO match_schedule (competition,season,stage,date,home_team,away_team,score,whoscored_id,whoscored_url,fbref_id,fbref_url,fotmob_id,fotmob_url) VALUES ('ITA-Serie A','23-24','None','2024-04-13','Torino','Juventus','0–0','1746367','https://1xbet.whoscored.com/Matches/1746367/Live/Italy-Serie-A-2023-2024-Torino-Juventus','df4af29b','/en/matches/df4af29b/Torino-Juventus-April-13-2024-Serie-A','4230851','/matches/torino-vs-juventus/37eu56#4230851')\",\n",
       " \"INSERT INTO match_schedule (competition,season,stage,date,home_team,away_team,score,whoscored_id,whoscored_url,fbref_id,fbref_url,fotmob_id,fotmob_url) VALUES ('ITA-Serie A','23-24','None','2024-04-13','Bologna','Monza','0–0','1746359','https://1xbet.whoscored.com/Matches/1746359/Live/Italy-Serie-A-2023-2024-Bologna-Monza','7ae9f1cb','/en/matches/7ae9f1cb/Bologna-Monza-April-13-2024-Serie-A','4230845','/matches/monza-vs-bologna/27p2f2#4230845')\",\n",
       " \"INSERT INTO match_schedule (competition,season,stage,date,home_team,away_team,score,whoscored_id,whoscored_url,fbref_id,fbref_url,fotmob_id,fotmob_url) VALUES ('ITA-Serie A','23-24','None','2024-04-14','Napoli','Frosinone','2–2','1746366','https://1xbet.whoscored.com/Matches/1746366/Live/Italy-Serie-A-2023-2024-Napoli-Frosinone','4cd52f7a','/en/matches/4cd52f7a/Napoli-Frosinone-April-14-2024-Serie-A','4230850','/matches/ssc-napoli-vs-frosinone/38be9c#4230850')\",\n",
       " \"INSERT INTO match_schedule (competition,season,stage,date,home_team,away_team,score,whoscored_id,whoscored_url,fbref_id,fbref_url,fotmob_id,fotmob_url) VALUES ('ITA-Serie A','23-24','None','2024-04-14','Sassuolo','AC Milan','3–3','1746368','https://1xbet.whoscored.com/Matches/1746368/Live/Italy-Serie-A-2023-2024-Sassuolo-AC-Milan','55d35708','/en/matches/55d35708/Sassuolo-Milan-April-14-2024-Serie-A','4230852','/matches/sassuolo-vs-ac-milan/294gu6#4230852')\",\n",
       " \"INSERT INTO match_schedule (competition,season,stage,date,home_team,away_team,score,whoscored_id,whoscored_url,fbref_id,fbref_url,fotmob_id,fotmob_url) VALUES ('ITA-Serie A','23-24','None','2024-04-14','Inter','Cagliari','2–2','1746364','https://1xbet.whoscored.com/Matches/1746364/Live/Italy-Serie-A-2023-2024-Inter-Cagliari','6fa3136b','/en/matches/6fa3136b/Internazionale-Cagliari-April-14-2024-Serie-A','4230848','/matches/cagliari-vs-inter/2fpx1z#4230848')\",\n",
       " \"INSERT INTO match_schedule (competition,season,stage,date,home_team,away_team,score,whoscored_id,whoscored_url,fbref_id,fbref_url,fotmob_id,fotmob_url) VALUES ('ITA-Serie A','23-24','None','2024-04-15','Fiorentina','Genoa','1–1','1746361','https://1xbet.whoscored.com/Matches/1746361/Live/Italy-Serie-A-2023-2024-Fiorentina-Genoa','f4f2aa58','/en/matches/f4f2aa58/Fiorentina-Genoa-April-15-2024-Serie-A','4230846','/matches/fiorentina-vs-genoa/2wv81r#4230846')\",\n",
       " \"INSERT INTO match_schedule (competition,season,stage,date,home_team,away_team,score,whoscored_id,whoscored_url,fbref_id,fbref_url,fotmob_id,fotmob_url) VALUES ('ITA-Serie A','23-24','None','2024-04-15','Atalanta','Verona','2–2','1746357','https://1xbet.whoscored.com/Matches/1746357/Live/Italy-Serie-A-2023-2024-Atalanta-Verona','6a69ffd2','/en/matches/6a69ffd2/Atalanta-Hellas-Verona-April-15-2024-Serie-A','4230844','/matches/atalanta-vs-hellas-verona/2sso04#4230844')\",\n",
       " \"INSERT INTO match_schedule (competition,season,stage,date,home_team,away_team,score,whoscored_id,whoscored_url,fbref_id,fbref_url,fotmob_id,fotmob_url) VALUES ('ITA-Serie A','23-24','None','2024-04-19','Genoa','Lazio','0–1','1746372','https://1xbet.whoscored.com/Matches/1746372/Live/Italy-Serie-A-2023-2024-Genoa-Lazio','a83ed0d9','/en/matches/a83ed0d9/Genoa-Lazio-April-19-2024-Serie-A','4230856','/matches/lazio-vs-genoa/2wyfxn#4230856')\",\n",
       " \"INSERT INTO match_schedule (competition,season,stage,date,home_team,away_team,score,whoscored_id,whoscored_url,fbref_id,fbref_url,fotmob_id,fotmob_url) VALUES ('ITA-Serie A','23-24','None','2024-04-19','Cagliari','Juventus','2–2','1746370','https://1xbet.whoscored.com/Matches/1746370/Live/Italy-Serie-A-2023-2024-Cagliari-Juventus','9886fa0c','/en/matches/9886fa0c/Cagliari-Juventus-April-19-2024-Serie-A','4230854','/matches/cagliari-vs-juventus/2sy6uu#4230854')\",\n",
       " \"INSERT INTO match_schedule (competition,season,stage,date,home_team,away_team,score,whoscored_id,whoscored_url,fbref_id,fbref_url,fotmob_id,fotmob_url) VALUES ('ITA-Serie A','23-24','None','2024-04-20','Empoli','Napoli','1–0','1746371','https://1xbet.whoscored.com/Matches/1746371/Live/Italy-Serie-A-2023-2024-Empoli-Napoli','08b10a76','/en/matches/08b10a76/Empoli-Napoli-April-20-2024-Serie-A','4230855','/matches/empoli-vs-ssc-napoli/2sw7tc#4230855')\",\n",
       " \"INSERT INTO match_schedule (competition,season,stage,date,home_team,away_team,score,whoscored_id,whoscored_url,fbref_id,fbref_url,fotmob_id,fotmob_url) VALUES ('ITA-Serie A','23-24','None','2024-04-20','Verona','Udinese','1–0','1746373','https://1xbet.whoscored.com/Matches/1746373/Live/Italy-Serie-A-2023-2024-Verona-Udinese','e1ddfae8','/en/matches/e1ddfae8/Hellas-Verona-Udinese-April-20-2024-Serie-A','4230857','/matches/udinese-vs-hellas-verona/2tmp9u#4230857')\",\n",
       " \"INSERT INTO match_schedule (competition,season,stage,date,home_team,away_team,score,whoscored_id,whoscored_url,fbref_id,fbref_url,fotmob_id,fotmob_url) VALUES ('ITA-Serie A','23-24','None','2024-04-21','Sassuolo','Lecce','0–3','1746379','https://1xbet.whoscored.com/Matches/1746379/Live/Italy-Serie-A-2023-2024-Sassuolo-Lecce','d1e0f970','/en/matches/d1e0f970/Sassuolo-Lecce-April-21-2024-Serie-A','4230863','/matches/sassuolo-vs-lecce/2mnqb0#4230863')\",\n",
       " \"INSERT INTO match_schedule (competition,season,stage,date,home_team,away_team,score,whoscored_id,whoscored_url,fbref_id,fbref_url,fotmob_id,fotmob_url) VALUES ('ITA-Serie A','23-24','None','2024-04-21','Torino','Frosinone','0–0','1746377','https://1xbet.whoscored.com/Matches/1746377/Live/Italy-Serie-A-2023-2024-Torino-Frosinone','ee365788','/en/matches/ee365788/Torino-Frosinone-April-21-2024-Serie-A','4230861','/matches/torino-vs-frosinone/37hdbf#4230861')\",\n",
       " \"INSERT INTO match_schedule (competition,season,stage,date,home_team,away_team,score,whoscored_id,whoscored_url,fbref_id,fbref_url,fotmob_id,fotmob_url) VALUES ('ITA-Serie A','23-24','None','2024-04-21','Salernitana','Fiorentina','0–2','1746376','https://1xbet.whoscored.com/Matches/1746376/Live/Italy-Serie-A-2023-2024-Salernitana-Fiorentina','fcfc5c95','/en/matches/fcfc5c95/Salernitana-Fiorentina-April-21-2024-Serie-A','4230860','/matches/salernitana-vs-fiorentina/1v4fmr#4230860')\",\n",
       " \"INSERT INTO match_schedule (competition,season,stage,date,home_team,away_team,score,whoscored_id,whoscored_url,fbref_id,fbref_url,fotmob_id,fotmob_url) VALUES ('ITA-Serie A','23-24','None','2024-04-21','Monza','Atalanta','1–2','1746374','https://1xbet.whoscored.com/Matches/1746374/Live/Italy-Serie-A-2023-2024-Monza-Atalanta','8959e7b1','/en/matches/8959e7b1/Monza-Atalanta-April-21-2024-Serie-A','4230858','/matches/monza-vs-atalanta/1v8mb2#4230858')\",\n",
       " \"INSERT INTO match_schedule (competition,season,stage,date,home_team,away_team,score,whoscored_id,whoscored_url,fbref_id,fbref_url,fotmob_id,fotmob_url) VALUES ('ITA-Serie A','23-24','None','2024-04-22','Roma','Bologna','1–3','1746375','https://1xbet.whoscored.com/Matches/1746375/Live/Italy-Serie-A-2023-2024-Roma-Bologna','483d3341','/en/matches/483d3341/Roma-Bologna-April-22-2024-Serie-A','4230859','/matches/roma-vs-bologna/2uda6h#4230859')\",\n",
       " \"INSERT INTO match_schedule (competition,season,stage,date,home_team,away_team,score,whoscored_id,whoscored_url,fbref_id,fbref_url,fotmob_id,fotmob_url) VALUES ('ITA-Serie A','23-24','None','2024-04-22','AC Milan','Inter','1–2','1746378','https://1xbet.whoscored.com/Matches/1746378/Live/Italy-Serie-A-2023-2024-AC-Milan-Inter','f8a1cbc3','/en/matches/f8a1cbc3/Derby-della-Madonnina-Milan-Internazionale-April-22-2024-Serie-A','4230862','/matches/ac-milan-vs-inter/2g2t3o#4230862')\",\n",
       " \"INSERT INTO match_schedule (competition,season,stage,date,home_team,away_team,score,whoscored_id,whoscored_url,fbref_id,fbref_url,fotmob_id,fotmob_url) VALUES ('ITA-Serie A','23-24','None','2024-04-25','Udinese','Roma','1–2','1746369','https://1xbet.whoscored.com/Matches/1746369/Live/Italy-Serie-A-2023-2024-Udinese-Roma','bca64d25','/en/matches/bca64d25/Udinese-Roma-April-25-2024-Serie-A','4230853','/matches/udinese-vs-roma/2gyldv#4230853')\",\n",
       " \"INSERT INTO match_schedule (competition,season,stage,date,home_team,away_team,score,whoscored_id,whoscored_url,fbref_id,fbref_url,fotmob_id,fotmob_url) VALUES ('ITA-Serie A','23-24','None','2024-04-26','Frosinone','Salernitana','3–0','1746301','https://1xbet.whoscored.com/Matches/1746301/Live/Italy-Serie-A-2023-2024-Frosinone-Salernitana','4fefb5fb','/en/matches/4fefb5fb/Frosinone-Salernitana-April-26-2024-Serie-A','4230867','/matches/salernitana-vs-frosinone/27skq9#4230867')\",\n",
       " \"INSERT INTO match_schedule (competition,season,stage,date,home_team,away_team,score,whoscored_id,whoscored_url,fbref_id,fbref_url,fotmob_id,fotmob_url) VALUES ('ITA-Serie A','23-24','None','2024-04-27','Lecce','Monza','1–1','1746309','https://1xbet.whoscored.com/Matches/1746309/Live/Italy-Serie-A-2023-2024-Lecce-Monza','04472974','/en/matches/04472974/Lecce-Monza-April-27-2024-Serie-A','4230870','/matches/monza-vs-lecce/27zy6c#4230870')\",\n",
       " \"INSERT INTO match_schedule (competition,season,stage,date,home_team,away_team,score,whoscored_id,whoscored_url,fbref_id,fbref_url,fotmob_id,fotmob_url) VALUES ('ITA-Serie A','23-24','None','2024-04-27','Juventus','AC Milan','0–0','1746306','https://1xbet.whoscored.com/Matches/1746306/Live/Italy-Serie-A-2023-2024-Juventus-AC-Milan','023acbca','/en/matches/023acbca/Juventus-Milan-April-27-2024-Serie-A','4230869','/matches/ac-milan-vs-juventus/2tc0mu#4230869')\",\n",
       " \"INSERT INTO match_schedule (competition,season,stage,date,home_team,away_team,score,whoscored_id,whoscored_url,fbref_id,fbref_url,fotmob_id,fotmob_url) VALUES ('ITA-Serie A','23-24','None','2024-04-27','Lazio','Verona','1–0','1746318','https://1xbet.whoscored.com/Matches/1746318/Live/Italy-Serie-A-2023-2024-Lazio-Verona','730f4d2a','/en/matches/730f4d2a/Lazio-Hellas-Verona-April-27-2024-Serie-A','4230873','/matches/lazio-vs-hellas-verona/2t05wi#4230873')\",\n",
       " \"INSERT INTO match_schedule (competition,season,stage,date,home_team,away_team,score,whoscored_id,whoscored_url,fbref_id,fbref_url,fotmob_id,fotmob_url) VALUES ('ITA-Serie A','23-24','None','2024-04-28','Inter','Torino','2–0','1746304','https://1xbet.whoscored.com/Matches/1746304/Live/Italy-Serie-A-2023-2024-Inter-Torino','dbd84631','/en/matches/dbd84631/Internazionale-Torino-April-28-2024-Serie-A','4230868','/matches/inter-vs-torino/2t8ghc#4230868')\",\n",
       " \"INSERT INTO match_schedule (competition,season,stage,date,home_team,away_team,score,whoscored_id,whoscored_url,fbref_id,fbref_url,fotmob_id,fotmob_url) VALUES ('ITA-Serie A','23-24','None','2024-04-28','Bologna','Udinese','1–1','1746295','https://1xbet.whoscored.com/Matches/1746295/Live/Italy-Serie-A-2023-2024-Bologna-Udinese','e7aba6c2','/en/matches/e7aba6c2/Bologna-Udinese-April-28-2024-Serie-A','4230865','/matches/udinese-vs-bologna/2tf6iu#4230865')\",\n",
       " \"INSERT INTO match_schedule (competition,season,stage,date,home_team,away_team,score,whoscored_id,whoscored_url,fbref_id,fbref_url,fotmob_id,fotmob_url) VALUES ('ITA-Serie A','23-24','None','2024-04-28','Atalanta','Empoli','2–0','1746292','https://1xbet.whoscored.com/Matches/1746292/Live/Italy-Serie-A-2023-2024-Atalanta-Empoli','526fed3e','/en/matches/526fed3e/Atalanta-Empoli-April-28-2024-Serie-A','4230864','/matches/atalanta-vs-empoli/2emo6h#4230864')\",\n",
       " \"INSERT INTO match_schedule (competition,season,stage,date,home_team,away_team,score,whoscored_id,whoscored_url,fbref_id,fbref_url,fotmob_id,fotmob_url) VALUES ('ITA-Serie A','23-24','None','2024-04-28','Napoli','Roma','2–2','1746312','https://1xbet.whoscored.com/Matches/1746312/Live/Italy-Serie-A-2023-2024-Napoli-Roma','5820452a','/en/matches/5820452a/Derby-del-Sole-Napoli-Roma-April-28-2024-Serie-A','4230871','/matches/roma-vs-ssc-napoli/2ukfv8#4230871')\",\n",
       " \"INSERT INTO match_schedule (competition,season,stage,date,home_team,away_team,score,whoscored_id,whoscored_url,fbref_id,fbref_url,fotmob_id,fotmob_url) VALUES ('ITA-Serie A','23-24','None','2024-04-28','Fiorentina','Sassuolo','5–1','1746298','https://1xbet.whoscored.com/Matches/1746298/Live/Italy-Serie-A-2023-2024-Fiorentina-Sassuolo','a325ac75','/en/matches/a325ac75/Fiorentina-Sassuolo-April-28-2024-Serie-A','4230866','/matches/sassuolo-vs-fiorentina/28u7rc#4230866')\",\n",
       " \"INSERT INTO match_schedule (competition,season,stage,date,home_team,away_team,score,whoscored_id,whoscored_url,fbref_id,fbref_url,fotmob_id,fotmob_url) VALUES ('ITA-Serie A','23-24','None','2024-04-29','Genoa','Cagliari','3–0','1746315','https://1xbet.whoscored.com/Matches/1746315/Live/Italy-Serie-A-2023-2024-Genoa-Cagliari','29911872','/en/matches/29911872/Genoa-Cagliari-April-29-2024-Serie-A','4230872','/matches/cagliari-vs-genoa/2wst60#4230872')\",\n",
       " \"INSERT INTO match_schedule (competition,season,stage,date,home_team,away_team,score,whoscored_id,whoscored_url,fbref_id,fbref_url,fotmob_id,fotmob_url) VALUES ('ITA-Serie A','23-24','None','2024-05-03','Torino','Bologna','0–0','1746383','https://1xbet.whoscored.com/Matches/1746383/Live/Italy-Serie-A-2023-2024-Torino-Bologna','b1ee8734','/en/matches/b1ee8734/Torino-Bologna-May-3-2024-Serie-A','4230877','/matches/torino-vs-bologna/373118#4230877')\",\n",
       " \"INSERT INTO match_schedule (competition,season,stage,date,home_team,away_team,score,whoscored_id,whoscored_url,fbref_id,fbref_url,fotmob_id,fotmob_url) VALUES ('ITA-Serie A','23-24','None','2024-05-04','Monza','Lazio','2–2','1746388','https://1xbet.whoscored.com/Matches/1746388/Live/Italy-Serie-A-2023-2024-Monza-Lazio','4a66cc9f','/en/matches/4a66cc9f/Monza-Lazio-May-4-2024-Serie-A','4230882','/matches/monza-vs-lazio/1veqsb#4230882')\",\n",
       " \"INSERT INTO match_schedule (competition,season,stage,date,home_team,away_team,score,whoscored_id,whoscored_url,fbref_id,fbref_url,fotmob_id,fotmob_url) VALUES ('ITA-Serie A','23-24','None','2024-05-04','Sassuolo','Inter','1–0','1746386','https://1xbet.whoscored.com/Matches/1746386/Live/Italy-Serie-A-2023-2024-Sassuolo-Inter','ed10c7dd','/en/matches/ed10c7dd/Sassuolo-Internazionale-May-4-2024-Serie-A','4230880','/matches/sassuolo-vs-inter/29tzz6#4230880')\",\n",
       " \"INSERT INTO match_schedule (competition,season,stage,date,home_team,away_team,score,whoscored_id,whoscored_url,fbref_id,fbref_url,fotmob_id,fotmob_url) VALUES ('ITA-Serie A','23-24','None','2024-05-05','Cagliari','Lecce','1–1','1746380','https://1xbet.whoscored.com/Matches/1746380/Live/Italy-Serie-A-2023-2024-Cagliari-Lecce','37175126','/en/matches/37175126/Cagliari-Lecce-May-5-2024-Serie-A','4230874','/matches/cagliari-vs-lecce/2szdhl#4230874')\",\n",
       " \"INSERT INTO match_schedule (competition,season,stage,date,home_team,away_team,score,whoscored_id,whoscored_url,fbref_id,fbref_url,fotmob_id,fotmob_url) VALUES ('ITA-Serie A','23-24','None','2024-05-05','Empoli','Frosinone','0–0','1746381','https://1xbet.whoscored.com/Matches/1746381/Live/Italy-Serie-A-2023-2024-Empoli-Frosinone','8e717098','/en/matches/8e717098/Empoli-Frosinone-May-5-2024-Serie-A','4230875','/matches/empoli-vs-frosinone/2t2j7c#4230875')\",\n",
       " \"INSERT INTO match_schedule (competition,season,stage,date,home_team,away_team,score,whoscored_id,whoscored_url,fbref_id,fbref_url,fotmob_id,fotmob_url) VALUES ('ITA-Serie A','23-24','None','2024-05-05','Verona','Fiorentina','2–1','1746384','https://1xbet.whoscored.com/Matches/1746384/Live/Italy-Serie-A-2023-2024-Verona-Fiorentina','f7dadfce','/en/matches/f7dadfce/Hellas-Verona-Fiorentina-May-5-2024-Serie-A','4230878','/matches/fiorentina-vs-hellas-verona/2sx086#4230878')\",\n",
       " \"INSERT INTO match_schedule (competition,season,stage,date,home_team,away_team,score,whoscored_id,whoscored_url,fbref_id,fbref_url,fotmob_id,fotmob_url) VALUES ('ITA-Serie A','23-24','None','2024-05-05','AC Milan','Genoa','3–3','1746385','https://1xbet.whoscored.com/Matches/1746385/Live/Italy-Serie-A-2023-2024-AC-Milan-Genoa','a1381aec','/en/matches/a1381aec/Milan-Genoa-May-5-2024-Serie-A','4230879','/matches/ac-milan-vs-genoa/2x6wdb#4230879')\",\n",
       " \"INSERT INTO match_schedule (competition,season,stage,date,home_team,away_team,score,whoscored_id,whoscored_url,fbref_id,fbref_url,fotmob_id,fotmob_url) VALUES ('ITA-Serie A','23-24','None','2024-05-05','Roma','Juventus','1–1','1746387','https://1xbet.whoscored.com/Matches/1746387/Live/Italy-Serie-A-2023-2024-Roma-Juventus','f1a8a603','/en/matches/f1a8a603/Roma-Juventus-May-5-2024-Serie-A','4230881','/matches/roma-vs-juventus/2uof4v#4230881')\",\n",
       " \"INSERT INTO match_schedule (competition,season,stage,date,home_team,away_team,score,whoscored_id,whoscored_url,fbref_id,fbref_url,fotmob_id,fotmob_url) VALUES ('ITA-Serie A','23-24','None','2024-05-06','Salernitana','Atalanta','1–2','1746382','https://1xbet.whoscored.com/Matches/1746382/Live/Italy-Serie-A-2023-2024-Salernitana-Atalanta','4d799b02','/en/matches/4d799b02/Salernitana-Atalanta-May-6-2024-Serie-A','4230876','/matches/salernitana-vs-atalanta/1v0w82#4230876')\",\n",
       " \"INSERT INTO match_schedule (competition,season,stage,date,home_team,away_team,score,whoscored_id,whoscored_url,fbref_id,fbref_url,fotmob_id,fotmob_url) VALUES ('ITA-Serie A','23-24','None','2024-05-06','Udinese','Napoli','1–1','1746389','https://1xbet.whoscored.com/Matches/1746389/Live/Italy-Serie-A-2023-2024-Udinese-Napoli','03676818','/en/matches/03676818/Udinese-Napoli-May-6-2024-Serie-A','4230883','/matches/udinese-vs-ssc-napoli/2tmb0l#4230883')\",\n",
       " \"INSERT INTO match_schedule (competition,season,stage,date,home_team,away_team,score,whoscored_id,whoscored_url,fbref_id,fbref_url,fotmob_id,fotmob_url) VALUES ('ITA-Serie A','23-24','None','2024-05-10','Frosinone','Inter','0–5','1746392','https://1xbet.whoscored.com/Matches/1746392/Live/Italy-Serie-A-2023-2024-Frosinone-Inter','74782a23','/en/matches/74782a23/Frosinone-Internazionale-May-10-2024-Serie-A','4230886','/matches/inter-vs-frosinone/2u6xdf#4230886')\",\n",
       " \"INSERT INTO match_schedule (competition,season,stage,date,home_team,away_team,score,whoscored_id,whoscored_url,fbref_id,fbref_url,fotmob_id,fotmob_url) VALUES ('Primeira_Liga','23-24','None','2024-03-29','Gil Vicente','Famalicao','1–2','1748593','https://1xbet.whoscored.com/Matches/1748593/Live/Portugal-Liga-Portugal-2023-2024-Gil-Vicente-Famalicao','292efadd','/en/matches/292efadd/Gil-Vicente-FC-Famalicao-March-29-2024-Primeira-Liga','4233496','/matches/famalicao-vs-gil-vicente/12ol89#4233496')\",\n",
       " \"INSERT INTO match_schedule (competition,season,stage,date,home_team,away_team,score,whoscored_id,whoscored_url,fbref_id,fbref_url,fotmob_id,fotmob_url) VALUES ('Primeira_Liga','23-24','None','2024-03-29','Benfica','Chaves','1–0','1748655','https://1xbet.whoscored.com/Matches/1748655/Live/Portugal-Liga-Portugal-2023-2024-Benfica-Chaves','9fbf1af3','/en/matches/9fbf1af3/Benfica-Chaves-March-29-2024-Primeira-Liga','4233544','/matches/benfica-vs-chaves/35qpf1#4233544')\",\n",
       " \"INSERT INTO match_schedule (competition,season,stage,date,home_team,away_team,score,whoscored_id,whoscored_url,fbref_id,fbref_url,fotmob_id,fotmob_url) VALUES ('Primeira_Liga','23-24','None','2024-03-29','Estrela da Amadora','Sporting CP','1–2','1748638','https://1xbet.whoscored.com/Matches/1748638/Live/Portugal-Liga-Portugal-2023-2024-Estrela-da-Amadora-Sporting-CP','e83dc700','/en/matches/e83dc700/Estrela-Sporting-CP-March-29-2024-Primeira-Liga','4233527','/matches/sporting-cp-vs-estrela-da-amadora/7hy84jvo#4233527')\",\n",
       " \"INSERT INTO match_schedule (competition,season,stage,date,home_team,away_team,score,whoscored_id,whoscored_url,fbref_id,fbref_url,fotmob_id,fotmob_url) VALUES ('Primeira_Liga','23-24','None','2024-03-30','Arouca','Farense','2–1','1748645','https://1xbet.whoscored.com/Matches/1748645/Live/Portugal-Liga-Portugal-2023-2024-Arouca-Farense','12d42d4e','/en/matches/12d42d4e/Arouca-Farense-March-30-2024-Primeira-Liga','4233531','/matches/farense-vs-arouca/66nc4jt#4233531')\",\n",
       " \"INSERT INTO match_schedule (competition,season,stage,date,home_team,away_team,score,whoscored_id,whoscored_url,fbref_id,fbref_url,fotmob_id,fotmob_url) VALUES ('Primeira_Liga','23-24','None','2024-03-30','Vitoria de Guimaraes','Moreirense','1–0','1748644','https://1xbet.whoscored.com/Matches/1748644/Live/Portugal-Liga-Portugal-2023-2024-Vitoria-de-Guimaraes-Moreirense','08e0cb8e','/en/matches/08e0cb8e/Vitoria-Guimaraes-Moreirense-March-30-2024-Primeira-Liga','4233530','/matches/vitoria-de-guimaraes-vs-moreirense/2622po#4233530')\",\n",
       " \"INSERT INTO match_schedule (competition,season,stage,date,home_team,away_team,score,whoscored_id,whoscored_url,fbref_id,fbref_url,fotmob_id,fotmob_url) VALUES ('Primeira_Liga','23-24','None','2024-03-30','Boavista','Rio Ave','0–0','1748642','https://1xbet.whoscored.com/Matches/1748642/Live/Portugal-Liga-Portugal-2023-2024-Boavista-Rio-Ave','54b4cf13','/en/matches/54b4cf13/Boavista-Rio-Ave-March-30-2024-Primeira-Liga','4233529','/matches/rio-ave-vs-boavista/28lqvu#4233529')\",\n",
       " \"INSERT INTO match_schedule (competition,season,stage,date,home_team,away_team,score,whoscored_id,whoscored_url,fbref_id,fbref_url,fotmob_id,fotmob_url) VALUES ('Primeira_Liga','23-24','None','2024-03-30','Estoril','FC Porto','1–0','1748640','https://1xbet.whoscored.com/Matches/1748640/Live/Portugal-Liga-Portugal-2023-2024-Estoril-FC-Porto','b865e29f','/en/matches/b865e29f/Estoril-Porto-March-30-2024-Primeira-Liga','4233528','/matches/estoril-vs-fc-porto/2kdoat#4233528')\",\n",
       " \"INSERT INTO match_schedule (competition,season,stage,date,home_team,away_team,score,whoscored_id,whoscored_url,fbref_id,fbref_url,fotmob_id,fotmob_url) VALUES ('Primeira_Liga','23-24','None','2024-03-31','Vizela','Casa Pia AC','0–4','1748596','https://1xbet.whoscored.com/Matches/1748596/Live/Portugal-Liga-Portugal-2023-2024-Vizela-Casa-Pia-AC','f9c049a5','/en/matches/f9c049a5/Vizela-Casa-Pia-March-31-2024-Primeira-Liga','4233497','/matches/vizela-vs-casa-pia-ac/aund9w7#4233497')\",\n",
       " \"INSERT INTO match_schedule (competition,season,stage,date,home_team,away_team,score,whoscored_id,whoscored_url,fbref_id,fbref_url,fotmob_id,fotmob_url) VALUES ('Primeira_Liga','23-24','None','2024-04-01','Portimonense','Braga','3–5','1748643','https://1xbet.whoscored.com/Matches/1748643/Live/Portugal-Liga-Portugal-2023-2024-Portimonense-Braga','dd36871a','/en/matches/dd36871a/Portimonense-Braga-April-1-2024-Primeira-Liga','4233495','/matches/portimonense-vs-braga/3bfk3s#4233495')\",\n",
       " \"INSERT INTO match_schedule (competition,season,stage,date,home_team,away_team,score,whoscored_id,whoscored_url,fbref_id,fbref_url,fotmob_id,fotmob_url) VALUES ('Primeira_Liga','23-24','None','2024-04-05','Farense','Boavista','2–0','1748630','https://1xbet.whoscored.com/Matches/1748630/Live/Portugal-Liga-Portugal-2023-2024-Farense-Boavista','f496d0d7','/en/matches/f496d0d7/Farense-Boavista-April-5-2024-Primeira-Liga','4233523','/matches/farense-vs-boavista/1rm1ka#4233523')\",\n",
       " \"INSERT INTO match_schedule (competition,season,stage,date,home_team,away_team,score,whoscored_id,whoscored_url,fbref_id,fbref_url,fotmob_id,fotmob_url) VALUES ('Primeira_Liga','23-24','None','2024-04-06','Famalicao','Vizela','3–2','1748654','https://1xbet.whoscored.com/Matches/1748654/Live/Portugal-Liga-Portugal-2023-2024-Famalicao-Vizela','da29b339','/en/matches/da29b339/Famalicao-Vizela-April-6-2024-Primeira-Liga','4233543','/matches/famalicao-vs-vizela/bbh5m#4233543')\",\n",
       " \"INSERT INTO match_schedule (competition,season,stage,date,home_team,away_team,score,whoscored_id,whoscored_url,fbref_id,fbref_url,fotmob_id,fotmob_url) VALUES ('Primeira_Liga','23-24','None','2024-04-06','Rio Ave','Gil Vicente','3–0','1748646','https://1xbet.whoscored.com/Matches/1748646/Live/Portugal-Liga-Portugal-2023-2024-Rio-Ave-Gil-Vicente','71143c5c','/en/matches/71143c5c/Rio-Ave-Gil-Vicente-FC-April-6-2024-Primeira-Liga','4233532','/matches/rio-ave-vs-gil-vicente/2k9wer#4233532')\",\n",
       " \"INSERT INTO match_schedule (competition,season,stage,date,home_team,away_team,score,whoscored_id,whoscored_url,fbref_id,fbref_url,fotmob_id,fotmob_url) VALUES ('Primeira_Liga','23-24','None','2024-04-06','Braga','Arouca','0–3','1748634','https://1xbet.whoscored.com/Matches/1748634/Live/Portugal-Liga-Portugal-2023-2024-Braga-Arouca','2ec23bfc','/en/matches/2ec23bfc/Braga-Arouca-April-6-2024-Primeira-Liga','4233525','/matches/braga-vs-arouca/6id0bjs#4233525')\",\n",
       " \"INSERT INTO match_schedule (competition,season,stage,date,home_team,away_team,score,whoscored_id,whoscored_url,fbref_id,fbref_url,fotmob_id,fotmob_url) VALUES ('Primeira_Liga','23-24','None','2024-04-06','Sporting CP','Benfica','2–1','1748636','https://1xbet.whoscored.com/Matches/1748636/Live/Portugal-Liga-Portugal-2023-2024-Sporting-CP-Benfica','a026ee94','/en/matches/a026ee94/Derby-de-Lisboa-Sporting-CP-Benfica-April-6-2024-Primeira-Liga','4233526','/matches/sporting-cp-vs-benfica/35o6xq#4233526')\",\n",
       " \"INSERT INTO match_schedule (competition,season,stage,date,home_team,away_team,score,whoscored_id,whoscored_url,fbref_id,fbref_url,fotmob_id,fotmob_url) VALUES ('Primeira_Liga','23-24','None','2024-04-07','Chaves','Portimonense','2–3','1748648','https://1xbet.whoscored.com/Matches/1748648/Live/Portugal-Liga-Portugal-2023-2024-Chaves-Portimonense','37d87e21','/en/matches/37d87e21/Chaves-Portimonense-April-7-2024-Primeira-Liga','4233534','/matches/portimonense-vs-chaves/35nrv0#4233534')\",\n",
       " \"INSERT INTO match_schedule (competition,season,stage,date,home_team,away_team,score,whoscored_id,whoscored_url,fbref_id,fbref_url,fotmob_id,fotmob_url) VALUES ('Primeira_Liga','23-24','None','2024-04-07','Moreirense','Estrela da Amadora','2–2','1748647','https://1xbet.whoscored.com/Matches/1748647/Live/Portugal-Liga-Portugal-2023-2024-Moreirense-Estrela-da-Amadora','14726bb0','/en/matches/14726bb0/Moreirense-Estrela-April-7-2024-Primeira-Liga','4233533','/matches/moreirense-vs-estrela-da-amadora/7h8s7bp6#4233533')\",\n",
       " \"INSERT INTO match_schedule (competition,season,stage,date,home_team,away_team,score,whoscored_id,whoscored_url,fbref_id,fbref_url,fotmob_id,fotmob_url) VALUES ('Primeira_Liga','23-24','None','2024-04-07','FC Porto','Vitoria de Guimaraes','1–2','1748632','https://1xbet.whoscored.com/Matches/1748632/Live/Portugal-Liga-Portugal-2023-2024-FC-Porto-Vitoria-de-Guimaraes','d4790afa','/en/matches/d4790afa/Porto-Vitoria-Guimaraes-April-7-2024-Primeira-Liga','4233524','/matches/vitoria-de-guimaraes-vs-fc-porto/2kefhi#4233524')\",\n",
       " \"INSERT INTO match_schedule (competition,season,stage,date,home_team,away_team,score,whoscored_id,whoscored_url,fbref_id,fbref_url,fotmob_id,fotmob_url) VALUES ('Primeira_Liga','23-24','None','2024-04-08','Casa Pia AC','Estoril','0–0','1749003','https://1xbet.whoscored.com/Matches/1749003/Live/Portugal-Liga-Portugal-2023-2024-Casa-Pia-AC-Estoril','bdb94aa6','/en/matches/bdb94aa6/Casa-Pia-Estoril-April-8-2024-Primeira-Liga','4233542','/matches/estoril-vs-casa-pia-ac/b6n3ikm#4233542')\",\n",
       " \"INSERT INTO match_schedule (competition,season,stage,date,home_team,away_team,score,whoscored_id,whoscored_url,fbref_id,fbref_url,fotmob_id,fotmob_url) VALUES ('Primeira_Liga','23-24','None','2024-04-12','Gil Vicente','Sporting CP','0–4','1748989','https://1xbet.whoscored.com/Matches/1748989/Live/Portugal-Liga-Portugal-2023-2024-Gil-Vicente-Sporting-CP','37022b4f','/en/matches/37022b4f/Gil-Vicente-FC-Sporting-CP-April-12-2024-Primeira-Liga','4233522','/matches/gil-vicente-vs-sporting-cp/35kuc6#4233522')\",\n",
       " \"INSERT INTO match_schedule (competition,season,stage,date,home_team,away_team,score,whoscored_id,whoscored_url,fbref_id,fbref_url,fotmob_id,fotmob_url) VALUES ('Primeira_Liga','23-24','None','2024-04-13','Vitoria de Guimaraes','Farense','1–1','1748649','https://1xbet.whoscored.com/Matches/1748649/Live/Portugal-Liga-Portugal-2023-2024-Vitoria-de-Guimaraes-Farense','f0b00a7b','/en/matches/f0b00a7b/Vitoria-Guimaraes-Farense-April-13-2024-Primeira-Liga','4233537','/matches/farense-vs-vitoria-de-guimaraes/1l3fm8#4233537')\",\n",
       " \"INSERT INTO match_schedule (competition,season,stage,date,home_team,away_team,score,whoscored_id,whoscored_url,fbref_id,fbref_url,fotmob_id,fotmob_url) VALUES ('Primeira_Liga','23-24','None','2024-04-13','FC Porto','Famalicao','2–2','1748651','https://1xbet.whoscored.com/Matches/1748651/Live/Portugal-Liga-Portugal-2023-2024-FC-Porto-Famalicao','17c5ff38','/en/matches/17c5ff38/Porto-Famalicao-April-13-2024-Primeira-Liga','4233539','/matches/famalicao-vs-fc-porto/12qsf9#4233539')\",\n",
       " \"INSERT INTO match_schedule (competition,season,stage,date,home_team,away_team,score,whoscored_id,whoscored_url,fbref_id,fbref_url,fotmob_id,fotmob_url) VALUES ('Primeira_Liga','23-24','None','2024-04-13','Estoril','Braga','0–1','1748653','https://1xbet.whoscored.com/Matches/1748653/Live/Portugal-Liga-Portugal-2023-2024-Estoril-Braga','8c7c54d8','/en/matches/8c7c54d8/Estoril-Braga-April-13-2024-Primeira-Liga','4233541','/matches/estoril-vs-braga/2pllld#4233541')\",\n",
       " \"INSERT INTO match_schedule (competition,season,stage,date,home_team,away_team,score,whoscored_id,whoscored_url,fbref_id,fbref_url,fotmob_id,fotmob_url) VALUES ('Primeira_Liga','23-24','None','2024-04-14','Estrela da Amadora','Rio Ave','2–2','1748627','https://1xbet.whoscored.com/Matches/1748627/Live/Portugal-Liga-Portugal-2023-2024-Estrela-da-Amadora-Rio-Ave','7b11782b','/en/matches/7b11782b/Estrela-Rio-Ave-April-14-2024-Primeira-Liga','4233521','/matches/rio-ave-vs-estrela-da-amadora/7gzpgyju#4233521')\",\n",
       " \"INSERT INTO match_schedule (competition,season,stage,date,home_team,away_team,score,whoscored_id,whoscored_url,fbref_id,fbref_url,fotmob_id,fotmob_url) VALUES ('Primeira_Liga','23-24','None','2024-04-14','Arouca','Boavista','2–1','1748990','https://1xbet.whoscored.com/Matches/1748990/Live/Portugal-Liga-Portugal-2023-2024-Arouca-Boavista','14d1c1da','/en/matches/14d1c1da/Arouca-Boavista-April-14-2024-Primeira-Liga','4233535','/matches/boavista-vs-arouca/6ds9030#4233535')\",\n",
       " \"INSERT INTO match_schedule (competition,season,stage,date,home_team,away_team,score,whoscored_id,whoscored_url,fbref_id,fbref_url,fotmob_id,fotmob_url) VALUES ('Primeira_Liga','23-24','None','2024-04-14','Portimonense','Casa Pia AC','2–2','1748650','https://1xbet.whoscored.com/Matches/1748650/Live/Portugal-Liga-Portugal-2023-2024-Portimonense-Casa-Pia-AC','6f737d39','/en/matches/6f737d39/Portimonense-Casa-Pia-April-14-2024-Primeira-Liga','4233538','/matches/portimonense-vs-casa-pia-ac/bdou6es#4233538')\",\n",
       " \"INSERT INTO match_schedule (competition,season,stage,date,home_team,away_team,score,whoscored_id,whoscored_url,fbref_id,fbref_url,fotmob_id,fotmob_url) VALUES ('Primeira_Liga','23-24','None','2024-04-14','Benfica','Moreirense','3–0','1748991','https://1xbet.whoscored.com/Matches/1748991/Live/Portugal-Liga-Portugal-2023-2024-Benfica-Moreirense','b13bd9f4','/en/matches/b13bd9f4/Benfica-Moreirense-April-14-2024-Primeira-Liga','4233536','/matches/moreirense-vs-benfica/2pr2r4#4233536')\",\n",
       " \"INSERT INTO match_schedule (competition,season,stage,date,home_team,away_team,score,whoscored_id,whoscored_url,fbref_id,fbref_url,fotmob_id,fotmob_url) VALUES ('Primeira_Liga','23-24','None','2024-04-15','Vizela','Chaves','0–1','1748652','https://1xbet.whoscored.com/Matches/1748652/Live/Portugal-Liga-Portugal-2023-2024-Vizela-Chaves','468a3223','/en/matches/468a3223/Vizela-Chaves-April-15-2024-Primeira-Liga','4233540','/matches/vizela-vs-chaves/1oxczj#4233540')\",\n",
       " \"INSERT INTO match_schedule (competition,season,stage,date,home_team,away_team,score,whoscored_id,whoscored_url,fbref_id,fbref_url,fotmob_id,fotmob_url) VALUES ('Primeira_Liga','23-24','None','2024-04-16','Famalicao','Sporting CP','0–1','1748533','https://1xbet.whoscored.com/Matches/1748533/Live/Portugal-Liga-Portugal-2023-2024-Famalicao-Sporting-CP','912cd180','/en/matches/912cd180/Famalicao-Sporting-CP-April-16-2024-Primeira-Liga','4233426','/matches/famalicao-vs-sporting-cp/12pkf3#4233426')\",\n",
       " \"INSERT INTO match_schedule (competition,season,stage,date,home_team,away_team,score,whoscored_id,whoscored_url,fbref_id,fbref_url,fotmob_id,fotmob_url) VALUES ('Primeira_Liga','23-24','None','2024-04-19','Rio Ave','Arouca','1–1','1749000','https://1xbet.whoscored.com/Matches/1749000/Live/Portugal-Liga-Portugal-2023-2024-Rio-Ave-Arouca','cbcbf9f8','/en/matches/cbcbf9f8/Rio-Ave-Arouca-April-19-2024-Primeira-Liga','4233507','/matches/rio-ave-vs-arouca/6bnt2me#4233507')\",\n",
       " \"INSERT INTO match_schedule (competition,season,stage,date,home_team,away_team,score,whoscored_id,whoscored_url,fbref_id,fbref_url,fotmob_id,fotmob_url) VALUES ('Primeira_Liga','23-24','None','2024-04-20','Moreirense','Gil Vicente','0–1','1748999','https://1xbet.whoscored.com/Matches/1748999/Live/Portugal-Liga-Portugal-2023-2024-Moreirense-Gil-Vicente','dc8b55df','/en/matches/dc8b55df/Moreirense-Gil-Vicente-FC-April-20-2024-Primeira-Liga','4233505','/matches/moreirense-vs-gil-vicente/2pnyx0#4233505')\",\n",
       " \"INSERT INTO match_schedule (competition,season,stage,date,home_team,away_team,score,whoscored_id,whoscored_url,fbref_id,fbref_url,fotmob_id,fotmob_url) VALUES ('Primeira_Liga','23-24','None','2024-04-20','Boavista','Estrela da Amadora','1–1','1748982','https://1xbet.whoscored.com/Matches/1748982/Live/Portugal-Liga-Portugal-2023-2024-Boavista-Estrela-da-Amadora','08f56a44','/en/matches/08f56a44/Boavista-Estrela-April-20-2024-Primeira-Liga','4233501','/matches/boavista-vs-estrela-da-amadora/7hdj1hz0#4233501')\",\n",
       " \"INSERT INTO match_schedule (competition,season,stage,date,home_team,away_team,score,whoscored_id,whoscored_url,fbref_id,fbref_url,fotmob_id,fotmob_url) VALUES ('Primeira_Liga','23-24','None','2024-04-20','Braga','Vizela','2–1','1748607','https://1xbet.whoscored.com/Matches/1748607/Live/Portugal-Liga-Portugal-2023-2024-Braga-Vizela','9c928607','/en/matches/9c928607/Braga-Vizela-April-20-2024-Primeira-Liga','4233504','/matches/vizela-vs-braga/1t62ad#4233504')\",\n",
       " \"INSERT INTO match_schedule (competition,season,stage,date,home_team,away_team,score,whoscored_id,whoscored_url,fbref_id,fbref_url,fotmob_id,fotmob_url) VALUES ('Primeira_Liga','23-24','None','2024-04-21','Chaves','Estoril','2–2','1748605','https://1xbet.whoscored.com/Matches/1748605/Live/Portugal-Liga-Portugal-2023-2024-Chaves-Estoril','c49caf14','/en/matches/c49caf14/Chaves-Estoril-April-21-2024-Primeira-Liga','4233503','/matches/estoril-vs-chaves/2ke1w6#4233503')\",\n",
       " \"INSERT INTO match_schedule (competition,season,stage,date,home_team,away_team,score,whoscored_id,whoscored_url,fbref_id,fbref_url,fotmob_id,fotmob_url) VALUES ('Primeira_Liga','23-24','None','2024-04-21','Famalicao','Portimonense','2–2','1748603','https://1xbet.whoscored.com/Matches/1748603/Live/Portugal-Liga-Portugal-2023-2024-Famalicao-Portimonense','ecc7cb25','/en/matches/ecc7cb25/Famalicao-Portimonense-April-21-2024-Primeira-Liga','4233502','/matches/famalicao-vs-portimonense/12ou0x#4233502')\",\n",
       " \"INSERT INTO match_schedule (competition,season,stage,date,home_team,away_team,score,whoscored_id,whoscored_url,fbref_id,fbref_url,fotmob_id,fotmob_url) VALUES ('Primeira_Liga','23-24','None','2024-04-21','Casa Pia AC','FC Porto','1–2','1748981','https://1xbet.whoscored.com/Matches/1748981/Live/Portugal-Liga-Portugal-2023-2024-Casa-Pia-AC-FC-Porto','01dc64cf','/en/matches/01dc64cf/Casa-Pia-Porto-April-21-2024-Primeira-Liga','4233500','/matches/fc-porto-vs-casa-pia-ac/bdpwcfk#4233500')\",\n",
       " \"INSERT INTO match_schedule (competition,season,stage,date,home_team,away_team,score,whoscored_id,whoscored_url,fbref_id,fbref_url,fotmob_id,fotmob_url) VALUES ('Primeira_Liga','23-24','None','2024-04-21','Sporting CP','Vitoria de Guimaraes','3–0','1748609','https://1xbet.whoscored.com/Matches/1748609/Live/Portugal-Liga-Portugal-2023-2024-Sporting-CP-Vitoria-de-Guimaraes','e9d86f63','/en/matches/e9d86f63/Sporting-CP-Vitoria-Guimaraes-April-21-2024-Primeira-Liga','4233506','/matches/vitoria-de-guimaraes-vs-sporting-cp/2kcjiu#4233506')\",\n",
       " \"INSERT INTO match_schedule (competition,season,stage,date,home_team,away_team,score,whoscored_id,whoscored_url,fbref_id,fbref_url,fotmob_id,fotmob_url) VALUES ('Primeira_Liga','23-24','None','2024-04-22','Farense','Benfica','1–3','1749002','https://1xbet.whoscored.com/Matches/1749002/Live/Portugal-Liga-Portugal-2023-2024-Farense-Benfica','7e20386a','/en/matches/7e20386a/Farense-Benfica-April-22-2024-Primeira-Liga','4233520','/matches/farense-vs-benfica/223kzg#4233520')\",\n",
       " \"INSERT INTO match_schedule (competition,season,stage,date,home_team,away_team,score,whoscored_id,whoscored_url,fbref_id,fbref_url,fotmob_id,fotmob_url) VALUES ('Primeira_Liga','23-24','None','2024-04-26','Gil Vicente','Arouca','2–2','1748601','https://1xbet.whoscored.com/Matches/1748601/Live/Portugal-Liga-Portugal-2023-2024-Gil-Vicente-Arouca','9c3ed211','/en/matches/9c3ed211/Gil-Vicente-FC-Arouca-April-26-2024-Primeira-Liga','4233499','/matches/gil-vicente-vs-arouca/6gyvnwh#4233499')\",\n",
       " \"INSERT INTO match_schedule (competition,season,stage,date,home_team,away_team,score,whoscored_id,whoscored_url,fbref_id,fbref_url,fotmob_id,fotmob_url) VALUES ('Primeira_Liga','23-24','None','2024-04-27','Casa Pia AC','Chaves','3–1','1748599','https://1xbet.whoscored.com/Matches/1748599/Live/Portugal-Liga-Portugal-2023-2024-Casa-Pia-AC-Chaves','c0fbd01e','/en/matches/c0fbd01e/Casa-Pia-Chaves-April-27-2024-Primeira-Liga','4233498','/matches/chaves-vs-casa-pia-ac/bdq146s#4233498')\",\n",
       " \"INSERT INTO match_schedule (competition,season,stage,date,home_team,away_team,score,whoscored_id,whoscored_url,fbref_id,fbref_url,fotmob_id,fotmob_url) VALUES ('Primeira_Liga','23-24','None','2024-04-27','Vizela','Rio Ave','1–1','1748983','https://1xbet.whoscored.com/Matches/1748983/Live/Portugal-Liga-Portugal-2023-2024-Vizela-Rio-Ave','611fabc6','/en/matches/611fabc6/Vizela-Rio-Ave-April-27-2024-Primeira-Liga','4233509','/matches/vizela-vs-rio-ave/19ko7n#4233509')\",\n",
       " \"INSERT INTO match_schedule (competition,season,stage,date,home_team,away_team,score,whoscored_id,whoscored_url,fbref_id,fbref_url,fotmob_id,fotmob_url) VALUES ('Primeira_Liga','23-24','None','2024-04-27','Benfica','Braga','3–1','1748988','https://1xbet.whoscored.com/Matches/1748988/Live/Portugal-Liga-Portugal-2023-2024-Benfica-Braga','1cbdc39b','/en/matches/1cbdc39b/Benfica-Braga-April-27-2024-Primeira-Liga','4233518','/matches/benfica-vs-braga/3bikba#4233518')\",\n",
       " \"INSERT INTO match_schedule (competition,season,stage,date,home_team,away_team,score,whoscored_id,whoscored_url,fbref_id,fbref_url,fotmob_id,fotmob_url) VALUES ('Primeira_Liga','23-24','None','2024-04-27','Vitoria de Guimaraes','Boavista','1–0','1748611','https://1xbet.whoscored.com/Matches/1748611/Live/Portugal-Liga-Portugal-2023-2024-Vitoria-de-Guimaraes-Boavista','c2c5a4a9','/en/matches/c2c5a4a9/Vitoria-Guimaraes-Boavista-April-27-2024-Primeira-Liga','4233508','/matches/vitoria-de-guimaraes-vs-boavista/28msz6#4233508')\",\n",
       " \"INSERT INTO match_schedule (competition,season,stage,date,home_team,away_team,score,whoscored_id,whoscored_url,fbref_id,fbref_url,fotmob_id,fotmob_url) VALUES ('Primeira_Liga','23-24','None','2024-04-28','Portimonense','Moreirense','0–2','1749001','https://1xbet.whoscored.com/Matches/1749001/Live/Portugal-Liga-Portugal-2023-2024-Portimonense-Moreirense','c25df8d9','/en/matches/c25df8d9/Portimonense-Moreirense-April-28-2024-Primeira-Liga','4233519','/matches/moreirense-vs-portimonense/2pocw6#4233519')\",\n",
       " \"INSERT INTO match_schedule (competition,season,stage,date,home_team,away_team,score,whoscored_id,whoscored_url,fbref_id,fbref_url,fotmob_id,fotmob_url) VALUES ('Primeira_Liga','23-24','None','2024-04-28','Estoril','Famalicao','1–0','1748986','https://1xbet.whoscored.com/Matches/1748986/Live/Portugal-Liga-Portugal-2023-2024-Estoril-Famalicao','89ff1d10','/en/matches/89ff1d10/Estoril-Famalicao-April-28-2024-Primeira-Liga','4233516','/matches/famalicao-vs-estoril/qqkoc#4233516')\",\n",
       " \"INSERT INTO match_schedule (competition,season,stage,date,home_team,away_team,score,whoscored_id,whoscored_url,fbref_id,fbref_url,fotmob_id,fotmob_url) VALUES ('Primeira_Liga','23-24','None','2024-04-28','FC Porto','Sporting CP','2–2','1748987','https://1xbet.whoscored.com/Matches/1748987/Live/Portugal-Liga-Portugal-2023-2024-FC-Porto-Sporting-CP','a7a728b7','/en/matches/a7a728b7/Porto-Sporting-CP-April-28-2024-Primeira-Liga','4233517','/matches/sporting-cp-vs-fc-porto/35om0k#4233517')\",\n",
       " \"INSERT INTO match_schedule (competition,season,stage,date,home_team,away_team,score,whoscored_id,whoscored_url,fbref_id,fbref_url,fotmob_id,fotmob_url) VALUES ('Primeira_Liga','23-24','None','2024-04-29','Estrela da Amadora','Farense','0–3','1748625','https://1xbet.whoscored.com/Matches/1748625/Live/Portugal-Liga-Portugal-2023-2024-Estrela-da-Amadora-Farense','00286f30','/en/matches/00286f30/Estrela-Farense-April-29-2024-Primeira-Liga','4233515','/matches/farense-vs-estrela-da-amadora/7g2uwtxa#4233515')\",\n",
       " \"INSERT INTO match_schedule (competition,season,stage,date,home_team,away_team,score,whoscored_id,whoscored_url,fbref_id,fbref_url,fotmob_id,fotmob_url) VALUES ('Primeira_Liga','23-24','None','2024-05-03','Moreirense','Vizela','1–0','1748911','https://1xbet.whoscored.com/Matches/1748911/Live/Portugal-Liga-Portugal-2023-2024-Moreirense-Vizela','aedd0841','/en/matches/aedd0841/Moreirense-Vizela-May-3-2024-Primeira-Liga','4233576','/matches/vizela-vs-moreirense/1ddvxw#4233576')\",\n",
       " \"INSERT INTO match_schedule (competition,season,stage,date,home_team,away_team,score,whoscored_id,whoscored_url,fbref_id,fbref_url,fotmob_id,fotmob_url) VALUES ('Primeira_Liga','23-24','None','2024-05-04','Boavista','Gil Vicente','1–1','1748912','https://1xbet.whoscored.com/Matches/1748912/Live/Portugal-Liga-Portugal-2023-2024-Boavista-Gil-Vicente','2596e3e2','/en/matches/2596e3e2/Boavista-Gil-Vicente-FC-May-4-2024-Primeira-Liga','4233577','/matches/boavista-vs-gil-vicente/2sjlkh#4233577')\",\n",
       " \"INSERT INTO match_schedule (competition,season,stage,date,home_team,away_team,score,whoscored_id,whoscored_url,fbref_id,fbref_url,fotmob_id,fotmob_url) VALUES ('Primeira_Liga','23-24','None','2024-05-04','Rio Ave','Vitoria de Guimaraes','2–1','1748985','https://1xbet.whoscored.com/Matches/1748985/Live/Portugal-Liga-Portugal-2023-2024-Rio-Ave-Vitoria-de-Guimaraes','16472cb5','/en/matches/16472cb5/Rio-Ave-Vitoria-Guimaraes-May-4-2024-Primeira-Liga','4233513','/matches/rio-ave-vs-vitoria-de-guimaraes/218uxf#4233513')\",\n",
       " \"INSERT INTO match_schedule (competition,season,stage,date,home_team,away_team,score,whoscored_id,whoscored_url,fbref_id,fbref_url,fotmob_id,fotmob_url) VALUES ('Primeira_Liga','23-24','None','2024-05-04','Sporting CP','Portimonense','3–0','1748614','https://1xbet.whoscored.com/Matches/1748614/Live/Portugal-Liga-Portugal-2023-2024-Sporting-CP-Portimonense','9304f94d','/en/matches/9304f94d/Sporting-CP-Portimonense-May-4-2024-Primeira-Liga','4233511','/matches/portimonense-vs-sporting-cp/35l9er#4233511')\",\n",
       " \"INSERT INTO match_schedule (competition,season,stage,date,home_team,away_team,score,whoscored_id,whoscored_url,fbref_id,fbref_url,fotmob_id,fotmob_url) VALUES ('Primeira_Liga','23-24','None','2024-05-04','Chaves','FC Porto','0–3','1748913','https://1xbet.whoscored.com/Matches/1748913/Live/Portugal-Liga-Portugal-2023-2024-Chaves-FC-Porto','ee554c26','/en/matches/ee554c26/Chaves-Porto-May-4-2024-Primeira-Liga','4233578','/matches/fc-porto-vs-chaves/35r4i0#4233578')\",\n",
       " \"INSERT INTO match_schedule (competition,season,stage,date,home_team,away_team,score,whoscored_id,whoscored_url,fbref_id,fbref_url,fotmob_id,fotmob_url) VALUES ('Primeira_Liga','23-24','None','2024-05-05','Farense','Estoril','3–2','1748618','https://1xbet.whoscored.com/Matches/1748618/Live/Portugal-Liga-Portugal-2023-2024-Farense-Estoril','b56a6870','/en/matches/b56a6870/Farense-Estoril-May-5-2024-Primeira-Liga','4233512','/matches/farense-vs-estoril/1l2u8v#4233512')\",\n",
       " \"INSERT INTO match_schedule (competition,season,stage,date,home_team,away_team,score,whoscored_id,whoscored_url,fbref_id,fbref_url,fotmob_id,fotmob_url) VALUES ('Primeira_Liga','23-24','None','2024-05-05','Arouca','Estrela da Amadora','0–0','1748914','https://1xbet.whoscored.com/Matches/1748914/Live/Portugal-Liga-Portugal-2023-2024-Arouca-Estrela-da-Amadora','13431354','/en/matches/13431354/Arouca-Estrela-May-5-2024-Primeira-Liga','4233579','/matches/arouca-vs-estrela-da-amadora/9ova6rn0#4233579')\",\n",
       " \"INSERT INTO match_schedule (competition,season,stage,date,home_team,away_team,score,whoscored_id,whoscored_url,fbref_id,fbref_url,fotmob_id,fotmob_url) VALUES ('Primeira_Liga','23-24','None','2024-05-05','Braga','Casa Pia AC','4–3','1748984','https://1xbet.whoscored.com/Matches/1748984/Live/Portugal-Liga-Portugal-2023-2024-Braga-Casa-Pia-AC','ddfaed10','/en/matches/ddfaed10/Braga-Casa-Pia-May-5-2024-Primeira-Liga','4233510','/matches/braga-vs-casa-pia-ac/bfj5tts#4233510')\",\n",
       " \"INSERT INTO match_schedule (competition,season,stage,date,home_team,away_team,score,whoscored_id,whoscored_url,fbref_id,fbref_url,fotmob_id,fotmob_url) VALUES ('Primeira_Liga','23-24','None','2024-05-05','Famalicao','Benfica','2–0','1748623','https://1xbet.whoscored.com/Matches/1748623/Live/Portugal-Liga-Portugal-2023-2024-Famalicao-Benfica','29910bac','/en/matches/29910bac/Famalicao-Benfica-May-5-2024-Primeira-Liga','4233514','/matches/famalicao-vs-benfica/12qjmd#4233514')\",\n",
       " \"INSERT INTO match_schedule (competition,season,stage,date,home_team,away_team,score,whoscored_id,whoscored_url,fbref_id,fbref_url,fotmob_id,fotmob_url) VALUES ('Primeira_Liga','23-24','None','2024-05-10','Chaves','Famalicao','0–1','1748905','https://1xbet.whoscored.com/Matches/1748905/Live/Portugal-Liga-Portugal-2023-2024-Chaves-Famalicao','7e53b3ad','/en/matches/7e53b3ad/Chaves-Famalicao-May-10-2024-Primeira-Liga','4233570','/matches/famalicao-vs-chaves/12r186#4233570')\",\n",
       " \"INSERT INTO match_schedule (competition,season,stage,date,home_team,away_team,score,whoscored_id,whoscored_url,fbref_id,fbref_url,fotmob_id,fotmob_url) VALUES ('Pro_League','23-24','Playoff Championship','2024-03-30','Anderlecht','Royal Antwerp','1–0','1811301','https://1xbet.whoscored.com/Matches/1811301/Live/Belgium-Jupiler-Pro-League-2023-2024-Anderlecht-Royal-Antwerp','7701728d','/en/matches/7701728d/Anderlecht-Antwerp-March-30-2024-Belgian-Pro-League','4449339','/matches/anderlecht-vs-royal-antwerp/2v95es#4449339')\",\n",
       " \"INSERT INTO match_schedule (competition,season,stage,date,home_team,away_team,score,whoscored_id,whoscored_url,fbref_id,fbref_url,fotmob_id,fotmob_url) VALUES ('Pro_League','23-24','Playoff Championship','2024-04-01','Cercle Bruges','Club Bruges','1–1','1811283','https://1xbet.whoscored.com/Matches/1811283/Live/Belgium-Jupiler-Pro-League-2023-2024-Cercle-Bruges-Club-Bruges','c6aa160d','/en/matches/c6aa160d/Cercle-Brugge-Club-Brugge-April-1-2024-Belgian-Pro-League','4449326','/matches/club-brugge-vs-cercle-brugge/2rzjjx#4449326')\",\n",
       " \"INSERT INTO match_schedule (competition,season,stage,date,home_team,away_team,score,whoscored_id,whoscored_url,fbref_id,fbref_url,fotmob_id,fotmob_url) VALUES ('Pro_League','23-24','Playoff Championship','2024-04-01','Genk','Union St.Gilloise','1–0','1811288','https://1xbet.whoscored.com/Matches/1811288/Live/Belgium-Jupiler-Pro-League-2023-2024-Genk-Union-St-Gilloise','d2f29275','/en/matches/d2f29275/Genk-Union-SG-April-1-2024-Belgian-Pro-League','4449319','/matches/union-stgilloise-vs-genk/2o34zy#4449319')\",\n",
       " \"INSERT INTO match_schedule (competition,season,stage,date,home_team,away_team,score,whoscored_id,whoscored_url,fbref_id,fbref_url,fotmob_id,fotmob_url) VALUES ('Pro_League','23-24','Playoff Championship','2024-04-06','Royal Antwerp','Genk','0–1','1811294','https://1xbet.whoscored.com/Matches/1811294/Live/Belgium-Jupiler-Pro-League-2023-2024-Royal-Antwerp-Genk','a80d1161','/en/matches/a80d1161/Antwerp-Genk-April-6-2024-Belgian-Pro-League','4449325','/matches/genk-vs-royal-antwerp/3aseu8#4449325')\",\n",
       " \"INSERT INTO match_schedule (competition,season,stage,date,home_team,away_team,score,whoscored_id,whoscored_url,fbref_id,fbref_url,fotmob_id,fotmob_url) VALUES ('Pro_League','23-24','Playoff Championship','2024-04-07','Union St.Gilloise','Cercle Bruges','2–3','1811293','https://1xbet.whoscored.com/Matches/1811293/Live/Belgium-Jupiler-Pro-League-2023-2024-Union-St-Gilloise-Cercle-Bruges','fdd5f4e4','/en/matches/fdd5f4e4/Union-SG-Cercle-Brugge-April-7-2024-Belgian-Pro-League','4449324','/matches/union-stgilloise-vs-cercle-brugge/2o1zev#4449324')\",\n",
       " \"INSERT INTO match_schedule (competition,season,stage,date,home_team,away_team,score,whoscored_id,whoscored_url,fbref_id,fbref_url,fotmob_id,fotmob_url) VALUES ('Pro_League','23-24','Playoff Championship','2024-04-07','Club Bruges','Anderlecht','3–1','1811292','https://1xbet.whoscored.com/Matches/1811292/Live/Belgium-Jupiler-Pro-League-2023-2024-Club-Bruges-Anderlecht','ec4a47a0','/en/matches/ec4a47a0/Club-Brugge-Anderlecht-April-7-2024-Belgian-Pro-League','4449323','/matches/club-brugge-vs-anderlecht/2dt4ms#4449323')\",\n",
       " \"INSERT INTO match_schedule (competition,season,stage,date,home_team,away_team,score,whoscored_id,whoscored_url,fbref_id,fbref_url,fotmob_id,fotmob_url) VALUES ('Pro_League','23-24','Playoff Championship','2024-04-13','Genk','Cercle Bruges','1–1','1811291','https://1xbet.whoscored.com/Matches/1811291/Live/Belgium-Jupiler-Pro-League-2023-2024-Genk-Cercle-Bruges','24564dce','/en/matches/24564dce/Genk-Cercle-Brugge-April-13-2024-Belgian-Pro-League','4449322','/matches/cercle-brugge-vs-genk/3aqp6x#4449322')\",\n",
       " \"INSERT INTO match_schedule (competition,season,stage,date,home_team,away_team,score,whoscored_id,whoscored_url,fbref_id,fbref_url,fotmob_id,fotmob_url) VALUES ('Pro_League','23-24','Playoff Championship','2024-04-14','Club Bruges','Royal Antwerp','3–0','1811290','https://1xbet.whoscored.com/Matches/1811290/Live/Belgium-Jupiler-Pro-League-2023-2024-Club-Bruges-Royal-Antwerp','824f0ab4','/en/matches/824f0ab4/Club-Brugge-Antwerp-April-14-2024-Belgian-Pro-League','4449321','/matches/club-brugge-vs-royal-antwerp/2s144j#4449321')\",\n",
       " \"INSERT INTO match_schedule (competition,season,stage,date,home_team,away_team,score,whoscored_id,whoscored_url,fbref_id,fbref_url,fotmob_id,fotmob_url) VALUES ('Pro_League','23-24','Playoff Championship','2024-04-14','Anderlecht','Union St.Gilloise','2–1','1811289','https://1xbet.whoscored.com/Matches/1811289/Live/Belgium-Jupiler-Pro-League-2023-2024-Anderlecht-Union-St-Gilloise','ed12a7f4','/en/matches/ed12a7f4/Anderlecht-Union-SG-April-14-2024-Belgian-Pro-League','4449320','/matches/union-stgilloise-vs-anderlecht/2a63dm#4449320')\",\n",
       " \"INSERT INTO match_schedule (competition,season,stage,date,home_team,away_team,score,whoscored_id,whoscored_url,fbref_id,fbref_url,fotmob_id,fotmob_url) VALUES ('Pro_League','23-24','Playoff Championship','2024-04-20','Genk','Anderlecht','2–1','1811272','https://1xbet.whoscored.com/Matches/1811272/Live/Belgium-Jupiler-Pro-League-2023-2024-Genk-Anderlecht','023c5ad7','/en/matches/023c5ad7/Genk-Anderlecht-April-20-2024-Belgian-Pro-League','4449310','/matches/anderlecht-vs-genk/2v8r1g#4449310')\",\n",
       " \"INSERT INTO match_schedule (competition,season,stage,date,home_team,away_team,score,whoscored_id,whoscored_url,fbref_id,fbref_url,fotmob_id,fotmob_url) VALUES ('Pro_League','23-24','Playoff Championship','2024-04-21','Cercle Bruges','Royal Antwerp','0–1','1811287','https://1xbet.whoscored.com/Matches/1811287/Live/Belgium-Jupiler-Pro-League-2023-2024-Cercle-Bruges-Royal-Antwerp','d244f8f1','/en/matches/d244f8f1/Cercle-Brugge-Antwerp-April-21-2024-Belgian-Pro-League','4449318','/matches/cercle-brugge-vs-royal-antwerp/3ar4lq#4449318')\",\n",
       " \"INSERT INTO match_schedule (competition,season,stage,date,home_team,away_team,score,whoscored_id,whoscored_url,fbref_id,fbref_url,fotmob_id,fotmob_url) VALUES ('Pro_League','23-24','Playoff Championship','2024-04-21','Union St.Gilloise','Club Bruges','1–2','1811286','https://1xbet.whoscored.com/Matches/1811286/Live/Belgium-Jupiler-Pro-League-2023-2024-Union-St-Gilloise-Club-Bruges','80d5a3e3','/en/matches/80d5a3e3/Union-SG-Club-Brugge-April-21-2024-Belgian-Pro-League','4449317','/matches/union-stgilloise-vs-club-brugge/27aoae#4449317')\",\n",
       " \"INSERT INTO match_schedule (competition,season,stage,date,home_team,away_team,score,whoscored_id,whoscored_url,fbref_id,fbref_url,fotmob_id,fotmob_url) VALUES ('Pro_League','23-24','Playoff Championship','2024-04-24','Anderlecht','Cercle Bruges','3–0','1811285','https://1xbet.whoscored.com/Matches/1811285/Live/Belgium-Jupiler-Pro-League-2023-2024-Anderlecht-Cercle-Bruges','29d1d430','/en/matches/29d1d430/Anderlecht-Cercle-Brugge-April-24-2024-Belgian-Pro-League','4449316','/matches/anderlecht-vs-cercle-brugge/2v7jxm#4449316')\",\n",
       " \"INSERT INTO match_schedule (competition,season,stage,date,home_team,away_team,score,whoscored_id,whoscored_url,fbref_id,fbref_url,fotmob_id,fotmob_url) VALUES ('Pro_League','23-24','Playoff Championship','2024-04-24','Club Bruges','Genk','4–0','1811282','https://1xbet.whoscored.com/Matches/1811282/Live/Belgium-Jupiler-Pro-League-2023-2024-Club-Bruges-Genk','2e2dd3e0','/en/matches/2e2dd3e0/Club-Brugge-Genk-April-24-2024-Belgian-Pro-League','4449315','/matches/club-brugge-vs-genk/2s0pzc#4449315')\",\n",
       " \"INSERT INTO match_schedule (competition,season,stage,date,home_team,away_team,score,whoscored_id,whoscored_url,fbref_id,fbref_url,fotmob_id,fotmob_url) VALUES ('Pro_League','23-24','Playoff Championship','2024-04-25','Royal Antwerp','Union St.Gilloise','0–3','1811284','https://1xbet.whoscored.com/Matches/1811284/Live/Belgium-Jupiler-Pro-League-2023-2024-Royal-Antwerp-Union-St-Gilloise','1436e2fc','/en/matches/1436e2fc/Antwerp-Union-SG-April-25-2024-Belgian-Pro-League','4449314','/matches/union-stgilloise-vs-royal-antwerp/2o3iv1#4449314')\",\n",
       " \"INSERT INTO match_schedule (competition,season,stage,date,home_team,away_team,score,whoscored_id,whoscored_url,fbref_id,fbref_url,fotmob_id,fotmob_url) VALUES ('Pro_League','23-24','Playoff Championship','2024-04-28','Genk','Club Bruges','0–3','1811275','https://1xbet.whoscored.com/Matches/1811275/Live/Belgium-Jupiler-Pro-League-2023-2024-Genk-Club-Bruges','89aaf97b','/en/matches/89aaf97b/Genk-Club-Brugge-April-28-2024-Belgian-Pro-League','4449313','/matches/club-brugge-vs-genk/2s0pzc#4449313')\",\n",
       " \"INSERT INTO match_schedule (competition,season,stage,date,home_team,away_team,score,whoscored_id,whoscored_url,fbref_id,fbref_url,fotmob_id,fotmob_url) VALUES ('Pro_League','23-24','Playoff Championship','2024-04-28','Cercle Bruges','Anderlecht','1–1','1811273','https://1xbet.whoscored.com/Matches/1811273/Live/Belgium-Jupiler-Pro-League-2023-2024-Cercle-Bruges-Anderlecht','c9f1631f','/en/matches/c9f1631f/Cercle-Brugge-Anderlecht-April-28-2024-Belgian-Pro-League','4449312','/matches/anderlecht-vs-cercle-brugge/2v7jxm#4449312')\",\n",
       " \"INSERT INTO match_schedule (competition,season,stage,date,home_team,away_team,score,whoscored_id,whoscored_url,fbref_id,fbref_url,fotmob_id,fotmob_url) VALUES ('Pro_League','23-24','Playoff Championship','2024-04-28','Union St.Gilloise','Royal Antwerp','4–1','1811274','https://1xbet.whoscored.com/Matches/1811274/Live/Belgium-Jupiler-Pro-League-2023-2024-Union-St-Gilloise-Royal-Antwerp','521d1b3b','/en/matches/521d1b3b/Union-SG-Antwerp-April-28-2024-Belgian-Pro-League','4449311','/matches/union-stgilloise-vs-royal-antwerp/2o3iv1#4449311')\",\n",
       " \"INSERT INTO match_schedule (competition,season,stage,date,home_team,away_team,score,whoscored_id,whoscored_url,fbref_id,fbref_url,fotmob_id,fotmob_url) VALUES ('Pro_League','23-24','Playoff Championship','2024-05-04','Cercle Bruges','Genk','4–1','1811276','https://1xbet.whoscored.com/Matches/1811276/Live/Belgium-Jupiler-Pro-League-2023-2024-Cercle-Bruges-Genk','8c9c6127','/en/matches/8c9c6127/Cercle-Brugge-Genk-May-4-2024-Belgian-Pro-League','4449327','/matches/cercle-brugge-vs-genk/3aqp6x#4449327')\",\n",
       " \"INSERT INTO match_schedule (competition,season,stage,date,home_team,away_team,score,whoscored_id,whoscored_url,fbref_id,fbref_url,fotmob_id,fotmob_url) VALUES ('Pro_League','23-24','Playoff Championship','2024-05-05','Royal Antwerp','Club Bruges','1–2','1811277','https://1xbet.whoscored.com/Matches/1811277/Live/Belgium-Jupiler-Pro-League-2023-2024-Royal-Antwerp-Club-Bruges','a8c53750','/en/matches/a8c53750/Antwerp-Club-Brugge-May-5-2024-Belgian-Pro-League','4449328','/matches/club-brugge-vs-royal-antwerp/2s144j#4449328')\",\n",
       " \"INSERT INTO match_schedule (competition,season,stage,date,home_team,away_team,score,whoscored_id,whoscored_url,fbref_id,fbref_url,fotmob_id,fotmob_url) VALUES ('Pro_League','23-24','Playoff Championship','2024-05-05','Union St.Gilloise','Anderlecht','0–0','1811278','https://1xbet.whoscored.com/Matches/1811278/Live/Belgium-Jupiler-Pro-League-2023-2024-Union-St-Gilloise-Anderlecht','08b3590c','/en/matches/08b3590c/Union-SG-Anderlecht-May-5-2024-Belgian-Pro-League','4449329','/matches/union-stgilloise-vs-anderlecht/2a63dm#4449329')\",\n",
       " \"INSERT INTO match_schedule (competition,season,stage,date,home_team,away_team,score,whoscored_id,whoscored_url,fbref_id,fbref_url,fotmob_id,fotmob_url) VALUES ('UCL','23-24','Champions League Final Stage','2024-04-09','Arsenal','Bayern Munich','2–2','1809764','https://1xbet.whoscored.com/Matches/1809764/Live/Europe-Champions-League-2023-2024-Arsenal-Bayern-Munich','77298172','/en/matches/77298172/Arsenal-Bayern-Munich-April-9-2024-Champions-League','4446279','/matches/bayern-munchen-vs-arsenal/36xjup#4446279')\",\n",
       " \"INSERT INTO match_schedule (competition,season,stage,date,home_team,away_team,score,whoscored_id,whoscored_url,fbref_id,fbref_url,fotmob_id,fotmob_url) VALUES ('UCL','23-24','Champions League Final Stage','2024-04-09','Real Madrid','Manchester City','3–3','1809761','https://1xbet.whoscored.com/Matches/1809761/Live/Europe-Champions-League-2023-2024-Real-Madrid-Manchester-City','5ee67d04','/en/matches/5ee67d04/Real-Madrid-Manchester-City-April-9-2024-Champions-League','4446283','/matches/manchester-city-vs-real-madrid/2ey0nu#4446283')\",\n",
       " \"INSERT INTO match_schedule (competition,season,stage,date,home_team,away_team,score,whoscored_id,whoscored_url,fbref_id,fbref_url,fotmob_id,fotmob_url) VALUES ('UCL','23-24','Champions League Final Stage','2024-04-10','Atletico Madrid','Borussia Dortmund','2–1','1809760','https://1xbet.whoscored.com/Matches/1809760/Live/Europe-Champions-League-2023-2024-Atletico-Madrid-Borussia-Dortmund','6223cb55','/en/matches/6223cb55/Atletico-Madrid-Dortmund-April-10-2024-Champions-League','4446281','/matches/borussia-dortmund-vs-atletico-madrid/37hdbu#4446281')\",\n",
       " \"INSERT INTO match_schedule (competition,season,stage,date,home_team,away_team,score,whoscored_id,whoscored_url,fbref_id,fbref_url,fotmob_id,fotmob_url) VALUES ('UCL','23-24','Champions League Final Stage','2024-04-10','Paris Saint-Germain','Barcelona','2–3','1809758','https://1xbet.whoscored.com/Matches/1809758/Live/Europe-Champions-League-2023-2024-Paris-Saint-Germain-Barcelona','d61ddb04','/en/matches/d61ddb04/Paris-Saint-Germain-Barcelona-April-10-2024-Champions-League','4446285','/matches/barcelona-vs-paris-saint-germain/2toojk#4446285')\",\n",
       " \"INSERT INTO match_schedule (competition,season,stage,date,home_team,away_team,score,whoscored_id,whoscored_url,fbref_id,fbref_url,fotmob_id,fotmob_url) VALUES ('UCL','23-24','Champions League Final Stage','2024-04-16','Barcelona','Paris Saint-Germain','1–4','1809757','https://1xbet.whoscored.com/Matches/1809757/Live/Europe-Champions-League-2023-2024-Barcelona-Paris-Saint-Germain','3cbf37f8','/en/matches/3cbf37f8/Barcelona-Paris-Saint-Germain-April-16-2024-Champions-League','4446286','/matches/barcelona-vs-paris-saint-germain/2toojk#4446286')\",\n",
       " \"INSERT INTO match_schedule (competition,season,stage,date,home_team,away_team,score,whoscored_id,whoscored_url,fbref_id,fbref_url,fotmob_id,fotmob_url) VALUES ('UCL','23-24','Champions League Final Stage','2024-04-16','Borussia Dortmund','Atletico Madrid','4–2','1809762','https://1xbet.whoscored.com/Matches/1809762/Live/Europe-Champions-League-2023-2024-Borussia-Dortmund-Atletico-Madrid','80ba9ddf','/en/matches/80ba9ddf/Dortmund-Atletico-Madrid-April-16-2024-Champions-League','4446282','/matches/borussia-dortmund-vs-atletico-madrid/37hdbu#4446282')\",\n",
       " \"INSERT INTO match_schedule (competition,season,stage,date,home_team,away_team,score,whoscored_id,whoscored_url,fbref_id,fbref_url,fotmob_id,fotmob_url) VALUES ('UCL','23-24','Champions League Final Stage','2024-04-17','Bayern Munich','Arsenal','1–0','1809763','https://1xbet.whoscored.com/Matches/1809763/Live/Europe-Champions-League-2023-2024-Bayern-Munich-Arsenal','aa8f30b2','/en/matches/aa8f30b2/Bayern-Munich-Arsenal-April-17-2024-Champions-League','4446280','/matches/bayern-munchen-vs-arsenal/36xjup#4446280')\",\n",
       " \"INSERT INTO match_schedule (competition,season,stage,date,home_team,away_team,score,whoscored_id,whoscored_url,fbref_id,fbref_url,fotmob_id,fotmob_url) VALUES ('UCL','23-24','Champions League Final Stage','2024-04-17','Manchester City','Real Madrid','(3) 1–1 (4)','1809759','https://1xbet.whoscored.com/Matches/1809759/Live/Europe-Champions-League-2023-2024-Manchester-City-Real-Madrid','b0d9b0e1','/en/matches/b0d9b0e1/Manchester-City-Real-Madrid-April-17-2024-Champions-League','4446284','/matches/manchester-city-vs-real-madrid/2ey0nu#4446284')\",\n",
       " \"INSERT INTO match_schedule (competition,season,stage,date,home_team,away_team,score,whoscored_id,whoscored_url,fbref_id,fbref_url,fotmob_id,fotmob_url) VALUES ('UCL','23-24','Champions League Final Stage','2024-04-30','Bayern Munich','Real Madrid','2–2','1813972','https://1xbet.whoscored.com/Matches/1813972/Live/Europe-Champions-League-2023-2024-Bayern-Munich-Real-Madrid','91220b87','/en/matches/91220b87/Bayern-Munich-Real-Madrid-April-30-2024-Champions-League','4446289','/matches/real-madrid-vs-bayern-munchen/2tes97#4446289')\",\n",
       " \"INSERT INTO match_schedule (competition,season,stage,date,home_team,away_team,score,whoscored_id,whoscored_url,fbref_id,fbref_url,fotmob_id,fotmob_url) VALUES ('UCL','23-24','Champions League Final Stage','2024-05-01','Borussia Dortmund','Paris Saint-Germain','1–0','1813802','https://1xbet.whoscored.com/Matches/1813802/Live/Europe-Champions-League-2023-2024-Borussia-Dortmund-Paris-Saint-Germain','66fa29a9','/en/matches/66fa29a9/Dortmund-Paris-Saint-Germain-May-1-2024-Champions-League','4446287','/matches/borussia-dortmund-vs-paris-saint-germain/36shzt#4446287')\",\n",
       " \"INSERT INTO match_schedule (competition,season,stage,date,home_team,away_team,score,whoscored_id,whoscored_url,fbref_id,fbref_url,fotmob_id,fotmob_url) VALUES ('UCL','23-24','Champions League Final Stage','2024-05-07','Paris Saint-Germain','Borussia Dortmund','0–1','1813803','https://1xbet.whoscored.com/Matches/1813803/Live/Europe-Champions-League-2023-2024-Paris-Saint-Germain-Borussia-Dortmund','79d4acbd','/en/matches/79d4acbd/Paris-Saint-Germain-Dortmund-May-7-2024-Champions-League','4446288','/matches/borussia-dortmund-vs-paris-saint-germain/36shzt#4446288')\",\n",
       " \"INSERT INTO match_schedule (competition,season,stage,date,home_team,away_team,score,whoscored_id,whoscored_url,fbref_id,fbref_url,fotmob_id,fotmob_url) VALUES ('UCL','23-24','Champions League Final Stage','2024-05-08','Real Madrid','Bayern Munich','2–1','1813973','https://1xbet.whoscored.com/Matches/1813973/Live/Europe-Champions-League-2023-2024-Real-Madrid-Bayern-Munich','eea5e8be','/en/matches/eea5e8be/Real-Madrid-Bayern-Munich-May-8-2024-Champions-League','4446290','/matches/real-madrid-vs-bayern-munchen/2tes97#4446290')\",\n",
       " \"INSERT INTO match_schedule (competition,season,stage,date,home_team,away_team,score,whoscored_id,whoscored_url,fbref_id,fbref_url,fotmob_id,fotmob_url) VALUES ('UEL','23-24','Europa League Final Stage','2024-04-11','AC Milan','Roma','0–1','1809765','https://1xbet.whoscored.com/Matches/1809765/Live/Europe-Europa-League-2023-2024-AC-Milan-Roma','7a458c9c','/en/matches/7a458c9c/Milan-Roma-April-11-2024-Europa-League','4446401','/matches/ac-milan-vs-roma/2gl9pd#4446401')\",\n",
       " \"INSERT INTO match_schedule (competition,season,stage,date,home_team,away_team,score,whoscored_id,whoscored_url,fbref_id,fbref_url,fotmob_id,fotmob_url) VALUES ('UEL','23-24','Europa League Final Stage','2024-04-11','Bayer Leverkusen','West Ham','2–0','1809769','https://1xbet.whoscored.com/Matches/1809769/Live/Europe-Europa-League-2023-2024-Bayer-Leverkusen-West-Ham','140514f8','/en/matches/140514f8/Bayer-Leverkusen-West-Ham-United-April-11-2024-Europa-League','4446405','/matches/bayer-leverkusen-vs-west-ham-united/2ccl9q#4446405')\",\n",
       " \"INSERT INTO match_schedule (competition,season,stage,date,home_team,away_team,score,whoscored_id,whoscored_url,fbref_id,fbref_url,fotmob_id,fotmob_url) VALUES ('UEL','23-24','Europa League Final Stage','2024-04-11','Benfica','Marseille','2–1','1809771','https://1xbet.whoscored.com/Matches/1809771/Live/Europe-Europa-League-2023-2024-Benfica-Marseille','cc69e872','/en/matches/cc69e872/Benfica-Marseille-April-11-2024-Europa-League','4446407','/matches/marseille-vs-benfica/2sehaq#4446407')\",\n",
       " \"INSERT INTO match_schedule (competition,season,stage,date,home_team,away_team,score,whoscored_id,whoscored_url,fbref_id,fbref_url,fotmob_id,fotmob_url) VALUES ('UEL','23-24','Europa League Final Stage','2024-04-11','Liverpool','Atalanta','0–3','1809767','https://1xbet.whoscored.com/Matches/1809767/Live/Europe-Europa-League-2023-2024-Liverpool-Atalanta','52b91e53','/en/matches/52b91e53/Liverpool-Atalanta-April-11-2024-Europa-League','4446403','/matches/atalanta-vs-liverpool/2ft8av#4446403')\",\n",
       " \"INSERT INTO match_schedule (competition,season,stage,date,home_team,away_team,score,whoscored_id,whoscored_url,fbref_id,fbref_url,fotmob_id,fotmob_url) VALUES ('UEL','23-24','Europa League Final Stage','2024-04-18','Atalanta','Liverpool','0–1','1809768','https://1xbet.whoscored.com/Matches/1809768/Live/Europe-Europa-League-2023-2024-Atalanta-Liverpool','67a48203','/en/matches/67a48203/Atalanta-Liverpool-April-18-2024-Europa-League','4446404','/matches/atalanta-vs-liverpool/2ft8av#4446404')\",\n",
       " \"INSERT INTO match_schedule (competition,season,stage,date,home_team,away_team,score,whoscored_id,whoscored_url,fbref_id,fbref_url,fotmob_id,fotmob_url) VALUES ('UEL','23-24','Europa League Final Stage','2024-04-18','Marseille','Benfica','(4) 1–0 (2)','1809772','https://1xbet.whoscored.com/Matches/1809772/Live/Europe-Europa-League-2023-2024-Marseille-Benfica','d5a87ee3','/en/matches/d5a87ee3/Marseille-Benfica-April-18-2024-Europa-League','4446408','/matches/marseille-vs-benfica/2sehaq#4446408')\",\n",
       " \"INSERT INTO match_schedule (competition,season,stage,date,home_team,away_team,score,whoscored_id,whoscored_url,fbref_id,fbref_url,fotmob_id,fotmob_url) VALUES ('UEL','23-24','Europa League Final Stage','2024-04-18','Roma','AC Milan','2–1','1809766','https://1xbet.whoscored.com/Matches/1809766/Live/Europe-Europa-League-2023-2024-Roma-AC-Milan','74c40fb2','/en/matches/74c40fb2/Roma-Milan-April-18-2024-Europa-League','4446402','/matches/ac-milan-vs-roma/2gl9pd#4446402')\",\n",
       " \"INSERT INTO match_schedule (competition,season,stage,date,home_team,away_team,score,whoscored_id,whoscored_url,fbref_id,fbref_url,fotmob_id,fotmob_url) VALUES ('UEL','23-24','Europa League Final Stage','2024-04-18','West Ham','Bayer Leverkusen','1–1','1809770','https://1xbet.whoscored.com/Matches/1809770/Live/Europe-Europa-League-2023-2024-West-Ham-Bayer-Leverkusen','5bade2fe','/en/matches/5bade2fe/West-Ham-United-Bayer-Leverkusen-April-18-2024-Europa-League','4446406','/matches/bayer-leverkusen-vs-west-ham-united/2ccl9q#4446406')\",\n",
       " \"INSERT INTO match_schedule (competition,season,stage,date,home_team,away_team,score,whoscored_id,whoscored_url,fbref_id,fbref_url,fotmob_id,fotmob_url) VALUES ('UEL','23-24','Europa League Final Stage','2024-05-02','Marseille','Atalanta','1–1','1814050','https://1xbet.whoscored.com/Matches/1814050/Live/Europe-Europa-League-2023-2024-Marseille-Atalanta','b90c0216','/en/matches/b90c0216/Marseille-Atalanta-May-2-2024-Europa-League','4446409','/matches/atalanta-vs-marseille/2f7wxy#4446409')\",\n",
       " \"INSERT INTO match_schedule (competition,season,stage,date,home_team,away_team,score,whoscored_id,whoscored_url,fbref_id,fbref_url,fotmob_id,fotmob_url) VALUES ('UEL','23-24','Europa League Final Stage','2024-05-02','Roma','Bayer Leverkusen','0–2','1814018','https://1xbet.whoscored.com/Matches/1814018/Live/Europe-Europa-League-2023-2024-Roma-Bayer-Leverkusen','97987702','/en/matches/97987702/Roma-Bayer-Leverkusen-May-2-2024-Europa-League','4446411','/matches/bayer-leverkusen-vs-roma/2co5b2#4446411')\",\n",
       " \"INSERT INTO match_schedule (competition,season,stage,date,home_team,away_team,score,whoscored_id,whoscored_url,fbref_id,fbref_url,fotmob_id,fotmob_url) VALUES ('UEL','23-24','Europa League Final Stage','2024-05-09','Atalanta','Marseille','3–0','1814051','https://1xbet.whoscored.com/Matches/1814051/Live/Europe-Europa-League-2023-2024-Atalanta-Marseille','78007919','/en/matches/78007919/Atalanta-Marseille-May-9-2024-Europa-League','4446410','/matches/atalanta-vs-marseille/2f7wxy#4446410')\",\n",
       " \"INSERT INTO match_schedule (competition,season,stage,date,home_team,away_team,score,whoscored_id,whoscored_url,fbref_id,fbref_url,fotmob_id,fotmob_url) VALUES ('UEL','23-24','Europa League Final Stage','2024-05-09','Bayer Leverkusen','Roma','2–2','1814019','https://1xbet.whoscored.com/Matches/1814019/Live/Europe-Europa-League-2023-2024-Bayer-Leverkusen-Roma','01a92bd0','/en/matches/01a92bd0/Bayer-Leverkusen-Roma-May-9-2024-Europa-League','4446412','/matches/bayer-leverkusen-vs-roma/2co5b2#4446412')\"]"
      ]
     },
     "execution_count": 17,
     "metadata": {},
     "output_type": "execute_result"
    }
   ],
   "source": [
    "qqq"
   ]
  },
  {
   "cell_type": "code",
   "execution_count": null,
   "id": "4946eab9-d8fe-46e7-9b3a-788440fd2304",
   "metadata": {},
   "outputs": [],
   "source": []
  },
  {
   "cell_type": "code",
   "execution_count": null,
   "id": "3ab78880-8561-4e61-ad76-9ff2b1fe4c0e",
   "metadata": {},
   "outputs": [],
   "source": [
    "if err_ind :\n",
    "    html = \"\"\"\n",
    "    Error Occured\n",
    "    \"\"\"\n",
    "else:\n",
    "    send sucess mail"
   ]
  }
 ],
 "metadata": {
  "kernelspec": {
   "display_name": "Python 3 (ipykernel)",
   "language": "python",
   "name": "python3"
  },
  "language_info": {
   "codemirror_mode": {
    "name": "ipython",
    "version": 3
   },
   "file_extension": ".py",
   "mimetype": "text/x-python",
   "name": "python",
   "nbconvert_exporter": "python",
   "pygments_lexer": "ipython3",
   "version": "3.10.11"
  }
 },
 "nbformat": 4,
 "nbformat_minor": 5
}
